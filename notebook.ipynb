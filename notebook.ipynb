{
 "cells": [
  {
   "cell_type": "markdown",
   "metadata": {},
   "source": [
    "# Vanilla MNIST neural network"
   ]
  },
  {
   "cell_type": "markdown",
   "metadata": {},
   "source": [
    "## Environment setting"
   ]
  },
  {
   "cell_type": "markdown",
   "metadata": {},
   "source": [
    "Importing libraries"
   ]
  },
  {
   "cell_type": "code",
   "execution_count": 1,
   "metadata": {},
   "outputs": [
    {
     "name": "stderr",
     "output_type": "stream",
     "text": [
      "Using TensorFlow backend.\n"
     ]
    }
   ],
   "source": [
    "import os\n",
    "import numpy as np\n",
    "import json\n",
    "from keras.datasets import mnist\n",
    "from keras.callbacks import TensorBoard, ModelCheckpoint\n",
    "from preprocess import *\n",
    "from utils import *\n",
    "from model import *\n",
    "from keras.models import model_from_json\n",
    "from sklearn.metrics import confusion_matrix\n",
    "from keras.utils import plot_model\n",
    "import plotly.offline as py\n",
    "import plotly.graph_objs as go\n",
    "import plotly.io as pio"
   ]
  },
  {
   "cell_type": "markdown",
   "metadata": {},
   "source": [
    "Setting plotly"
   ]
  },
  {
   "cell_type": "code",
   "execution_count": 2,
   "metadata": {},
   "outputs": [
    {
     "data": {
      "text/html": [
       "<script type=\"text/javascript\">window.PlotlyConfig = {MathJaxConfig: 'local'};</script><script type=\"text/javascript\">if (window.MathJax) {MathJax.Hub.Config({SVG: {font: \"STIX-Web\"}});}</script><script>requirejs.config({paths: { 'plotly': ['https://cdn.plot.ly/plotly-latest.min']},});if(!window._Plotly) {require(['plotly'],function(plotly) {window._Plotly=plotly;});}</script>"
      ],
      "text/vnd.plotly.v1+html": [
       "<script type=\"text/javascript\">window.PlotlyConfig = {MathJaxConfig: 'local'};</script><script type=\"text/javascript\">if (window.MathJax) {MathJax.Hub.Config({SVG: {font: \"STIX-Web\"}});}</script><script>requirejs.config({paths: { 'plotly': ['https://cdn.plot.ly/plotly-latest.min']},});if(!window._Plotly) {require(['plotly'],function(plotly) {window._Plotly=plotly;});}</script>"
      ]
     },
     "metadata": {},
     "output_type": "display_data"
    }
   ],
   "source": [
    "py.init_notebook_mode(connected=True)"
   ]
  },
  {
   "cell_type": "markdown",
   "metadata": {},
   "source": [
    "Defining global variables"
   ]
  },
  {
   "cell_type": "code",
   "execution_count": 3,
   "metadata": {},
   "outputs": [],
   "source": [
    "data_status = ['train', 'validation', 'test']\n",
    "categories = np.arange(10).tolist()"
   ]
  },
  {
   "cell_type": "markdown",
   "metadata": {},
   "source": [
    "Defining output directory structure"
   ]
  },
  {
   "cell_type": "code",
   "execution_count": 4,
   "metadata": {},
   "outputs": [],
   "source": [
    "path_structure = \\\n",
    "    {\n",
    "        'preprocess': [],\n",
    "        'model': [['stats']],\n",
    "        'visualisation': [data_status, categories]\n",
    "    }\n",
    "paths = create_paths_from_dictionnary(path_structure)"
   ]
  },
  {
   "cell_type": "markdown",
   "metadata": {},
   "source": [
    "## Preprocess and data visualisation"
   ]
  },
  {
   "cell_type": "markdown",
   "metadata": {},
   "source": [
    "Loading splitting and preprocessing data"
   ]
  },
  {
   "cell_type": "code",
   "execution_count": 5,
   "metadata": {},
   "outputs": [],
   "source": [
    "data = dict()\n",
    "(data['x_train'], data['y_train']), (data['x_test'], data['y_test']) = mnist.load_data()\n",
    "(data['x_train'], data['y_train']), (data['x_validation'], data['y_validation']) = data_split(data['x_train'],\n",
    "                                                                                              data['y_train'])\n",
    "data_to_categories(data, list(data))\n",
    "save_data(paths['preprocess'], data)"
   ]
  },
  {
   "cell_type": "markdown",
   "metadata": {},
   "source": [
    "Vizualizing the first 100 images of training, validation and test set"
   ]
  },
  {
   "cell_type": "code",
   "execution_count": 6,
   "metadata": {
    "scrolled": true
   },
   "outputs": [
    {
     "name": "stdout",
     "output_type": "stream",
     "text": [
      "train sample number 0 (ground truth value = 5) :\n"
     ]
    },
    {
     "data": {
      "image/png": "[encoded data removed]",
      "text/plain": [
       "<IPython.core.display.Image object>"
      ]
     },
     "metadata": {},
     "output_type": "display_data"
    },
    {
     "name": "stdout",
     "output_type": "stream",
     "text": [
      "train sample number 1 (ground truth value = 0) :\n"
     ]
    },
    {
     "data": {
      "image/png": "[encoded data removed]",
      "text/plain": [
       "<IPython.core.display.Image object>"
      ]
     },
     "metadata": {},
     "output_type": "display_data"
    },
    {
     "name": "stdout",
     "output_type": "stream",
     "text": [
      "train sample number 2 (ground truth value = 4) :\n"
     ]
    },
    {
     "data": {
      "image/png": "[encoded data removed]",
      "text/plain": [
       "<IPython.core.display.Image object>"
      ]
     },
     "metadata": {},
     "output_type": "display_data"
    },
    {
     "name": "stdout",
     "output_type": "stream",
     "text": [
      "train sample number 3 (ground truth value = 1) :\n"
     ]
    },
    {
     "data": {
      "image/png": "[encoded data removed]",
      "text/plain": [
       "<IPython.core.display.Image object>"
      ]
     },
     "metadata": {},
     "output_type": "display_data"
    },
    {
     "name": "stdout",
     "output_type": "stream",
     "text": [
      "train sample number 4 (ground truth value = 9) :\n"
     ]
    },
    {
     "data": {
      "image/png": "[encoded data removed]",
      "text/plain": [
       "<IPython.core.display.Image object>"
      ]
     },
     "metadata": {},
     "output_type": "display_data"
    },
    {
     "name": "stdout",
     "output_type": "stream",
     "text": [
      "train sample number 5 (ground truth value = 2) :\n"
     ]
    },
    {
     "data": {
      "image/png": "[encoded data removed]",
      "text/plain": [
       "<IPython.core.display.Image object>"
      ]
     },
     "metadata": {},
     "output_type": "display_data"
    },
    {
     "name": "stdout",
     "output_type": "stream",
     "text": [
      "train sample number 6 (ground truth value = 1) :\n"
     ]
    },
    {
     "data": {
      "image/png": "[encoded data removed]",
      "text/plain": [
       "<IPython.core.display.Image object>"
      ]
     },
     "metadata": {},
     "output_type": "display_data"
    },
    {
     "name": "stdout",
     "output_type": "stream",
     "text": [
      "train sample number 7 (ground truth value = 3) :\n"
     ]
    },
    {
     "data": {
      "image/png": "[encoded data removed]",
      "text/plain": [
       "<IPython.core.display.Image object>"
      ]
     },
     "metadata": {},
     "output_type": "display_data"
    },
    {
     "name": "stdout",
     "output_type": "stream",
     "text": [
      "train sample number 8 (ground truth value = 1) :\n"
     ]
    },
    {
     "data": {
      "image/png": "[encoded data removed]",
      "text/plain": [
       "<IPython.core.display.Image object>"
      ]
     },
     "metadata": {},
     "output_type": "display_data"
    },
    {
     "name": "stdout",
     "output_type": "stream",
     "text": [
      "train sample number 9 (ground truth value = 4) :\n"
     ]
    },
    {
     "data": {
      "image/png": "[encoded data removed]",
      "text/plain": [
       "<IPython.core.display.Image object>"
      ]
     },
     "metadata": {},
     "output_type": "display_data"
    },
    {
     "name": "stdout",
     "output_type": "stream",
     "text": [
      "train sample number 10 (ground truth value = 3) :\n"
     ]
    },
    {
     "data": {
      "image/png": "[encoded data removed]",
      "text/plain": [
       "<IPython.core.display.Image object>"
      ]
     },
     "metadata": {},
     "output_type": "display_data"
    },
    {
     "name": "stdout",
     "output_type": "stream",
     "text": [
      "train sample number 11 (ground truth value = 5) :\n"
     ]
    },
    {
     "data": {
      "image/png": "[encoded data removed]",
      "text/plain": [
       "<IPython.core.display.Image object>"
      ]
     },
     "metadata": {},
     "output_type": "display_data"
    },
    {
     "name": "stdout",
     "output_type": "stream",
     "text": [
      "train sample number 12 (ground truth value = 3) :\n"
     ]
    },
    {
     "data": {
      "image/png": "[encoded data removed]",
      "text/plain": [
       "<IPython.core.display.Image object>"
      ]
     },
     "metadata": {},
     "output_type": "display_data"
    },
    {
     "name": "stdout",
     "output_type": "stream",
     "text": [
      "train sample number 13 (ground truth value = 6) :\n"
     ]
    },
    {
     "data": {
      "image/png": "[encoded data removed]",
      "text/plain": [
       "<IPython.core.display.Image object>"
      ]
     },
     "metadata": {},
     "output_type": "display_data"
    },
    {
     "name": "stdout",
     "output_type": "stream",
     "text": [
      "train sample number 14 (ground truth value = 1) :\n"
     ]
    },
    {
     "data": {
      "image/png": "[encoded data removed]",
      "text/plain": [
       "<IPython.core.display.Image object>"
      ]
     },
     "metadata": {},
     "output_type": "display_data"
    },
    {
     "name": "stdout",
     "output_type": "stream",
     "text": [
      "train sample number 15 (ground truth value = 7) :\n"
     ]
    },
    {
     "data": {
      "image/png": "[encoded data removed]",
      "text/plain": [
       "<IPython.core.display.Image object>"
      ]
     },
     "metadata": {},
     "output_type": "display_data"
    },
    {
     "name": "stdout",
     "output_type": "stream",
     "text": [
      "train sample number 16 (ground truth value = 2) :\n"
     ]
    },
    {
     "data": {
      "image/png": "[encoded data removed]",
      "text/plain": [
       "<IPython.core.display.Image object>"
      ]
     },
     "metadata": {},
     "output_type": "display_data"
    },
    {
     "name": "stdout",
     "output_type": "stream",
     "text": [
      "train sample number 17 (ground truth value = 8) :\n"
     ]
    },
    {
     "data": {
      "image/png": "[encoded data removed]",
      "text/plain": [
       "<IPython.core.display.Image object>"
      ]
     },
     "metadata": {},
     "output_type": "display_data"
    },
    {
     "name": "stdout",
     "output_type": "stream",
     "text": [
      "train sample number 18 (ground truth value = 6) :\n"
     ]
    },
    {
     "data": {
      "image/png": "[encoded data removed]",
      "text/plain": [
       "<IPython.core.display.Image object>"
      ]
     },
     "metadata": {},
     "output_type": "display_data"
    },
    {
     "name": "stdout",
     "output_type": "stream",
     "text": [
      "train sample number 19 (ground truth value = 9) :\n"
     ]
    },
    {
     "data": {
      "image/png": "[encoded data removed]",
      "text/plain": [
       "<IPython.core.display.Image object>"
      ]
     },
     "metadata": {},
     "output_type": "display_data"
    },
    {
     "name": "stdout",
     "output_type": "stream",
     "text": [
      "train sample number 20 (ground truth value = 4) :\n"
     ]
    },
    {
     "data": {
      "image/png": "[encoded data removed]",
      "text/plain": [
       "<IPython.core.display.Image object>"
      ]
     },
     "metadata": {},
     "output_type": "display_data"
    },
    {
     "name": "stdout",
     "output_type": "stream",
     "text": [
      "train sample number 21 (ground truth value = 0) :\n"
     ]
    },
    {
     "data": {
      "image/png": "[encoded data removed]",
      "text/plain": [
       "<IPython.core.display.Image object>"
      ]
     },
     "metadata": {},
     "output_type": "display_data"
    },
    {
     "name": "stdout",
     "output_type": "stream",
     "text": [
      "train sample number 22 (ground truth value = 9) :\n"
     ]
    },
    {
     "data": {
      "image/png": "[encoded data removed]",
      "text/plain": [
       "<IPython.core.display.Image object>"
      ]
     },
     "metadata": {},
     "output_type": "display_data"
    },
    {
     "name": "stdout",
     "output_type": "stream",
     "text": [
      "train sample number 23 (ground truth value = 1) :\n"
     ]
    },
    {
     "data": {
      "image/png": "[encoded data removed]",
      "text/plain": [
       "<IPython.core.display.Image object>"
      ]
     },
     "metadata": {},
     "output_type": "display_data"
    },
    {
     "name": "stdout",
     "output_type": "stream",
     "text": [
      "train sample number 24 (ground truth value = 1) :\n"
     ]
    },
    {
     "data": {
      "image/png": "[encoded data removed]",
      "text/plain": [
       "<IPython.core.display.Image object>"
      ]
     },
     "metadata": {},
     "output_type": "display_data"
    },
    {
     "name": "stdout",
     "output_type": "stream",
     "text": [
      "train sample number 25 (ground truth value = 2) :\n"
     ]
    },
    {
     "data": {
      "image/png": "[encoded data removed]",
      "text/plain": [
       "<IPython.core.display.Image object>"
      ]
     },
     "metadata": {},
     "output_type": "display_data"
    },
    {
     "name": "stdout",
     "output_type": "stream",
     "text": [
      "train sample number 26 (ground truth value = 4) :\n"
     ]
    },
    {
     "data": {
      "image/png": "[encoded data removed]",
      "text/plain": [
       "<IPython.core.display.Image object>"
      ]
     },
     "metadata": {},
     "output_type": "display_data"
    },
    {
     "name": "stdout",
     "output_type": "stream",
     "text": [
      "train sample number 27 (ground truth value = 3) :\n"
     ]
    },
    {
     "data": {
      "image/png": "[encoded data removed]",
      "text/plain": [
       "<IPython.core.display.Image object>"
      ]
     },
     "metadata": {},
     "output_type": "display_data"
    },
    {
     "name": "stdout",
     "output_type": "stream",
     "text": [
      "train sample number 28 (ground truth value = 2) :\n"
     ]
    },
    {
     "data": {
      "image/png": "[encoded data removed]",
      "text/plain": [
       "<IPython.core.display.Image object>"
      ]
     },
     "metadata": {},
     "output_type": "display_data"
    },
    {
     "name": "stdout",
     "output_type": "stream",
     "text": [
      "train sample number 29 (ground truth value = 7) :\n"
     ]
    },
    {
     "data": {
      "image/png": "[encoded data removed]",
      "text/plain": [
       "<IPython.core.display.Image object>"
      ]
     },
     "metadata": {},
     "output_type": "display_data"
    },
    {
     "name": "stdout",
     "output_type": "stream",
     "text": [
      "train sample number 30 (ground truth value = 3) :\n"
     ]
    },
    {
     "data": {
      "image/png": "[encoded data removed]",
      "text/plain": [
       "<IPython.core.display.Image object>"
      ]
     },
     "metadata": {},
     "output_type": "display_data"
    },
    {
     "name": "stdout",
     "output_type": "stream",
     "text": [
      "train sample number 31 (ground truth value = 8) :\n"
     ]
    },
    {
     "data": {
      "image/png": "[encoded data removed]",
      "text/plain": [
       "<IPython.core.display.Image object>"
      ]
     },
     "metadata": {},
     "output_type": "display_data"
    },
    {
     "name": "stdout",
     "output_type": "stream",
     "text": [
      "train sample number 32 (ground truth value = 6) :\n"
     ]
    },
    {
     "data": {
      "image/png": "[encoded data removed]",
      "text/plain": [
       "<IPython.core.display.Image object>"
      ]
     },
     "metadata": {},
     "output_type": "display_data"
    },
    {
     "name": "stdout",
     "output_type": "stream",
     "text": [
      "train sample number 33 (ground truth value = 9) :\n"
     ]
    },
    {
     "data": {
      "image/png": "[encoded data removed]",
      "text/plain": [
       "<IPython.core.display.Image object>"
      ]
     },
     "metadata": {},
     "output_type": "display_data"
    },
    {
     "name": "stdout",
     "output_type": "stream",
     "text": [
      "train sample number 34 (ground truth value = 0) :\n"
     ]
    },
    {
     "data": {
      "image/png": "[encoded data removed]",
      "text/plain": [
       "<IPython.core.display.Image object>"
      ]
     },
     "metadata": {},
     "output_type": "display_data"
    },
    {
     "name": "stdout",
     "output_type": "stream",
     "text": [
      "train sample number 35 (ground truth value = 5) :\n"
     ]
    },
    {
     "data": {
      "image/png": "[encoded data removed]",
      "text/plain": [
       "<IPython.core.display.Image object>"
      ]
     },
     "metadata": {},
     "output_type": "display_data"
    },
    {
     "name": "stdout",
     "output_type": "stream",
     "text": [
      "train sample number 36 (ground truth value = 6) :\n"
     ]
    },
    {
     "data": {
      "image/png": "[encoded data removed]",
      "text/plain": [
       "<IPython.core.display.Image object>"
      ]
     },
     "metadata": {},
     "output_type": "display_data"
    },
    {
     "name": "stdout",
     "output_type": "stream",
     "text": [
      "train sample number 37 (ground truth value = 0) :\n"
     ]
    },
    {
     "data": {
      "image/png": "[encoded data removed]",
      "text/plain": [
       "<IPython.core.display.Image object>"
      ]
     },
     "metadata": {},
     "output_type": "display_data"
    },
    {
     "name": "stdout",
     "output_type": "stream",
     "text": [
      "train sample number 38 (ground truth value = 7) :\n"
     ]
    },
    {
     "data": {
      "image/png": "[encoded data removed]",
      "text/plain": [
       "<IPython.core.display.Image object>"
      ]
     },
     "metadata": {},
     "output_type": "display_data"
    },
    {
     "name": "stdout",
     "output_type": "stream",
     "text": [
      "train sample number 39 (ground truth value = 6) :\n"
     ]
    },
    {
     "data": {
      "image/png": "[encoded data removed]",
      "text/plain": [
       "<IPython.core.display.Image object>"
      ]
     },
     "metadata": {},
     "output_type": "display_data"
    },
    {
     "name": "stdout",
     "output_type": "stream",
     "text": [
      "train sample number 40 (ground truth value = 1) :\n"
     ]
    },
    {
     "data": {
      "image/png": "[encoded data removed]",
      "text/plain": [
       "<IPython.core.display.Image object>"
      ]
     },
     "metadata": {},
     "output_type": "display_data"
    },
    {
     "name": "stdout",
     "output_type": "stream",
     "text": [
      "train sample number 41 (ground truth value = 8) :\n"
     ]
    },
    {
     "data": {
      "image/png": "[encoded data removed]",
      "text/plain": [
       "<IPython.core.display.Image object>"
      ]
     },
     "metadata": {},
     "output_type": "display_data"
    },
    {
     "name": "stdout",
     "output_type": "stream",
     "text": [
      "train sample number 42 (ground truth value = 7) :\n"
     ]
    },
    {
     "data": {
      "image/png": "[encoded data removed]",
      "text/plain": [
       "<IPython.core.display.Image object>"
      ]
     },
     "metadata": {},
     "output_type": "display_data"
    },
    {
     "name": "stdout",
     "output_type": "stream",
     "text": [
      "train sample number 43 (ground truth value = 9) :\n"
     ]
    },
    {
     "data": {
      "image/png": "[encoded data removed]",
      "text/plain": [
       "<IPython.core.display.Image object>"
      ]
     },
     "metadata": {},
     "output_type": "display_data"
    },
    {
     "name": "stdout",
     "output_type": "stream",
     "text": [
      "train sample number 44 (ground truth value = 3) :\n"
     ]
    },
    {
     "data": {
      "image/png": "[encoded data removed]",
      "text/plain": [
       "<IPython.core.display.Image object>"
      ]
     },
     "metadata": {},
     "output_type": "display_data"
    },
    {
     "name": "stdout",
     "output_type": "stream",
     "text": [
      "train sample number 45 (ground truth value = 9) :\n"
     ]
    },
    {
     "data": {
      "image/png": "[encoded data removed]",
      "text/plain": [
       "<IPython.core.display.Image object>"
      ]
     },
     "metadata": {},
     "output_type": "display_data"
    },
    {
     "name": "stdout",
     "output_type": "stream",
     "text": [
      "train sample number 46 (ground truth value = 8) :\n"
     ]
    },
    {
     "data": {
      "image/png": "[encoded data removed]",
      "text/plain": [
       "<IPython.core.display.Image object>"
      ]
     },
     "metadata": {},
     "output_type": "display_data"
    },
    {
     "name": "stdout",
     "output_type": "stream",
     "text": [
      "train sample number 47 (ground truth value = 5) :\n"
     ]
    },
    {
     "data": {
      "image/png": "[encoded data removed]",
      "text/plain": [
       "<IPython.core.display.Image object>"
      ]
     },
     "metadata": {},
     "output_type": "display_data"
    },
    {
     "name": "stdout",
     "output_type": "stream",
     "text": [
      "train sample number 48 (ground truth value = 9) :\n"
     ]
    },
    {
     "data": {
      "image/png": "[encoded data removed]",
      "text/plain": [
       "<IPython.core.display.Image object>"
      ]
     },
     "metadata": {},
     "output_type": "display_data"
    },
    {
     "name": "stdout",
     "output_type": "stream",
     "text": [
      "train sample number 49 (ground truth value = 3) :\n"
     ]
    },
    {
     "data": {
      "image/png": "[encoded data removed]",
      "text/plain": [
       "<IPython.core.display.Image object>"
      ]
     },
     "metadata": {},
     "output_type": "display_data"
    },
    {
     "name": "stdout",
     "output_type": "stream",
     "text": [
      "train sample number 50 (ground truth value = 3) :\n"
     ]
    },
    {
     "data": {
      "image/png": "[encoded data removed]",
      "text/plain": [
       "<IPython.core.display.Image object>"
      ]
     },
     "metadata": {},
     "output_type": "display_data"
    },
    {
     "name": "stdout",
     "output_type": "stream",
     "text": [
      "train sample number 51 (ground truth value = 0) :\n"
     ]
    },
    {
     "data": {
      "image/png": "[encoded data removed]",
      "text/plain": [
       "<IPython.core.display.Image object>"
      ]
     },
     "metadata": {},
     "output_type": "display_data"
    },
    {
     "name": "stdout",
     "output_type": "stream",
     "text": [
      "train sample number 52 (ground truth value = 7) :\n"
     ]
    },
    {
     "data": {
      "image/png": "[encoded data removed]",
      "text/plain": [
       "<IPython.core.display.Image object>"
      ]
     },
     "metadata": {},
     "output_type": "display_data"
    },
    {
     "name": "stdout",
     "output_type": "stream",
     "text": [
      "train sample number 53 (ground truth value = 4) :\n"
     ]
    },
    {
     "data": {
      "image/png": "[encoded data removed]",
      "text/plain": [
       "<IPython.core.display.Image object>"
      ]
     },
     "metadata": {},
     "output_type": "display_data"
    },
    {
     "name": "stdout",
     "output_type": "stream",
     "text": [
      "train sample number 54 (ground truth value = 9) :\n"
     ]
    },
    {
     "data": {
      "image/png": "[encoded data removed]",
      "text/plain": [
       "<IPython.core.display.Image object>"
      ]
     },
     "metadata": {},
     "output_type": "display_data"
    },
    {
     "name": "stdout",
     "output_type": "stream",
     "text": [
      "train sample number 55 (ground truth value = 8) :\n"
     ]
    },
    {
     "data": {
      "image/png": "[encoded data removed]",
      "text/plain": [
       "<IPython.core.display.Image object>"
      ]
     },
     "metadata": {},
     "output_type": "display_data"
    },
    {
     "name": "stdout",
     "output_type": "stream",
     "text": [
      "train sample number 56 (ground truth value = 0) :\n"
     ]
    },
    {
     "data": {
      "image/png": "[encoded data removed]",
      "text/plain": [
       "<IPython.core.display.Image object>"
      ]
     },
     "metadata": {},
     "output_type": "display_data"
    },
    {
     "name": "stdout",
     "output_type": "stream",
     "text": [
      "train sample number 57 (ground truth value = 9) :\n"
     ]
    },
    {
     "data": {
      "image/png": "[encoded data removed]",
      "text/plain": [
       "<IPython.core.display.Image object>"
      ]
     },
     "metadata": {},
     "output_type": "display_data"
    },
    {
     "name": "stdout",
     "output_type": "stream",
     "text": [
      "train sample number 58 (ground truth value = 4) :\n"
     ]
    },
    {
     "data": {
      "image/png": "[encoded data removed]",
      "text/plain": [
       "<IPython.core.display.Image object>"
      ]
     },
     "metadata": {},
     "output_type": "display_data"
    },
    {
     "name": "stdout",
     "output_type": "stream",
     "text": [
      "train sample number 59 (ground truth value = 1) :\n"
     ]
    },
    {
     "data": {
      "image/png": "[encoded data removed]",
      "text/plain": [
       "<IPython.core.display.Image object>"
      ]
     },
     "metadata": {},
     "output_type": "display_data"
    },
    {
     "name": "stdout",
     "output_type": "stream",
     "text": [
      "train sample number 60 (ground truth value = 4) :\n"
     ]
    },
    {
     "data": {
      "image/png": "[encoded data removed]",
      "text/plain": [
       "<IPython.core.display.Image object>"
      ]
     },
     "metadata": {},
     "output_type": "display_data"
    },
    {
     "name": "stdout",
     "output_type": "stream",
     "text": [
      "train sample number 61 (ground truth value = 4) :\n"
     ]
    },
    {
     "data": {
      "image/png": "[encoded data removed]",
      "text/plain": [
       "<IPython.core.display.Image object>"
      ]
     },
     "metadata": {},
     "output_type": "display_data"
    },
    {
     "name": "stdout",
     "output_type": "stream",
     "text": [
      "train sample number 62 (ground truth value = 6) :\n"
     ]
    },
    {
     "data": {
      "image/png": "[encoded data removed]",
      "text/plain": [
       "<IPython.core.display.Image object>"
      ]
     },
     "metadata": {},
     "output_type": "display_data"
    },
    {
     "name": "stdout",
     "output_type": "stream",
     "text": [
      "train sample number 63 (ground truth value = 0) :\n"
     ]
    },
    {
     "data": {
      "image/png": "[encoded data removed]",
      "text/plain": [
       "<IPython.core.display.Image object>"
      ]
     },
     "metadata": {},
     "output_type": "display_data"
    },
    {
     "name": "stdout",
     "output_type": "stream",
     "text": [
      "train sample number 64 (ground truth value = 4) :\n"
     ]
    },
    {
     "data": {
      "image/png": "[encoded data removed]",
      "text/plain": [
       "<IPython.core.display.Image object>"
      ]
     },
     "metadata": {},
     "output_type": "display_data"
    },
    {
     "name": "stdout",
     "output_type": "stream",
     "text": [
      "train sample number 65 (ground truth value = 5) :\n"
     ]
    },
    {
     "data": {
      "image/png": "[encoded data removed]",
      "text/plain": [
       "<IPython.core.display.Image object>"
      ]
     },
     "metadata": {},
     "output_type": "display_data"
    },
    {
     "name": "stdout",
     "output_type": "stream",
     "text": [
      "train sample number 66 (ground truth value = 6) :\n"
     ]
    },
    {
     "data": {
      "image/png": "[encoded data removed]",
      "text/plain": [
       "<IPython.core.display.Image object>"
      ]
     },
     "metadata": {},
     "output_type": "display_data"
    },
    {
     "name": "stdout",
     "output_type": "stream",
     "text": [
      "train sample number 67 (ground truth value = 1) :\n"
     ]
    },
    {
     "data": {
      "image/png": "[encoded data removed]",
      "text/plain": [
       "<IPython.core.display.Image object>"
      ]
     },
     "metadata": {},
     "output_type": "display_data"
    },
    {
     "name": "stdout",
     "output_type": "stream",
     "text": [
      "train sample number 68 (ground truth value = 0) :\n"
     ]
    },
    {
     "data": {
      "image/png": "[encoded data removed]",
      "text/plain": [
       "<IPython.core.display.Image object>"
      ]
     },
     "metadata": {},
     "output_type": "display_data"
    },
    {
     "name": "stdout",
     "output_type": "stream",
     "text": [
      "train sample number 69 (ground truth value = 0) :\n"
     ]
    },
    {
     "data": {
      "image/png": "[encoded data removed]",
      "text/plain": [
       "<IPython.core.display.Image object>"
      ]
     },
     "metadata": {},
     "output_type": "display_data"
    },
    {
     "name": "stdout",
     "output_type": "stream",
     "text": [
      "train sample number 70 (ground truth value = 1) :\n"
     ]
    },
    {
     "data": {
      "image/png": "[encoded data removed]",
      "text/plain": [
       "<IPython.core.display.Image object>"
      ]
     },
     "metadata": {},
     "output_type": "display_data"
    },
    {
     "name": "stdout",
     "output_type": "stream",
     "text": [
      "train sample number 71 (ground truth value = 7) :\n"
     ]
    },
    {
     "data": {
      "image/png": "[encoded data removed]",
      "text/plain": [
       "<IPython.core.display.Image object>"
      ]
     },
     "metadata": {},
     "output_type": "display_data"
    },
    {
     "name": "stdout",
     "output_type": "stream",
     "text": [
      "train sample number 72 (ground truth value = 1) :\n"
     ]
    },
    {
     "data": {
      "image/png": "[encoded data removed]",
      "text/plain": [
       "<IPython.core.display.Image object>"
      ]
     },
     "metadata": {},
     "output_type": "display_data"
    },
    {
     "name": "stdout",
     "output_type": "stream",
     "text": [
      "train sample number 73 (ground truth value = 6) :\n"
     ]
    },
    {
     "data": {
      "image/png": "[encoded data removed]",
      "text/plain": [
       "<IPython.core.display.Image object>"
      ]
     },
     "metadata": {},
     "output_type": "display_data"
    },
    {
     "name": "stdout",
     "output_type": "stream",
     "text": [
      "train sample number 74 (ground truth value = 3) :\n"
     ]
    },
    {
     "data": {
      "image/png": "[encoded data removed]",
      "text/plain": [
       "<IPython.core.display.Image object>"
      ]
     },
     "metadata": {},
     "output_type": "display_data"
    },
    {
     "name": "stdout",
     "output_type": "stream",
     "text": [
      "train sample number 75 (ground truth value = 0) :\n"
     ]
    },
    {
     "data": {
      "image/png": "[encoded data removed]",
      "text/plain": [
       "<IPython.core.display.Image object>"
      ]
     },
     "metadata": {},
     "output_type": "display_data"
    },
    {
     "name": "stdout",
     "output_type": "stream",
     "text": [
      "train sample number 76 (ground truth value = 2) :\n"
     ]
    },
    {
     "data": {
      "image/png": "[encoded data removed]",
      "text/plain": [
       "<IPython.core.display.Image object>"
      ]
     },
     "metadata": {},
     "output_type": "display_data"
    },
    {
     "name": "stdout",
     "output_type": "stream",
     "text": [
      "train sample number 77 (ground truth value = 1) :\n"
     ]
    },
    {
     "data": {
      "image/png": "[encoded data removed]",
      "text/plain": [
       "<IPython.core.display.Image object>"
      ]
     },
     "metadata": {},
     "output_type": "display_data"
    },
    {
     "name": "stdout",
     "output_type": "stream",
     "text": [
      "train sample number 78 (ground truth value = 1) :\n"
     ]
    },
    {
     "data": {
      "image/png": "[encoded data removed]",
      "text/plain": [
       "<IPython.core.display.Image object>"
      ]
     },
     "metadata": {},
     "output_type": "display_data"
    },
    {
     "name": "stdout",
     "output_type": "stream",
     "text": [
      "train sample number 79 (ground truth value = 7) :\n"
     ]
    },
    {
     "data": {
      "image/png": "[encoded data removed]",
      "text/plain": [
       "<IPython.core.display.Image object>"
      ]
     },
     "metadata": {},
     "output_type": "display_data"
    },
    {
     "name": "stdout",
     "output_type": "stream",
     "text": [
      "train sample number 80 (ground truth value = 9) :\n"
     ]
    },
    {
     "data": {
      "image/png": "[encoded data removed]",
      "text/plain": [
       "<IPython.core.display.Image object>"
      ]
     },
     "metadata": {},
     "output_type": "display_data"
    },
    {
     "name": "stdout",
     "output_type": "stream",
     "text": [
      "train sample number 81 (ground truth value = 0) :\n"
     ]
    },
    {
     "data": {
      "image/png": "[encoded data removed]",
      "text/plain": [
       "<IPython.core.display.Image object>"
      ]
     },
     "metadata": {},
     "output_type": "display_data"
    },
    {
     "name": "stdout",
     "output_type": "stream",
     "text": [
      "train sample number 82 (ground truth value = 2) :\n"
     ]
    },
    {
     "data": {
      "image/png": "[encoded data removed]",
      "text/plain": [
       "<IPython.core.display.Image object>"
      ]
     },
     "metadata": {},
     "output_type": "display_data"
    },
    {
     "name": "stdout",
     "output_type": "stream",
     "text": [
      "train sample number 83 (ground truth value = 6) :\n"
     ]
    },
    {
     "data": {
      "image/png": "[encoded data removed]",
      "text/plain": [
       "<IPython.core.display.Image object>"
      ]
     },
     "metadata": {},
     "output_type": "display_data"
    },
    {
     "name": "stdout",
     "output_type": "stream",
     "text": [
      "train sample number 84 (ground truth value = 7) :\n"
     ]
    },
    {
     "data": {
      "image/png": "[encoded data removed]",
      "text/plain": [
       "<IPython.core.display.Image object>"
      ]
     },
     "metadata": {},
     "output_type": "display_data"
    },
    {
     "name": "stdout",
     "output_type": "stream",
     "text": [
      "train sample number 85 (ground truth value = 8) :\n"
     ]
    },
    {
     "data": {
      "image/png": "[encoded data removed]",
      "text/plain": [
       "<IPython.core.display.Image object>"
      ]
     },
     "metadata": {},
     "output_type": "display_data"
    },
    {
     "name": "stdout",
     "output_type": "stream",
     "text": [
      "train sample number 86 (ground truth value = 3) :\n"
     ]
    },
    {
     "data": {
      "image/png": "[encoded data removed]",
      "text/plain": [
       "<IPython.core.display.Image object>"
      ]
     },
     "metadata": {},
     "output_type": "display_data"
    },
    {
     "name": "stdout",
     "output_type": "stream",
     "text": [
      "train sample number 87 (ground truth value = 9) :\n"
     ]
    },
    {
     "data": {
      "image/png": "[encoded data removed]",
      "text/plain": [
       "<IPython.core.display.Image object>"
      ]
     },
     "metadata": {},
     "output_type": "display_data"
    },
    {
     "name": "stdout",
     "output_type": "stream",
     "text": [
      "train sample number 88 (ground truth value = 0) :\n"
     ]
    },
    {
     "data": {
      "image/png": "[encoded data removed]",
      "text/plain": [
       "<IPython.core.display.Image object>"
      ]
     },
     "metadata": {},
     "output_type": "display_data"
    },
    {
     "name": "stdout",
     "output_type": "stream",
     "text": [
      "train sample number 89 (ground truth value = 4) :\n"
     ]
    },
    {
     "data": {
      "image/png": "[encoded data removed]",
      "text/plain": [
       "<IPython.core.display.Image object>"
      ]
     },
     "metadata": {},
     "output_type": "display_data"
    },
    {
     "name": "stdout",
     "output_type": "stream",
     "text": [
      "train sample number 90 (ground truth value = 6) :\n"
     ]
    },
    {
     "data": {
      "image/png": "[encoded data removed]",
      "text/plain": [
       "<IPython.core.display.Image object>"
      ]
     },
     "metadata": {},
     "output_type": "display_data"
    },
    {
     "name": "stdout",
     "output_type": "stream",
     "text": [
      "train sample number 91 (ground truth value = 7) :\n"
     ]
    },
    {
     "data": {
      "image/png": "[encoded data removed]",
      "text/plain": [
       "<IPython.core.display.Image object>"
      ]
     },
     "metadata": {},
     "output_type": "display_data"
    },
    {
     "name": "stdout",
     "output_type": "stream",
     "text": [
      "train sample number 92 (ground truth value = 4) :\n"
     ]
    },
    {
     "data": {
      "image/png": "[encoded data removed]",
      "text/plain": [
       "<IPython.core.display.Image object>"
      ]
     },
     "metadata": {},
     "output_type": "display_data"
    },
    {
     "name": "stdout",
     "output_type": "stream",
     "text": [
      "train sample number 93 (ground truth value = 6) :\n"
     ]
    },
    {
     "data": {
      "image/png": "[encoded data removed]",
      "text/plain": [
       "<IPython.core.display.Image object>"
      ]
     },
     "metadata": {},
     "output_type": "display_data"
    },
    {
     "name": "stdout",
     "output_type": "stream",
     "text": [
      "train sample number 94 (ground truth value = 8) :\n"
     ]
    },
    {
     "data": {
      "image/png": "[encoded data removed]",
      "text/plain": [
       "<IPython.core.display.Image object>"
      ]
     },
     "metadata": {},
     "output_type": "display_data"
    },
    {
     "name": "stdout",
     "output_type": "stream",
     "text": [
      "train sample number 95 (ground truth value = 0) :\n"
     ]
    },
    {
     "data": {
      "image/png": "[encoded data removed]",
      "text/plain": [
       "<IPython.core.display.Image object>"
      ]
     },
     "metadata": {},
     "output_type": "display_data"
    },
    {
     "name": "stdout",
     "output_type": "stream",
     "text": [
      "train sample number 96 (ground truth value = 7) :\n"
     ]
    },
    {
     "data": {
      "image/png": "[encoded data removed]",
      "text/plain": [
       "<IPython.core.display.Image object>"
      ]
     },
     "metadata": {},
     "output_type": "display_data"
    },
    {
     "name": "stdout",
     "output_type": "stream",
     "text": [
      "train sample number 97 (ground truth value = 8) :\n"
     ]
    },
    {
     "data": {
      "image/png": "[encoded data removed]",
      "text/plain": [
       "<IPython.core.display.Image object>"
      ]
     },
     "metadata": {},
     "output_type": "display_data"
    },
    {
     "name": "stdout",
     "output_type": "stream",
     "text": [
      "train sample number 98 (ground truth value = 3) :\n"
     ]
    },
    {
     "data": {
      "image/png": "[encoded data removed]",
      "text/plain": [
       "<IPython.core.display.Image object>"
      ]
     },
     "metadata": {},
     "output_type": "display_data"
    },
    {
     "name": "stdout",
     "output_type": "stream",
     "text": [
      "train sample number 99 (ground truth value = 1) :\n"
     ]
    },
    {
     "data": {
      "image/png": "[encoded data removed]",
      "text/plain": [
       "<IPython.core.display.Image object>"
      ]
     },
     "metadata": {},
     "output_type": "display_data"
    },
    {
     "name": "stdout",
     "output_type": "stream",
     "text": [
      "validation sample number 0 (ground truth value = 4) :\n"
     ]
    },
    {
     "data": {
      "image/png": "[encoded data removed]",
      "text/plain": [
       "<IPython.core.display.Image object>"
      ]
     },
     "metadata": {},
     "output_type": "display_data"
    },
    {
     "name": "stdout",
     "output_type": "stream",
     "text": [
      "validation sample number 1 (ground truth value = 7) :\n"
     ]
    },
    {
     "data": {
      "image/png": "[encoded data removed]",
      "text/plain": [
       "<IPython.core.display.Image object>"
      ]
     },
     "metadata": {},
     "output_type": "display_data"
    },
    {
     "name": "stdout",
     "output_type": "stream",
     "text": [
      "validation sample number 2 (ground truth value = 8) :\n"
     ]
    },
    {
     "data": {
      "image/png": "[encoded data removed]",
      "text/plain": [
       "<IPython.core.display.Image object>"
      ]
     },
     "metadata": {},
     "output_type": "display_data"
    },
    {
     "name": "stdout",
     "output_type": "stream",
     "text": [
      "validation sample number 3 (ground truth value = 8) :\n"
     ]
    },
    {
     "data": {
      "image/png": "[encoded data removed]",
      "text/plain": [
       "<IPython.core.display.Image object>"
      ]
     },
     "metadata": {},
     "output_type": "display_data"
    },
    {
     "name": "stdout",
     "output_type": "stream",
     "text": [
      "validation sample number 4 (ground truth value = 5) :\n"
     ]
    },
    {
     "data": {
      "image/png": "[encoded data removed]",
      "text/plain": [
       "<IPython.core.display.Image object>"
      ]
     },
     "metadata": {},
     "output_type": "display_data"
    },
    {
     "name": "stdout",
     "output_type": "stream",
     "text": [
      "validation sample number 5 (ground truth value = 6) :\n"
     ]
    },
    {
     "data": {
      "image/png": "[encoded data removed]",
      "text/plain": [
       "<IPython.core.display.Image object>"
      ]
     },
     "metadata": {},
     "output_type": "display_data"
    },
    {
     "name": "stdout",
     "output_type": "stream",
     "text": [
      "validation sample number 6 (ground truth value = 6) :\n"
     ]
    },
    {
     "data": {
      "image/png": "[encoded data removed]",
      "text/plain": [
       "<IPython.core.display.Image object>"
      ]
     },
     "metadata": {},
     "output_type": "display_data"
    },
    {
     "name": "stdout",
     "output_type": "stream",
     "text": [
      "validation sample number 7 (ground truth value = 8) :\n"
     ]
    },
    {
     "data": {
      "image/png": "[encoded data removed]",
      "text/plain": [
       "<IPython.core.display.Image object>"
      ]
     },
     "metadata": {},
     "output_type": "display_data"
    },
    {
     "name": "stdout",
     "output_type": "stream",
     "text": [
      "validation sample number 8 (ground truth value = 2) :\n"
     ]
    },
    {
     "data": {
      "image/png": "[encoded data removed]",
      "text/plain": [
       "<IPython.core.display.Image object>"
      ]
     },
     "metadata": {},
     "output_type": "display_data"
    },
    {
     "name": "stdout",
     "output_type": "stream",
     "text": [
      "validation sample number 9 (ground truth value = 2) :\n"
     ]
    },
    {
     "data": {
      "image/png": "[encoded data removed]",
      "text/plain": [
       "<IPython.core.display.Image object>"
      ]
     },
     "metadata": {},
     "output_type": "display_data"
    },
    {
     "name": "stdout",
     "output_type": "stream",
     "text": [
      "validation sample number 10 (ground truth value = 7) :\n"
     ]
    },
    {
     "data": {
      "image/png": "[encoded data removed]",
      "text/plain": [
       "<IPython.core.display.Image object>"
      ]
     },
     "metadata": {},
     "output_type": "display_data"
    },
    {
     "name": "stdout",
     "output_type": "stream",
     "text": [
      "validation sample number 11 (ground truth value = 8) :\n"
     ]
    },
    {
     "data": {
      "image/png": "[encoded data removed]",
      "text/plain": [
       "<IPython.core.display.Image object>"
      ]
     },
     "metadata": {},
     "output_type": "display_data"
    },
    {
     "name": "stdout",
     "output_type": "stream",
     "text": [
      "validation sample number 12 (ground truth value = 0) :\n"
     ]
    },
    {
     "data": {
      "image/png": "[encoded data removed]",
      "text/plain": [
       "<IPython.core.display.Image object>"
      ]
     },
     "metadata": {},
     "output_type": "display_data"
    },
    {
     "name": "stdout",
     "output_type": "stream",
     "text": [
      "validation sample number 13 (ground truth value = 4) :\n"
     ]
    },
    {
     "data": {
      "image/png": "[encoded data removed]",
      "text/plain": [
       "<IPython.core.display.Image object>"
      ]
     },
     "metadata": {},
     "output_type": "display_data"
    },
    {
     "name": "stdout",
     "output_type": "stream",
     "text": [
      "validation sample number 14 (ground truth value = 3) :\n"
     ]
    },
    {
     "data": {
      "image/png": "[encoded data removed]",
      "text/plain": [
       "<IPython.core.display.Image object>"
      ]
     },
     "metadata": {},
     "output_type": "display_data"
    },
    {
     "name": "stdout",
     "output_type": "stream",
     "text": [
      "validation sample number 15 (ground truth value = 4) :\n"
     ]
    },
    {
     "data": {
      "image/png": "[encoded data removed]",
      "text/plain": [
       "<IPython.core.display.Image object>"
      ]
     },
     "metadata": {},
     "output_type": "display_data"
    },
    {
     "name": "stdout",
     "output_type": "stream",
     "text": [
      "validation sample number 16 (ground truth value = 5) :\n"
     ]
    },
    {
     "data": {
      "image/png": "[encoded data removed]",
      "text/plain": [
       "<IPython.core.display.Image object>"
      ]
     },
     "metadata": {},
     "output_type": "display_data"
    },
    {
     "name": "stdout",
     "output_type": "stream",
     "text": [
      "validation sample number 17 (ground truth value = 2) :\n"
     ]
    },
    {
     "data": {
      "image/png": "[encoded data removed]",
      "text/plain": [
       "<IPython.core.display.Image object>"
      ]
     },
     "metadata": {},
     "output_type": "display_data"
    },
    {
     "name": "stdout",
     "output_type": "stream",
     "text": [
      "validation sample number 18 (ground truth value = 4) :\n"
     ]
    },
    {
     "data": {
      "image/png": "[encoded data removed]",
      "text/plain": [
       "<IPython.core.display.Image object>"
      ]
     },
     "metadata": {},
     "output_type": "display_data"
    },
    {
     "name": "stdout",
     "output_type": "stream",
     "text": [
      "validation sample number 19 (ground truth value = 2) :\n"
     ]
    },
    {
     "data": {
      "image/png": "[encoded data removed]",
      "text/plain": [
       "<IPython.core.display.Image object>"
      ]
     },
     "metadata": {},
     "output_type": "display_data"
    },
    {
     "name": "stdout",
     "output_type": "stream",
     "text": [
      "validation sample number 20 (ground truth value = 4) :\n"
     ]
    },
    {
     "data": {
      "image/png": "[encoded data removed]",
      "text/plain": [
       "<IPython.core.display.Image object>"
      ]
     },
     "metadata": {},
     "output_type": "display_data"
    },
    {
     "name": "stdout",
     "output_type": "stream",
     "text": [
      "validation sample number 21 (ground truth value = 8) :\n"
     ]
    },
    {
     "data": {
      "image/png": "[encoded data removed]",
      "text/plain": [
       "<IPython.core.display.Image object>"
      ]
     },
     "metadata": {},
     "output_type": "display_data"
    },
    {
     "name": "stdout",
     "output_type": "stream",
     "text": [
      "validation sample number 22 (ground truth value = 1) :\n"
     ]
    },
    {
     "data": {
      "image/png": "[encoded data removed]",
      "text/plain": [
       "<IPython.core.display.Image object>"
      ]
     },
     "metadata": {},
     "output_type": "display_data"
    },
    {
     "name": "stdout",
     "output_type": "stream",
     "text": [
      "validation sample number 23 (ground truth value = 0) :\n"
     ]
    },
    {
     "data": {
      "image/png": "[encoded data removed]",
      "text/plain": [
       "<IPython.core.display.Image object>"
      ]
     },
     "metadata": {},
     "output_type": "display_data"
    },
    {
     "name": "stdout",
     "output_type": "stream",
     "text": [
      "validation sample number 24 (ground truth value = 1) :\n"
     ]
    },
    {
     "data": {
      "image/png": "[encoded data removed]",
      "text/plain": [
       "<IPython.core.display.Image object>"
      ]
     },
     "metadata": {},
     "output_type": "display_data"
    },
    {
     "name": "stdout",
     "output_type": "stream",
     "text": [
      "validation sample number 25 (ground truth value = 0) :\n"
     ]
    },
    {
     "data": {
      "image/png": "[encoded data removed]",
      "text/plain": [
       "<IPython.core.display.Image object>"
      ]
     },
     "metadata": {},
     "output_type": "display_data"
    },
    {
     "name": "stdout",
     "output_type": "stream",
     "text": [
      "validation sample number 26 (ground truth value = 0) :\n"
     ]
    },
    {
     "data": {
      "image/png": "[encoded data removed]",
      "text/plain": [
       "<IPython.core.display.Image object>"
      ]
     },
     "metadata": {},
     "output_type": "display_data"
    },
    {
     "name": "stdout",
     "output_type": "stream",
     "text": [
      "validation sample number 27 (ground truth value = 1) :\n"
     ]
    },
    {
     "data": {
      "image/png": "[encoded data removed]",
      "text/plain": [
       "<IPython.core.display.Image object>"
      ]
     },
     "metadata": {},
     "output_type": "display_data"
    },
    {
     "name": "stdout",
     "output_type": "stream",
     "text": [
      "validation sample number 28 (ground truth value = 8) :\n"
     ]
    },
    {
     "data": {
      "image/png": "[encoded data removed]",
      "text/plain": [
       "<IPython.core.display.Image object>"
      ]
     },
     "metadata": {},
     "output_type": "display_data"
    },
    {
     "name": "stdout",
     "output_type": "stream",
     "text": [
      "validation sample number 29 (ground truth value = 2) :\n"
     ]
    },
    {
     "data": {
      "image/png": "[encoded data removed]",
      "text/plain": [
       "<IPython.core.display.Image object>"
      ]
     },
     "metadata": {},
     "output_type": "display_data"
    },
    {
     "name": "stdout",
     "output_type": "stream",
     "text": [
      "validation sample number 30 (ground truth value = 9) :\n"
     ]
    },
    {
     "data": {
      "image/png": "[encoded data removed]",
      "text/plain": [
       "<IPython.core.display.Image object>"
      ]
     },
     "metadata": {},
     "output_type": "display_data"
    },
    {
     "name": "stdout",
     "output_type": "stream",
     "text": [
      "validation sample number 31 (ground truth value = 3) :\n"
     ]
    },
    {
     "data": {
      "image/png": "[encoded data removed]",
      "text/plain": [
       "<IPython.core.display.Image object>"
      ]
     },
     "metadata": {},
     "output_type": "display_data"
    },
    {
     "name": "stdout",
     "output_type": "stream",
     "text": [
      "validation sample number 32 (ground truth value = 6) :\n"
     ]
    },
    {
     "data": {
      "image/png": "[encoded data removed]",
      "text/plain": [
       "<IPython.core.display.Image object>"
      ]
     },
     "metadata": {},
     "output_type": "display_data"
    },
    {
     "name": "stdout",
     "output_type": "stream",
     "text": [
      "validation sample number 33 (ground truth value = 6) :\n"
     ]
    },
    {
     "data": {
      "image/png": "[encoded data removed]",
      "text/plain": [
       "<IPython.core.display.Image object>"
      ]
     },
     "metadata": {},
     "output_type": "display_data"
    },
    {
     "name": "stdout",
     "output_type": "stream",
     "text": [
      "validation sample number 34 (ground truth value = 2) :\n"
     ]
    },
    {
     "data": {
      "image/png": "[encoded data removed]",
      "text/plain": [
       "<IPython.core.display.Image object>"
      ]
     },
     "metadata": {},
     "output_type": "display_data"
    },
    {
     "name": "stdout",
     "output_type": "stream",
     "text": [
      "validation sample number 35 (ground truth value = 7) :\n"
     ]
    },
    {
     "data": {
      "image/png": "[encoded data removed]",
      "text/plain": [
       "<IPython.core.display.Image object>"
      ]
     },
     "metadata": {},
     "output_type": "display_data"
    },
    {
     "name": "stdout",
     "output_type": "stream",
     "text": [
      "validation sample number 36 (ground truth value = 9) :\n"
     ]
    },
    {
     "data": {
      "image/png": "[encoded data removed]",
      "text/plain": [
       "<IPython.core.display.Image object>"
      ]
     },
     "metadata": {},
     "output_type": "display_data"
    },
    {
     "name": "stdout",
     "output_type": "stream",
     "text": [
      "validation sample number 37 (ground truth value = 8) :\n"
     ]
    },
    {
     "data": {
      "image/png": "[encoded data removed]",
      "text/plain": [
       "<IPython.core.display.Image object>"
      ]
     },
     "metadata": {},
     "output_type": "display_data"
    },
    {
     "name": "stdout",
     "output_type": "stream",
     "text": [
      "validation sample number 38 (ground truth value = 3) :\n"
     ]
    },
    {
     "data": {
      "image/png": "[encoded data removed]",
      "text/plain": [
       "<IPython.core.display.Image object>"
      ]
     },
     "metadata": {},
     "output_type": "display_data"
    },
    {
     "name": "stdout",
     "output_type": "stream",
     "text": [
      "validation sample number 39 (ground truth value = 0) :\n"
     ]
    },
    {
     "data": {
      "image/png": "[encoded data removed]",
      "text/plain": [
       "<IPython.core.display.Image object>"
      ]
     },
     "metadata": {},
     "output_type": "display_data"
    },
    {
     "name": "stdout",
     "output_type": "stream",
     "text": [
      "validation sample number 40 (ground truth value = 1) :\n"
     ]
    },
    {
     "data": {
      "image/png": "[encoded data removed]",
      "text/plain": [
       "<IPython.core.display.Image object>"
      ]
     },
     "metadata": {},
     "output_type": "display_data"
    },
    {
     "name": "stdout",
     "output_type": "stream",
     "text": [
      "validation sample number 41 (ground truth value = 1) :\n"
     ]
    },
    {
     "data": {
      "image/png": "[encoded data removed]",
      "text/plain": [
       "<IPython.core.display.Image object>"
      ]
     },
     "metadata": {},
     "output_type": "display_data"
    },
    {
     "name": "stdout",
     "output_type": "stream",
     "text": [
      "validation sample number 42 (ground truth value = 9) :\n"
     ]
    },
    {
     "data": {
      "image/png": "[encoded data removed]",
      "text/plain": [
       "<IPython.core.display.Image object>"
      ]
     },
     "metadata": {},
     "output_type": "display_data"
    },
    {
     "name": "stdout",
     "output_type": "stream",
     "text": [
      "validation sample number 43 (ground truth value = 2) :\n"
     ]
    },
    {
     "data": {
      "image/png": "[encoded data removed]",
      "text/plain": [
       "<IPython.core.display.Image object>"
      ]
     },
     "metadata": {},
     "output_type": "display_data"
    },
    {
     "name": "stdout",
     "output_type": "stream",
     "text": [
      "validation sample number 44 (ground truth value = 1) :\n"
     ]
    },
    {
     "data": {
      "image/png": "[encoded data removed]",
      "text/plain": [
       "<IPython.core.display.Image object>"
      ]
     },
     "metadata": {},
     "output_type": "display_data"
    },
    {
     "name": "stdout",
     "output_type": "stream",
     "text": [
      "validation sample number 45 (ground truth value = 3) :\n"
     ]
    },
    {
     "data": {
      "image/png": "[encoded data removed]",
      "text/plain": [
       "<IPython.core.display.Image object>"
      ]
     },
     "metadata": {},
     "output_type": "display_data"
    },
    {
     "name": "stdout",
     "output_type": "stream",
     "text": [
      "validation sample number 46 (ground truth value = 5) :\n"
     ]
    },
    {
     "data": {
      "image/png": "[encoded data removed]",
      "text/plain": [
       "<IPython.core.display.Image object>"
      ]
     },
     "metadata": {},
     "output_type": "display_data"
    },
    {
     "name": "stdout",
     "output_type": "stream",
     "text": [
      "validation sample number 47 (ground truth value = 4) :\n"
     ]
    },
    {
     "data": {
      "image/png": "[encoded data removed]",
      "text/plain": [
       "<IPython.core.display.Image object>"
      ]
     },
     "metadata": {},
     "output_type": "display_data"
    },
    {
     "name": "stdout",
     "output_type": "stream",
     "text": [
      "validation sample number 48 (ground truth value = 4) :\n"
     ]
    },
    {
     "data": {
      "image/png": "[encoded data removed]",
      "text/plain": [
       "<IPython.core.display.Image object>"
      ]
     },
     "metadata": {},
     "output_type": "display_data"
    },
    {
     "name": "stdout",
     "output_type": "stream",
     "text": [
      "validation sample number 49 (ground truth value = 5) :\n"
     ]
    },
    {
     "data": {
      "image/png": "[encoded data removed]",
      "text/plain": [
       "<IPython.core.display.Image object>"
      ]
     },
     "metadata": {},
     "output_type": "display_data"
    },
    {
     "name": "stdout",
     "output_type": "stream",
     "text": [
      "validation sample number 50 (ground truth value = 7) :\n"
     ]
    },
    {
     "data": {
      "image/png": "[encoded data removed]",
      "text/plain": [
       "<IPython.core.display.Image object>"
      ]
     },
     "metadata": {},
     "output_type": "display_data"
    },
    {
     "name": "stdout",
     "output_type": "stream",
     "text": [
      "validation sample number 51 (ground truth value = 6) :\n"
     ]
    },
    {
     "data": {
      "image/png": "[encoded data removed]",
      "text/plain": [
       "<IPython.core.display.Image object>"
      ]
     },
     "metadata": {},
     "output_type": "display_data"
    },
    {
     "name": "stdout",
     "output_type": "stream",
     "text": [
      "validation sample number 52 (ground truth value = 6) :\n"
     ]
    },
    {
     "data": {
      "image/png": "[encoded data removed]",
      "text/plain": [
       "<IPython.core.display.Image object>"
      ]
     },
     "metadata": {},
     "output_type": "display_data"
    },
    {
     "name": "stdout",
     "output_type": "stream",
     "text": [
      "validation sample number 53 (ground truth value = 7) :\n"
     ]
    },
    {
     "data": {
      "image/png": "[encoded data removed]",
      "text/plain": [
       "<IPython.core.display.Image object>"
      ]
     },
     "metadata": {},
     "output_type": "display_data"
    },
    {
     "name": "stdout",
     "output_type": "stream",
     "text": [
      "validation sample number 54 (ground truth value = 6) :\n"
     ]
    },
    {
     "data": {
      "image/png": "[encoded data removed]",
      "text/plain": [
       "<IPython.core.display.Image object>"
      ]
     },
     "metadata": {},
     "output_type": "display_data"
    },
    {
     "name": "stdout",
     "output_type": "stream",
     "text": [
      "validation sample number 55 (ground truth value = 8) :\n"
     ]
    },
    {
     "data": {
      "image/png": "[encoded data removed]",
      "text/plain": [
       "<IPython.core.display.Image object>"
      ]
     },
     "metadata": {},
     "output_type": "display_data"
    },
    {
     "name": "stdout",
     "output_type": "stream",
     "text": [
      "validation sample number 56 (ground truth value = 4) :\n"
     ]
    },
    {
     "data": {
      "image/png": "[encoded data removed]",
      "text/plain": [
       "<IPython.core.display.Image object>"
      ]
     },
     "metadata": {},
     "output_type": "display_data"
    },
    {
     "name": "stdout",
     "output_type": "stream",
     "text": [
      "validation sample number 57 (ground truth value = 9) :\n"
     ]
    },
    {
     "data": {
      "image/png": "[encoded data removed]",
      "text/plain": [
       "<IPython.core.display.Image object>"
      ]
     },
     "metadata": {},
     "output_type": "display_data"
    },
    {
     "name": "stdout",
     "output_type": "stream",
     "text": [
      "validation sample number 58 (ground truth value = 5) :\n"
     ]
    },
    {
     "data": {
      "image/png": "[encoded data removed]",
      "text/plain": [
       "<IPython.core.display.Image object>"
      ]
     },
     "metadata": {},
     "output_type": "display_data"
    },
    {
     "name": "stdout",
     "output_type": "stream",
     "text": [
      "validation sample number 59 (ground truth value = 0) :\n"
     ]
    },
    {
     "data": {
      "image/png": "[encoded data removed]",
      "text/plain": [
       "<IPython.core.display.Image object>"
      ]
     },
     "metadata": {},
     "output_type": "display_data"
    },
    {
     "name": "stdout",
     "output_type": "stream",
     "text": [
      "validation sample number 60 (ground truth value = 8) :\n"
     ]
    },
    {
     "data": {
      "image/png": "[encoded data removed]",
      "text/plain": [
       "<IPython.core.display.Image object>"
      ]
     },
     "metadata": {},
     "output_type": "display_data"
    },
    {
     "name": "stdout",
     "output_type": "stream",
     "text": [
      "validation sample number 61 (ground truth value = 1) :\n"
     ]
    },
    {
     "data": {
      "image/png": "[encoded data removed]",
      "text/plain": [
       "<IPython.core.display.Image object>"
      ]
     },
     "metadata": {},
     "output_type": "display_data"
    },
    {
     "name": "stdout",
     "output_type": "stream",
     "text": [
      "validation sample number 62 (ground truth value = 8) :\n"
     ]
    },
    {
     "data": {
      "image/png": "[encoded data removed]",
      "text/plain": [
       "<IPython.core.display.Image object>"
      ]
     },
     "metadata": {},
     "output_type": "display_data"
    },
    {
     "name": "stdout",
     "output_type": "stream",
     "text": [
      "validation sample number 63 (ground truth value = 2) :\n"
     ]
    },
    {
     "data": {
      "image/png": "[encoded data removed]",
      "text/plain": [
       "<IPython.core.display.Image object>"
      ]
     },
     "metadata": {},
     "output_type": "display_data"
    },
    {
     "name": "stdout",
     "output_type": "stream",
     "text": [
      "validation sample number 64 (ground truth value = 3) :\n"
     ]
    },
    {
     "data": {
      "image/png": "[encoded data removed]",
      "text/plain": [
       "<IPython.core.display.Image object>"
      ]
     },
     "metadata": {},
     "output_type": "display_data"
    },
    {
     "name": "stdout",
     "output_type": "stream",
     "text": [
      "validation sample number 65 (ground truth value = 3) :\n"
     ]
    },
    {
     "data": {
      "image/png": "[encoded data removed]",
      "text/plain": [
       "<IPython.core.display.Image object>"
      ]
     },
     "metadata": {},
     "output_type": "display_data"
    },
    {
     "name": "stdout",
     "output_type": "stream",
     "text": [
      "validation sample number 66 (ground truth value = 6) :\n"
     ]
    },
    {
     "data": {
      "image/png": "[encoded data removed]",
      "text/plain": [
       "<IPython.core.display.Image object>"
      ]
     },
     "metadata": {},
     "output_type": "display_data"
    },
    {
     "name": "stdout",
     "output_type": "stream",
     "text": [
      "validation sample number 67 (ground truth value = 4) :\n"
     ]
    },
    {
     "data": {
      "image/png": "[encoded data removed]",
      "text/plain": [
       "<IPython.core.display.Image object>"
      ]
     },
     "metadata": {},
     "output_type": "display_data"
    },
    {
     "name": "stdout",
     "output_type": "stream",
     "text": [
      "validation sample number 68 (ground truth value = 4) :\n"
     ]
    },
    {
     "data": {
      "image/png": "[encoded data removed]",
      "text/plain": [
       "<IPython.core.display.Image object>"
      ]
     },
     "metadata": {},
     "output_type": "display_data"
    },
    {
     "name": "stdout",
     "output_type": "stream",
     "text": [
      "validation sample number 69 (ground truth value = 5) :\n"
     ]
    },
    {
     "data": {
      "image/png": "[encoded data removed]",
      "text/plain": [
       "<IPython.core.display.Image object>"
      ]
     },
     "metadata": {},
     "output_type": "display_data"
    },
    {
     "name": "stdout",
     "output_type": "stream",
     "text": [
      "validation sample number 70 (ground truth value = 2) :\n"
     ]
    },
    {
     "data": {
      "image/png": "[encoded data removed]",
      "text/plain": [
       "<IPython.core.display.Image object>"
      ]
     },
     "metadata": {},
     "output_type": "display_data"
    },
    {
     "name": "stdout",
     "output_type": "stream",
     "text": [
      "validation sample number 71 (ground truth value = 6) :\n"
     ]
    },
    {
     "data": {
      "image/png": "[encoded data removed]",
      "text/plain": [
       "<IPython.core.display.Image object>"
      ]
     },
     "metadata": {},
     "output_type": "display_data"
    },
    {
     "name": "stdout",
     "output_type": "stream",
     "text": [
      "validation sample number 72 (ground truth value = 9) :\n"
     ]
    },
    {
     "data": {
      "image/png": "[encoded data removed]",
      "text/plain": [
       "<IPython.core.display.Image object>"
      ]
     },
     "metadata": {},
     "output_type": "display_data"
    },
    {
     "name": "stdout",
     "output_type": "stream",
     "text": [
      "validation sample number 73 (ground truth value = 7) :\n"
     ]
    },
    {
     "data": {
      "image/png": "[encoded data removed]",
      "text/plain": [
       "<IPython.core.display.Image object>"
      ]
     },
     "metadata": {},
     "output_type": "display_data"
    },
    {
     "name": "stdout",
     "output_type": "stream",
     "text": [
      "validation sample number 74 (ground truth value = 1) :\n"
     ]
    },
    {
     "data": {
      "image/png": "[encoded data removed]",
      "text/plain": [
       "<IPython.core.display.Image object>"
      ]
     },
     "metadata": {},
     "output_type": "display_data"
    },
    {
     "name": "stdout",
     "output_type": "stream",
     "text": [
      "validation sample number 75 (ground truth value = 8) :\n"
     ]
    },
    {
     "data": {
      "image/png": "[encoded data removed]",
      "text/plain": [
       "<IPython.core.display.Image object>"
      ]
     },
     "metadata": {},
     "output_type": "display_data"
    },
    {
     "name": "stdout",
     "output_type": "stream",
     "text": [
      "validation sample number 76 (ground truth value = 3) :\n"
     ]
    },
    {
     "data": {
      "image/png": "[encoded data removed]",
      "text/plain": [
       "<IPython.core.display.Image object>"
      ]
     },
     "metadata": {},
     "output_type": "display_data"
    },
    {
     "name": "stdout",
     "output_type": "stream",
     "text": [
      "validation sample number 77 (ground truth value = 9) :\n"
     ]
    },
    {
     "data": {
      "image/png": "[encoded data removed]",
      "text/plain": [
       "<IPython.core.display.Image object>"
      ]
     },
     "metadata": {},
     "output_type": "display_data"
    },
    {
     "name": "stdout",
     "output_type": "stream",
     "text": [
      "validation sample number 78 (ground truth value = 5) :\n"
     ]
    },
    {
     "data": {
      "image/png": "[encoded data removed]",
      "text/plain": [
       "<IPython.core.display.Image object>"
      ]
     },
     "metadata": {},
     "output_type": "display_data"
    },
    {
     "name": "stdout",
     "output_type": "stream",
     "text": [
      "validation sample number 79 (ground truth value = 1) :\n"
     ]
    },
    {
     "data": {
      "image/png": "[encoded data removed]",
      "text/plain": [
       "<IPython.core.display.Image object>"
      ]
     },
     "metadata": {},
     "output_type": "display_data"
    },
    {
     "name": "stdout",
     "output_type": "stream",
     "text": [
      "validation sample number 80 (ground truth value = 7) :\n"
     ]
    },
    {
     "data": {
      "image/png": "[encoded data removed]",
      "text/plain": [
       "<IPython.core.display.Image object>"
      ]
     },
     "metadata": {},
     "output_type": "display_data"
    },
    {
     "name": "stdout",
     "output_type": "stream",
     "text": [
      "validation sample number 81 (ground truth value = 8) :\n"
     ]
    },
    {
     "data": {
      "image/png": "[encoded data removed]",
      "text/plain": [
       "<IPython.core.display.Image object>"
      ]
     },
     "metadata": {},
     "output_type": "display_data"
    },
    {
     "name": "stdout",
     "output_type": "stream",
     "text": [
      "validation sample number 82 (ground truth value = 6) :\n"
     ]
    },
    {
     "data": {
      "image/png": "[encoded data removed]",
      "text/plain": [
       "<IPython.core.display.Image object>"
      ]
     },
     "metadata": {},
     "output_type": "display_data"
    },
    {
     "name": "stdout",
     "output_type": "stream",
     "text": [
      "validation sample number 83 (ground truth value = 6) :\n"
     ]
    },
    {
     "data": {
      "image/png": "[encoded data removed]",
      "text/plain": [
       "<IPython.core.display.Image object>"
      ]
     },
     "metadata": {},
     "output_type": "display_data"
    },
    {
     "name": "stdout",
     "output_type": "stream",
     "text": [
      "validation sample number 84 (ground truth value = 4) :\n"
     ]
    },
    {
     "data": {
      "image/png": "[encoded data removed]",
      "text/plain": [
       "<IPython.core.display.Image object>"
      ]
     },
     "metadata": {},
     "output_type": "display_data"
    },
    {
     "name": "stdout",
     "output_type": "stream",
     "text": [
      "validation sample number 85 (ground truth value = 1) :\n"
     ]
    },
    {
     "data": {
      "image/png": "[encoded data removed]",
      "text/plain": [
       "<IPython.core.display.Image object>"
      ]
     },
     "metadata": {},
     "output_type": "display_data"
    },
    {
     "name": "stdout",
     "output_type": "stream",
     "text": [
      "validation sample number 86 (ground truth value = 6) :\n"
     ]
    },
    {
     "data": {
      "image/png": "[encoded data removed]",
      "text/plain": [
       "<IPython.core.display.Image object>"
      ]
     },
     "metadata": {},
     "output_type": "display_data"
    },
    {
     "name": "stdout",
     "output_type": "stream",
     "text": [
      "validation sample number 87 (ground truth value = 4) :\n"
     ]
    },
    {
     "data": {
      "image/png": "[encoded data removed]",
      "text/plain": [
       "<IPython.core.display.Image object>"
      ]
     },
     "metadata": {},
     "output_type": "display_data"
    },
    {
     "name": "stdout",
     "output_type": "stream",
     "text": [
      "validation sample number 88 (ground truth value = 3) :\n"
     ]
    },
    {
     "data": {
      "image/png": "[encoded data removed]",
      "text/plain": [
       "<IPython.core.display.Image object>"
      ]
     },
     "metadata": {},
     "output_type": "display_data"
    },
    {
     "name": "stdout",
     "output_type": "stream",
     "text": [
      "validation sample number 89 (ground truth value = 9) :\n"
     ]
    },
    {
     "data": {
      "image/png": "[encoded data removed]",
      "text/plain": [
       "<IPython.core.display.Image object>"
      ]
     },
     "metadata": {},
     "output_type": "display_data"
    },
    {
     "name": "stdout",
     "output_type": "stream",
     "text": [
      "validation sample number 90 (ground truth value = 6) :\n"
     ]
    },
    {
     "data": {
      "image/png": "[encoded data removed]",
      "text/plain": [
       "<IPython.core.display.Image object>"
      ]
     },
     "metadata": {},
     "output_type": "display_data"
    },
    {
     "name": "stdout",
     "output_type": "stream",
     "text": [
      "validation sample number 91 (ground truth value = 3) :\n"
     ]
    },
    {
     "data": {
      "image/png": "[encoded data removed]",
      "text/plain": [
       "<IPython.core.display.Image object>"
      ]
     },
     "metadata": {},
     "output_type": "display_data"
    },
    {
     "name": "stdout",
     "output_type": "stream",
     "text": [
      "validation sample number 92 (ground truth value = 8) :\n"
     ]
    },
    {
     "data": {
      "image/png": "[encoded data removed]",
      "text/plain": [
       "<IPython.core.display.Image object>"
      ]
     },
     "metadata": {},
     "output_type": "display_data"
    },
    {
     "name": "stdout",
     "output_type": "stream",
     "text": [
      "validation sample number 93 (ground truth value = 7) :\n"
     ]
    },
    {
     "data": {
      "image/png": "[encoded data removed]",
      "text/plain": [
       "<IPython.core.display.Image object>"
      ]
     },
     "metadata": {},
     "output_type": "display_data"
    },
    {
     "name": "stdout",
     "output_type": "stream",
     "text": [
      "validation sample number 94 (ground truth value = 5) :\n"
     ]
    },
    {
     "data": {
      "image/png": "[encoded data removed]",
      "text/plain": [
       "<IPython.core.display.Image object>"
      ]
     },
     "metadata": {},
     "output_type": "display_data"
    },
    {
     "name": "stdout",
     "output_type": "stream",
     "text": [
      "validation sample number 95 (ground truth value = 7) :\n"
     ]
    },
    {
     "data": {
      "image/png": "[encoded data removed]",
      "text/plain": [
       "<IPython.core.display.Image object>"
      ]
     },
     "metadata": {},
     "output_type": "display_data"
    },
    {
     "name": "stdout",
     "output_type": "stream",
     "text": [
      "validation sample number 96 (ground truth value = 7) :\n"
     ]
    },
    {
     "data": {
      "image/png": "[encoded data removed]",
      "text/plain": [
       "<IPython.core.display.Image object>"
      ]
     },
     "metadata": {},
     "output_type": "display_data"
    },
    {
     "name": "stdout",
     "output_type": "stream",
     "text": [
      "validation sample number 97 (ground truth value = 9) :\n"
     ]
    },
    {
     "data": {
      "image/png": "[encoded data removed]",
      "text/plain": [
       "<IPython.core.display.Image object>"
      ]
     },
     "metadata": {},
     "output_type": "display_data"
    },
    {
     "name": "stdout",
     "output_type": "stream",
     "text": [
      "validation sample number 98 (ground truth value = 7) :\n"
     ]
    },
    {
     "data": {
      "image/png": "[encoded data removed]",
      "text/plain": [
       "<IPython.core.display.Image object>"
      ]
     },
     "metadata": {},
     "output_type": "display_data"
    },
    {
     "name": "stdout",
     "output_type": "stream",
     "text": [
      "validation sample number 99 (ground truth value = 1) :\n"
     ]
    },
    {
     "data": {
      "image/png": "[encoded data removed]",
      "text/plain": [
       "<IPython.core.display.Image object>"
      ]
     },
     "metadata": {},
     "output_type": "display_data"
    },
    {
     "name": "stdout",
     "output_type": "stream",
     "text": [
      "test sample number 0 (ground truth value = 7) :\n"
     ]
    },
    {
     "data": {
      "image/png": "[encoded data removed]",
      "text/plain": [
       "<IPython.core.display.Image object>"
      ]
     },
     "metadata": {},
     "output_type": "display_data"
    },
    {
     "name": "stdout",
     "output_type": "stream",
     "text": [
      "test sample number 1 (ground truth value = 2) :\n"
     ]
    },
    {
     "data": {
      "image/png": "[encoded data removed]",
      "text/plain": [
       "<IPython.core.display.Image object>"
      ]
     },
     "metadata": {},
     "output_type": "display_data"
    },
    {
     "name": "stdout",
     "output_type": "stream",
     "text": [
      "test sample number 2 (ground truth value = 1) :\n"
     ]
    },
    {
     "data": {
      "image/png": "[encoded data removed]",
      "text/plain": [
       "<IPython.core.display.Image object>"
      ]
     },
     "metadata": {},
     "output_type": "display_data"
    },
    {
     "name": "stdout",
     "output_type": "stream",
     "text": [
      "test sample number 3 (ground truth value = 0) :\n"
     ]
    },
    {
     "data": {
      "image/png": "[encoded data removed]",
      "text/plain": [
       "<IPython.core.display.Image object>"
      ]
     },
     "metadata": {},
     "output_type": "display_data"
    },
    {
     "name": "stdout",
     "output_type": "stream",
     "text": [
      "test sample number 4 (ground truth value = 4) :\n"
     ]
    },
    {
     "data": {
      "image/png": "[encoded data removed]",
      "text/plain": [
       "<IPython.core.display.Image object>"
      ]
     },
     "metadata": {},
     "output_type": "display_data"
    },
    {
     "name": "stdout",
     "output_type": "stream",
     "text": [
      "test sample number 5 (ground truth value = 1) :\n"
     ]
    },
    {
     "data": {
      "image/png": "[encoded data removed]",
      "text/plain": [
       "<IPython.core.display.Image object>"
      ]
     },
     "metadata": {},
     "output_type": "display_data"
    },
    {
     "name": "stdout",
     "output_type": "stream",
     "text": [
      "test sample number 6 (ground truth value = 4) :\n"
     ]
    },
    {
     "data": {
      "image/png": "[encoded data removed]",
      "text/plain": [
       "<IPython.core.display.Image object>"
      ]
     },
     "metadata": {},
     "output_type": "display_data"
    },
    {
     "name": "stdout",
     "output_type": "stream",
     "text": [
      "test sample number 7 (ground truth value = 9) :\n"
     ]
    },
    {
     "data": {
      "image/png": "[encoded data removed]",
      "text/plain": [
       "<IPython.core.display.Image object>"
      ]
     },
     "metadata": {},
     "output_type": "display_data"
    },
    {
     "name": "stdout",
     "output_type": "stream",
     "text": [
      "test sample number 8 (ground truth value = 5) :\n"
     ]
    },
    {
     "data": {
      "image/png": "[encoded data removed]",
      "text/plain": [
       "<IPython.core.display.Image object>"
      ]
     },
     "metadata": {},
     "output_type": "display_data"
    },
    {
     "name": "stdout",
     "output_type": "stream",
     "text": [
      "test sample number 9 (ground truth value = 9) :\n"
     ]
    },
    {
     "data": {
      "image/png": "[encoded data removed]",
      "text/plain": [
       "<IPython.core.display.Image object>"
      ]
     },
     "metadata": {},
     "output_type": "display_data"
    },
    {
     "name": "stdout",
     "output_type": "stream",
     "text": [
      "test sample number 10 (ground truth value = 0) :\n"
     ]
    },
    {
     "data": {
      "image/png": "[encoded data removed]",
      "text/plain": [
       "<IPython.core.display.Image object>"
      ]
     },
     "metadata": {},
     "output_type": "display_data"
    },
    {
     "name": "stdout",
     "output_type": "stream",
     "text": [
      "test sample number 11 (ground truth value = 6) :\n"
     ]
    },
    {
     "data": {
      "image/png": "[encoded data removed]",
      "text/plain": [
       "<IPython.core.display.Image object>"
      ]
     },
     "metadata": {},
     "output_type": "display_data"
    },
    {
     "name": "stdout",
     "output_type": "stream",
     "text": [
      "test sample number 12 (ground truth value = 9) :\n"
     ]
    },
    {
     "data": {
      "image/png": "[encoded data removed]",
      "text/plain": [
       "<IPython.core.display.Image object>"
      ]
     },
     "metadata": {},
     "output_type": "display_data"
    },
    {
     "name": "stdout",
     "output_type": "stream",
     "text": [
      "test sample number 13 (ground truth value = 0) :\n"
     ]
    },
    {
     "data": {
      "image/png": "[encoded data removed]",
      "text/plain": [
       "<IPython.core.display.Image object>"
      ]
     },
     "metadata": {},
     "output_type": "display_data"
    },
    {
     "name": "stdout",
     "output_type": "stream",
     "text": [
      "test sample number 14 (ground truth value = 1) :\n"
     ]
    },
    {
     "data": {
      "image/png": "[encoded data removed]",
      "text/plain": [
       "<IPython.core.display.Image object>"
      ]
     },
     "metadata": {},
     "output_type": "display_data"
    },
    {
     "name": "stdout",
     "output_type": "stream",
     "text": [
      "test sample number 15 (ground truth value = 5) :\n"
     ]
    },
    {
     "data": {
      "image/png": "[encoded data removed]",
      "text/plain": [
       "<IPython.core.display.Image object>"
      ]
     },
     "metadata": {},
     "output_type": "display_data"
    },
    {
     "name": "stdout",
     "output_type": "stream",
     "text": [
      "test sample number 16 (ground truth value = 9) :\n"
     ]
    },
    {
     "data": {
      "image/png": "[encoded data removed]",
      "text/plain": [
       "<IPython.core.display.Image object>"
      ]
     },
     "metadata": {},
     "output_type": "display_data"
    },
    {
     "name": "stdout",
     "output_type": "stream",
     "text": [
      "test sample number 17 (ground truth value = 7) :\n"
     ]
    },
    {
     "data": {
      "image/png": "[encoded data removed]",
      "text/plain": [
       "<IPython.core.display.Image object>"
      ]
     },
     "metadata": {},
     "output_type": "display_data"
    },
    {
     "name": "stdout",
     "output_type": "stream",
     "text": [
      "test sample number 18 (ground truth value = 3) :\n"
     ]
    },
    {
     "data": {
      "image/png": "[encoded data removed]",
      "text/plain": [
       "<IPython.core.display.Image object>"
      ]
     },
     "metadata": {},
     "output_type": "display_data"
    },
    {
     "name": "stdout",
     "output_type": "stream",
     "text": [
      "test sample number 19 (ground truth value = 4) :\n"
     ]
    },
    {
     "data": {
      "image/png": "[encoded data removed]",
      "text/plain": [
       "<IPython.core.display.Image object>"
      ]
     },
     "metadata": {},
     "output_type": "display_data"
    },
    {
     "name": "stdout",
     "output_type": "stream",
     "text": [
      "test sample number 20 (ground truth value = 9) :\n"
     ]
    },
    {
     "data": {
      "image/png": "[encoded data removed]",
      "text/plain": [
       "<IPython.core.display.Image object>"
      ]
     },
     "metadata": {},
     "output_type": "display_data"
    },
    {
     "name": "stdout",
     "output_type": "stream",
     "text": [
      "test sample number 21 (ground truth value = 6) :\n"
     ]
    },
    {
     "data": {
      "image/png": "[encoded data removed]",
      "text/plain": [
       "<IPython.core.display.Image object>"
      ]
     },
     "metadata": {},
     "output_type": "display_data"
    },
    {
     "name": "stdout",
     "output_type": "stream",
     "text": [
      "test sample number 22 (ground truth value = 6) :\n"
     ]
    },
    {
     "data": {
      "image/png": "[encoded data removed]",
      "text/plain": [
       "<IPython.core.display.Image object>"
      ]
     },
     "metadata": {},
     "output_type": "display_data"
    },
    {
     "name": "stdout",
     "output_type": "stream",
     "text": [
      "test sample number 23 (ground truth value = 5) :\n"
     ]
    },
    {
     "data": {
      "image/png": "[encoded data removed]",
      "text/plain": [
       "<IPython.core.display.Image object>"
      ]
     },
     "metadata": {},
     "output_type": "display_data"
    },
    {
     "name": "stdout",
     "output_type": "stream",
     "text": [
      "test sample number 24 (ground truth value = 4) :\n"
     ]
    },
    {
     "data": {
      "image/png": "[encoded data removed]",
      "text/plain": [
       "<IPython.core.display.Image object>"
      ]
     },
     "metadata": {},
     "output_type": "display_data"
    },
    {
     "name": "stdout",
     "output_type": "stream",
     "text": [
      "test sample number 25 (ground truth value = 0) :\n"
     ]
    },
    {
     "data": {
      "image/png": "[encoded data removed]",
      "text/plain": [
       "<IPython.core.display.Image object>"
      ]
     },
     "metadata": {},
     "output_type": "display_data"
    },
    {
     "name": "stdout",
     "output_type": "stream",
     "text": [
      "test sample number 26 (ground truth value = 7) :\n"
     ]
    },
    {
     "data": {
      "image/png": "[encoded data removed]",
      "text/plain": [
       "<IPython.core.display.Image object>"
      ]
     },
     "metadata": {},
     "output_type": "display_data"
    },
    {
     "name": "stdout",
     "output_type": "stream",
     "text": [
      "test sample number 27 (ground truth value = 4) :\n"
     ]
    },
    {
     "data": {
      "image/png": "[encoded data removed]",
      "text/plain": [
       "<IPython.core.display.Image object>"
      ]
     },
     "metadata": {},
     "output_type": "display_data"
    },
    {
     "name": "stdout",
     "output_type": "stream",
     "text": [
      "test sample number 28 (ground truth value = 0) :\n"
     ]
    },
    {
     "data": {
      "image/png": "[encoded data removed]",
      "text/plain": [
       "<IPython.core.display.Image object>"
      ]
     },
     "metadata": {},
     "output_type": "display_data"
    },
    {
     "name": "stdout",
     "output_type": "stream",
     "text": [
      "test sample number 29 (ground truth value = 1) :\n"
     ]
    },
    {
     "data": {
      "image/png": "[encoded data removed]",
      "text/plain": [
       "<IPython.core.display.Image object>"
      ]
     },
     "metadata": {},
     "output_type": "display_data"
    },
    {
     "name": "stdout",
     "output_type": "stream",
     "text": [
      "test sample number 30 (ground truth value = 3) :\n"
     ]
    },
    {
     "data": {
      "image/png": "[encoded data removed]",
      "text/plain": [
       "<IPython.core.display.Image object>"
      ]
     },
     "metadata": {},
     "output_type": "display_data"
    },
    {
     "name": "stdout",
     "output_type": "stream",
     "text": [
      "test sample number 31 (ground truth value = 1) :\n"
     ]
    },
    {
     "data": {
      "image/png": "[encoded data removed]",
      "text/plain": [
       "<IPython.core.display.Image object>"
      ]
     },
     "metadata": {},
     "output_type": "display_data"
    },
    {
     "name": "stdout",
     "output_type": "stream",
     "text": [
      "test sample number 32 (ground truth value = 3) :\n"
     ]
    },
    {
     "data": {
      "image/png": "[encoded data removed]",
      "text/plain": [
       "<IPython.core.display.Image object>"
      ]
     },
     "metadata": {},
     "output_type": "display_data"
    },
    {
     "name": "stdout",
     "output_type": "stream",
     "text": [
      "test sample number 33 (ground truth value = 4) :\n"
     ]
    },
    {
     "data": {
      "image/png": "[encoded data removed]",
      "text/plain": [
       "<IPython.core.display.Image object>"
      ]
     },
     "metadata": {},
     "output_type": "display_data"
    },
    {
     "name": "stdout",
     "output_type": "stream",
     "text": [
      "test sample number 34 (ground truth value = 7) :\n"
     ]
    },
    {
     "data": {
      "image/png": "[encoded data removed]",
      "text/plain": [
       "<IPython.core.display.Image object>"
      ]
     },
     "metadata": {},
     "output_type": "display_data"
    },
    {
     "name": "stdout",
     "output_type": "stream",
     "text": [
      "test sample number 35 (ground truth value = 2) :\n"
     ]
    },
    {
     "data": {
      "image/png": "[encoded data removed]",
      "text/plain": [
       "<IPython.core.display.Image object>"
      ]
     },
     "metadata": {},
     "output_type": "display_data"
    },
    {
     "name": "stdout",
     "output_type": "stream",
     "text": [
      "test sample number 36 (ground truth value = 7) :\n"
     ]
    },
    {
     "data": {
      "image/png": "[encoded data removed]",
      "text/plain": [
       "<IPython.core.display.Image object>"
      ]
     },
     "metadata": {},
     "output_type": "display_data"
    },
    {
     "name": "stdout",
     "output_type": "stream",
     "text": [
      "test sample number 37 (ground truth value = 1) :\n"
     ]
    },
    {
     "data": {
      "image/png": "[encoded data removed]",
      "text/plain": [
       "<IPython.core.display.Image object>"
      ]
     },
     "metadata": {},
     "output_type": "display_data"
    },
    {
     "name": "stdout",
     "output_type": "stream",
     "text": [
      "test sample number 38 (ground truth value = 2) :\n"
     ]
    },
    {
     "data": {
      "image/png": "[encoded data removed]",
      "text/plain": [
       "<IPython.core.display.Image object>"
      ]
     },
     "metadata": {},
     "output_type": "display_data"
    },
    {
     "name": "stdout",
     "output_type": "stream",
     "text": [
      "test sample number 39 (ground truth value = 1) :\n"
     ]
    },
    {
     "data": {
      "image/png": "[encoded data removed]",
      "text/plain": [
       "<IPython.core.display.Image object>"
      ]
     },
     "metadata": {},
     "output_type": "display_data"
    },
    {
     "name": "stdout",
     "output_type": "stream",
     "text": [
      "test sample number 40 (ground truth value = 1) :\n"
     ]
    },
    {
     "data": {
      "image/png": "[encoded data removed]",
      "text/plain": [
       "<IPython.core.display.Image object>"
      ]
     },
     "metadata": {},
     "output_type": "display_data"
    },
    {
     "name": "stdout",
     "output_type": "stream",
     "text": [
      "test sample number 41 (ground truth value = 7) :\n"
     ]
    },
    {
     "data": {
      "image/png": "[encoded data removed]",
      "text/plain": [
       "<IPython.core.display.Image object>"
      ]
     },
     "metadata": {},
     "output_type": "display_data"
    },
    {
     "name": "stdout",
     "output_type": "stream",
     "text": [
      "test sample number 42 (ground truth value = 4) :\n"
     ]
    },
    {
     "data": {
      "image/png": "[encoded data removed]",
      "text/plain": [
       "<IPython.core.display.Image object>"
      ]
     },
     "metadata": {},
     "output_type": "display_data"
    },
    {
     "name": "stdout",
     "output_type": "stream",
     "text": [
      "test sample number 43 (ground truth value = 2) :\n"
     ]
    },
    {
     "data": {
      "image/png": "[encoded data removed]",
      "text/plain": [
       "<IPython.core.display.Image object>"
      ]
     },
     "metadata": {},
     "output_type": "display_data"
    },
    {
     "name": "stdout",
     "output_type": "stream",
     "text": [
      "test sample number 44 (ground truth value = 3) :\n"
     ]
    },
    {
     "data": {
      "image/png": "[encoded data removed]",
      "text/plain": [
       "<IPython.core.display.Image object>"
      ]
     },
     "metadata": {},
     "output_type": "display_data"
    },
    {
     "name": "stdout",
     "output_type": "stream",
     "text": [
      "test sample number 45 (ground truth value = 5) :\n"
     ]
    },
    {
     "data": {
      "image/png": "[encoded data removed]",
      "text/plain": [
       "<IPython.core.display.Image object>"
      ]
     },
     "metadata": {},
     "output_type": "display_data"
    },
    {
     "name": "stdout",
     "output_type": "stream",
     "text": [
      "test sample number 46 (ground truth value = 1) :\n"
     ]
    },
    {
     "data": {
      "image/png": "[encoded data removed]",
      "text/plain": [
       "<IPython.core.display.Image object>"
      ]
     },
     "metadata": {},
     "output_type": "display_data"
    },
    {
     "name": "stdout",
     "output_type": "stream",
     "text": [
      "test sample number 47 (ground truth value = 2) :\n"
     ]
    },
    {
     "data": {
      "image/png": "[encoded data removed]",
      "text/plain": [
       "<IPython.core.display.Image object>"
      ]
     },
     "metadata": {},
     "output_type": "display_data"
    },
    {
     "name": "stdout",
     "output_type": "stream",
     "text": [
      "test sample number 48 (ground truth value = 4) :\n"
     ]
    },
    {
     "data": {
      "image/png": "[encoded data removed]",
      "text/plain": [
       "<IPython.core.display.Image object>"
      ]
     },
     "metadata": {},
     "output_type": "display_data"
    },
    {
     "name": "stdout",
     "output_type": "stream",
     "text": [
      "test sample number 49 (ground truth value = 4) :\n"
     ]
    },
    {
     "data": {
      "image/png": "[encoded data removed]",
      "text/plain": [
       "<IPython.core.display.Image object>"
      ]
     },
     "metadata": {},
     "output_type": "display_data"
    },
    {
     "name": "stdout",
     "output_type": "stream",
     "text": [
      "test sample number 50 (ground truth value = 6) :\n"
     ]
    },
    {
     "data": {
      "image/png": "[encoded data removed]",
      "text/plain": [
       "<IPython.core.display.Image object>"
      ]
     },
     "metadata": {},
     "output_type": "display_data"
    },
    {
     "name": "stdout",
     "output_type": "stream",
     "text": [
      "test sample number 51 (ground truth value = 3) :\n"
     ]
    },
    {
     "data": {
      "image/png": "[encoded data removed]",
      "text/plain": [
       "<IPython.core.display.Image object>"
      ]
     },
     "metadata": {},
     "output_type": "display_data"
    },
    {
     "name": "stdout",
     "output_type": "stream",
     "text": [
      "test sample number 52 (ground truth value = 5) :\n"
     ]
    },
    {
     "data": {
      "image/png": "[encoded data removed]",
      "text/plain": [
       "<IPython.core.display.Image object>"
      ]
     },
     "metadata": {},
     "output_type": "display_data"
    },
    {
     "name": "stdout",
     "output_type": "stream",
     "text": [
      "test sample number 53 (ground truth value = 5) :\n"
     ]
    },
    {
     "data": {
      "image/png": "[encoded data removed]",
      "text/plain": [
       "<IPython.core.display.Image object>"
      ]
     },
     "metadata": {},
     "output_type": "display_data"
    },
    {
     "name": "stdout",
     "output_type": "stream",
     "text": [
      "test sample number 54 (ground truth value = 6) :\n"
     ]
    },
    {
     "data": {
      "image/png": "[encoded data removed]",
      "text/plain": [
       "<IPython.core.display.Image object>"
      ]
     },
     "metadata": {},
     "output_type": "display_data"
    },
    {
     "name": "stdout",
     "output_type": "stream",
     "text": [
      "test sample number 55 (ground truth value = 0) :\n"
     ]
    },
    {
     "data": {
      "image/png": "[encoded data removed]",
      "text/plain": [
       "<IPython.core.display.Image object>"
      ]
     },
     "metadata": {},
     "output_type": "display_data"
    },
    {
     "name": "stdout",
     "output_type": "stream",
     "text": [
      "test sample number 56 (ground truth value = 4) :\n"
     ]
    },
    {
     "data": {
      "image/png": "[encoded data removed]",
      "text/plain": [
       "<IPython.core.display.Image object>"
      ]
     },
     "metadata": {},
     "output_type": "display_data"
    },
    {
     "name": "stdout",
     "output_type": "stream",
     "text": [
      "test sample number 57 (ground truth value = 1) :\n"
     ]
    },
    {
     "data": {
      "image/png": "[encoded data removed]",
      "text/plain": [
       "<IPython.core.display.Image object>"
      ]
     },
     "metadata": {},
     "output_type": "display_data"
    },
    {
     "name": "stdout",
     "output_type": "stream",
     "text": [
      "test sample number 58 (ground truth value = 9) :\n"
     ]
    },
    {
     "data": {
      "image/png": "[encoded data removed]",
      "text/plain": [
       "<IPython.core.display.Image object>"
      ]
     },
     "metadata": {},
     "output_type": "display_data"
    },
    {
     "name": "stdout",
     "output_type": "stream",
     "text": [
      "test sample number 59 (ground truth value = 5) :\n"
     ]
    },
    {
     "data": {
      "image/png": "[encoded data removed]",
      "text/plain": [
       "<IPython.core.display.Image object>"
      ]
     },
     "metadata": {},
     "output_type": "display_data"
    },
    {
     "name": "stdout",
     "output_type": "stream",
     "text": [
      "test sample number 60 (ground truth value = 7) :\n"
     ]
    },
    {
     "data": {
      "image/png": "[encoded data removed]",
      "text/plain": [
       "<IPython.core.display.Image object>"
      ]
     },
     "metadata": {},
     "output_type": "display_data"
    },
    {
     "name": "stdout",
     "output_type": "stream",
     "text": [
      "test sample number 61 (ground truth value = 8) :\n"
     ]
    },
    {
     "data": {
      "image/png": "[encoded data removed]",
      "text/plain": [
       "<IPython.core.display.Image object>"
      ]
     },
     "metadata": {},
     "output_type": "display_data"
    },
    {
     "name": "stdout",
     "output_type": "stream",
     "text": [
      "test sample number 62 (ground truth value = 9) :\n"
     ]
    },
    {
     "data": {
      "image/png": "[encoded data removed]",
      "text/plain": [
       "<IPython.core.display.Image object>"
      ]
     },
     "metadata": {},
     "output_type": "display_data"
    },
    {
     "name": "stdout",
     "output_type": "stream",
     "text": [
      "test sample number 63 (ground truth value = 3) :\n"
     ]
    },
    {
     "data": {
      "image/png": "[encoded data removed]",
      "text/plain": [
       "<IPython.core.display.Image object>"
      ]
     },
     "metadata": {},
     "output_type": "display_data"
    },
    {
     "name": "stdout",
     "output_type": "stream",
     "text": [
      "test sample number 64 (ground truth value = 7) :\n"
     ]
    },
    {
     "data": {
      "image/png": "[encoded data removed]",
      "text/plain": [
       "<IPython.core.display.Image object>"
      ]
     },
     "metadata": {},
     "output_type": "display_data"
    },
    {
     "name": "stdout",
     "output_type": "stream",
     "text": [
      "test sample number 65 (ground truth value = 4) :\n"
     ]
    },
    {
     "data": {
      "image/png": "[encoded data removed]",
      "text/plain": [
       "<IPython.core.display.Image object>"
      ]
     },
     "metadata": {},
     "output_type": "display_data"
    },
    {
     "name": "stdout",
     "output_type": "stream",
     "text": [
      "test sample number 66 (ground truth value = 6) :\n"
     ]
    },
    {
     "data": {
      "image/png": "[encoded data removed]",
      "text/plain": [
       "<IPython.core.display.Image object>"
      ]
     },
     "metadata": {},
     "output_type": "display_data"
    },
    {
     "name": "stdout",
     "output_type": "stream",
     "text": [
      "test sample number 67 (ground truth value = 4) :\n"
     ]
    },
    {
     "data": {
      "image/png": "[encoded data removed]",
      "text/plain": [
       "<IPython.core.display.Image object>"
      ]
     },
     "metadata": {},
     "output_type": "display_data"
    },
    {
     "name": "stdout",
     "output_type": "stream",
     "text": [
      "test sample number 68 (ground truth value = 3) :\n"
     ]
    },
    {
     "data": {
      "image/png": "[encoded data removed]",
      "text/plain": [
       "<IPython.core.display.Image object>"
      ]
     },
     "metadata": {},
     "output_type": "display_data"
    },
    {
     "name": "stdout",
     "output_type": "stream",
     "text": [
      "test sample number 69 (ground truth value = 0) :\n"
     ]
    },
    {
     "data": {
      "image/png": "[encoded data removed]",
      "text/plain": [
       "<IPython.core.display.Image object>"
      ]
     },
     "metadata": {},
     "output_type": "display_data"
    },
    {
     "name": "stdout",
     "output_type": "stream",
     "text": [
      "test sample number 70 (ground truth value = 7) :\n"
     ]
    },
    {
     "data": {
      "image/png": "[encoded data removed]",
      "text/plain": [
       "<IPython.core.display.Image object>"
      ]
     },
     "metadata": {},
     "output_type": "display_data"
    },
    {
     "name": "stdout",
     "output_type": "stream",
     "text": [
      "test sample number 71 (ground truth value = 0) :\n"
     ]
    },
    {
     "data": {
      "image/png": "[encoded data removed]",
      "text/plain": [
       "<IPython.core.display.Image object>"
      ]
     },
     "metadata": {},
     "output_type": "display_data"
    },
    {
     "name": "stdout",
     "output_type": "stream",
     "text": [
      "test sample number 72 (ground truth value = 2) :\n"
     ]
    },
    {
     "data": {
      "image/png": "[encoded data removed]",
      "text/plain": [
       "<IPython.core.display.Image object>"
      ]
     },
     "metadata": {},
     "output_type": "display_data"
    },
    {
     "name": "stdout",
     "output_type": "stream",
     "text": [
      "test sample number 73 (ground truth value = 9) :\n"
     ]
    },
    {
     "data": {
      "image/png": "[encoded data removed]",
      "text/plain": [
       "<IPython.core.display.Image object>"
      ]
     },
     "metadata": {},
     "output_type": "display_data"
    },
    {
     "name": "stdout",
     "output_type": "stream",
     "text": [
      "test sample number 74 (ground truth value = 1) :\n"
     ]
    },
    {
     "data": {
      "image/png": "[encoded data removed]",
      "text/plain": [
       "<IPython.core.display.Image object>"
      ]
     },
     "metadata": {},
     "output_type": "display_data"
    },
    {
     "name": "stdout",
     "output_type": "stream",
     "text": [
      "test sample number 75 (ground truth value = 7) :\n"
     ]
    },
    {
     "data": {
      "image/png": "[encoded data removed]",
      "text/plain": [
       "<IPython.core.display.Image object>"
      ]
     },
     "metadata": {},
     "output_type": "display_data"
    },
    {
     "name": "stdout",
     "output_type": "stream",
     "text": [
      "test sample number 76 (ground truth value = 3) :\n"
     ]
    },
    {
     "data": {
      "image/png": "[encoded data removed]",
      "text/plain": [
       "<IPython.core.display.Image object>"
      ]
     },
     "metadata": {},
     "output_type": "display_data"
    },
    {
     "name": "stdout",
     "output_type": "stream",
     "text": [
      "test sample number 77 (ground truth value = 2) :\n"
     ]
    },
    {
     "data": {
      "image/png": "[encoded data removed]",
      "text/plain": [
       "<IPython.core.display.Image object>"
      ]
     },
     "metadata": {},
     "output_type": "display_data"
    },
    {
     "name": "stdout",
     "output_type": "stream",
     "text": [
      "test sample number 78 (ground truth value = 9) :\n"
     ]
    },
    {
     "data": {
      "image/png": "[encoded data removed]",
      "text/plain": [
       "<IPython.core.display.Image object>"
      ]
     },
     "metadata": {},
     "output_type": "display_data"
    },
    {
     "name": "stdout",
     "output_type": "stream",
     "text": [
      "test sample number 79 (ground truth value = 7) :\n"
     ]
    },
    {
     "data": {
      "image/png": "[encoded data removed]",
      "text/plain": [
       "<IPython.core.display.Image object>"
      ]
     },
     "metadata": {},
     "output_type": "display_data"
    },
    {
     "name": "stdout",
     "output_type": "stream",
     "text": [
      "test sample number 80 (ground truth value = 7) :\n"
     ]
    },
    {
     "data": {
      "image/png": "[encoded data removed]",
      "text/plain": [
       "<IPython.core.display.Image object>"
      ]
     },
     "metadata": {},
     "output_type": "display_data"
    },
    {
     "name": "stdout",
     "output_type": "stream",
     "text": [
      "test sample number 81 (ground truth value = 6) :\n"
     ]
    },
    {
     "data": {
      "image/png": "[encoded data removed]",
      "text/plain": [
       "<IPython.core.display.Image object>"
      ]
     },
     "metadata": {},
     "output_type": "display_data"
    },
    {
     "name": "stdout",
     "output_type": "stream",
     "text": [
      "test sample number 82 (ground truth value = 2) :\n"
     ]
    },
    {
     "data": {
      "image/png": "[encoded data removed]",
      "text/plain": [
       "<IPython.core.display.Image object>"
      ]
     },
     "metadata": {},
     "output_type": "display_data"
    },
    {
     "name": "stdout",
     "output_type": "stream",
     "text": [
      "test sample number 83 (ground truth value = 7) :\n"
     ]
    },
    {
     "data": {
      "image/png": "[encoded data removed]",
      "text/plain": [
       "<IPython.core.display.Image object>"
      ]
     },
     "metadata": {},
     "output_type": "display_data"
    },
    {
     "name": "stdout",
     "output_type": "stream",
     "text": [
      "test sample number 84 (ground truth value = 8) :\n"
     ]
    },
    {
     "data": {
      "image/png": "[encoded data removed]",
      "text/plain": [
       "<IPython.core.display.Image object>"
      ]
     },
     "metadata": {},
     "output_type": "display_data"
    },
    {
     "name": "stdout",
     "output_type": "stream",
     "text": [
      "test sample number 85 (ground truth value = 4) :\n"
     ]
    },
    {
     "data": {
      "image/png": "[encoded data removed]",
      "text/plain": [
       "<IPython.core.display.Image object>"
      ]
     },
     "metadata": {},
     "output_type": "display_data"
    },
    {
     "name": "stdout",
     "output_type": "stream",
     "text": [
      "test sample number 86 (ground truth value = 7) :\n"
     ]
    },
    {
     "data": {
      "image/png": "[encoded data removed]",
      "text/plain": [
       "<IPython.core.display.Image object>"
      ]
     },
     "metadata": {},
     "output_type": "display_data"
    },
    {
     "name": "stdout",
     "output_type": "stream",
     "text": [
      "test sample number 87 (ground truth value = 3) :\n"
     ]
    },
    {
     "data": {
      "image/png": "[encoded data removed]",
      "text/plain": [
       "<IPython.core.display.Image object>"
      ]
     },
     "metadata": {},
     "output_type": "display_data"
    },
    {
     "name": "stdout",
     "output_type": "stream",
     "text": [
      "test sample number 88 (ground truth value = 6) :\n"
     ]
    },
    {
     "data": {
      "image/png": "[encoded data removed]",
      "text/plain": [
       "<IPython.core.display.Image object>"
      ]
     },
     "metadata": {},
     "output_type": "display_data"
    },
    {
     "name": "stdout",
     "output_type": "stream",
     "text": [
      "test sample number 89 (ground truth value = 1) :\n"
     ]
    },
    {
     "data": {
      "image/png": "[encoded data removed]",
      "text/plain": [
       "<IPython.core.display.Image object>"
      ]
     },
     "metadata": {},
     "output_type": "display_data"
    },
    {
     "name": "stdout",
     "output_type": "stream",
     "text": [
      "test sample number 90 (ground truth value = 3) :\n"
     ]
    },
    {
     "data": {
      "image/png": "[encoded data removed]",
      "text/plain": [
       "<IPython.core.display.Image object>"
      ]
     },
     "metadata": {},
     "output_type": "display_data"
    },
    {
     "name": "stdout",
     "output_type": "stream",
     "text": [
      "test sample number 91 (ground truth value = 6) :\n"
     ]
    },
    {
     "data": {
      "image/png": "[encoded data removed]",
      "text/plain": [
       "<IPython.core.display.Image object>"
      ]
     },
     "metadata": {},
     "output_type": "display_data"
    },
    {
     "name": "stdout",
     "output_type": "stream",
     "text": [
      "test sample number 92 (ground truth value = 9) :\n"
     ]
    },
    {
     "data": {
      "image/png": "[encoded data removed]",
      "text/plain": [
       "<IPython.core.display.Image object>"
      ]
     },
     "metadata": {},
     "output_type": "display_data"
    },
    {
     "name": "stdout",
     "output_type": "stream",
     "text": [
      "test sample number 93 (ground truth value = 3) :\n"
     ]
    },
    {
     "data": {
      "image/png": "[encoded data removed]",
      "text/plain": [
       "<IPython.core.display.Image object>"
      ]
     },
     "metadata": {},
     "output_type": "display_data"
    },
    {
     "name": "stdout",
     "output_type": "stream",
     "text": [
      "test sample number 94 (ground truth value = 1) :\n"
     ]
    },
    {
     "data": {
      "image/png": "[encoded data removed]",
      "text/plain": [
       "<IPython.core.display.Image object>"
      ]
     },
     "metadata": {},
     "output_type": "display_data"
    },
    {
     "name": "stdout",
     "output_type": "stream",
     "text": [
      "test sample number 95 (ground truth value = 4) :\n"
     ]
    },
    {
     "data": {
      "image/png": "[encoded data removed]",
      "text/plain": [
       "<IPython.core.display.Image object>"
      ]
     },
     "metadata": {},
     "output_type": "display_data"
    },
    {
     "name": "stdout",
     "output_type": "stream",
     "text": [
      "test sample number 96 (ground truth value = 1) :\n"
     ]
    },
    {
     "data": {
      "image/png": "[encoded data removed]",
      "text/plain": [
       "<IPython.core.display.Image object>"
      ]
     },
     "metadata": {},
     "output_type": "display_data"
    },
    {
     "name": "stdout",
     "output_type": "stream",
     "text": [
      "test sample number 97 (ground truth value = 7) :\n"
     ]
    },
    {
     "data": {
      "image/png": "[encoded data removed]",
      "text/plain": [
       "<IPython.core.display.Image object>"
      ]
     },
     "metadata": {},
     "output_type": "display_data"
    },
    {
     "name": "stdout",
     "output_type": "stream",
     "text": [
      "test sample number 98 (ground truth value = 6) :\n"
     ]
    },
    {
     "data": {
      "image/png": "[encoded data removed]",
      "text/plain": [
       "<IPython.core.display.Image object>"
      ]
     },
     "metadata": {},
     "output_type": "display_data"
    },
    {
     "name": "stdout",
     "output_type": "stream",
     "text": [
      "test sample number 99 (ground truth value = 9) :\n"
     ]
    },
    {
     "data": {
      "image/png": "[encoded data removed]",
      "text/plain": [
       "<IPython.core.display.Image object>"
      ]
     },
     "metadata": {},
     "output_type": "display_data"
    }
   ],
   "source": [
    "visualize_data(paths, data, data_status, notebook=True)"
   ]
  },
  {
   "cell_type": "markdown",
   "metadata": {},
   "source": [
    "# Model definition and training"
   ]
  },
  {
   "cell_type": "markdown",
   "metadata": {},
   "source": [
    "Defining hyperparameters and callbacks"
   ]
  },
  {
   "cell_type": "code",
   "execution_count": 7,
   "metadata": {},
   "outputs": [],
   "source": [
    "hyperparameters =\\\n",
    "{\n",
    "    'nb_inner_layers': 2,\n",
    "    'nb_neurons_per_layers': 8,\n",
    "    'activation_function': 'sigmoid',\n",
    "    'batch_size': 50,\n",
    "    'nb_epochs': 250,\n",
    "    'loss': 'mean_squared_error',\n",
    "    'optimizer': 'sgd',\n",
    "    'metrics': ['categorical_accuracy']\n",
    "}\n",
    "\n",
    "callbacks = [TensorBoard(log_dir=paths['model'], histogram_freq=1, batch_size=hyperparameters['batch_size']),\n",
    "             ModelCheckpoint(os.path.join(paths['model'], 'weights.hdf5'))]"
   ]
  },
  {
   "cell_type": "markdown",
   "metadata": {},
   "source": [
    "Creating model"
   ]
  },
  {
   "cell_type": "code",
   "execution_count": 8,
   "metadata": {},
   "outputs": [],
   "source": [
    "model = create_model(hyperparameters)"
   ]
  },
  {
   "cell_type": "markdown",
   "metadata": {},
   "source": [
    "Saving model"
   ]
  },
  {
   "cell_type": "code",
   "execution_count": 9,
   "metadata": {},
   "outputs": [],
   "source": [
    "with open(os.path.join(paths['model'],'model.json'), 'w') as json_file:\n",
    "    json_file.write(model.to_json())"
   ]
  },
  {
   "cell_type": "markdown",
   "metadata": {},
   "source": [
    "Training model"
   ]
  },
  {
   "cell_type": "code",
   "execution_count": 59,
   "metadata": {
    "scrolled": true
   },
   "outputs": [
    {
     "name": "stdout",
     "output_type": "stream",
     "text": [
      "Train on 48000 samples, validate on 12000 samples\n",
      "Epoch 1/250\n",
      "48000/48000 [==============================] - 2s 47us/step - loss: 0.1072 - categorical_accuracy: 0.1042 - val_loss: 0.0890 - val_categorical_accuracy: 0.1374\n",
      "Epoch 2/250\n",
      "48000/48000 [==============================] - 2s 47us/step - loss: 0.0885 - categorical_accuracy: 0.1839 - val_loss: 0.0878 - val_categorical_accuracy: 0.2148\n",
      "Epoch 3/250\n",
      "48000/48000 [==============================] - 2s 47us/step - loss: 0.0874 - categorical_accuracy: 0.2258 - val_loss: 0.0865 - val_categorical_accuracy: 0.2615\n",
      "Epoch 4/250\n",
      "48000/48000 [==============================] - 2s 46us/step - loss: 0.0861 - categorical_accuracy: 0.2728 - val_loss: 0.0854 - val_categorical_accuracy: 0.2980\n",
      "Epoch 5/250\n",
      "48000/48000 [==============================] - 3s 54us/step - loss: 0.0851 - categorical_accuracy: 0.2964 - val_loss: 0.0844 - val_categorical_accuracy: 0.3114\n",
      "Epoch 6/250\n",
      "48000/48000 [==============================] - 2s 47us/step - loss: 0.0842 - categorical_accuracy: 0.3091 - val_loss: 0.0835 - val_categorical_accuracy: 0.3272\n",
      "Epoch 7/250\n",
      "48000/48000 [==============================] - 2s 51us/step - loss: 0.0835 - categorical_accuracy: 0.3231 - val_loss: 0.0828 - val_categorical_accuracy: 0.3286\n",
      "Epoch 8/250\n",
      "48000/48000 [==============================] - 2s 45us/step - loss: 0.0827 - categorical_accuracy: 0.3258 - val_loss: 0.0821 - val_categorical_accuracy: 0.3345\n",
      "Epoch 9/250\n",
      "48000/48000 [==============================] - 2s 49us/step - loss: 0.0820 - categorical_accuracy: 0.3385 - val_loss: 0.0812 - val_categorical_accuracy: 0.3586\n",
      "Epoch 10/250\n",
      "48000/48000 [==============================] - 2s 45us/step - loss: 0.0810 - categorical_accuracy: 0.3729 - val_loss: 0.0801 - val_categorical_accuracy: 0.4202\n",
      "Epoch 11/250\n",
      "48000/48000 [==============================] - 2s 51us/step - loss: 0.0800 - categorical_accuracy: 0.4188 - val_loss: 0.0790 - val_categorical_accuracy: 0.4517\n",
      "Epoch 12/250\n",
      "48000/48000 [==============================] - 2s 51us/step - loss: 0.0787 - categorical_accuracy: 0.4543 - val_loss: 0.0775 - val_categorical_accuracy: 0.4940\n",
      "Epoch 13/250\n",
      "48000/48000 [==============================] - 2s 46us/step - loss: 0.0774 - categorical_accuracy: 0.4915 - val_loss: 0.0763 - val_categorical_accuracy: 0.5117\n",
      "Epoch 14/250\n",
      "48000/48000 [==============================] - 2s 48us/step - loss: 0.0762 - categorical_accuracy: 0.5046 - val_loss: 0.0750 - val_categorical_accuracy: 0.5303\n",
      "Epoch 15/250\n",
      "48000/48000 [==============================] - 2s 49us/step - loss: 0.0749 - categorical_accuracy: 0.5327 - val_loss: 0.0736 - val_categorical_accuracy: 0.5674\n",
      "Epoch 16/250\n",
      "48000/48000 [==============================] - 2s 43us/step - loss: 0.0735 - categorical_accuracy: 0.5628 - val_loss: 0.0725 - val_categorical_accuracy: 0.5803\n",
      "Epoch 17/250\n",
      "48000/48000 [==============================] - 2s 41us/step - loss: 0.0725 - categorical_accuracy: 0.5753 - val_loss: 0.0715 - val_categorical_accuracy: 0.5858\n",
      "Epoch 18/250\n",
      "48000/48000 [==============================] - 2s 48us/step - loss: 0.0716 - categorical_accuracy: 0.5815 - val_loss: 0.0706 - val_categorical_accuracy: 0.5945\n",
      "Epoch 19/250\n",
      "48000/48000 [==============================] - 2s 42us/step - loss: 0.0707 - categorical_accuracy: 0.5908 - val_loss: 0.0697 - val_categorical_accuracy: 0.5945\n",
      "Epoch 20/250\n",
      "48000/48000 [==============================] - 2s 48us/step - loss: 0.0699 - categorical_accuracy: 0.5950 - val_loss: 0.0690 - val_categorical_accuracy: 0.6038\n",
      "Epoch 21/250\n",
      "48000/48000 [==============================] - 2s 43us/step - loss: 0.0691 - categorical_accuracy: 0.5972 - val_loss: 0.0683 - val_categorical_accuracy: 0.6081\n",
      "Epoch 22/250\n",
      "48000/48000 [==============================] - 2s 47us/step - loss: 0.0684 - categorical_accuracy: 0.6012 - val_loss: 0.0675 - val_categorical_accuracy: 0.6117\n",
      "Epoch 23/250\n",
      "48000/48000 [==============================] - 3s 67us/step - loss: 0.0677 - categorical_accuracy: 0.6303 - val_loss: 0.0669 - val_categorical_accuracy: 0.6653\n",
      "Epoch 24/250\n",
      "48000/48000 [==============================] - 3s 53us/step - loss: 0.0670 - categorical_accuracy: 0.6553 - val_loss: 0.0662 - val_categorical_accuracy: 0.6675\n",
      "Epoch 25/250\n",
      "48000/48000 [==============================] - 2s 45us/step - loss: 0.0663 - categorical_accuracy: 0.6604 - val_loss: 0.0656 - val_categorical_accuracy: 0.6712\n",
      "Epoch 26/250\n",
      "48000/48000 [==============================] - 2s 51us/step - loss: 0.0657 - categorical_accuracy: 0.6668 - val_loss: 0.0650 - val_categorical_accuracy: 0.6720\n",
      "Epoch 27/250\n",
      "48000/48000 [==============================] - 2s 49us/step - loss: 0.0651 - categorical_accuracy: 0.6806 - val_loss: 0.0644 - val_categorical_accuracy: 0.7158\n",
      "Epoch 28/250\n",
      "48000/48000 [==============================] - 2s 47us/step - loss: 0.0645 - categorical_accuracy: 0.7145 - val_loss: 0.0638 - val_categorical_accuracy: 0.7203\n",
      "Epoch 29/250\n",
      "48000/48000 [==============================] - 2s 45us/step - loss: 0.0639 - categorical_accuracy: 0.7199 - val_loss: 0.0632 - val_categorical_accuracy: 0.7253\n",
      "Epoch 30/250\n",
      "48000/48000 [==============================] - 2s 47us/step - loss: 0.0634 - categorical_accuracy: 0.7250 - val_loss: 0.0627 - val_categorical_accuracy: 0.7278\n",
      "Epoch 31/250\n",
      "48000/48000 [==============================] - 3s 59us/step - loss: 0.0628 - categorical_accuracy: 0.7302 - val_loss: 0.0622 - val_categorical_accuracy: 0.7351\n",
      "Epoch 32/250\n",
      "48000/48000 [==============================] - 3s 59us/step - loss: 0.0623 - categorical_accuracy: 0.7362 - val_loss: 0.0617 - val_categorical_accuracy: 0.7411\n",
      "Epoch 33/250\n",
      "48000/48000 [==============================] - 3s 54us/step - loss: 0.0618 - categorical_accuracy: 0.7405 - val_loss: 0.0611 - val_categorical_accuracy: 0.7499\n",
      "Epoch 34/250\n",
      "48000/48000 [==============================] - 2s 45us/step - loss: 0.0613 - categorical_accuracy: 0.7479 - val_loss: 0.0605 - val_categorical_accuracy: 0.7565\n",
      "Epoch 35/250\n",
      "48000/48000 [==============================] - 2s 46us/step - loss: 0.0608 - categorical_accuracy: 0.7535 - val_loss: 0.0602 - val_categorical_accuracy: 0.7550\n",
      "Epoch 36/250\n",
      "48000/48000 [==============================] - 2s 48us/step - loss: 0.0603 - categorical_accuracy: 0.7571 - val_loss: 0.0597 - val_categorical_accuracy: 0.7622\n",
      "Epoch 37/250\n",
      "48000/48000 [==============================] - 2s 48us/step - loss: 0.0599 - categorical_accuracy: 0.7587 - val_loss: 0.0593 - val_categorical_accuracy: 0.7666\n",
      "Epoch 38/250\n",
      "48000/48000 [==============================] - 2s 46us/step - loss: 0.0593 - categorical_accuracy: 0.7651 - val_loss: 0.0588 - val_categorical_accuracy: 0.7664\n",
      "Epoch 39/250\n",
      "48000/48000 [==============================] - 2s 51us/step - loss: 0.0589 - categorical_accuracy: 0.7687 - val_loss: 0.0584 - val_categorical_accuracy: 0.7703\n",
      "Epoch 40/250\n",
      "48000/48000 [==============================] - 2s 44us/step - loss: 0.0585 - categorical_accuracy: 0.7699 - val_loss: 0.0580 - val_categorical_accuracy: 0.7732\n",
      "Epoch 41/250\n",
      "48000/48000 [==============================] - 2s 47us/step - loss: 0.0582 - categorical_accuracy: 0.7710 - val_loss: 0.0577 - val_categorical_accuracy: 0.7707\n",
      "Epoch 42/250\n",
      "48000/48000 [==============================] - 2s 47us/step - loss: 0.0577 - categorical_accuracy: 0.7736 - val_loss: 0.0573 - val_categorical_accuracy: 0.7777\n",
      "Epoch 43/250\n",
      "48000/48000 [==============================] - 2s 42us/step - loss: 0.0574 - categorical_accuracy: 0.7765 - val_loss: 0.0569 - val_categorical_accuracy: 0.7768\n",
      "Epoch 44/250\n",
      "48000/48000 [==============================] - 3s 56us/step - loss: 0.0571 - categorical_accuracy: 0.7766 - val_loss: 0.0568 - val_categorical_accuracy: 0.7790\n",
      "Epoch 45/250\n",
      "48000/48000 [==============================] - 2s 44us/step - loss: 0.0568 - categorical_accuracy: 0.7761 - val_loss: 0.0564 - val_categorical_accuracy: 0.7765\n",
      "Epoch 46/250\n",
      "48000/48000 [==============================] - 2s 47us/step - loss: 0.0564 - categorical_accuracy: 0.7792 - val_loss: 0.0562 - val_categorical_accuracy: 0.7772\n",
      "Epoch 47/250\n",
      "48000/48000 [==============================] - 2s 45us/step - loss: 0.0562 - categorical_accuracy: 0.7775 - val_loss: 0.0557 - val_categorical_accuracy: 0.7769\n",
      "Epoch 48/250\n"
     ]
    },
    {
     "name": "stdout",
     "output_type": "stream",
     "text": [
      "48000/48000 [==============================] - 3s 58us/step - loss: 0.0559 - categorical_accuracy: 0.7785 - val_loss: 0.0556 - val_categorical_accuracy: 0.7817\n",
      "Epoch 49/250\n",
      "48000/48000 [==============================] - 3s 66us/step - loss: 0.0556 - categorical_accuracy: 0.7799 - val_loss: 0.0555 - val_categorical_accuracy: 0.7772\n",
      "Epoch 50/250\n",
      "48000/48000 [==============================] - 3s 57us/step - loss: 0.0554 - categorical_accuracy: 0.7822 - val_loss: 0.0551 - val_categorical_accuracy: 0.7826\n",
      "Epoch 51/250\n",
      "48000/48000 [==============================] - 3s 68us/step - loss: 0.0552 - categorical_accuracy: 0.7807 - val_loss: 0.0549 - val_categorical_accuracy: 0.7826\n",
      "Epoch 52/250\n",
      "48000/48000 [==============================] - 3s 54us/step - loss: 0.0549 - categorical_accuracy: 0.7829 - val_loss: 0.0548 - val_categorical_accuracy: 0.7802\n",
      "Epoch 53/250\n",
      "48000/48000 [==============================] - 3s 55us/step - loss: 0.0547 - categorical_accuracy: 0.7821 - val_loss: 0.0546 - val_categorical_accuracy: 0.7791\n",
      "Epoch 54/250\n",
      "48000/48000 [==============================] - 2s 48us/step - loss: 0.0545 - categorical_accuracy: 0.7833 - val_loss: 0.0544 - val_categorical_accuracy: 0.7830\n",
      "Epoch 55/250\n",
      "48000/48000 [==============================] - 3s 52us/step - loss: 0.0543 - categorical_accuracy: 0.7832 - val_loss: 0.0543 - val_categorical_accuracy: 0.7831\n",
      "Epoch 56/250\n",
      "48000/48000 [==============================] - 2s 50us/step - loss: 0.0541 - categorical_accuracy: 0.7844 - val_loss: 0.0541 - val_categorical_accuracy: 0.7811\n",
      "Epoch 57/250\n",
      "48000/48000 [==============================] - 2s 49us/step - loss: 0.0540 - categorical_accuracy: 0.7800 - val_loss: 0.0539 - val_categorical_accuracy: 0.7706\n",
      "Epoch 58/250\n",
      "48000/48000 [==============================] - 2s 48us/step - loss: 0.0539 - categorical_accuracy: 0.7737 - val_loss: 0.0538 - val_categorical_accuracy: 0.7676\n",
      "Epoch 59/250\n",
      "48000/48000 [==============================] - 3s 56us/step - loss: 0.0537 - categorical_accuracy: 0.7742 - val_loss: 0.0537 - val_categorical_accuracy: 0.7701\n",
      "Epoch 60/250\n",
      "48000/48000 [==============================] - 2s 48us/step - loss: 0.0535 - categorical_accuracy: 0.7741 - val_loss: 0.0535 - val_categorical_accuracy: 0.7727\n",
      "Epoch 61/250\n",
      "48000/48000 [==============================] - 3s 55us/step - loss: 0.0533 - categorical_accuracy: 0.7744 - val_loss: 0.0534 - val_categorical_accuracy: 0.7723\n",
      "Epoch 62/250\n",
      "48000/48000 [==============================] - 2s 48us/step - loss: 0.0532 - categorical_accuracy: 0.7746 - val_loss: 0.0534 - val_categorical_accuracy: 0.7682\n",
      "Epoch 63/250\n",
      "48000/48000 [==============================] - 3s 54us/step - loss: 0.0531 - categorical_accuracy: 0.7742 - val_loss: 0.0532 - val_categorical_accuracy: 0.7739\n",
      "Epoch 64/250\n",
      "48000/48000 [==============================] - 2s 49us/step - loss: 0.0530 - categorical_accuracy: 0.7764 - val_loss: 0.0531 - val_categorical_accuracy: 0.7718\n",
      "Epoch 65/250\n",
      "48000/48000 [==============================] - 3s 52us/step - loss: 0.0528 - categorical_accuracy: 0.7774 - val_loss: 0.0530 - val_categorical_accuracy: 0.7714\n",
      "Epoch 66/250\n",
      "48000/48000 [==============================] - 2s 50us/step - loss: 0.0527 - categorical_accuracy: 0.7783 - val_loss: 0.0528 - val_categorical_accuracy: 0.7736\n",
      "Epoch 67/250\n",
      "48000/48000 [==============================] - 3s 60us/step - loss: 0.0526 - categorical_accuracy: 0.7772 - val_loss: 0.0528 - val_categorical_accuracy: 0.7776\n",
      "Epoch 68/250\n",
      "48000/48000 [==============================] - 3s 58us/step - loss: 0.0525 - categorical_accuracy: 0.7786 - val_loss: 0.0527 - val_categorical_accuracy: 0.7755\n",
      "Epoch 69/250\n",
      "48000/48000 [==============================] - 3s 54us/step - loss: 0.0523 - categorical_accuracy: 0.7806 - val_loss: 0.0525 - val_categorical_accuracy: 0.7772\n",
      "Epoch 70/250\n",
      "48000/48000 [==============================] - 2s 47us/step - loss: 0.0523 - categorical_accuracy: 0.7790 - val_loss: 0.0524 - val_categorical_accuracy: 0.7759\n",
      "Epoch 71/250\n",
      "48000/48000 [==============================] - 2s 52us/step - loss: 0.0521 - categorical_accuracy: 0.7816 - val_loss: 0.0522 - val_categorical_accuracy: 0.7806\n",
      "Epoch 72/250\n",
      "48000/48000 [==============================] - 2s 51us/step - loss: 0.0520 - categorical_accuracy: 0.7821 - val_loss: 0.0523 - val_categorical_accuracy: 0.7745\n",
      "Epoch 73/250\n",
      "48000/48000 [==============================] - 2s 51us/step - loss: 0.0519 - categorical_accuracy: 0.7818 - val_loss: 0.0521 - val_categorical_accuracy: 0.7767\n",
      "Epoch 74/250\n",
      "48000/48000 [==============================] - 2s 52us/step - loss: 0.0518 - categorical_accuracy: 0.7824 - val_loss: 0.0520 - val_categorical_accuracy: 0.7787\n",
      "Epoch 75/250\n",
      "48000/48000 [==============================] - 2s 49us/step - loss: 0.0517 - categorical_accuracy: 0.7823 - val_loss: 0.0519 - val_categorical_accuracy: 0.7784\n",
      "Epoch 76/250\n",
      "48000/48000 [==============================] - 2s 50us/step - loss: 0.0516 - categorical_accuracy: 0.7837 - val_loss: 0.0519 - val_categorical_accuracy: 0.7737\n",
      "Epoch 77/250\n",
      "48000/48000 [==============================] - 2s 48us/step - loss: 0.0516 - categorical_accuracy: 0.7820 - val_loss: 0.0518 - val_categorical_accuracy: 0.7812\n",
      "Epoch 78/250\n",
      "48000/48000 [==============================] - 3s 53us/step - loss: 0.0514 - categorical_accuracy: 0.7843 - val_loss: 0.0517 - val_categorical_accuracy: 0.7828\n",
      "Epoch 79/250\n",
      "48000/48000 [==============================] - 2s 48us/step - loss: 0.0513 - categorical_accuracy: 0.7851 - val_loss: 0.0515 - val_categorical_accuracy: 0.7801\n",
      "Epoch 80/250\n",
      "48000/48000 [==============================] - 3s 53us/step - loss: 0.0512 - categorical_accuracy: 0.7876 - val_loss: 0.0514 - val_categorical_accuracy: 0.7856\n",
      "Epoch 81/250\n",
      "48000/48000 [==============================] - 2s 47us/step - loss: 0.0511 - categorical_accuracy: 0.7864 - val_loss: 0.0513 - val_categorical_accuracy: 0.7875\n",
      "Epoch 82/250\n",
      "48000/48000 [==============================] - 3s 53us/step - loss: 0.0510 - categorical_accuracy: 0.7872 - val_loss: 0.0513 - val_categorical_accuracy: 0.7832\n",
      "Epoch 83/250\n",
      "48000/48000 [==============================] - 2s 51us/step - loss: 0.0510 - categorical_accuracy: 0.7876 - val_loss: 0.0514 - val_categorical_accuracy: 0.7822\n",
      "Epoch 84/250\n",
      "48000/48000 [==============================] - 3s 63us/step - loss: 0.0509 - categorical_accuracy: 0.7877 - val_loss: 0.0511 - val_categorical_accuracy: 0.7852\n",
      "Epoch 85/250\n",
      "48000/48000 [==============================] - 3s 53us/step - loss: 0.0508 - categorical_accuracy: 0.7884 - val_loss: 0.0512 - val_categorical_accuracy: 0.7832\n",
      "Epoch 86/250\n",
      "48000/48000 [==============================] - 3s 54us/step - loss: 0.0507 - categorical_accuracy: 0.7895 - val_loss: 0.0509 - val_categorical_accuracy: 0.7842\n",
      "Epoch 87/250\n",
      "48000/48000 [==============================] - 2s 50us/step - loss: 0.0505 - categorical_accuracy: 0.7886 - val_loss: 0.0508 - val_categorical_accuracy: 0.7857\n",
      "Epoch 88/250\n",
      "48000/48000 [==============================] - 3s 58us/step - loss: 0.0505 - categorical_accuracy: 0.7891 - val_loss: 0.0508 - val_categorical_accuracy: 0.7854\n",
      "Epoch 89/250\n",
      "48000/48000 [==============================] - 3s 54us/step - loss: 0.0504 - categorical_accuracy: 0.7886 - val_loss: 0.0507 - val_categorical_accuracy: 0.7865\n",
      "Epoch 90/250\n",
      "48000/48000 [==============================] - 3s 53us/step - loss: 0.0503 - categorical_accuracy: 0.7892 - val_loss: 0.0507 - val_categorical_accuracy: 0.7862\n",
      "Epoch 91/250\n",
      "48000/48000 [==============================] - 2s 49us/step - loss: 0.0502 - categorical_accuracy: 0.7893 - val_loss: 0.0505 - val_categorical_accuracy: 0.7871\n",
      "Epoch 92/250\n",
      "48000/48000 [==============================] - 3s 55us/step - loss: 0.0501 - categorical_accuracy: 0.7895 - val_loss: 0.0503 - val_categorical_accuracy: 0.7903\n",
      "Epoch 93/250\n",
      "48000/48000 [==============================] - 2s 48us/step - loss: 0.0501 - categorical_accuracy: 0.7897 - val_loss: 0.0504 - val_categorical_accuracy: 0.7835\n",
      "Epoch 94/250\n",
      "48000/48000 [==============================] - 3s 54us/step - loss: 0.0500 - categorical_accuracy: 0.7901 - val_loss: 0.0504 - val_categorical_accuracy: 0.7850\n",
      "Epoch 95/250\n"
     ]
    },
    {
     "name": "stdout",
     "output_type": "stream",
     "text": [
      "48000/48000 [==============================] - 2s 48us/step - loss: 0.0498 - categorical_accuracy: 0.7894 - val_loss: 0.0501 - val_categorical_accuracy: 0.7883\n",
      "Epoch 96/250\n",
      "48000/48000 [==============================] - 2s 49us/step - loss: 0.0498 - categorical_accuracy: 0.7909 - val_loss: 0.0500 - val_categorical_accuracy: 0.7892\n",
      "Epoch 97/250\n",
      "48000/48000 [==============================] - 2s 47us/step - loss: 0.0496 - categorical_accuracy: 0.7920 - val_loss: 0.0499 - val_categorical_accuracy: 0.7876\n",
      "Epoch 98/250\n",
      "48000/48000 [==============================] - 3s 59us/step - loss: 0.0495 - categorical_accuracy: 0.7920 - val_loss: 0.0500 - val_categorical_accuracy: 0.7855\n",
      "Epoch 99/250\n",
      "48000/48000 [==============================] - 2s 47us/step - loss: 0.0496 - categorical_accuracy: 0.7909 - val_loss: 0.0497 - val_categorical_accuracy: 0.7883\n",
      "Epoch 100/250\n",
      "48000/48000 [==============================] - 3s 53us/step - loss: 0.0494 - categorical_accuracy: 0.7928 - val_loss: 0.0497 - val_categorical_accuracy: 0.7899\n",
      "Epoch 101/250\n",
      "48000/48000 [==============================] - 2s 48us/step - loss: 0.0494 - categorical_accuracy: 0.7917 - val_loss: 0.0497 - val_categorical_accuracy: 0.7893\n",
      "Epoch 102/250\n",
      "48000/48000 [==============================] - 3s 53us/step - loss: 0.0493 - categorical_accuracy: 0.7941 - val_loss: 0.0497 - val_categorical_accuracy: 0.7937\n",
      "Epoch 103/250\n",
      "48000/48000 [==============================] - 3s 56us/step - loss: 0.0492 - categorical_accuracy: 0.7948 - val_loss: 0.0497 - val_categorical_accuracy: 0.7925\n",
      "Epoch 104/250\n",
      "48000/48000 [==============================] - 3s 64us/step - loss: 0.0492 - categorical_accuracy: 0.7947 - val_loss: 0.0496 - val_categorical_accuracy: 0.7906\n",
      "Epoch 105/250\n",
      "48000/48000 [==============================] - 3s 62us/step - loss: 0.0490 - categorical_accuracy: 0.7956 - val_loss: 0.0495 - val_categorical_accuracy: 0.7924\n",
      "Epoch 106/250\n",
      "48000/48000 [==============================] - 3s 58us/step - loss: 0.0489 - categorical_accuracy: 0.7959 - val_loss: 0.0493 - val_categorical_accuracy: 0.7925\n",
      "Epoch 107/250\n",
      "48000/48000 [==============================] - 3s 59us/step - loss: 0.0489 - categorical_accuracy: 0.7961 - val_loss: 0.0491 - val_categorical_accuracy: 0.7925\n",
      "Epoch 108/250\n",
      "48000/48000 [==============================] - 3s 58us/step - loss: 0.0488 - categorical_accuracy: 0.7956 - val_loss: 0.0490 - val_categorical_accuracy: 0.7920\n",
      "Epoch 109/250\n",
      "48000/48000 [==============================] - 3s 60us/step - loss: 0.0487 - categorical_accuracy: 0.7960 - val_loss: 0.0491 - val_categorical_accuracy: 0.7927\n",
      "Epoch 110/250\n",
      "48000/48000 [==============================] - 3s 57us/step - loss: 0.0487 - categorical_accuracy: 0.7953 - val_loss: 0.0491 - val_categorical_accuracy: 0.7906\n",
      "Epoch 111/250\n",
      "48000/48000 [==============================] - 3s 55us/step - loss: 0.0486 - categorical_accuracy: 0.7951 - val_loss: 0.0490 - val_categorical_accuracy: 0.7923\n",
      "Epoch 112/250\n",
      "48000/48000 [==============================] - 2s 51us/step - loss: 0.0485 - categorical_accuracy: 0.7954 - val_loss: 0.0489 - val_categorical_accuracy: 0.7915\n",
      "Epoch 113/250\n",
      "48000/48000 [==============================] - 2s 47us/step - loss: 0.0484 - categorical_accuracy: 0.7960 - val_loss: 0.0488 - val_categorical_accuracy: 0.7921\n",
      "Epoch 114/250\n",
      "48000/48000 [==============================] - 2s 47us/step - loss: 0.0483 - categorical_accuracy: 0.7975 - val_loss: 0.0487 - val_categorical_accuracy: 0.7918\n",
      "Epoch 115/250\n",
      "48000/48000 [==============================] - 2s 44us/step - loss: 0.0482 - categorical_accuracy: 0.7965 - val_loss: 0.0487 - val_categorical_accuracy: 0.7927\n",
      "Epoch 116/250\n",
      "48000/48000 [==============================] - 2s 52us/step - loss: 0.0483 - categorical_accuracy: 0.7958 - val_loss: 0.0488 - val_categorical_accuracy: 0.7921\n",
      "Epoch 117/250\n",
      "48000/48000 [==============================] - 2s 46us/step - loss: 0.0481 - categorical_accuracy: 0.7967 - val_loss: 0.0488 - val_categorical_accuracy: 0.7898\n",
      "Epoch 118/250\n",
      "48000/48000 [==============================] - 2s 48us/step - loss: 0.0481 - categorical_accuracy: 0.7927 - val_loss: 0.0485 - val_categorical_accuracy: 0.7890\n",
      "Epoch 119/250\n",
      "48000/48000 [==============================] - 3s 54us/step - loss: 0.0480 - categorical_accuracy: 0.7924 - val_loss: 0.0485 - val_categorical_accuracy: 0.7902\n",
      "Epoch 120/250\n",
      "48000/48000 [==============================] - 3s 63us/step - loss: 0.0479 - categorical_accuracy: 0.7935 - val_loss: 0.0483 - val_categorical_accuracy: 0.7909\n",
      "Epoch 121/250\n",
      "48000/48000 [==============================] - 3s 64us/step - loss: 0.0480 - categorical_accuracy: 0.7905 - val_loss: 0.0483 - val_categorical_accuracy: 0.7848\n",
      "Epoch 122/250\n",
      "48000/48000 [==============================] - 3s 63us/step - loss: 0.0477 - categorical_accuracy: 0.7930 - val_loss: 0.0483 - val_categorical_accuracy: 0.7846\n",
      "Epoch 123/250\n",
      "48000/48000 [==============================] - 3s 61us/step - loss: 0.0477 - categorical_accuracy: 0.7915 - val_loss: 0.0484 - val_categorical_accuracy: 0.7844\n",
      "Epoch 124/250\n",
      "48000/48000 [==============================] - 3s 52us/step - loss: 0.0476 - categorical_accuracy: 0.7927 - val_loss: 0.0482 - val_categorical_accuracy: 0.7852\n",
      "Epoch 125/250\n",
      "48000/48000 [==============================] - 3s 54us/step - loss: 0.0476 - categorical_accuracy: 0.7916 - val_loss: 0.0481 - val_categorical_accuracy: 0.7846\n",
      "Epoch 126/250\n",
      "48000/48000 [==============================] - 3s 53us/step - loss: 0.0475 - categorical_accuracy: 0.7913 - val_loss: 0.0480 - val_categorical_accuracy: 0.7836\n",
      "Epoch 127/250\n",
      "48000/48000 [==============================] - 3s 57us/step - loss: 0.0474 - categorical_accuracy: 0.7920 - val_loss: 0.0480 - val_categorical_accuracy: 0.7871\n",
      "Epoch 128/250\n",
      "48000/48000 [==============================] - 3s 55us/step - loss: 0.0473 - categorical_accuracy: 0.7925 - val_loss: 0.0480 - val_categorical_accuracy: 0.7848\n",
      "Epoch 129/250\n",
      "48000/48000 [==============================] - 3s 56us/step - loss: 0.0473 - categorical_accuracy: 0.7915 - val_loss: 0.0479 - val_categorical_accuracy: 0.7872\n",
      "Epoch 130/250\n",
      "48000/48000 [==============================] - 2s 48us/step - loss: 0.0472 - categorical_accuracy: 0.7925 - val_loss: 0.0478 - val_categorical_accuracy: 0.7857\n",
      "Epoch 131/250\n",
      "48000/48000 [==============================] - 3s 66us/step - loss: 0.0472 - categorical_accuracy: 0.7935 - val_loss: 0.0477 - val_categorical_accuracy: 0.7855\n",
      "Epoch 132/250\n",
      "48000/48000 [==============================] - 3s 59us/step - loss: 0.0471 - categorical_accuracy: 0.7936 - val_loss: 0.0477 - val_categorical_accuracy: 0.7874\n",
      "Epoch 133/250\n",
      "48000/48000 [==============================] - 3s 53us/step - loss: 0.0470 - categorical_accuracy: 0.7929 - val_loss: 0.0477 - val_categorical_accuracy: 0.7837\n",
      "Epoch 134/250\n",
      "48000/48000 [==============================] - 2s 46us/step - loss: 0.0470 - categorical_accuracy: 0.7933 - val_loss: 0.0479 - val_categorical_accuracy: 0.7816\n",
      "Epoch 135/250\n",
      "48000/48000 [==============================] - 3s 53us/step - loss: 0.0470 - categorical_accuracy: 0.7920 - val_loss: 0.0475 - val_categorical_accuracy: 0.7846\n",
      "Epoch 136/250\n",
      "48000/48000 [==============================] - 2s 51us/step - loss: 0.0468 - categorical_accuracy: 0.7928 - val_loss: 0.0475 - val_categorical_accuracy: 0.7877\n",
      "Epoch 137/250\n",
      "48000/48000 [==============================] - 2s 49us/step - loss: 0.0468 - categorical_accuracy: 0.7930 - val_loss: 0.0476 - val_categorical_accuracy: 0.7852\n",
      "Epoch 138/250\n",
      "48000/48000 [==============================] - 2s 44us/step - loss: 0.0467 - categorical_accuracy: 0.7934 - val_loss: 0.0476 - val_categorical_accuracy: 0.7828\n",
      "Epoch 139/250\n",
      "48000/48000 [==============================] - 3s 62us/step - loss: 0.0467 - categorical_accuracy: 0.7925 - val_loss: 0.0475 - val_categorical_accuracy: 0.7832\n",
      "Epoch 140/250\n",
      "48000/48000 [==============================] - 3s 68us/step - loss: 0.0465 - categorical_accuracy: 0.7930 - val_loss: 0.0473 - val_categorical_accuracy: 0.7860\n",
      "Epoch 141/250\n",
      "48000/48000 [==============================] - 3s 60us/step - loss: 0.0465 - categorical_accuracy: 0.7938 - val_loss: 0.0472 - val_categorical_accuracy: 0.7854\n",
      "Epoch 142/250\n"
     ]
    },
    {
     "name": "stdout",
     "output_type": "stream",
     "text": [
      "48000/48000 [==============================] - 2s 48us/step - loss: 0.0465 - categorical_accuracy: 0.7941 - val_loss: 0.0475 - val_categorical_accuracy: 0.7782\n",
      "Epoch 143/250\n",
      "48000/48000 [==============================] - 3s 52us/step - loss: 0.0465 - categorical_accuracy: 0.7925 - val_loss: 0.0471 - val_categorical_accuracy: 0.7842\n",
      "Epoch 144/250\n",
      "48000/48000 [==============================] - 2s 46us/step - loss: 0.0464 - categorical_accuracy: 0.7928 - val_loss: 0.0473 - val_categorical_accuracy: 0.7823\n",
      "Epoch 145/250\n",
      "48000/48000 [==============================] - 3s 53us/step - loss: 0.0464 - categorical_accuracy: 0.7938 - val_loss: 0.0471 - val_categorical_accuracy: 0.7873\n",
      "Epoch 146/250\n",
      "48000/48000 [==============================] - 2s 46us/step - loss: 0.0464 - categorical_accuracy: 0.7927 - val_loss: 0.0471 - val_categorical_accuracy: 0.7846\n",
      "Epoch 147/250\n",
      "48000/48000 [==============================] - 2s 44us/step - loss: 0.0463 - categorical_accuracy: 0.7919 - val_loss: 0.0469 - val_categorical_accuracy: 0.7868\n",
      "Epoch 148/250\n",
      "48000/48000 [==============================] - 3s 54us/step - loss: 0.0463 - categorical_accuracy: 0.7937 - val_loss: 0.0471 - val_categorical_accuracy: 0.7883\n",
      "Epoch 149/250\n",
      "48000/48000 [==============================] - 2s 49us/step - loss: 0.0461 - categorical_accuracy: 0.7952 - val_loss: 0.0469 - val_categorical_accuracy: 0.7835\n",
      "Epoch 150/250\n",
      "48000/48000 [==============================] - 3s 65us/step - loss: 0.0461 - categorical_accuracy: 0.7945 - val_loss: 0.0468 - val_categorical_accuracy: 0.7863\n",
      "Epoch 151/250\n",
      "48000/48000 [==============================] - 2s 43us/step - loss: 0.0460 - categorical_accuracy: 0.7945 - val_loss: 0.0469 - val_categorical_accuracy: 0.7872\n",
      "Epoch 152/250\n",
      "48000/48000 [==============================] - 2s 45us/step - loss: 0.0459 - categorical_accuracy: 0.7953 - val_loss: 0.0467 - val_categorical_accuracy: 0.7880\n",
      "Epoch 153/250\n",
      "48000/48000 [==============================] - 2s 47us/step - loss: 0.0459 - categorical_accuracy: 0.7943 - val_loss: 0.0468 - val_categorical_accuracy: 0.7887\n",
      "Epoch 154/250\n",
      "48000/48000 [==============================] - 2s 47us/step - loss: 0.0459 - categorical_accuracy: 0.7959 - val_loss: 0.0466 - val_categorical_accuracy: 0.7882\n",
      "Epoch 155/250\n",
      "48000/48000 [==============================] - 2s 46us/step - loss: 0.0458 - categorical_accuracy: 0.7942 - val_loss: 0.0467 - val_categorical_accuracy: 0.7858\n",
      "Epoch 156/250\n",
      "48000/48000 [==============================] - 2s 42us/step - loss: 0.0458 - categorical_accuracy: 0.7936 - val_loss: 0.0467 - val_categorical_accuracy: 0.7856\n",
      "Epoch 157/250\n",
      "48000/48000 [==============================] - 2s 48us/step - loss: 0.0458 - categorical_accuracy: 0.7950 - val_loss: 0.0465 - val_categorical_accuracy: 0.7874\n",
      "Epoch 158/250\n",
      "48000/48000 [==============================] - 2s 43us/step - loss: 0.0457 - categorical_accuracy: 0.7944 - val_loss: 0.0466 - val_categorical_accuracy: 0.7856\n",
      "Epoch 159/250\n",
      "48000/48000 [==============================] - 3s 55us/step - loss: 0.0457 - categorical_accuracy: 0.7954 - val_loss: 0.0464 - val_categorical_accuracy: 0.7857\n",
      "Epoch 160/250\n",
      "48000/48000 [==============================] - 2s 50us/step - loss: 0.0457 - categorical_accuracy: 0.7949 - val_loss: 0.0464 - val_categorical_accuracy: 0.7877\n",
      "Epoch 161/250\n",
      "48000/48000 [==============================] - 3s 61us/step - loss: 0.0456 - categorical_accuracy: 0.7955 - val_loss: 0.0464 - val_categorical_accuracy: 0.7880\n",
      "Epoch 162/250\n",
      "48000/48000 [==============================] - 3s 56us/step - loss: 0.0455 - categorical_accuracy: 0.7951 - val_loss: 0.0464 - val_categorical_accuracy: 0.7843\n",
      "Epoch 163/250\n",
      "48000/48000 [==============================] - 3s 58us/step - loss: 0.0455 - categorical_accuracy: 0.7946 - val_loss: 0.0463 - val_categorical_accuracy: 0.7877\n",
      "Epoch 164/250\n",
      "48000/48000 [==============================] - 2s 48us/step - loss: 0.0454 - categorical_accuracy: 0.7959 - val_loss: 0.0466 - val_categorical_accuracy: 0.7841\n",
      "Epoch 165/250\n",
      "48000/48000 [==============================] - 2s 51us/step - loss: 0.0455 - categorical_accuracy: 0.7948 - val_loss: 0.0462 - val_categorical_accuracy: 0.7879\n",
      "Epoch 166/250\n",
      "48000/48000 [==============================] - 3s 61us/step - loss: 0.0454 - categorical_accuracy: 0.7957 - val_loss: 0.0465 - val_categorical_accuracy: 0.7852\n",
      "Epoch 167/250\n",
      "48000/48000 [==============================] - 3s 53us/step - loss: 0.0454 - categorical_accuracy: 0.7952 - val_loss: 0.0464 - val_categorical_accuracy: 0.7870\n",
      "Epoch 168/250\n",
      "48000/48000 [==============================] - 3s 61us/step - loss: 0.0454 - categorical_accuracy: 0.7948 - val_loss: 0.0461 - val_categorical_accuracy: 0.7872\n",
      "Epoch 169/250\n",
      "48000/48000 [==============================] - 3s 53us/step - loss: 0.0453 - categorical_accuracy: 0.7947 - val_loss: 0.0464 - val_categorical_accuracy: 0.7855\n",
      "Epoch 170/250\n",
      "48000/48000 [==============================] - 2s 48us/step - loss: 0.0453 - categorical_accuracy: 0.7951 - val_loss: 0.0460 - val_categorical_accuracy: 0.7885\n",
      "Epoch 171/250\n",
      "48000/48000 [==============================] - 2s 44us/step - loss: 0.0452 - categorical_accuracy: 0.7953 - val_loss: 0.0462 - val_categorical_accuracy: 0.7884\n",
      "Epoch 172/250\n",
      "48000/48000 [==============================] - 2s 48us/step - loss: 0.0452 - categorical_accuracy: 0.7957 - val_loss: 0.0460 - val_categorical_accuracy: 0.7917\n",
      "Epoch 173/250\n",
      "48000/48000 [==============================] - 2s 44us/step - loss: 0.0453 - categorical_accuracy: 0.7949 - val_loss: 0.0460 - val_categorical_accuracy: 0.7875\n",
      "Epoch 174/250\n",
      "48000/48000 [==============================] - 2s 47us/step - loss: 0.0451 - categorical_accuracy: 0.7956 - val_loss: 0.0462 - val_categorical_accuracy: 0.7837\n",
      "Epoch 175/250\n",
      "48000/48000 [==============================] - 2s 44us/step - loss: 0.0451 - categorical_accuracy: 0.7959 - val_loss: 0.0458 - val_categorical_accuracy: 0.7902\n",
      "Epoch 176/250\n",
      "48000/48000 [==============================] - 2s 43us/step - loss: 0.0450 - categorical_accuracy: 0.7969 - val_loss: 0.0461 - val_categorical_accuracy: 0.7887\n",
      "Epoch 177/250\n",
      "48000/48000 [==============================] - 2s 44us/step - loss: 0.0450 - categorical_accuracy: 0.7964 - val_loss: 0.0457 - val_categorical_accuracy: 0.7893\n",
      "Epoch 178/250\n",
      "48000/48000 [==============================] - 2s 42us/step - loss: 0.0450 - categorical_accuracy: 0.7947 - val_loss: 0.0459 - val_categorical_accuracy: 0.7874\n",
      "Epoch 179/250\n",
      "48000/48000 [==============================] - 2s 43us/step - loss: 0.0449 - categorical_accuracy: 0.7964 - val_loss: 0.0458 - val_categorical_accuracy: 0.7880\n",
      "Epoch 180/250\n",
      "48000/48000 [==============================] - 2s 45us/step - loss: 0.0448 - categorical_accuracy: 0.7969 - val_loss: 0.0456 - val_categorical_accuracy: 0.7904\n",
      "Epoch 181/250\n",
      "48000/48000 [==============================] - 2s 42us/step - loss: 0.0448 - categorical_accuracy: 0.7973 - val_loss: 0.0455 - val_categorical_accuracy: 0.7900\n",
      "Epoch 182/250\n",
      "48000/48000 [==============================] - 3s 56us/step - loss: 0.0448 - categorical_accuracy: 0.7972 - val_loss: 0.0457 - val_categorical_accuracy: 0.7911\n",
      "Epoch 183/250\n",
      "48000/48000 [==============================] - 2s 42us/step - loss: 0.0448 - categorical_accuracy: 0.7975 - val_loss: 0.0459 - val_categorical_accuracy: 0.7877\n",
      "Epoch 184/250\n",
      "48000/48000 [==============================] - 2s 49us/step - loss: 0.0447 - categorical_accuracy: 0.7973 - val_loss: 0.0455 - val_categorical_accuracy: 0.7876\n",
      "Epoch 185/250\n",
      "48000/48000 [==============================] - 2s 43us/step - loss: 0.0448 - categorical_accuracy: 0.7963 - val_loss: 0.0458 - val_categorical_accuracy: 0.7847\n",
      "Epoch 186/250\n",
      "48000/48000 [==============================] - 2s 48us/step - loss: 0.0447 - categorical_accuracy: 0.7967 - val_loss: 0.0454 - val_categorical_accuracy: 0.7912\n",
      "Epoch 187/250\n",
      "48000/48000 [==============================] - 2s 43us/step - loss: 0.0446 - categorical_accuracy: 0.7983 - val_loss: 0.0457 - val_categorical_accuracy: 0.7886\n",
      "Epoch 188/250\n",
      "48000/48000 [==============================] - 2s 47us/step - loss: 0.0446 - categorical_accuracy: 0.7975 - val_loss: 0.0455 - val_categorical_accuracy: 0.7882\n",
      "Epoch 189/250\n"
     ]
    },
    {
     "name": "stdout",
     "output_type": "stream",
     "text": [
      "48000/48000 [==============================] - 2s 44us/step - loss: 0.0447 - categorical_accuracy: 0.7975 - val_loss: 0.0455 - val_categorical_accuracy: 0.7888\n",
      "Epoch 190/250\n",
      "48000/48000 [==============================] - 2s 49us/step - loss: 0.0446 - categorical_accuracy: 0.7975 - val_loss: 0.0456 - val_categorical_accuracy: 0.7877\n",
      "Epoch 191/250\n",
      "48000/48000 [==============================] - 2s 41us/step - loss: 0.0445 - categorical_accuracy: 0.7977 - val_loss: 0.0456 - val_categorical_accuracy: 0.7857\n",
      "Epoch 192/250\n",
      "48000/48000 [==============================] - 2s 41us/step - loss: 0.0444 - categorical_accuracy: 0.7977 - val_loss: 0.0455 - val_categorical_accuracy: 0.7884\n",
      "Epoch 193/250\n",
      "48000/48000 [==============================] - 2s 49us/step - loss: 0.0444 - categorical_accuracy: 0.7985 - val_loss: 0.0455 - val_categorical_accuracy: 0.7893\n",
      "Epoch 194/250\n",
      "48000/48000 [==============================] - 2s 41us/step - loss: 0.0444 - categorical_accuracy: 0.7982 - val_loss: 0.0454 - val_categorical_accuracy: 0.7902\n",
      "Epoch 195/250\n",
      "48000/48000 [==============================] - 2s 44us/step - loss: 0.0443 - categorical_accuracy: 0.7997 - val_loss: 0.0454 - val_categorical_accuracy: 0.7920\n",
      "Epoch 196/250\n",
      "48000/48000 [==============================] - 2s 47us/step - loss: 0.0444 - categorical_accuracy: 0.7991 - val_loss: 0.0455 - val_categorical_accuracy: 0.7905\n",
      "Epoch 197/250\n",
      "48000/48000 [==============================] - 2s 46us/step - loss: 0.0443 - categorical_accuracy: 0.7992 - val_loss: 0.0454 - val_categorical_accuracy: 0.7887\n",
      "Epoch 198/250\n",
      "48000/48000 [==============================] - 2s 50us/step - loss: 0.0443 - categorical_accuracy: 0.7981 - val_loss: 0.0452 - val_categorical_accuracy: 0.7882\n",
      "Epoch 199/250\n",
      "48000/48000 [==============================] - 2s 49us/step - loss: 0.0443 - categorical_accuracy: 0.7989 - val_loss: 0.0456 - val_categorical_accuracy: 0.7878\n",
      "Epoch 200/250\n",
      "48000/48000 [==============================] - 2s 43us/step - loss: 0.0442 - categorical_accuracy: 0.7981 - val_loss: 0.0452 - val_categorical_accuracy: 0.7898\n",
      "Epoch 201/250\n",
      "48000/48000 [==============================] - 2s 48us/step - loss: 0.0443 - categorical_accuracy: 0.7982 - val_loss: 0.0452 - val_categorical_accuracy: 0.7901\n",
      "Epoch 202/250\n",
      "48000/48000 [==============================] - 3s 52us/step - loss: 0.0441 - categorical_accuracy: 0.7986 - val_loss: 0.0457 - val_categorical_accuracy: 0.7847\n",
      "Epoch 203/250\n",
      "48000/48000 [==============================] - 2s 49us/step - loss: 0.0441 - categorical_accuracy: 0.8000 - val_loss: 0.0453 - val_categorical_accuracy: 0.7887\n",
      "Epoch 204/250\n",
      "48000/48000 [==============================] - 3s 52us/step - loss: 0.0441 - categorical_accuracy: 0.7993 - val_loss: 0.0453 - val_categorical_accuracy: 0.7876\n",
      "Epoch 205/250\n",
      "48000/48000 [==============================] - 2s 51us/step - loss: 0.0442 - categorical_accuracy: 0.7978 - val_loss: 0.0453 - val_categorical_accuracy: 0.7896\n",
      "Epoch 206/250\n",
      "48000/48000 [==============================] - 3s 53us/step - loss: 0.0441 - categorical_accuracy: 0.7983 - val_loss: 0.0451 - val_categorical_accuracy: 0.7906\n",
      "Epoch 207/250\n",
      "48000/48000 [==============================] - 2s 44us/step - loss: 0.0440 - categorical_accuracy: 0.7994 - val_loss: 0.0451 - val_categorical_accuracy: 0.7899\n",
      "Epoch 208/250\n",
      "48000/48000 [==============================] - 2s 45us/step - loss: 0.0439 - categorical_accuracy: 0.8001 - val_loss: 0.0451 - val_categorical_accuracy: 0.7914\n",
      "Epoch 209/250\n",
      "48000/48000 [==============================] - 2s 45us/step - loss: 0.0439 - categorical_accuracy: 0.8003 - val_loss: 0.0451 - val_categorical_accuracy: 0.7887\n",
      "Epoch 210/250\n",
      "48000/48000 [==============================] - 2s 47us/step - loss: 0.0439 - categorical_accuracy: 0.7997 - val_loss: 0.0451 - val_categorical_accuracy: 0.7886\n",
      "Epoch 211/250\n",
      "48000/48000 [==============================] - 2s 48us/step - loss: 0.0438 - categorical_accuracy: 0.8010 - val_loss: 0.0450 - val_categorical_accuracy: 0.7898\n",
      "Epoch 212/250\n",
      "48000/48000 [==============================] - 2s 49us/step - loss: 0.0439 - categorical_accuracy: 0.8000 - val_loss: 0.0449 - val_categorical_accuracy: 0.7890\n",
      "Epoch 213/250\n",
      "48000/48000 [==============================] - 2s 50us/step - loss: 0.0438 - categorical_accuracy: 0.8000 - val_loss: 0.0453 - val_categorical_accuracy: 0.7903\n",
      "Epoch 214/250\n",
      "48000/48000 [==============================] - 3s 55us/step - loss: 0.0438 - categorical_accuracy: 0.8000 - val_loss: 0.0449 - val_categorical_accuracy: 0.7905\n",
      "Epoch 215/250\n",
      "48000/48000 [==============================] - 2s 51us/step - loss: 0.0437 - categorical_accuracy: 0.7996 - val_loss: 0.0450 - val_categorical_accuracy: 0.7890\n",
      "Epoch 216/250\n",
      "48000/48000 [==============================] - 2s 50us/step - loss: 0.0437 - categorical_accuracy: 0.8005 - val_loss: 0.0450 - val_categorical_accuracy: 0.7880\n",
      "Epoch 217/250\n",
      "48000/48000 [==============================] - 3s 54us/step - loss: 0.0438 - categorical_accuracy: 0.7998 - val_loss: 0.0449 - val_categorical_accuracy: 0.7896\n",
      "Epoch 218/250\n",
      "48000/48000 [==============================] - 3s 62us/step - loss: 0.0437 - categorical_accuracy: 0.8002 - val_loss: 0.0450 - val_categorical_accuracy: 0.7881\n",
      "Epoch 219/250\n",
      "48000/48000 [==============================] - 3s 54us/step - loss: 0.0437 - categorical_accuracy: 0.8000 - val_loss: 0.0451 - val_categorical_accuracy: 0.7889\n",
      "Epoch 220/250\n",
      "48000/48000 [==============================] - 3s 71us/step - loss: 0.0436 - categorical_accuracy: 0.8009 - val_loss: 0.0449 - val_categorical_accuracy: 0.7875\n",
      "Epoch 221/250\n",
      "48000/48000 [==============================] - 3s 69us/step - loss: 0.0436 - categorical_accuracy: 0.8005 - val_loss: 0.0447 - val_categorical_accuracy: 0.7878\n",
      "Epoch 222/250\n",
      "48000/48000 [==============================] - 2s 50us/step - loss: 0.0436 - categorical_accuracy: 0.8003 - val_loss: 0.0447 - val_categorical_accuracy: 0.7895\n",
      "Epoch 223/250\n",
      "48000/48000 [==============================] - 2s 51us/step - loss: 0.0436 - categorical_accuracy: 0.8004 - val_loss: 0.0446 - val_categorical_accuracy: 0.7901\n",
      "Epoch 224/250\n",
      "48000/48000 [==============================] - 3s 53us/step - loss: 0.0435 - categorical_accuracy: 0.8012 - val_loss: 0.0447 - val_categorical_accuracy: 0.7912\n",
      "Epoch 225/250\n",
      "48000/48000 [==============================] - 2s 51us/step - loss: 0.0435 - categorical_accuracy: 0.8007 - val_loss: 0.0446 - val_categorical_accuracy: 0.7932\n",
      "Epoch 226/250\n",
      "48000/48000 [==============================] - 2s 47us/step - loss: 0.0435 - categorical_accuracy: 0.8025 - val_loss: 0.0445 - val_categorical_accuracy: 0.7930\n",
      "Epoch 227/250\n",
      "48000/48000 [==============================] - 3s 57us/step - loss: 0.0435 - categorical_accuracy: 0.8005 - val_loss: 0.0448 - val_categorical_accuracy: 0.7903\n",
      "Epoch 228/250\n",
      "48000/48000 [==============================] - 2s 46us/step - loss: 0.0435 - categorical_accuracy: 0.8008 - val_loss: 0.0446 - val_categorical_accuracy: 0.7927\n",
      "Epoch 229/250\n",
      "48000/48000 [==============================] - 2s 46us/step - loss: 0.0434 - categorical_accuracy: 0.8012 - val_loss: 0.0447 - val_categorical_accuracy: 0.7888\n",
      "Epoch 230/250\n",
      "48000/48000 [==============================] - 2s 48us/step - loss: 0.0435 - categorical_accuracy: 0.7999 - val_loss: 0.0444 - val_categorical_accuracy: 0.7912\n",
      "Epoch 231/250\n",
      "48000/48000 [==============================] - 3s 57us/step - loss: 0.0433 - categorical_accuracy: 0.8008 - val_loss: 0.0447 - val_categorical_accuracy: 0.7904\n",
      "Epoch 232/250\n",
      "48000/48000 [==============================] - 3s 61us/step - loss: 0.0433 - categorical_accuracy: 0.8013 - val_loss: 0.0448 - val_categorical_accuracy: 0.7894\n",
      "Epoch 233/250\n",
      "48000/48000 [==============================] - 3s 55us/step - loss: 0.0433 - categorical_accuracy: 0.8009 - val_loss: 0.0447 - val_categorical_accuracy: 0.7879\n",
      "Epoch 234/250\n",
      "48000/48000 [==============================] - 2s 51us/step - loss: 0.0432 - categorical_accuracy: 0.8015 - val_loss: 0.0448 - val_categorical_accuracy: 0.7863\n",
      "Epoch 235/250\n",
      "48000/48000 [==============================] - 3s 56us/step - loss: 0.0432 - categorical_accuracy: 0.8010 - val_loss: 0.0444 - val_categorical_accuracy: 0.7919\n",
      "Epoch 236/250\n"
     ]
    },
    {
     "name": "stdout",
     "output_type": "stream",
     "text": [
      "48000/48000 [==============================] - 3s 56us/step - loss: 0.0432 - categorical_accuracy: 0.8013 - val_loss: 0.0445 - val_categorical_accuracy: 0.7881\n",
      "Epoch 237/250\n",
      "48000/48000 [==============================] - 2s 47us/step - loss: 0.0434 - categorical_accuracy: 0.7990 - val_loss: 0.0443 - val_categorical_accuracy: 0.7925\n",
      "Epoch 238/250\n",
      "48000/48000 [==============================] - 2s 49us/step - loss: 0.0432 - categorical_accuracy: 0.8011 - val_loss: 0.0446 - val_categorical_accuracy: 0.7912\n",
      "Epoch 239/250\n",
      "48000/48000 [==============================] - 3s 56us/step - loss: 0.0432 - categorical_accuracy: 0.8010 - val_loss: 0.0446 - val_categorical_accuracy: 0.7874\n",
      "Epoch 240/250\n",
      "48000/48000 [==============================] - 3s 56us/step - loss: 0.0432 - categorical_accuracy: 0.8020 - val_loss: 0.0444 - val_categorical_accuracy: 0.7907\n",
      "Epoch 241/250\n",
      "48000/48000 [==============================] - 3s 63us/step - loss: 0.0431 - categorical_accuracy: 0.8005 - val_loss: 0.0442 - val_categorical_accuracy: 0.7920\n",
      "Epoch 242/250\n",
      "48000/48000 [==============================] - 2s 46us/step - loss: 0.0432 - categorical_accuracy: 0.8014 - val_loss: 0.0443 - val_categorical_accuracy: 0.7928\n",
      "Epoch 243/250\n",
      "48000/48000 [==============================] - 3s 56us/step - loss: 0.0431 - categorical_accuracy: 0.8015 - val_loss: 0.0444 - val_categorical_accuracy: 0.7889\n",
      "Epoch 244/250\n",
      "48000/48000 [==============================] - 3s 65us/step - loss: 0.0430 - categorical_accuracy: 0.8018 - val_loss: 0.0443 - val_categorical_accuracy: 0.7923\n",
      "Epoch 245/250\n",
      "48000/48000 [==============================] - 3s 55us/step - loss: 0.0429 - categorical_accuracy: 0.8023 - val_loss: 0.0444 - val_categorical_accuracy: 0.7910\n",
      "Epoch 246/250\n",
      "48000/48000 [==============================] - 2s 43us/step - loss: 0.0430 - categorical_accuracy: 0.8019 - val_loss: 0.0444 - val_categorical_accuracy: 0.7909\n",
      "Epoch 247/250\n",
      "48000/48000 [==============================] - 2s 50us/step - loss: 0.0429 - categorical_accuracy: 0.8022 - val_loss: 0.0444 - val_categorical_accuracy: 0.7893\n",
      "Epoch 248/250\n",
      "48000/48000 [==============================] - 2s 49us/step - loss: 0.0429 - categorical_accuracy: 0.8016 - val_loss: 0.0443 - val_categorical_accuracy: 0.7909\n",
      "Epoch 249/250\n",
      "48000/48000 [==============================] - 2s 52us/step - loss: 0.0429 - categorical_accuracy: 0.8014 - val_loss: 0.0444 - val_categorical_accuracy: 0.7888\n",
      "Epoch 250/250\n",
      "48000/48000 [==============================] - 3s 54us/step - loss: 0.0428 - categorical_accuracy: 0.8023 - val_loss: 0.0444 - val_categorical_accuracy: 0.7908\n"
     ]
    },
    {
     "data": {
      "text/plain": [
       "<keras.callbacks.History at 0x7f252aadfe50>"
      ]
     },
     "execution_count": 59,
     "metadata": {},
     "output_type": "execute_result"
    }
   ],
   "source": [
    "model.fit(data['x_train'], data['y_train_gt'],\n",
    "          batch_size=hyperparameters['batch_size'],\n",
    "          epochs=hyperparameters['nb_epochs'],\n",
    "          verbose=1,\n",
    "          callbacks=callbacks,\n",
    "          validation_data=(data['x_validation'], data['y_validation_gt']))"
   ]
  },
  {
   "cell_type": "markdown",
   "metadata": {},
   "source": [
    "Plotting model"
   ]
  },
  {
   "cell_type": "code",
   "execution_count": 10,
   "metadata": {},
   "outputs": [
    {
     "data": {
      "image/png": "[encoded data removed]",
      "text/plain": [
       "<IPython.core.display.Image object>"
      ]
     },
     "metadata": {},
     "output_type": "display_data"
    }
   ],
   "source": [
    "plot_model(model, os.path.join(paths['model'], 'model.png'),\n",
    "          show_shapes=True)\n",
    "display(Image(filename=os.path.join(paths['model'], 'model.png')))"
   ]
  },
  {
   "cell_type": "markdown",
   "metadata": {},
   "source": [
    "## Model evaluation"
   ]
  },
  {
   "cell_type": "markdown",
   "metadata": {},
   "source": [
    "Loading model"
   ]
  },
  {
   "cell_type": "code",
   "execution_count": 11,
   "metadata": {
    "scrolled": true
   },
   "outputs": [],
   "source": [
    "json_file = open(os.path.join(paths['model'],'model.json'), 'r')\n",
    "loaded_model_json = json_file.read()\n",
    "model = model_from_json(loaded_model_json)\n",
    "json_file.close()\n",
    "model.load_weights(os.path.join(paths['model'], 'weights.hdf5'))"
   ]
  },
  {
   "cell_type": "markdown",
   "metadata": {},
   "source": [
    "Evaluating model on test set"
   ]
  },
  {
   "cell_type": "code",
   "execution_count": 12,
   "metadata": {},
   "outputs": [],
   "source": [
    "prediction = np.argmax(model.predict(data['x_test'], batch_size=hyperparameters['batch_size']), axis=-1)"
   ]
  },
  {
   "cell_type": "markdown",
   "metadata": {},
   "source": [
    "Computing and displaying confusion matrix"
   ]
  },
  {
   "cell_type": "code",
   "execution_count": 13,
   "metadata": {},
   "outputs": [
    {
     "data": {
      "application/vnd.plotly.v1+json": {
       "config": {
        "linkText": "Export to plot.ly",
        "plotlyServerURL": "https://plot.ly",
        "showLink": false
       },
       "data": [
        {
         "type": "heatmap",
         "uid": "5f9e76de-2078-4cdb-af81-2cd16c4cd228",
         "z": [
          [
           926,
           0,
           10,
           1,
           0,
           0,
           22,
           6,
           15,
           0
          ],
          [
           2,
           1081,
           5,
           11,
           0,
           0,
           9,
           7,
           19,
           1
          ],
          [
           21,
           9,
           843,
           76,
           10,
           0,
           44,
           10,
           9,
           10
          ],
          [
           7,
           3,
           115,
           723,
           1,
           0,
           4,
           36,
           117,
           4
          ],
          [
           3,
           13,
           5,
           1,
           879,
           0,
           25,
           0,
           1,
           55
          ],
          [
           100,
           8,
           14,
           28,
           9,
           0,
           21,
           12,
           687,
           13
          ],
          [
           43,
           18,
           9,
           0,
           13,
           0,
           845,
           0,
           21,
           9
          ],
          [
           1,
           11,
           9,
           18,
           14,
           0,
           11,
           936,
           0,
           28
          ],
          [
           20,
           73,
           1,
           32,
           10,
           0,
           15,
           26,
           793,
           4
          ],
          [
           4,
           13,
           1,
           1,
           25,
           0,
           7,
           58,
           35,
           865
          ]
         ]
        }
       ],
       "layout": {
        "title": {
         "text": "Confusion matrix"
        },
        "xaxis": {
         "nticks": 10,
         "ticks": ""
        },
        "yaxis": {
         "nticks": 10,
         "ticks": ""
        }
       }
      },
      "text/html": [
       "<div id=\"6d1acfe1-561b-4b8d-81e5-0e3426aeab96\" style=\"height: 525px; width: 100%;\" class=\"plotly-graph-div\"></div><script type=\"text/javascript\">require([\"plotly\"], function(Plotly) { window.PLOTLYENV=window.PLOTLYENV || {};window.PLOTLYENV.BASE_URL=\"https://plot.ly\";Plotly.newPlot(\"6d1acfe1-561b-4b8d-81e5-0e3426aeab96\", [{\"z\": [[926, 0, 10, 1, 0, 0, 22, 6, 15, 0], [2, 1081, 5, 11, 0, 0, 9, 7, 19, 1], [21, 9, 843, 76, 10, 0, 44, 10, 9, 10], [7, 3, 115, 723, 1, 0, 4, 36, 117, 4], [3, 13, 5, 1, 879, 0, 25, 0, 1, 55], [100, 8, 14, 28, 9, 0, 21, 12, 687, 13], [43, 18, 9, 0, 13, 0, 845, 0, 21, 9], [1, 11, 9, 18, 14, 0, 11, 936, 0, 28], [20, 73, 1, 32, 10, 0, 15, 26, 793, 4], [4, 13, 1, 1, 25, 0, 7, 58, 35, 865]], \"type\": \"heatmap\", \"uid\": \"5f9e76de-2078-4cdb-af81-2cd16c4cd228\"}], {\"title\": {\"text\": \"Confusion matrix\"}, \"xaxis\": {\"nticks\": 10, \"ticks\": \"\"}, \"yaxis\": {\"nticks\": 10, \"ticks\": \"\"}}, {\"plotlyServerURL\": \"https://plot.ly\", \"linkText\": \"Export to plot.ly\", \"showLink\": false})});</script><script type=\"text/javascript\">window.addEventListener(\"resize\", function(){window._Plotly.Plots.resize(document.getElementById(\"6d1acfe1-561b-4b8d-81e5-0e3426aeab96\"));});</script>"
      ],
      "text/vnd.plotly.v1+html": [
       "<div id=\"6d1acfe1-561b-4b8d-81e5-0e3426aeab96\" style=\"height: 525px; width: 100%;\" class=\"plotly-graph-div\"></div><script type=\"text/javascript\">require([\"plotly\"], function(Plotly) { window.PLOTLYENV=window.PLOTLYENV || {};window.PLOTLYENV.BASE_URL=\"https://plot.ly\";Plotly.newPlot(\"6d1acfe1-561b-4b8d-81e5-0e3426aeab96\", [{\"z\": [[926, 0, 10, 1, 0, 0, 22, 6, 15, 0], [2, 1081, 5, 11, 0, 0, 9, 7, 19, 1], [21, 9, 843, 76, 10, 0, 44, 10, 9, 10], [7, 3, 115, 723, 1, 0, 4, 36, 117, 4], [3, 13, 5, 1, 879, 0, 25, 0, 1, 55], [100, 8, 14, 28, 9, 0, 21, 12, 687, 13], [43, 18, 9, 0, 13, 0, 845, 0, 21, 9], [1, 11, 9, 18, 14, 0, 11, 936, 0, 28], [20, 73, 1, 32, 10, 0, 15, 26, 793, 4], [4, 13, 1, 1, 25, 0, 7, 58, 35, 865]], \"type\": \"heatmap\", \"uid\": \"5f9e76de-2078-4cdb-af81-2cd16c4cd228\"}], {\"title\": {\"text\": \"Confusion matrix\"}, \"xaxis\": {\"nticks\": 10, \"ticks\": \"\"}, \"yaxis\": {\"nticks\": 10, \"ticks\": \"\"}}, {\"plotlyServerURL\": \"https://plot.ly\", \"linkText\": \"Export to plot.ly\", \"showLink\": false})});</script><script type=\"text/javascript\">window.addEventListener(\"resize\", function(){window._Plotly.Plots.resize(document.getElementById(\"6d1acfe1-561b-4b8d-81e5-0e3426aeab96\"));});</script>"
      ]
     },
     "metadata": {},
     "output_type": "display_data"
    }
   ],
   "source": [
    "confusion = confusion_matrix(data['y_test'].tolist(), prediction.tolist())\n",
    "trace = go.Heatmap(z=confusion)\n",
    "data=[trace]\n",
    "layout = go.Layout(\n",
    "    title='Confusion matrix',\n",
    "    xaxis = dict(ticks='', nticks=10),\n",
    "    yaxis = dict(ticks='', nticks=10)\n",
    ")\n",
    "fig = go.Figure(data=data, layout=layout)\n",
    "py.iplot(fig, filename='confusion')\n",
    "pio.write_image(fig, os.path.join(paths['model/stats'], 'confusion_matrix.png'))"
   ]
  }
 ],
 "metadata": {
  "kernelspec": {
   "display_name": "Python 2",
   "language": "python",
   "name": "python2"
  },
  "language_info": {
   "codemirror_mode": {
    "name": "ipython",
    "version": 2
   },
   "file_extension": ".py",
   "mimetype": "text/x-python",
   "name": "python",
   "nbconvert_exporter": "python",
   "pygments_lexer": "ipython2",
   "version": "2.7.15rc1"
  }
 },
 "nbformat": 4,
 "nbformat_minor": 2
}
