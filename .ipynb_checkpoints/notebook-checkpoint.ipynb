{
 "cells": [
  {
   "cell_type": "markdown",
   "metadata": {},
   "source": [
    "# Vanilla MNIST neural network"
   ]
  },
  {
   "cell_type": "markdown",
   "metadata": {},
   "source": [
    "## Environment setting"
   ]
  },
  {
   "cell_type": "markdown",
   "metadata": {},
   "source": [
    "Importing libraries"
   ]
  },
  {
   "cell_type": "code",
   "execution_count": 22,
   "metadata": {},
   "outputs": [],
   "source": [
    "import os\n",
    "import numpy as np\n",
    "from keras.datasets import mnist\n",
    "from keras.callbacks import TensorBoard, ModelCheckpoint\n",
    "from preprocess import *\n",
    "from utils import *\n",
    "from model import *\n",
    "from keras.models import model_from_json\n",
    "from sklearn.metrics import confusion_matrix\n",
    "from keras.utils import plot_model"
   ]
  },
  {
   "cell_type": "markdown",
   "metadata": {},
   "source": [
    "Defining global variables"
   ]
  },
  {
   "cell_type": "code",
   "execution_count": 6,
   "metadata": {},
   "outputs": [],
   "source": [
    "data_status = ['train', 'validation', 'test']\n",
    "categories = np.arange(10).tolist()"
   ]
  },
  {
   "cell_type": "markdown",
   "metadata": {},
   "source": [
    "Defining output directory structure"
   ]
  },
  {
   "cell_type": "code",
   "execution_count": 7,
   "metadata": {},
   "outputs": [],
   "source": [
    "path_structure = \\\n",
    "    {\n",
    "        'preprocess': [],\n",
    "        'model': [['training_stats']],\n",
    "        'visualisation': [data_status, categories]\n",
    "    }\n",
    "paths = create_paths_from_dictionnary(path_structure)"
   ]
  },
  {
   "cell_type": "markdown",
   "metadata": {},
   "source": [
    "## Preprocess and data visualisation"
   ]
  },
  {
   "cell_type": "markdown",
   "metadata": {},
   "source": [
    "Loading splitting and preprocessing data"
   ]
  },
  {
   "cell_type": "code",
   "execution_count": 8,
   "metadata": {},
   "outputs": [],
   "source": [
    "data = dict()\n",
    "(data['x_train'], data['y_train']), (data['x_test'], data['y_test']) = mnist.load_data()\n",
    "(data['x_train'], data['y_train']), (data['x_validation'], data['y_validation']) = data_split(data['x_train'],\n",
    "                                                                                              data['y_train'])\n",
    "data_to_categories(data, list(data))\n",
    "save_data(paths['preprocess'], data)"
   ]
  },
  {
   "cell_type": "markdown",
   "metadata": {},
   "source": [
    "Vizualizing the first 100 images of training, validation and test set"
   ]
  },
  {
   "cell_type": "code",
   "execution_count": 9,
   "metadata": {
    "scrolled": true
   },
   "outputs": [
    {
     "name": "stdout",
     "output_type": "stream",
     "text": [
      "train sample number 0 (ground truth value = 5) :\n"
     ]
    },
    {
     "data": {
      "image/png": "[encoded data removed]",
      "text/plain": [
       "<IPython.core.display.Image object>"
      ]
     },
     "metadata": {},
     "output_type": "display_data"
    },
    {
     "name": "stdout",
     "output_type": "stream",
     "text": [
      "train sample number 1 (ground truth value = 0) :\n"
     ]
    },
    {
     "data": {
      "image/png": "[encoded data removed]",
      "text/plain": [
       "<IPython.core.display.Image object>"
      ]
     },
     "metadata": {},
     "output_type": "display_data"
    },
    {
     "name": "stdout",
     "output_type": "stream",
     "text": [
      "train sample number 2 (ground truth value = 4) :\n"
     ]
    },
    {
     "data": {
      "image/png": "[encoded data removed]",
      "text/plain": [
       "<IPython.core.display.Image object>"
      ]
     },
     "metadata": {},
     "output_type": "display_data"
    },
    {
     "name": "stdout",
     "output_type": "stream",
     "text": [
      "train sample number 3 (ground truth value = 1) :\n"
     ]
    },
    {
     "data": {
      "image/png": "[encoded data removed]",
      "text/plain": [
       "<IPython.core.display.Image object>"
      ]
     },
     "metadata": {},
     "output_type": "display_data"
    },
    {
     "name": "stdout",
     "output_type": "stream",
     "text": [
      "train sample number 4 (ground truth value = 9) :\n"
     ]
    },
    {
     "data": {
      "image/png": "[encoded data removed]",
      "text/plain": [
       "<IPython.core.display.Image object>"
      ]
     },
     "metadata": {},
     "output_type": "display_data"
    },
    {
     "name": "stdout",
     "output_type": "stream",
     "text": [
      "train sample number 5 (ground truth value = 2) :\n"
     ]
    },
    {
     "data": {
      "image/png": "[encoded data removed]",
      "text/plain": [
       "<IPython.core.display.Image object>"
      ]
     },
     "metadata": {},
     "output_type": "display_data"
    },
    {
     "name": "stdout",
     "output_type": "stream",
     "text": [
      "train sample number 6 (ground truth value = 1) :\n"
     ]
    },
    {
     "data": {
      "image/png": "[encoded data removed]",
      "text/plain": [
       "<IPython.core.display.Image object>"
      ]
     },
     "metadata": {},
     "output_type": "display_data"
    },
    {
     "name": "stdout",
     "output_type": "stream",
     "text": [
      "train sample number 7 (ground truth value = 3) :\n"
     ]
    },
    {
     "data": {
      "image/png": "[encoded data removed]",
      "text/plain": [
       "<IPython.core.display.Image object>"
      ]
     },
     "metadata": {},
     "output_type": "display_data"
    },
    {
     "name": "stdout",
     "output_type": "stream",
     "text": [
      "train sample number 8 (ground truth value = 1) :\n"
     ]
    },
    {
     "data": {
      "image/png": "[encoded data removed]",
      "text/plain": [
       "<IPython.core.display.Image object>"
      ]
     },
     "metadata": {},
     "output_type": "display_data"
    },
    {
     "name": "stdout",
     "output_type": "stream",
     "text": [
      "train sample number 9 (ground truth value = 4) :\n"
     ]
    },
    {
     "data": {
      "image/png": "[encoded data removed]",
      "text/plain": [
       "<IPython.core.display.Image object>"
      ]
     },
     "metadata": {},
     "output_type": "display_data"
    },
    {
     "name": "stdout",
     "output_type": "stream",
     "text": [
      "train sample number 10 (ground truth value = 3) :\n"
     ]
    },
    {
     "data": {
      "image/png": "[encoded data removed]",
      "text/plain": [
       "<IPython.core.display.Image object>"
      ]
     },
     "metadata": {},
     "output_type": "display_data"
    },
    {
     "name": "stdout",
     "output_type": "stream",
     "text": [
      "train sample number 11 (ground truth value = 5) :\n"
     ]
    },
    {
     "data": {
      "image/png": "[encoded data removed]",
      "text/plain": [
       "<IPython.core.display.Image object>"
      ]
     },
     "metadata": {},
     "output_type": "display_data"
    },
    {
     "name": "stdout",
     "output_type": "stream",
     "text": [
      "train sample number 12 (ground truth value = 3) :\n"
     ]
    },
    {
     "data": {
      "image/png": "[encoded data removed]",
      "text/plain": [
       "<IPython.core.display.Image object>"
      ]
     },
     "metadata": {},
     "output_type": "display_data"
    },
    {
     "name": "stdout",
     "output_type": "stream",
     "text": [
      "train sample number 13 (ground truth value = 6) :\n"
     ]
    },
    {
     "data": {
      "image/png": "[encoded data removed]",
      "text/plain": [
       "<IPython.core.display.Image object>"
      ]
     },
     "metadata": {},
     "output_type": "display_data"
    },
    {
     "name": "stdout",
     "output_type": "stream",
     "text": [
      "train sample number 14 (ground truth value = 1) :\n"
     ]
    },
    {
     "data": {
      "image/png": "[encoded data removed]",
      "text/plain": [
       "<IPython.core.display.Image object>"
      ]
     },
     "metadata": {},
     "output_type": "display_data"
    },
    {
     "name": "stdout",
     "output_type": "stream",
     "text": [
      "train sample number 15 (ground truth value = 7) :\n"
     ]
    },
    {
     "data": {
      "image/png": "[encoded data removed]",
      "text/plain": [
       "<IPython.core.display.Image object>"
      ]
     },
     "metadata": {},
     "output_type": "display_data"
    },
    {
     "name": "stdout",
     "output_type": "stream",
     "text": [
      "train sample number 16 (ground truth value = 2) :\n"
     ]
    },
    {
     "data": {
      "image/png": "[encoded data removed]",
      "text/plain": [
       "<IPython.core.display.Image object>"
      ]
     },
     "metadata": {},
     "output_type": "display_data"
    },
    {
     "name": "stdout",
     "output_type": "stream",
     "text": [
      "train sample number 17 (ground truth value = 8) :\n"
     ]
    },
    {
     "data": {
      "image/png": "[encoded data removed]",
      "text/plain": [
       "<IPython.core.display.Image object>"
      ]
     },
     "metadata": {},
     "output_type": "display_data"
    },
    {
     "name": "stdout",
     "output_type": "stream",
     "text": [
      "train sample number 18 (ground truth value = 6) :\n"
     ]
    },
    {
     "data": {
      "image/png": "[encoded data removed]",
      "text/plain": [
       "<IPython.core.display.Image object>"
      ]
     },
     "metadata": {},
     "output_type": "display_data"
    },
    {
     "name": "stdout",
     "output_type": "stream",
     "text": [
      "train sample number 19 (ground truth value = 9) :\n"
     ]
    },
    {
     "data": {
      "image/png": "[encoded data removed]",
      "text/plain": [
       "<IPython.core.display.Image object>"
      ]
     },
     "metadata": {},
     "output_type": "display_data"
    },
    {
     "name": "stdout",
     "output_type": "stream",
     "text": [
      "train sample number 20 (ground truth value = 4) :\n"
     ]
    },
    {
     "data": {
      "image/png": "[encoded data removed]",
      "text/plain": [
       "<IPython.core.display.Image object>"
      ]
     },
     "metadata": {},
     "output_type": "display_data"
    },
    {
     "name": "stdout",
     "output_type": "stream",
     "text": [
      "train sample number 21 (ground truth value = 0) :\n"
     ]
    },
    {
     "data": {
      "image/png": "[encoded data removed]",
      "text/plain": [
       "<IPython.core.display.Image object>"
      ]
     },
     "metadata": {},
     "output_type": "display_data"
    },
    {
     "name": "stdout",
     "output_type": "stream",
     "text": [
      "train sample number 22 (ground truth value = 9) :\n"
     ]
    },
    {
     "data": {
      "image/png": "[encoded data removed]",
      "text/plain": [
       "<IPython.core.display.Image object>"
      ]
     },
     "metadata": {},
     "output_type": "display_data"
    },
    {
     "name": "stdout",
     "output_type": "stream",
     "text": [
      "train sample number 23 (ground truth value = 1) :\n"
     ]
    },
    {
     "data": {
      "image/png": "[encoded data removed]",
      "text/plain": [
       "<IPython.core.display.Image object>"
      ]
     },
     "metadata": {},
     "output_type": "display_data"
    },
    {
     "name": "stdout",
     "output_type": "stream",
     "text": [
      "train sample number 24 (ground truth value = 1) :\n"
     ]
    },
    {
     "data": {
      "image/png": "[encoded data removed]",
      "text/plain": [
       "<IPython.core.display.Image object>"
      ]
     },
     "metadata": {},
     "output_type": "display_data"
    },
    {
     "name": "stdout",
     "output_type": "stream",
     "text": [
      "train sample number 25 (ground truth value = 2) :\n"
     ]
    },
    {
     "data": {
      "image/png": "[encoded data removed]",
      "text/plain": [
       "<IPython.core.display.Image object>"
      ]
     },
     "metadata": {},
     "output_type": "display_data"
    },
    {
     "name": "stdout",
     "output_type": "stream",
     "text": [
      "train sample number 26 (ground truth value = 4) :\n"
     ]
    },
    {
     "data": {
      "image/png": "[encoded data removed]",
      "text/plain": [
       "<IPython.core.display.Image object>"
      ]
     },
     "metadata": {},
     "output_type": "display_data"
    },
    {
     "name": "stdout",
     "output_type": "stream",
     "text": [
      "train sample number 27 (ground truth value = 3) :\n"
     ]
    },
    {
     "data": {
      "image/png": "[encoded data removed]",
      "text/plain": [
       "<IPython.core.display.Image object>"
      ]
     },
     "metadata": {},
     "output_type": "display_data"
    },
    {
     "name": "stdout",
     "output_type": "stream",
     "text": [
      "train sample number 28 (ground truth value = 2) :\n"
     ]
    },
    {
     "data": {
      "image/png": "[encoded data removed]",
      "text/plain": [
       "<IPython.core.display.Image object>"
      ]
     },
     "metadata": {},
     "output_type": "display_data"
    },
    {
     "name": "stdout",
     "output_type": "stream",
     "text": [
      "train sample number 29 (ground truth value = 7) :\n"
     ]
    },
    {
     "data": {
      "image/png": "[encoded data removed]",
      "text/plain": [
       "<IPython.core.display.Image object>"
      ]
     },
     "metadata": {},
     "output_type": "display_data"
    },
    {
     "name": "stdout",
     "output_type": "stream",
     "text": [
      "train sample number 30 (ground truth value = 3) :\n"
     ]
    },
    {
     "data": {
      "image/png": "[encoded data removed]",
      "text/plain": [
       "<IPython.core.display.Image object>"
      ]
     },
     "metadata": {},
     "output_type": "display_data"
    },
    {
     "name": "stdout",
     "output_type": "stream",
     "text": [
      "train sample number 31 (ground truth value = 8) :\n"
     ]
    },
    {
     "data": {
      "image/png": "[encoded data removed]",
      "text/plain": [
       "<IPython.core.display.Image object>"
      ]
     },
     "metadata": {},
     "output_type": "display_data"
    },
    {
     "name": "stdout",
     "output_type": "stream",
     "text": [
      "train sample number 32 (ground truth value = 6) :\n"
     ]
    },
    {
     "data": {
      "image/png": "[encoded data removed]",
      "text/plain": [
       "<IPython.core.display.Image object>"
      ]
     },
     "metadata": {},
     "output_type": "display_data"
    },
    {
     "name": "stdout",
     "output_type": "stream",
     "text": [
      "train sample number 33 (ground truth value = 9) :\n"
     ]
    },
    {
     "data": {
      "image/png": "[encoded data removed]",
      "text/plain": [
       "<IPython.core.display.Image object>"
      ]
     },
     "metadata": {},
     "output_type": "display_data"
    },
    {
     "name": "stdout",
     "output_type": "stream",
     "text": [
      "train sample number 34 (ground truth value = 0) :\n"
     ]
    },
    {
     "data": {
      "image/png": "[encoded data removed]",
      "text/plain": [
       "<IPython.core.display.Image object>"
      ]
     },
     "metadata": {},
     "output_type": "display_data"
    },
    {
     "name": "stdout",
     "output_type": "stream",
     "text": [
      "train sample number 35 (ground truth value = 5) :\n"
     ]
    },
    {
     "data": {
      "image/png": "[encoded data removed]",
      "text/plain": [
       "<IPython.core.display.Image object>"
      ]
     },
     "metadata": {},
     "output_type": "display_data"
    },
    {
     "name": "stdout",
     "output_type": "stream",
     "text": [
      "train sample number 36 (ground truth value = 6) :\n"
     ]
    },
    {
     "data": {
      "image/png": "[encoded data removed]",
      "text/plain": [
       "<IPython.core.display.Image object>"
      ]
     },
     "metadata": {},
     "output_type": "display_data"
    },
    {
     "name": "stdout",
     "output_type": "stream",
     "text": [
      "train sample number 37 (ground truth value = 0) :\n"
     ]
    },
    {
     "data": {
      "image/png": "[encoded data removed]",
      "text/plain": [
       "<IPython.core.display.Image object>"
      ]
     },
     "metadata": {},
     "output_type": "display_data"
    },
    {
     "name": "stdout",
     "output_type": "stream",
     "text": [
      "train sample number 38 (ground truth value = 7) :\n"
     ]
    },
    {
     "data": {
      "image/png": "[encoded data removed]",
      "text/plain": [
       "<IPython.core.display.Image object>"
      ]
     },
     "metadata": {},
     "output_type": "display_data"
    },
    {
     "name": "stdout",
     "output_type": "stream",
     "text": [
      "train sample number 39 (ground truth value = 6) :\n"
     ]
    },
    {
     "data": {
      "image/png": "[encoded data removed]",
      "text/plain": [
       "<IPython.core.display.Image object>"
      ]
     },
     "metadata": {},
     "output_type": "display_data"
    },
    {
     "name": "stdout",
     "output_type": "stream",
     "text": [
      "train sample number 40 (ground truth value = 1) :\n"
     ]
    },
    {
     "data": {
      "image/png": "[encoded data removed]",
      "text/plain": [
       "<IPython.core.display.Image object>"
      ]
     },
     "metadata": {},
     "output_type": "display_data"
    },
    {
     "name": "stdout",
     "output_type": "stream",
     "text": [
      "train sample number 41 (ground truth value = 8) :\n"
     ]
    },
    {
     "data": {
      "image/png": "[encoded data removed]",
      "text/plain": [
       "<IPython.core.display.Image object>"
      ]
     },
     "metadata": {},
     "output_type": "display_data"
    },
    {
     "name": "stdout",
     "output_type": "stream",
     "text": [
      "train sample number 42 (ground truth value = 7) :\n"
     ]
    },
    {
     "data": {
      "image/png": "[encoded data removed]",
      "text/plain": [
       "<IPython.core.display.Image object>"
      ]
     },
     "metadata": {},
     "output_type": "display_data"
    },
    {
     "name": "stdout",
     "output_type": "stream",
     "text": [
      "train sample number 43 (ground truth value = 9) :\n"
     ]
    },
    {
     "data": {
      "image/png": "[encoded data removed]",
      "text/plain": [
       "<IPython.core.display.Image object>"
      ]
     },
     "metadata": {},
     "output_type": "display_data"
    },
    {
     "name": "stdout",
     "output_type": "stream",
     "text": [
      "train sample number 44 (ground truth value = 3) :\n"
     ]
    },
    {
     "data": {
      "image/png": "[encoded data removed]",
      "text/plain": [
       "<IPython.core.display.Image object>"
      ]
     },
     "metadata": {},
     "output_type": "display_data"
    },
    {
     "name": "stdout",
     "output_type": "stream",
     "text": [
      "train sample number 45 (ground truth value = 9) :\n"
     ]
    },
    {
     "data": {
      "image/png": "[encoded data removed]",
      "text/plain": [
       "<IPython.core.display.Image object>"
      ]
     },
     "metadata": {},
     "output_type": "display_data"
    },
    {
     "name": "stdout",
     "output_type": "stream",
     "text": [
      "train sample number 46 (ground truth value = 8) :\n"
     ]
    },
    {
     "data": {
      "image/png": "[encoded data removed]",
      "text/plain": [
       "<IPython.core.display.Image object>"
      ]
     },
     "metadata": {},
     "output_type": "display_data"
    },
    {
     "name": "stdout",
     "output_type": "stream",
     "text": [
      "train sample number 47 (ground truth value = 5) :\n"
     ]
    },
    {
     "data": {
      "image/png": "[encoded data removed]",
      "text/plain": [
       "<IPython.core.display.Image object>"
      ]
     },
     "metadata": {},
     "output_type": "display_data"
    },
    {
     "name": "stdout",
     "output_type": "stream",
     "text": [
      "train sample number 48 (ground truth value = 9) :\n"
     ]
    },
    {
     "data": {
      "image/png": "[encoded data removed]",
      "text/plain": [
       "<IPython.core.display.Image object>"
      ]
     },
     "metadata": {},
     "output_type": "display_data"
    },
    {
     "name": "stdout",
     "output_type": "stream",
     "text": [
      "train sample number 49 (ground truth value = 3) :\n"
     ]
    },
    {
     "data": {
      "image/png": "[encoded data removed]",
      "text/plain": [
       "<IPython.core.display.Image object>"
      ]
     },
     "metadata": {},
     "output_type": "display_data"
    },
    {
     "name": "stdout",
     "output_type": "stream",
     "text": [
      "train sample number 50 (ground truth value = 3) :\n"
     ]
    },
    {
     "data": {
      "image/png": "[encoded data removed]",
      "text/plain": [
       "<IPython.core.display.Image object>"
      ]
     },
     "metadata": {},
     "output_type": "display_data"
    },
    {
     "name": "stdout",
     "output_type": "stream",
     "text": [
      "train sample number 51 (ground truth value = 0) :\n"
     ]
    },
    {
     "data": {
      "image/png": "[encoded data removed]",
      "text/plain": [
       "<IPython.core.display.Image object>"
      ]
     },
     "metadata": {},
     "output_type": "display_data"
    },
    {
     "name": "stdout",
     "output_type": "stream",
     "text": [
      "train sample number 52 (ground truth value = 7) :\n"
     ]
    },
    {
     "data": {
      "image/png": "[encoded data removed]",
      "text/plain": [
       "<IPython.core.display.Image object>"
      ]
     },
     "metadata": {},
     "output_type": "display_data"
    },
    {
     "name": "stdout",
     "output_type": "stream",
     "text": [
      "train sample number 53 (ground truth value = 4) :\n"
     ]
    },
    {
     "data": {
      "image/png": "[encoded data removed]",
      "text/plain": [
       "<IPython.core.display.Image object>"
      ]
     },
     "metadata": {},
     "output_type": "display_data"
    },
    {
     "name": "stdout",
     "output_type": "stream",
     "text": [
      "train sample number 54 (ground truth value = 9) :\n"
     ]
    },
    {
     "data": {
      "image/png": "[encoded data removed]",
      "text/plain": [
       "<IPython.core.display.Image object>"
      ]
     },
     "metadata": {},
     "output_type": "display_data"
    },
    {
     "name": "stdout",
     "output_type": "stream",
     "text": [
      "train sample number 55 (ground truth value = 8) :\n"
     ]
    },
    {
     "data": {
      "image/png": "[encoded data removed]",
      "text/plain": [
       "<IPython.core.display.Image object>"
      ]
     },
     "metadata": {},
     "output_type": "display_data"
    },
    {
     "name": "stdout",
     "output_type": "stream",
     "text": [
      "train sample number 56 (ground truth value = 0) :\n"
     ]
    },
    {
     "data": {
      "image/png": "[encoded data removed]",
      "text/plain": [
       "<IPython.core.display.Image object>"
      ]
     },
     "metadata": {},
     "output_type": "display_data"
    },
    {
     "name": "stdout",
     "output_type": "stream",
     "text": [
      "train sample number 57 (ground truth value = 9) :\n"
     ]
    },
    {
     "data": {
      "image/png": "[encoded data removed]",
      "text/plain": [
       "<IPython.core.display.Image object>"
      ]
     },
     "metadata": {},
     "output_type": "display_data"
    },
    {
     "name": "stdout",
     "output_type": "stream",
     "text": [
      "train sample number 58 (ground truth value = 4) :\n"
     ]
    },
    {
     "data": {
      "image/png": "[encoded data removed]",
      "text/plain": [
       "<IPython.core.display.Image object>"
      ]
     },
     "metadata": {},
     "output_type": "display_data"
    },
    {
     "name": "stdout",
     "output_type": "stream",
     "text": [
      "train sample number 59 (ground truth value = 1) :\n"
     ]
    },
    {
     "data": {
      "image/png": "[encoded data removed]",
      "text/plain": [
       "<IPython.core.display.Image object>"
      ]
     },
     "metadata": {},
     "output_type": "display_data"
    },
    {
     "name": "stdout",
     "output_type": "stream",
     "text": [
      "train sample number 60 (ground truth value = 4) :\n"
     ]
    },
    {
     "data": {
      "image/png": "[encoded data removed]",
      "text/plain": [
       "<IPython.core.display.Image object>"
      ]
     },
     "metadata": {},
     "output_type": "display_data"
    },
    {
     "name": "stdout",
     "output_type": "stream",
     "text": [
      "train sample number 61 (ground truth value = 4) :\n"
     ]
    },
    {
     "data": {
      "image/png": "[encoded data removed]",
      "text/plain": [
       "<IPython.core.display.Image object>"
      ]
     },
     "metadata": {},
     "output_type": "display_data"
    },
    {
     "name": "stdout",
     "output_type": "stream",
     "text": [
      "train sample number 62 (ground truth value = 6) :\n"
     ]
    },
    {
     "data": {
      "image/png": "[encoded data removed]",
      "text/plain": [
       "<IPython.core.display.Image object>"
      ]
     },
     "metadata": {},
     "output_type": "display_data"
    },
    {
     "name": "stdout",
     "output_type": "stream",
     "text": [
      "train sample number 63 (ground truth value = 0) :\n"
     ]
    },
    {
     "data": {
      "image/png": "[encoded data removed]",
      "text/plain": [
       "<IPython.core.display.Image object>"
      ]
     },
     "metadata": {},
     "output_type": "display_data"
    },
    {
     "name": "stdout",
     "output_type": "stream",
     "text": [
      "train sample number 64 (ground truth value = 4) :\n"
     ]
    },
    {
     "data": {
      "image/png": "[encoded data removed]",
      "text/plain": [
       "<IPython.core.display.Image object>"
      ]
     },
     "metadata": {},
     "output_type": "display_data"
    },
    {
     "name": "stdout",
     "output_type": "stream",
     "text": [
      "train sample number 65 (ground truth value = 5) :\n"
     ]
    },
    {
     "data": {
      "image/png": "[encoded data removed]",
      "text/plain": [
       "<IPython.core.display.Image object>"
      ]
     },
     "metadata": {},
     "output_type": "display_data"
    },
    {
     "name": "stdout",
     "output_type": "stream",
     "text": [
      "train sample number 66 (ground truth value = 6) :\n"
     ]
    },
    {
     "data": {
      "image/png": "[encoded data removed]",
      "text/plain": [
       "<IPython.core.display.Image object>"
      ]
     },
     "metadata": {},
     "output_type": "display_data"
    },
    {
     "name": "stdout",
     "output_type": "stream",
     "text": [
      "train sample number 67 (ground truth value = 1) :\n"
     ]
    },
    {
     "data": {
      "image/png": "[encoded data removed]",
      "text/plain": [
       "<IPython.core.display.Image object>"
      ]
     },
     "metadata": {},
     "output_type": "display_data"
    },
    {
     "name": "stdout",
     "output_type": "stream",
     "text": [
      "train sample number 68 (ground truth value = 0) :\n"
     ]
    },
    {
     "data": {
      "image/png": "[encoded data removed]",
      "text/plain": [
       "<IPython.core.display.Image object>"
      ]
     },
     "metadata": {},
     "output_type": "display_data"
    },
    {
     "name": "stdout",
     "output_type": "stream",
     "text": [
      "train sample number 69 (ground truth value = 0) :\n"
     ]
    },
    {
     "data": {
      "image/png": "[encoded data removed]",
      "text/plain": [
       "<IPython.core.display.Image object>"
      ]
     },
     "metadata": {},
     "output_type": "display_data"
    },
    {
     "name": "stdout",
     "output_type": "stream",
     "text": [
      "train sample number 70 (ground truth value = 1) :\n"
     ]
    },
    {
     "data": {
      "image/png": "[encoded data removed]",
      "text/plain": [
       "<IPython.core.display.Image object>"
      ]
     },
     "metadata": {},
     "output_type": "display_data"
    },
    {
     "name": "stdout",
     "output_type": "stream",
     "text": [
      "train sample number 71 (ground truth value = 7) :\n"
     ]
    },
    {
     "data": {
      "image/png": "[encoded data removed]",
      "text/plain": [
       "<IPython.core.display.Image object>"
      ]
     },
     "metadata": {},
     "output_type": "display_data"
    },
    {
     "name": "stdout",
     "output_type": "stream",
     "text": [
      "train sample number 72 (ground truth value = 1) :\n"
     ]
    },
    {
     "data": {
      "image/png": "[encoded data removed]",
      "text/plain": [
       "<IPython.core.display.Image object>"
      ]
     },
     "metadata": {},
     "output_type": "display_data"
    },
    {
     "name": "stdout",
     "output_type": "stream",
     "text": [
      "train sample number 73 (ground truth value = 6) :\n"
     ]
    },
    {
     "data": {
      "image/png": "[encoded data removed]",
      "text/plain": [
       "<IPython.core.display.Image object>"
      ]
     },
     "metadata": {},
     "output_type": "display_data"
    },
    {
     "name": "stdout",
     "output_type": "stream",
     "text": [
      "train sample number 74 (ground truth value = 3) :\n"
     ]
    },
    {
     "data": {
      "image/png": "[encoded data removed]",
      "text/plain": [
       "<IPython.core.display.Image object>"
      ]
     },
     "metadata": {},
     "output_type": "display_data"
    },
    {
     "name": "stdout",
     "output_type": "stream",
     "text": [
      "train sample number 75 (ground truth value = 0) :\n"
     ]
    },
    {
     "data": {
      "image/png": "[encoded data removed]",
      "text/plain": [
       "<IPython.core.display.Image object>"
      ]
     },
     "metadata": {},
     "output_type": "display_data"
    },
    {
     "name": "stdout",
     "output_type": "stream",
     "text": [
      "train sample number 76 (ground truth value = 2) :\n"
     ]
    },
    {
     "data": {
      "image/png": "[encoded data removed]",
      "text/plain": [
       "<IPython.core.display.Image object>"
      ]
     },
     "metadata": {},
     "output_type": "display_data"
    },
    {
     "name": "stdout",
     "output_type": "stream",
     "text": [
      "train sample number 77 (ground truth value = 1) :\n"
     ]
    },
    {
     "data": {
      "image/png": "[encoded data removed]",
      "text/plain": [
       "<IPython.core.display.Image object>"
      ]
     },
     "metadata": {},
     "output_type": "display_data"
    },
    {
     "name": "stdout",
     "output_type": "stream",
     "text": [
      "train sample number 78 (ground truth value = 1) :\n"
     ]
    },
    {
     "data": {
      "image/png": "[encoded data removed]",
      "text/plain": [
       "<IPython.core.display.Image object>"
      ]
     },
     "metadata": {},
     "output_type": "display_data"
    },
    {
     "name": "stdout",
     "output_type": "stream",
     "text": [
      "train sample number 79 (ground truth value = 7) :\n"
     ]
    },
    {
     "data": {
      "image/png": "[encoded data removed]",
      "text/plain": [
       "<IPython.core.display.Image object>"
      ]
     },
     "metadata": {},
     "output_type": "display_data"
    },
    {
     "name": "stdout",
     "output_type": "stream",
     "text": [
      "train sample number 80 (ground truth value = 9) :\n"
     ]
    },
    {
     "data": {
      "image/png": "[encoded data removed]",
      "text/plain": [
       "<IPython.core.display.Image object>"
      ]
     },
     "metadata": {},
     "output_type": "display_data"
    },
    {
     "name": "stdout",
     "output_type": "stream",
     "text": [
      "train sample number 81 (ground truth value = 0) :\n"
     ]
    },
    {
     "data": {
      "image/png": "[encoded data removed]",
      "text/plain": [
       "<IPython.core.display.Image object>"
      ]
     },
     "metadata": {},
     "output_type": "display_data"
    },
    {
     "name": "stdout",
     "output_type": "stream",
     "text": [
      "train sample number 82 (ground truth value = 2) :\n"
     ]
    },
    {
     "data": {
      "image/png": "[encoded data removed]",
      "text/plain": [
       "<IPython.core.display.Image object>"
      ]
     },
     "metadata": {},
     "output_type": "display_data"
    },
    {
     "name": "stdout",
     "output_type": "stream",
     "text": [
      "train sample number 83 (ground truth value = 6) :\n"
     ]
    },
    {
     "data": {
      "image/png": "[encoded data removed]",
      "text/plain": [
       "<IPython.core.display.Image object>"
      ]
     },
     "metadata": {},
     "output_type": "display_data"
    },
    {
     "name": "stdout",
     "output_type": "stream",
     "text": [
      "train sample number 84 (ground truth value = 7) :\n"
     ]
    },
    {
     "data": {
      "image/png": "[encoded data removed]",
      "text/plain": [
       "<IPython.core.display.Image object>"
      ]
     },
     "metadata": {},
     "output_type": "display_data"
    },
    {
     "name": "stdout",
     "output_type": "stream",
     "text": [
      "train sample number 85 (ground truth value = 8) :\n"
     ]
    },
    {
     "data": {
      "image/png": "[encoded data removed]",
      "text/plain": [
       "<IPython.core.display.Image object>"
      ]
     },
     "metadata": {},
     "output_type": "display_data"
    },
    {
     "name": "stdout",
     "output_type": "stream",
     "text": [
      "train sample number 86 (ground truth value = 3) :\n"
     ]
    },
    {
     "data": {
      "image/png": "[encoded data removed]",
      "text/plain": [
       "<IPython.core.display.Image object>"
      ]
     },
     "metadata": {},
     "output_type": "display_data"
    },
    {
     "name": "stdout",
     "output_type": "stream",
     "text": [
      "train sample number 87 (ground truth value = 9) :\n"
     ]
    },
    {
     "data": {
      "image/png": "[encoded data removed]",
      "text/plain": [
       "<IPython.core.display.Image object>"
      ]
     },
     "metadata": {},
     "output_type": "display_data"
    },
    {
     "name": "stdout",
     "output_type": "stream",
     "text": [
      "train sample number 88 (ground truth value = 0) :\n"
     ]
    },
    {
     "data": {
      "image/png": "[encoded data removed]",
      "text/plain": [
       "<IPython.core.display.Image object>"
      ]
     },
     "metadata": {},
     "output_type": "display_data"
    },
    {
     "name": "stdout",
     "output_type": "stream",
     "text": [
      "train sample number 89 (ground truth value = 4) :\n"
     ]
    },
    {
     "data": {
      "image/png": "[encoded data removed]",
      "text/plain": [
       "<IPython.core.display.Image object>"
      ]
     },
     "metadata": {},
     "output_type": "display_data"
    },
    {
     "name": "stdout",
     "output_type": "stream",
     "text": [
      "train sample number 90 (ground truth value = 6) :\n"
     ]
    },
    {
     "data": {
      "image/png": "[encoded data removed]",
      "text/plain": [
       "<IPython.core.display.Image object>"
      ]
     },
     "metadata": {},
     "output_type": "display_data"
    },
    {
     "name": "stdout",
     "output_type": "stream",
     "text": [
      "train sample number 91 (ground truth value = 7) :\n"
     ]
    },
    {
     "data": {
      "image/png": "[encoded data removed]",
      "text/plain": [
       "<IPython.core.display.Image object>"
      ]
     },
     "metadata": {},
     "output_type": "display_data"
    },
    {
     "name": "stdout",
     "output_type": "stream",
     "text": [
      "train sample number 92 (ground truth value = 4) :\n"
     ]
    },
    {
     "data": {
      "image/png": "[encoded data removed]",
      "text/plain": [
       "<IPython.core.display.Image object>"
      ]
     },
     "metadata": {},
     "output_type": "display_data"
    },
    {
     "name": "stdout",
     "output_type": "stream",
     "text": [
      "train sample number 93 (ground truth value = 6) :\n"
     ]
    },
    {
     "data": {
      "image/png": "[encoded data removed]",
      "text/plain": [
       "<IPython.core.display.Image object>"
      ]
     },
     "metadata": {},
     "output_type": "display_data"
    },
    {
     "name": "stdout",
     "output_type": "stream",
     "text": [
      "train sample number 94 (ground truth value = 8) :\n"
     ]
    },
    {
     "data": {
      "image/png": "[encoded data removed]",
      "text/plain": [
       "<IPython.core.display.Image object>"
      ]
     },
     "metadata": {},
     "output_type": "display_data"
    },
    {
     "name": "stdout",
     "output_type": "stream",
     "text": [
      "train sample number 95 (ground truth value = 0) :\n"
     ]
    },
    {
     "data": {
      "image/png": "[encoded data removed]",
      "text/plain": [
       "<IPython.core.display.Image object>"
      ]
     },
     "metadata": {},
     "output_type": "display_data"
    },
    {
     "name": "stdout",
     "output_type": "stream",
     "text": [
      "train sample number 96 (ground truth value = 7) :\n"
     ]
    },
    {
     "data": {
      "image/png": "[encoded data removed]",
      "text/plain": [
       "<IPython.core.display.Image object>"
      ]
     },
     "metadata": {},
     "output_type": "display_data"
    },
    {
     "name": "stdout",
     "output_type": "stream",
     "text": [
      "train sample number 97 (ground truth value = 8) :\n"
     ]
    },
    {
     "data": {
      "image/png": "[encoded data removed]",
      "text/plain": [
       "<IPython.core.display.Image object>"
      ]
     },
     "metadata": {},
     "output_type": "display_data"
    },
    {
     "name": "stdout",
     "output_type": "stream",
     "text": [
      "train sample number 98 (ground truth value = 3) :\n"
     ]
    },
    {
     "data": {
      "image/png": "[encoded data removed]",
      "text/plain": [
       "<IPython.core.display.Image object>"
      ]
     },
     "metadata": {},
     "output_type": "display_data"
    },
    {
     "name": "stdout",
     "output_type": "stream",
     "text": [
      "train sample number 99 (ground truth value = 1) :\n"
     ]
    },
    {
     "data": {
      "image/png": "[encoded data removed]",
      "text/plain": [
       "<IPython.core.display.Image object>"
      ]
     },
     "metadata": {},
     "output_type": "display_data"
    },
    {
     "name": "stdout",
     "output_type": "stream",
     "text": [
      "validation sample number 0 (ground truth value = 4) :\n"
     ]
    },
    {
     "data": {
      "image/png": "[encoded data removed]",
      "text/plain": [
       "<IPython.core.display.Image object>"
      ]
     },
     "metadata": {},
     "output_type": "display_data"
    },
    {
     "name": "stdout",
     "output_type": "stream",
     "text": [
      "validation sample number 1 (ground truth value = 7) :\n"
     ]
    },
    {
     "data": {
      "image/png": "[encoded data removed]",
      "text/plain": [
       "<IPython.core.display.Image object>"
      ]
     },
     "metadata": {},
     "output_type": "display_data"
    },
    {
     "name": "stdout",
     "output_type": "stream",
     "text": [
      "validation sample number 2 (ground truth value = 8) :\n"
     ]
    },
    {
     "data": {
      "image/png": "[encoded data removed]",
      "text/plain": [
       "<IPython.core.display.Image object>"
      ]
     },
     "metadata": {},
     "output_type": "display_data"
    },
    {
     "name": "stdout",
     "output_type": "stream",
     "text": [
      "validation sample number 3 (ground truth value = 8) :\n"
     ]
    },
    {
     "data": {
      "image/png": "[encoded data removed]",
      "text/plain": [
       "<IPython.core.display.Image object>"
      ]
     },
     "metadata": {},
     "output_type": "display_data"
    },
    {
     "name": "stdout",
     "output_type": "stream",
     "text": [
      "validation sample number 4 (ground truth value = 5) :\n"
     ]
    },
    {
     "data": {
      "image/png": "[encoded data removed]",
      "text/plain": [
       "<IPython.core.display.Image object>"
      ]
     },
     "metadata": {},
     "output_type": "display_data"
    },
    {
     "name": "stdout",
     "output_type": "stream",
     "text": [
      "validation sample number 5 (ground truth value = 6) :\n"
     ]
    },
    {
     "data": {
      "image/png": "[encoded data removed]",
      "text/plain": [
       "<IPython.core.display.Image object>"
      ]
     },
     "metadata": {},
     "output_type": "display_data"
    },
    {
     "name": "stdout",
     "output_type": "stream",
     "text": [
      "validation sample number 6 (ground truth value = 6) :\n"
     ]
    },
    {
     "data": {
      "image/png": "[encoded data removed]",
      "text/plain": [
       "<IPython.core.display.Image object>"
      ]
     },
     "metadata": {},
     "output_type": "display_data"
    },
    {
     "name": "stdout",
     "output_type": "stream",
     "text": [
      "validation sample number 7 (ground truth value = 8) :\n"
     ]
    },
    {
     "data": {
      "image/png": "[encoded data removed]",
      "text/plain": [
       "<IPython.core.display.Image object>"
      ]
     },
     "metadata": {},
     "output_type": "display_data"
    },
    {
     "name": "stdout",
     "output_type": "stream",
     "text": [
      "validation sample number 8 (ground truth value = 2) :\n"
     ]
    },
    {
     "data": {
      "image/png": "[encoded data removed]",
      "text/plain": [
       "<IPython.core.display.Image object>"
      ]
     },
     "metadata": {},
     "output_type": "display_data"
    },
    {
     "name": "stdout",
     "output_type": "stream",
     "text": [
      "validation sample number 9 (ground truth value = 2) :\n"
     ]
    },
    {
     "data": {
      "image/png": "[encoded data removed]",
      "text/plain": [
       "<IPython.core.display.Image object>"
      ]
     },
     "metadata": {},
     "output_type": "display_data"
    },
    {
     "name": "stdout",
     "output_type": "stream",
     "text": [
      "validation sample number 10 (ground truth value = 7) :\n"
     ]
    },
    {
     "data": {
      "image/png": "[encoded data removed]",
      "text/plain": [
       "<IPython.core.display.Image object>"
      ]
     },
     "metadata": {},
     "output_type": "display_data"
    },
    {
     "name": "stdout",
     "output_type": "stream",
     "text": [
      "validation sample number 11 (ground truth value = 8) :\n"
     ]
    },
    {
     "data": {
      "image/png": "[encoded data removed]",
      "text/plain": [
       "<IPython.core.display.Image object>"
      ]
     },
     "metadata": {},
     "output_type": "display_data"
    },
    {
     "name": "stdout",
     "output_type": "stream",
     "text": [
      "validation sample number 12 (ground truth value = 0) :\n"
     ]
    },
    {
     "data": {
      "image/png": "[encoded data removed]",
      "text/plain": [
       "<IPython.core.display.Image object>"
      ]
     },
     "metadata": {},
     "output_type": "display_data"
    },
    {
     "name": "stdout",
     "output_type": "stream",
     "text": [
      "validation sample number 13 (ground truth value = 4) :\n"
     ]
    },
    {
     "data": {
      "image/png": "[encoded data removed]",
      "text/plain": [
       "<IPython.core.display.Image object>"
      ]
     },
     "metadata": {},
     "output_type": "display_data"
    },
    {
     "name": "stdout",
     "output_type": "stream",
     "text": [
      "validation sample number 14 (ground truth value = 3) :\n"
     ]
    },
    {
     "data": {
      "image/png": "[encoded data removed]",
      "text/plain": [
       "<IPython.core.display.Image object>"
      ]
     },
     "metadata": {},
     "output_type": "display_data"
    },
    {
     "name": "stdout",
     "output_type": "stream",
     "text": [
      "validation sample number 15 (ground truth value = 4) :\n"
     ]
    },
    {
     "data": {
      "image/png": "[encoded data removed]",
      "text/plain": [
       "<IPython.core.display.Image object>"
      ]
     },
     "metadata": {},
     "output_type": "display_data"
    },
    {
     "name": "stdout",
     "output_type": "stream",
     "text": [
      "validation sample number 16 (ground truth value = 5) :\n"
     ]
    },
    {
     "data": {
      "image/png": "[encoded data removed]",
      "text/plain": [
       "<IPython.core.display.Image object>"
      ]
     },
     "metadata": {},
     "output_type": "display_data"
    },
    {
     "name": "stdout",
     "output_type": "stream",
     "text": [
      "validation sample number 17 (ground truth value = 2) :\n"
     ]
    },
    {
     "data": {
      "image/png": "[encoded data removed]",
      "text/plain": [
       "<IPython.core.display.Image object>"
      ]
     },
     "metadata": {},
     "output_type": "display_data"
    },
    {
     "name": "stdout",
     "output_type": "stream",
     "text": [
      "validation sample number 18 (ground truth value = 4) :\n"
     ]
    },
    {
     "data": {
      "image/png": "[encoded data removed]",
      "text/plain": [
       "<IPython.core.display.Image object>"
      ]
     },
     "metadata": {},
     "output_type": "display_data"
    },
    {
     "name": "stdout",
     "output_type": "stream",
     "text": [
      "validation sample number 19 (ground truth value = 2) :\n"
     ]
    },
    {
     "data": {
      "image/png": "[encoded data removed]",
      "text/plain": [
       "<IPython.core.display.Image object>"
      ]
     },
     "metadata": {},
     "output_type": "display_data"
    },
    {
     "name": "stdout",
     "output_type": "stream",
     "text": [
      "validation sample number 20 (ground truth value = 4) :\n"
     ]
    },
    {
     "data": {
      "image/png": "[encoded data removed]",
      "text/plain": [
       "<IPython.core.display.Image object>"
      ]
     },
     "metadata": {},
     "output_type": "display_data"
    },
    {
     "name": "stdout",
     "output_type": "stream",
     "text": [
      "validation sample number 21 (ground truth value = 8) :\n"
     ]
    },
    {
     "data": {
      "image/png": "[encoded data removed]",
      "text/plain": [
       "<IPython.core.display.Image object>"
      ]
     },
     "metadata": {},
     "output_type": "display_data"
    },
    {
     "name": "stdout",
     "output_type": "stream",
     "text": [
      "validation sample number 22 (ground truth value = 1) :\n"
     ]
    },
    {
     "data": {
      "image/png": "[encoded data removed]",
      "text/plain": [
       "<IPython.core.display.Image object>"
      ]
     },
     "metadata": {},
     "output_type": "display_data"
    },
    {
     "name": "stdout",
     "output_type": "stream",
     "text": [
      "validation sample number 23 (ground truth value = 0) :\n"
     ]
    },
    {
     "data": {
      "image/png": "[encoded data removed]",
      "text/plain": [
       "<IPython.core.display.Image object>"
      ]
     },
     "metadata": {},
     "output_type": "display_data"
    },
    {
     "name": "stdout",
     "output_type": "stream",
     "text": [
      "validation sample number 24 (ground truth value = 1) :\n"
     ]
    },
    {
     "data": {
      "image/png": "[encoded data removed]",
      "text/plain": [
       "<IPython.core.display.Image object>"
      ]
     },
     "metadata": {},
     "output_type": "display_data"
    },
    {
     "name": "stdout",
     "output_type": "stream",
     "text": [
      "validation sample number 25 (ground truth value = 0) :\n"
     ]
    },
    {
     "data": {
      "image/png": "[encoded data removed]",
      "text/plain": [
       "<IPython.core.display.Image object>"
      ]
     },
     "metadata": {},
     "output_type": "display_data"
    },
    {
     "name": "stdout",
     "output_type": "stream",
     "text": [
      "validation sample number 26 (ground truth value = 0) :\n"
     ]
    },
    {
     "data": {
      "image/png": "[encoded data removed]",
      "text/plain": [
       "<IPython.core.display.Image object>"
      ]
     },
     "metadata": {},
     "output_type": "display_data"
    },
    {
     "name": "stdout",
     "output_type": "stream",
     "text": [
      "validation sample number 27 (ground truth value = 1) :\n"
     ]
    },
    {
     "data": {
      "image/png": "[encoded data removed]",
      "text/plain": [
       "<IPython.core.display.Image object>"
      ]
     },
     "metadata": {},
     "output_type": "display_data"
    },
    {
     "name": "stdout",
     "output_type": "stream",
     "text": [
      "validation sample number 28 (ground truth value = 8) :\n"
     ]
    },
    {
     "data": {
      "image/png": "[encoded data removed]",
      "text/plain": [
       "<IPython.core.display.Image object>"
      ]
     },
     "metadata": {},
     "output_type": "display_data"
    },
    {
     "name": "stdout",
     "output_type": "stream",
     "text": [
      "validation sample number 29 (ground truth value = 2) :\n"
     ]
    },
    {
     "data": {
      "image/png": "[encoded data removed]",
      "text/plain": [
       "<IPython.core.display.Image object>"
      ]
     },
     "metadata": {},
     "output_type": "display_data"
    },
    {
     "name": "stdout",
     "output_type": "stream",
     "text": [
      "validation sample number 30 (ground truth value = 9) :\n"
     ]
    },
    {
     "data": {
      "image/png": "[encoded data removed]",
      "text/plain": [
       "<IPython.core.display.Image object>"
      ]
     },
     "metadata": {},
     "output_type": "display_data"
    },
    {
     "name": "stdout",
     "output_type": "stream",
     "text": [
      "validation sample number 31 (ground truth value = 3) :\n"
     ]
    },
    {
     "data": {
      "image/png": "[encoded data removed]",
      "text/plain": [
       "<IPython.core.display.Image object>"
      ]
     },
     "metadata": {},
     "output_type": "display_data"
    },
    {
     "name": "stdout",
     "output_type": "stream",
     "text": [
      "validation sample number 32 (ground truth value = 6) :\n"
     ]
    },
    {
     "data": {
      "image/png": "[encoded data removed]",
      "text/plain": [
       "<IPython.core.display.Image object>"
      ]
     },
     "metadata": {},
     "output_type": "display_data"
    },
    {
     "name": "stdout",
     "output_type": "stream",
     "text": [
      "validation sample number 33 (ground truth value = 6) :\n"
     ]
    },
    {
     "data": {
      "image/png": "[encoded data removed]",
      "text/plain": [
       "<IPython.core.display.Image object>"
      ]
     },
     "metadata": {},
     "output_type": "display_data"
    },
    {
     "name": "stdout",
     "output_type": "stream",
     "text": [
      "validation sample number 34 (ground truth value = 2) :\n"
     ]
    },
    {
     "data": {
      "image/png": "[encoded data removed]",
      "text/plain": [
       "<IPython.core.display.Image object>"
      ]
     },
     "metadata": {},
     "output_type": "display_data"
    },
    {
     "name": "stdout",
     "output_type": "stream",
     "text": [
      "validation sample number 35 (ground truth value = 7) :\n"
     ]
    },
    {
     "data": {
      "image/png": "[encoded data removed]",
      "text/plain": [
       "<IPython.core.display.Image object>"
      ]
     },
     "metadata": {},
     "output_type": "display_data"
    },
    {
     "name": "stdout",
     "output_type": "stream",
     "text": [
      "validation sample number 36 (ground truth value = 9) :\n"
     ]
    },
    {
     "data": {
      "image/png": "[encoded data removed]",
      "text/plain": [
       "<IPython.core.display.Image object>"
      ]
     },
     "metadata": {},
     "output_type": "display_data"
    },
    {
     "name": "stdout",
     "output_type": "stream",
     "text": [
      "validation sample number 37 (ground truth value = 8) :\n"
     ]
    },
    {
     "data": {
      "image/png": "[encoded data removed]",
      "text/plain": [
       "<IPython.core.display.Image object>"
      ]
     },
     "metadata": {},
     "output_type": "display_data"
    },
    {
     "name": "stdout",
     "output_type": "stream",
     "text": [
      "validation sample number 38 (ground truth value = 3) :\n"
     ]
    },
    {
     "data": {
      "image/png": "[encoded data removed]",
      "text/plain": [
       "<IPython.core.display.Image object>"
      ]
     },
     "metadata": {},
     "output_type": "display_data"
    },
    {
     "name": "stdout",
     "output_type": "stream",
     "text": [
      "validation sample number 39 (ground truth value = 0) :\n"
     ]
    },
    {
     "data": {
      "image/png": "[encoded data removed]",
      "text/plain": [
       "<IPython.core.display.Image object>"
      ]
     },
     "metadata": {},
     "output_type": "display_data"
    },
    {
     "name": "stdout",
     "output_type": "stream",
     "text": [
      "validation sample number 40 (ground truth value = 1) :\n"
     ]
    },
    {
     "data": {
      "image/png": "[encoded data removed]",
      "text/plain": [
       "<IPython.core.display.Image object>"
      ]
     },
     "metadata": {},
     "output_type": "display_data"
    },
    {
     "name": "stdout",
     "output_type": "stream",
     "text": [
      "validation sample number 41 (ground truth value = 1) :\n"
     ]
    },
    {
     "data": {
      "image/png": "[encoded data removed]",
      "text/plain": [
       "<IPython.core.display.Image object>"
      ]
     },
     "metadata": {},
     "output_type": "display_data"
    },
    {
     "name": "stdout",
     "output_type": "stream",
     "text": [
      "validation sample number 42 (ground truth value = 9) :\n"
     ]
    },
    {
     "data": {
      "image/png": "[encoded data removed]",
      "text/plain": [
       "<IPython.core.display.Image object>"
      ]
     },
     "metadata": {},
     "output_type": "display_data"
    },
    {
     "name": "stdout",
     "output_type": "stream",
     "text": [
      "validation sample number 43 (ground truth value = 2) :\n"
     ]
    },
    {
     "data": {
      "image/png": "[encoded data removed]",
      "text/plain": [
       "<IPython.core.display.Image object>"
      ]
     },
     "metadata": {},
     "output_type": "display_data"
    },
    {
     "name": "stdout",
     "output_type": "stream",
     "text": [
      "validation sample number 44 (ground truth value = 1) :\n"
     ]
    },
    {
     "data": {
      "image/png": "[encoded data removed]",
      "text/plain": [
       "<IPython.core.display.Image object>"
      ]
     },
     "metadata": {},
     "output_type": "display_data"
    },
    {
     "name": "stdout",
     "output_type": "stream",
     "text": [
      "validation sample number 45 (ground truth value = 3) :\n"
     ]
    },
    {
     "data": {
      "image/png": "[encoded data removed]",
      "text/plain": [
       "<IPython.core.display.Image object>"
      ]
     },
     "metadata": {},
     "output_type": "display_data"
    },
    {
     "name": "stdout",
     "output_type": "stream",
     "text": [
      "validation sample number 46 (ground truth value = 5) :\n"
     ]
    },
    {
     "data": {
      "image/png": "[encoded data removed]",
      "text/plain": [
       "<IPython.core.display.Image object>"
      ]
     },
     "metadata": {},
     "output_type": "display_data"
    },
    {
     "name": "stdout",
     "output_type": "stream",
     "text": [
      "validation sample number 47 (ground truth value = 4) :\n"
     ]
    },
    {
     "data": {
      "image/png": "[encoded data removed]",
      "text/plain": [
       "<IPython.core.display.Image object>"
      ]
     },
     "metadata": {},
     "output_type": "display_data"
    },
    {
     "name": "stdout",
     "output_type": "stream",
     "text": [
      "validation sample number 48 (ground truth value = 4) :\n"
     ]
    },
    {
     "data": {
      "image/png": "[encoded data removed]",
      "text/plain": [
       "<IPython.core.display.Image object>"
      ]
     },
     "metadata": {},
     "output_type": "display_data"
    },
    {
     "name": "stdout",
     "output_type": "stream",
     "text": [
      "validation sample number 49 (ground truth value = 5) :\n"
     ]
    },
    {
     "data": {
      "image/png": "[encoded data removed]",
      "text/plain": [
       "<IPython.core.display.Image object>"
      ]
     },
     "metadata": {},
     "output_type": "display_data"
    },
    {
     "name": "stdout",
     "output_type": "stream",
     "text": [
      "validation sample number 50 (ground truth value = 7) :\n"
     ]
    },
    {
     "data": {
      "image/png": "[encoded data removed]",
      "text/plain": [
       "<IPython.core.display.Image object>"
      ]
     },
     "metadata": {},
     "output_type": "display_data"
    },
    {
     "name": "stdout",
     "output_type": "stream",
     "text": [
      "validation sample number 51 (ground truth value = 6) :\n"
     ]
    },
    {
     "data": {
      "image/png": "[encoded data removed]",
      "text/plain": [
       "<IPython.core.display.Image object>"
      ]
     },
     "metadata": {},
     "output_type": "display_data"
    },
    {
     "name": "stdout",
     "output_type": "stream",
     "text": [
      "validation sample number 52 (ground truth value = 6) :\n"
     ]
    },
    {
     "data": {
      "image/png": "[encoded data removed]",
      "text/plain": [
       "<IPython.core.display.Image object>"
      ]
     },
     "metadata": {},
     "output_type": "display_data"
    },
    {
     "name": "stdout",
     "output_type": "stream",
     "text": [
      "validation sample number 53 (ground truth value = 7) :\n"
     ]
    },
    {
     "data": {
      "image/png": "[encoded data removed]",
      "text/plain": [
       "<IPython.core.display.Image object>"
      ]
     },
     "metadata": {},
     "output_type": "display_data"
    },
    {
     "name": "stdout",
     "output_type": "stream",
     "text": [
      "validation sample number 54 (ground truth value = 6) :\n"
     ]
    },
    {
     "data": {
      "image/png": "[encoded data removed]",
      "text/plain": [
       "<IPython.core.display.Image object>"
      ]
     },
     "metadata": {},
     "output_type": "display_data"
    },
    {
     "name": "stdout",
     "output_type": "stream",
     "text": [
      "validation sample number 55 (ground truth value = 8) :\n"
     ]
    },
    {
     "data": {
      "image/png": "[encoded data removed]",
      "text/plain": [
       "<IPython.core.display.Image object>"
      ]
     },
     "metadata": {},
     "output_type": "display_data"
    },
    {
     "name": "stdout",
     "output_type": "stream",
     "text": [
      "validation sample number 56 (ground truth value = 4) :\n"
     ]
    },
    {
     "data": {
      "image/png": "[encoded data removed]",
      "text/plain": [
       "<IPython.core.display.Image object>"
      ]
     },
     "metadata": {},
     "output_type": "display_data"
    },
    {
     "name": "stdout",
     "output_type": "stream",
     "text": [
      "validation sample number 57 (ground truth value = 9) :\n"
     ]
    },
    {
     "data": {
      "image/png": "[encoded data removed]",
      "text/plain": [
       "<IPython.core.display.Image object>"
      ]
     },
     "metadata": {},
     "output_type": "display_data"
    },
    {
     "name": "stdout",
     "output_type": "stream",
     "text": [
      "validation sample number 58 (ground truth value = 5) :\n"
     ]
    },
    {
     "data": {
      "image/png": "[encoded data removed]",
      "text/plain": [
       "<IPython.core.display.Image object>"
      ]
     },
     "metadata": {},
     "output_type": "display_data"
    },
    {
     "name": "stdout",
     "output_type": "stream",
     "text": [
      "validation sample number 59 (ground truth value = 0) :\n"
     ]
    },
    {
     "data": {
      "image/png": "[encoded data removed]",
      "text/plain": [
       "<IPython.core.display.Image object>"
      ]
     },
     "metadata": {},
     "output_type": "display_data"
    },
    {
     "name": "stdout",
     "output_type": "stream",
     "text": [
      "validation sample number 60 (ground truth value = 8) :\n"
     ]
    },
    {
     "data": {
      "image/png": "[encoded data removed]",
      "text/plain": [
       "<IPython.core.display.Image object>"
      ]
     },
     "metadata": {},
     "output_type": "display_data"
    },
    {
     "name": "stdout",
     "output_type": "stream",
     "text": [
      "validation sample number 61 (ground truth value = 1) :\n"
     ]
    },
    {
     "data": {
      "image/png": "[encoded data removed]",
      "text/plain": [
       "<IPython.core.display.Image object>"
      ]
     },
     "metadata": {},
     "output_type": "display_data"
    },
    {
     "name": "stdout",
     "output_type": "stream",
     "text": [
      "validation sample number 62 (ground truth value = 8) :\n"
     ]
    },
    {
     "data": {
      "image/png": "[encoded data removed]",
      "text/plain": [
       "<IPython.core.display.Image object>"
      ]
     },
     "metadata": {},
     "output_type": "display_data"
    },
    {
     "name": "stdout",
     "output_type": "stream",
     "text": [
      "validation sample number 63 (ground truth value = 2) :\n"
     ]
    },
    {
     "data": {
      "image/png": "[encoded data removed]",
      "text/plain": [
       "<IPython.core.display.Image object>"
      ]
     },
     "metadata": {},
     "output_type": "display_data"
    },
    {
     "name": "stdout",
     "output_type": "stream",
     "text": [
      "validation sample number 64 (ground truth value = 3) :\n"
     ]
    },
    {
     "data": {
      "image/png": "[encoded data removed]",
      "text/plain": [
       "<IPython.core.display.Image object>"
      ]
     },
     "metadata": {},
     "output_type": "display_data"
    },
    {
     "name": "stdout",
     "output_type": "stream",
     "text": [
      "validation sample number 65 (ground truth value = 3) :\n"
     ]
    },
    {
     "data": {
      "image/png": "[encoded data removed]",
      "text/plain": [
       "<IPython.core.display.Image object>"
      ]
     },
     "metadata": {},
     "output_type": "display_data"
    },
    {
     "name": "stdout",
     "output_type": "stream",
     "text": [
      "validation sample number 66 (ground truth value = 6) :\n"
     ]
    },
    {
     "data": {
      "image/png": "[encoded data removed]",
      "text/plain": [
       "<IPython.core.display.Image object>"
      ]
     },
     "metadata": {},
     "output_type": "display_data"
    },
    {
     "name": "stdout",
     "output_type": "stream",
     "text": [
      "validation sample number 67 (ground truth value = 4) :\n"
     ]
    },
    {
     "data": {
      "image/png": "[encoded data removed]",
      "text/plain": [
       "<IPython.core.display.Image object>"
      ]
     },
     "metadata": {},
     "output_type": "display_data"
    },
    {
     "name": "stdout",
     "output_type": "stream",
     "text": [
      "validation sample number 68 (ground truth value = 4) :\n"
     ]
    },
    {
     "data": {
      "image/png": "[encoded data removed]",
      "text/plain": [
       "<IPython.core.display.Image object>"
      ]
     },
     "metadata": {},
     "output_type": "display_data"
    },
    {
     "name": "stdout",
     "output_type": "stream",
     "text": [
      "validation sample number 69 (ground truth value = 5) :\n"
     ]
    },
    {
     "data": {
      "image/png": "[encoded data removed]",
      "text/plain": [
       "<IPython.core.display.Image object>"
      ]
     },
     "metadata": {},
     "output_type": "display_data"
    },
    {
     "name": "stdout",
     "output_type": "stream",
     "text": [
      "validation sample number 70 (ground truth value = 2) :\n"
     ]
    },
    {
     "data": {
      "image/png": "[encoded data removed]",
      "text/plain": [
       "<IPython.core.display.Image object>"
      ]
     },
     "metadata": {},
     "output_type": "display_data"
    },
    {
     "name": "stdout",
     "output_type": "stream",
     "text": [
      "validation sample number 71 (ground truth value = 6) :\n"
     ]
    },
    {
     "data": {
      "image/png": "[encoded data removed]",
      "text/plain": [
       "<IPython.core.display.Image object>"
      ]
     },
     "metadata": {},
     "output_type": "display_data"
    },
    {
     "name": "stdout",
     "output_type": "stream",
     "text": [
      "validation sample number 72 (ground truth value = 9) :\n"
     ]
    },
    {
     "data": {
      "image/png": "[encoded data removed]",
      "text/plain": [
       "<IPython.core.display.Image object>"
      ]
     },
     "metadata": {},
     "output_type": "display_data"
    },
    {
     "name": "stdout",
     "output_type": "stream",
     "text": [
      "validation sample number 73 (ground truth value = 7) :\n"
     ]
    },
    {
     "data": {
      "image/png": "[encoded data removed]",
      "text/plain": [
       "<IPython.core.display.Image object>"
      ]
     },
     "metadata": {},
     "output_type": "display_data"
    },
    {
     "name": "stdout",
     "output_type": "stream",
     "text": [
      "validation sample number 74 (ground truth value = 1) :\n"
     ]
    },
    {
     "data": {
      "image/png": "[encoded data removed]",
      "text/plain": [
       "<IPython.core.display.Image object>"
      ]
     },
     "metadata": {},
     "output_type": "display_data"
    },
    {
     "name": "stdout",
     "output_type": "stream",
     "text": [
      "validation sample number 75 (ground truth value = 8) :\n"
     ]
    },
    {
     "data": {
      "image/png": "[encoded data removed]",
      "text/plain": [
       "<IPython.core.display.Image object>"
      ]
     },
     "metadata": {},
     "output_type": "display_data"
    },
    {
     "name": "stdout",
     "output_type": "stream",
     "text": [
      "validation sample number 76 (ground truth value = 3) :\n"
     ]
    },
    {
     "data": {
      "image/png": "[encoded data removed]",
      "text/plain": [
       "<IPython.core.display.Image object>"
      ]
     },
     "metadata": {},
     "output_type": "display_data"
    },
    {
     "name": "stdout",
     "output_type": "stream",
     "text": [
      "validation sample number 77 (ground truth value = 9) :\n"
     ]
    },
    {
     "data": {
      "image/png": "[encoded data removed]",
      "text/plain": [
       "<IPython.core.display.Image object>"
      ]
     },
     "metadata": {},
     "output_type": "display_data"
    },
    {
     "name": "stdout",
     "output_type": "stream",
     "text": [
      "validation sample number 78 (ground truth value = 5) :\n"
     ]
    },
    {
     "data": {
      "image/png": "[encoded data removed]",
      "text/plain": [
       "<IPython.core.display.Image object>"
      ]
     },
     "metadata": {},
     "output_type": "display_data"
    },
    {
     "name": "stdout",
     "output_type": "stream",
     "text": [
      "validation sample number 79 (ground truth value = 1) :\n"
     ]
    },
    {
     "data": {
      "image/png": "[encoded data removed]",
      "text/plain": [
       "<IPython.core.display.Image object>"
      ]
     },
     "metadata": {},
     "output_type": "display_data"
    },
    {
     "name": "stdout",
     "output_type": "stream",
     "text": [
      "validation sample number 80 (ground truth value = 7) :\n"
     ]
    },
    {
     "data": {
      "image/png": "[encoded data removed]",
      "text/plain": [
       "<IPython.core.display.Image object>"
      ]
     },
     "metadata": {},
     "output_type": "display_data"
    },
    {
     "name": "stdout",
     "output_type": "stream",
     "text": [
      "validation sample number 81 (ground truth value = 8) :\n"
     ]
    },
    {
     "data": {
      "image/png": "[encoded data removed]",
      "text/plain": [
       "<IPython.core.display.Image object>"
      ]
     },
     "metadata": {},
     "output_type": "display_data"
    },
    {
     "name": "stdout",
     "output_type": "stream",
     "text": [
      "validation sample number 82 (ground truth value = 6) :\n"
     ]
    },
    {
     "data": {
      "image/png": "[encoded data removed]",
      "text/plain": [
       "<IPython.core.display.Image object>"
      ]
     },
     "metadata": {},
     "output_type": "display_data"
    },
    {
     "name": "stdout",
     "output_type": "stream",
     "text": [
      "validation sample number 83 (ground truth value = 6) :\n"
     ]
    },
    {
     "data": {
      "image/png": "[encoded data removed]",
      "text/plain": [
       "<IPython.core.display.Image object>"
      ]
     },
     "metadata": {},
     "output_type": "display_data"
    },
    {
     "name": "stdout",
     "output_type": "stream",
     "text": [
      "validation sample number 84 (ground truth value = 4) :\n"
     ]
    },
    {
     "data": {
      "image/png": "[encoded data removed]",
      "text/plain": [
       "<IPython.core.display.Image object>"
      ]
     },
     "metadata": {},
     "output_type": "display_data"
    },
    {
     "name": "stdout",
     "output_type": "stream",
     "text": [
      "validation sample number 85 (ground truth value = 1) :\n"
     ]
    },
    {
     "data": {
      "image/png": "[encoded data removed]",
      "text/plain": [
       "<IPython.core.display.Image object>"
      ]
     },
     "metadata": {},
     "output_type": "display_data"
    },
    {
     "name": "stdout",
     "output_type": "stream",
     "text": [
      "validation sample number 86 (ground truth value = 6) :\n"
     ]
    },
    {
     "data": {
      "image/png": "[encoded data removed]",
      "text/plain": [
       "<IPython.core.display.Image object>"
      ]
     },
     "metadata": {},
     "output_type": "display_data"
    },
    {
     "name": "stdout",
     "output_type": "stream",
     "text": [
      "validation sample number 87 (ground truth value = 4) :\n"
     ]
    },
    {
     "data": {
      "image/png": "[encoded data removed]",
      "text/plain": [
       "<IPython.core.display.Image object>"
      ]
     },
     "metadata": {},
     "output_type": "display_data"
    },
    {
     "name": "stdout",
     "output_type": "stream",
     "text": [
      "validation sample number 88 (ground truth value = 3) :\n"
     ]
    },
    {
     "data": {
      "image/png": "[encoded data removed]",
      "text/plain": [
       "<IPython.core.display.Image object>"
      ]
     },
     "metadata": {},
     "output_type": "display_data"
    },
    {
     "name": "stdout",
     "output_type": "stream",
     "text": [
      "validation sample number 89 (ground truth value = 9) :\n"
     ]
    },
    {
     "data": {
      "image/png": "[encoded data removed]",
      "text/plain": [
       "<IPython.core.display.Image object>"
      ]
     },
     "metadata": {},
     "output_type": "display_data"
    },
    {
     "name": "stdout",
     "output_type": "stream",
     "text": [
      "validation sample number 90 (ground truth value = 6) :\n"
     ]
    },
    {
     "data": {
      "image/png": "[encoded data removed]",
      "text/plain": [
       "<IPython.core.display.Image object>"
      ]
     },
     "metadata": {},
     "output_type": "display_data"
    },
    {
     "name": "stdout",
     "output_type": "stream",
     "text": [
      "validation sample number 91 (ground truth value = 3) :\n"
     ]
    },
    {
     "data": {
      "image/png": "[encoded data removed]",
      "text/plain": [
       "<IPython.core.display.Image object>"
      ]
     },
     "metadata": {},
     "output_type": "display_data"
    },
    {
     "name": "stdout",
     "output_type": "stream",
     "text": [
      "validation sample number 92 (ground truth value = 8) :\n"
     ]
    },
    {
     "data": {
      "image/png": "[encoded data removed]",
      "text/plain": [
       "<IPython.core.display.Image object>"
      ]
     },
     "metadata": {},
     "output_type": "display_data"
    },
    {
     "name": "stdout",
     "output_type": "stream",
     "text": [
      "validation sample number 93 (ground truth value = 7) :\n"
     ]
    },
    {
     "data": {
      "image/png": "[encoded data removed]",
      "text/plain": [
       "<IPython.core.display.Image object>"
      ]
     },
     "metadata": {},
     "output_type": "display_data"
    },
    {
     "name": "stdout",
     "output_type": "stream",
     "text": [
      "validation sample number 94 (ground truth value = 5) :\n"
     ]
    },
    {
     "data": {
      "image/png": "[encoded data removed]",
      "text/plain": [
       "<IPython.core.display.Image object>"
      ]
     },
     "metadata": {},
     "output_type": "display_data"
    },
    {
     "name": "stdout",
     "output_type": "stream",
     "text": [
      "validation sample number 95 (ground truth value = 7) :\n"
     ]
    },
    {
     "data": {
      "image/png": "[encoded data removed]",
      "text/plain": [
       "<IPython.core.display.Image object>"
      ]
     },
     "metadata": {},
     "output_type": "display_data"
    },
    {
     "name": "stdout",
     "output_type": "stream",
     "text": [
      "validation sample number 96 (ground truth value = 7) :\n"
     ]
    },
    {
     "data": {
      "image/png": "[encoded data removed]",
      "text/plain": [
       "<IPython.core.display.Image object>"
      ]
     },
     "metadata": {},
     "output_type": "display_data"
    },
    {
     "name": "stdout",
     "output_type": "stream",
     "text": [
      "validation sample number 97 (ground truth value = 9) :\n"
     ]
    },
    {
     "data": {
      "image/png": "[encoded data removed]",
      "text/plain": [
       "<IPython.core.display.Image object>"
      ]
     },
     "metadata": {},
     "output_type": "display_data"
    },
    {
     "name": "stdout",
     "output_type": "stream",
     "text": [
      "validation sample number 98 (ground truth value = 7) :\n"
     ]
    },
    {
     "data": {
      "image/png": "[encoded data removed]",
      "text/plain": [
       "<IPython.core.display.Image object>"
      ]
     },
     "metadata": {},
     "output_type": "display_data"
    },
    {
     "name": "stdout",
     "output_type": "stream",
     "text": [
      "validation sample number 99 (ground truth value = 1) :\n"
     ]
    },
    {
     "data": {
      "image/png": "[encoded data removed]",
      "text/plain": [
       "<IPython.core.display.Image object>"
      ]
     },
     "metadata": {},
     "output_type": "display_data"
    },
    {
     "name": "stdout",
     "output_type": "stream",
     "text": [
      "test sample number 0 (ground truth value = 7) :\n"
     ]
    },
    {
     "data": {
      "image/png": "[encoded data removed]",
      "text/plain": [
       "<IPython.core.display.Image object>"
      ]
     },
     "metadata": {},
     "output_type": "display_data"
    },
    {
     "name": "stdout",
     "output_type": "stream",
     "text": [
      "test sample number 1 (ground truth value = 2) :\n"
     ]
    },
    {
     "data": {
      "image/png": "[encoded data removed]",
      "text/plain": [
       "<IPython.core.display.Image object>"
      ]
     },
     "metadata": {},
     "output_type": "display_data"
    },
    {
     "name": "stdout",
     "output_type": "stream",
     "text": [
      "test sample number 2 (ground truth value = 1) :\n"
     ]
    },
    {
     "data": {
      "image/png": "[encoded data removed]",
      "text/plain": [
       "<IPython.core.display.Image object>"
      ]
     },
     "metadata": {},
     "output_type": "display_data"
    },
    {
     "name": "stdout",
     "output_type": "stream",
     "text": [
      "test sample number 3 (ground truth value = 0) :\n"
     ]
    },
    {
     "data": {
      "image/png": "[encoded data removed]",
      "text/plain": [
       "<IPython.core.display.Image object>"
      ]
     },
     "metadata": {},
     "output_type": "display_data"
    },
    {
     "name": "stdout",
     "output_type": "stream",
     "text": [
      "test sample number 4 (ground truth value = 4) :\n"
     ]
    },
    {
     "data": {
      "image/png": "[encoded data removed]",
      "text/plain": [
       "<IPython.core.display.Image object>"
      ]
     },
     "metadata": {},
     "output_type": "display_data"
    },
    {
     "name": "stdout",
     "output_type": "stream",
     "text": [
      "test sample number 5 (ground truth value = 1) :\n"
     ]
    },
    {
     "data": {
      "image/png": "[encoded data removed]",
      "text/plain": [
       "<IPython.core.display.Image object>"
      ]
     },
     "metadata": {},
     "output_type": "display_data"
    },
    {
     "name": "stdout",
     "output_type": "stream",
     "text": [
      "test sample number 6 (ground truth value = 4) :\n"
     ]
    },
    {
     "data": {
      "image/png": "[encoded data removed]",
      "text/plain": [
       "<IPython.core.display.Image object>"
      ]
     },
     "metadata": {},
     "output_type": "display_data"
    },
    {
     "name": "stdout",
     "output_type": "stream",
     "text": [
      "test sample number 7 (ground truth value = 9) :\n"
     ]
    },
    {
     "data": {
      "image/png": "[encoded data removed]",
      "text/plain": [
       "<IPython.core.display.Image object>"
      ]
     },
     "metadata": {},
     "output_type": "display_data"
    },
    {
     "name": "stdout",
     "output_type": "stream",
     "text": [
      "test sample number 8 (ground truth value = 5) :\n"
     ]
    },
    {
     "data": {
      "image/png": "[encoded data removed]",
      "text/plain": [
       "<IPython.core.display.Image object>"
      ]
     },
     "metadata": {},
     "output_type": "display_data"
    },
    {
     "name": "stdout",
     "output_type": "stream",
     "text": [
      "test sample number 9 (ground truth value = 9) :\n"
     ]
    },
    {
     "data": {
      "image/png": "[encoded data removed]",
      "text/plain": [
       "<IPython.core.display.Image object>"
      ]
     },
     "metadata": {},
     "output_type": "display_data"
    },
    {
     "name": "stdout",
     "output_type": "stream",
     "text": [
      "test sample number 10 (ground truth value = 0) :\n"
     ]
    },
    {
     "data": {
      "image/png": "[encoded data removed]",
      "text/plain": [
       "<IPython.core.display.Image object>"
      ]
     },
     "metadata": {},
     "output_type": "display_data"
    },
    {
     "name": "stdout",
     "output_type": "stream",
     "text": [
      "test sample number 11 (ground truth value = 6) :\n"
     ]
    },
    {
     "data": {
      "image/png": "[encoded data removed]",
      "text/plain": [
       "<IPython.core.display.Image object>"
      ]
     },
     "metadata": {},
     "output_type": "display_data"
    },
    {
     "name": "stdout",
     "output_type": "stream",
     "text": [
      "test sample number 12 (ground truth value = 9) :\n"
     ]
    },
    {
     "data": {
      "image/png": "[encoded data removed]",
      "text/plain": [
       "<IPython.core.display.Image object>"
      ]
     },
     "metadata": {},
     "output_type": "display_data"
    },
    {
     "name": "stdout",
     "output_type": "stream",
     "text": [
      "test sample number 13 (ground truth value = 0) :\n"
     ]
    },
    {
     "data": {
      "image/png": "[encoded data removed]",
      "text/plain": [
       "<IPython.core.display.Image object>"
      ]
     },
     "metadata": {},
     "output_type": "display_data"
    },
    {
     "name": "stdout",
     "output_type": "stream",
     "text": [
      "test sample number 14 (ground truth value = 1) :\n"
     ]
    },
    {
     "data": {
      "image/png": "[encoded data removed]",
      "text/plain": [
       "<IPython.core.display.Image object>"
      ]
     },
     "metadata": {},
     "output_type": "display_data"
    },
    {
     "name": "stdout",
     "output_type": "stream",
     "text": [
      "test sample number 15 (ground truth value = 5) :\n"
     ]
    },
    {
     "data": {
      "image/png": "[encoded data removed]",
      "text/plain": [
       "<IPython.core.display.Image object>"
      ]
     },
     "metadata": {},
     "output_type": "display_data"
    },
    {
     "name": "stdout",
     "output_type": "stream",
     "text": [
      "test sample number 16 (ground truth value = 9) :\n"
     ]
    },
    {
     "data": {
      "image/png": "[encoded data removed]",
      "text/plain": [
       "<IPython.core.display.Image object>"
      ]
     },
     "metadata": {},
     "output_type": "display_data"
    },
    {
     "name": "stdout",
     "output_type": "stream",
     "text": [
      "test sample number 17 (ground truth value = 7) :\n"
     ]
    },
    {
     "data": {
      "image/png": "[encoded data removed]",
      "text/plain": [
       "<IPython.core.display.Image object>"
      ]
     },
     "metadata": {},
     "output_type": "display_data"
    },
    {
     "name": "stdout",
     "output_type": "stream",
     "text": [
      "test sample number 18 (ground truth value = 3) :\n"
     ]
    },
    {
     "data": {
      "image/png": "[encoded data removed]",
      "text/plain": [
       "<IPython.core.display.Image object>"
      ]
     },
     "metadata": {},
     "output_type": "display_data"
    },
    {
     "name": "stdout",
     "output_type": "stream",
     "text": [
      "test sample number 19 (ground truth value = 4) :\n"
     ]
    },
    {
     "data": {
      "image/png": "[encoded data removed]",
      "text/plain": [
       "<IPython.core.display.Image object>"
      ]
     },
     "metadata": {},
     "output_type": "display_data"
    },
    {
     "name": "stdout",
     "output_type": "stream",
     "text": [
      "test sample number 20 (ground truth value = 9) :\n"
     ]
    },
    {
     "data": {
      "image/png": "[encoded data removed]",
      "text/plain": [
       "<IPython.core.display.Image object>"
      ]
     },
     "metadata": {},
     "output_type": "display_data"
    },
    {
     "name": "stdout",
     "output_type": "stream",
     "text": [
      "test sample number 21 (ground truth value = 6) :\n"
     ]
    },
    {
     "data": {
      "image/png": "[encoded data removed]",
      "text/plain": [
       "<IPython.core.display.Image object>"
      ]
     },
     "metadata": {},
     "output_type": "display_data"
    },
    {
     "name": "stdout",
     "output_type": "stream",
     "text": [
      "test sample number 22 (ground truth value = 6) :\n"
     ]
    },
    {
     "data": {
      "image/png": "[encoded data removed]",
      "text/plain": [
       "<IPython.core.display.Image object>"
      ]
     },
     "metadata": {},
     "output_type": "display_data"
    },
    {
     "name": "stdout",
     "output_type": "stream",
     "text": [
      "test sample number 23 (ground truth value = 5) :\n"
     ]
    },
    {
     "data": {
      "image/png": "[encoded data removed]",
      "text/plain": [
       "<IPython.core.display.Image object>"
      ]
     },
     "metadata": {},
     "output_type": "display_data"
    },
    {
     "name": "stdout",
     "output_type": "stream",
     "text": [
      "test sample number 24 (ground truth value = 4) :\n"
     ]
    },
    {
     "data": {
      "image/png": "[encoded data removed]",
      "text/plain": [
       "<IPython.core.display.Image object>"
      ]
     },
     "metadata": {},
     "output_type": "display_data"
    },
    {
     "name": "stdout",
     "output_type": "stream",
     "text": [
      "test sample number 25 (ground truth value = 0) :\n"
     ]
    },
    {
     "data": {
      "image/png": "[encoded data removed]",
      "text/plain": [
       "<IPython.core.display.Image object>"
      ]
     },
     "metadata": {},
     "output_type": "display_data"
    },
    {
     "name": "stdout",
     "output_type": "stream",
     "text": [
      "test sample number 26 (ground truth value = 7) :\n"
     ]
    },
    {
     "data": {
      "image/png": "[encoded data removed]",
      "text/plain": [
       "<IPython.core.display.Image object>"
      ]
     },
     "metadata": {},
     "output_type": "display_data"
    },
    {
     "name": "stdout",
     "output_type": "stream",
     "text": [
      "test sample number 27 (ground truth value = 4) :\n"
     ]
    },
    {
     "data": {
      "image/png": "[encoded data removed]",
      "text/plain": [
       "<IPython.core.display.Image object>"
      ]
     },
     "metadata": {},
     "output_type": "display_data"
    },
    {
     "name": "stdout",
     "output_type": "stream",
     "text": [
      "test sample number 28 (ground truth value = 0) :\n"
     ]
    },
    {
     "data": {
      "image/png": "[encoded data removed]",
      "text/plain": [
       "<IPython.core.display.Image object>"
      ]
     },
     "metadata": {},
     "output_type": "display_data"
    },
    {
     "name": "stdout",
     "output_type": "stream",
     "text": [
      "test sample number 29 (ground truth value = 1) :\n"
     ]
    },
    {
     "data": {
      "image/png": "[encoded data removed]",
      "text/plain": [
       "<IPython.core.display.Image object>"
      ]
     },
     "metadata": {},
     "output_type": "display_data"
    },
    {
     "name": "stdout",
     "output_type": "stream",
     "text": [
      "test sample number 30 (ground truth value = 3) :\n"
     ]
    },
    {
     "data": {
      "image/png": "[encoded data removed]",
      "text/plain": [
       "<IPython.core.display.Image object>"
      ]
     },
     "metadata": {},
     "output_type": "display_data"
    },
    {
     "name": "stdout",
     "output_type": "stream",
     "text": [
      "test sample number 31 (ground truth value = 1) :\n"
     ]
    },
    {
     "data": {
      "image/png": "[encoded data removed]",
      "text/plain": [
       "<IPython.core.display.Image object>"
      ]
     },
     "metadata": {},
     "output_type": "display_data"
    },
    {
     "name": "stdout",
     "output_type": "stream",
     "text": [
      "test sample number 32 (ground truth value = 3) :\n"
     ]
    },
    {
     "data": {
      "image/png": "[encoded data removed]",
      "text/plain": [
       "<IPython.core.display.Image object>"
      ]
     },
     "metadata": {},
     "output_type": "display_data"
    },
    {
     "name": "stdout",
     "output_type": "stream",
     "text": [
      "test sample number 33 (ground truth value = 4) :\n"
     ]
    },
    {
     "data": {
      "image/png": "[encoded data removed]",
      "text/plain": [
       "<IPython.core.display.Image object>"
      ]
     },
     "metadata": {},
     "output_type": "display_data"
    },
    {
     "name": "stdout",
     "output_type": "stream",
     "text": [
      "test sample number 34 (ground truth value = 7) :\n"
     ]
    },
    {
     "data": {
      "image/png": "[encoded data removed]",
      "text/plain": [
       "<IPython.core.display.Image object>"
      ]
     },
     "metadata": {},
     "output_type": "display_data"
    },
    {
     "name": "stdout",
     "output_type": "stream",
     "text": [
      "test sample number 35 (ground truth value = 2) :\n"
     ]
    },
    {
     "data": {
      "image/png": "[encoded data removed]",
      "text/plain": [
       "<IPython.core.display.Image object>"
      ]
     },
     "metadata": {},
     "output_type": "display_data"
    },
    {
     "name": "stdout",
     "output_type": "stream",
     "text": [
      "test sample number 36 (ground truth value = 7) :\n"
     ]
    },
    {
     "data": {
      "image/png": "[encoded data removed]",
      "text/plain": [
       "<IPython.core.display.Image object>"
      ]
     },
     "metadata": {},
     "output_type": "display_data"
    },
    {
     "name": "stdout",
     "output_type": "stream",
     "text": [
      "test sample number 37 (ground truth value = 1) :\n"
     ]
    },
    {
     "data": {
      "image/png": "[encoded data removed]",
      "text/plain": [
       "<IPython.core.display.Image object>"
      ]
     },
     "metadata": {},
     "output_type": "display_data"
    },
    {
     "name": "stdout",
     "output_type": "stream",
     "text": [
      "test sample number 38 (ground truth value = 2) :\n"
     ]
    },
    {
     "data": {
      "image/png": "[encoded data removed]",
      "text/plain": [
       "<IPython.core.display.Image object>"
      ]
     },
     "metadata": {},
     "output_type": "display_data"
    },
    {
     "name": "stdout",
     "output_type": "stream",
     "text": [
      "test sample number 39 (ground truth value = 1) :\n"
     ]
    },
    {
     "data": {
      "image/png": "[encoded data removed]",
      "text/plain": [
       "<IPython.core.display.Image object>"
      ]
     },
     "metadata": {},
     "output_type": "display_data"
    },
    {
     "name": "stdout",
     "output_type": "stream",
     "text": [
      "test sample number 40 (ground truth value = 1) :\n"
     ]
    },
    {
     "data": {
      "image/png": "[encoded data removed]",
      "text/plain": [
       "<IPython.core.display.Image object>"
      ]
     },
     "metadata": {},
     "output_type": "display_data"
    },
    {
     "name": "stdout",
     "output_type": "stream",
     "text": [
      "test sample number 41 (ground truth value = 7) :\n"
     ]
    },
    {
     "data": {
      "image/png": "[encoded data removed]",
      "text/plain": [
       "<IPython.core.display.Image object>"
      ]
     },
     "metadata": {},
     "output_type": "display_data"
    },
    {
     "name": "stdout",
     "output_type": "stream",
     "text": [
      "test sample number 42 (ground truth value = 4) :\n"
     ]
    },
    {
     "data": {
      "image/png": "[encoded data removed]",
      "text/plain": [
       "<IPython.core.display.Image object>"
      ]
     },
     "metadata": {},
     "output_type": "display_data"
    },
    {
     "name": "stdout",
     "output_type": "stream",
     "text": [
      "test sample number 43 (ground truth value = 2) :\n"
     ]
    },
    {
     "data": {
      "image/png": "[encoded data removed]",
      "text/plain": [
       "<IPython.core.display.Image object>"
      ]
     },
     "metadata": {},
     "output_type": "display_data"
    },
    {
     "name": "stdout",
     "output_type": "stream",
     "text": [
      "test sample number 44 (ground truth value = 3) :\n"
     ]
    },
    {
     "data": {
      "image/png": "[encoded data removed]",
      "text/plain": [
       "<IPython.core.display.Image object>"
      ]
     },
     "metadata": {},
     "output_type": "display_data"
    },
    {
     "name": "stdout",
     "output_type": "stream",
     "text": [
      "test sample number 45 (ground truth value = 5) :\n"
     ]
    },
    {
     "data": {
      "image/png": "[encoded data removed]",
      "text/plain": [
       "<IPython.core.display.Image object>"
      ]
     },
     "metadata": {},
     "output_type": "display_data"
    },
    {
     "name": "stdout",
     "output_type": "stream",
     "text": [
      "test sample number 46 (ground truth value = 1) :\n"
     ]
    },
    {
     "data": {
      "image/png": "[encoded data removed]",
      "text/plain": [
       "<IPython.core.display.Image object>"
      ]
     },
     "metadata": {},
     "output_type": "display_data"
    },
    {
     "name": "stdout",
     "output_type": "stream",
     "text": [
      "test sample number 47 (ground truth value = 2) :\n"
     ]
    },
    {
     "data": {
      "image/png": "[encoded data removed]",
      "text/plain": [
       "<IPython.core.display.Image object>"
      ]
     },
     "metadata": {},
     "output_type": "display_data"
    },
    {
     "name": "stdout",
     "output_type": "stream",
     "text": [
      "test sample number 48 (ground truth value = 4) :\n"
     ]
    },
    {
     "data": {
      "image/png": "[encoded data removed]",
      "text/plain": [
       "<IPython.core.display.Image object>"
      ]
     },
     "metadata": {},
     "output_type": "display_data"
    },
    {
     "name": "stdout",
     "output_type": "stream",
     "text": [
      "test sample number 49 (ground truth value = 4) :\n"
     ]
    },
    {
     "data": {
      "image/png": "[encoded data removed]",
      "text/plain": [
       "<IPython.core.display.Image object>"
      ]
     },
     "metadata": {},
     "output_type": "display_data"
    },
    {
     "name": "stdout",
     "output_type": "stream",
     "text": [
      "test sample number 50 (ground truth value = 6) :\n"
     ]
    },
    {
     "data": {
      "image/png": "[encoded data removed]",
      "text/plain": [
       "<IPython.core.display.Image object>"
      ]
     },
     "metadata": {},
     "output_type": "display_data"
    },
    {
     "name": "stdout",
     "output_type": "stream",
     "text": [
      "test sample number 51 (ground truth value = 3) :\n"
     ]
    },
    {
     "data": {
      "image/png": "[encoded data removed]",
      "text/plain": [
       "<IPython.core.display.Image object>"
      ]
     },
     "metadata": {},
     "output_type": "display_data"
    },
    {
     "name": "stdout",
     "output_type": "stream",
     "text": [
      "test sample number 52 (ground truth value = 5) :\n"
     ]
    },
    {
     "data": {
      "image/png": "[encoded data removed]",
      "text/plain": [
       "<IPython.core.display.Image object>"
      ]
     },
     "metadata": {},
     "output_type": "display_data"
    },
    {
     "name": "stdout",
     "output_type": "stream",
     "text": [
      "test sample number 53 (ground truth value = 5) :\n"
     ]
    },
    {
     "data": {
      "image/png": "[encoded data removed]",
      "text/plain": [
       "<IPython.core.display.Image object>"
      ]
     },
     "metadata": {},
     "output_type": "display_data"
    },
    {
     "name": "stdout",
     "output_type": "stream",
     "text": [
      "test sample number 54 (ground truth value = 6) :\n"
     ]
    },
    {
     "data": {
      "image/png": "[encoded data removed]",
      "text/plain": [
       "<IPython.core.display.Image object>"
      ]
     },
     "metadata": {},
     "output_type": "display_data"
    },
    {
     "name": "stdout",
     "output_type": "stream",
     "text": [
      "test sample number 55 (ground truth value = 0) :\n"
     ]
    },
    {
     "data": {
      "image/png": "[encoded data removed]",
      "text/plain": [
       "<IPython.core.display.Image object>"
      ]
     },
     "metadata": {},
     "output_type": "display_data"
    },
    {
     "name": "stdout",
     "output_type": "stream",
     "text": [
      "test sample number 56 (ground truth value = 4) :\n"
     ]
    },
    {
     "data": {
      "image/png": "[encoded data removed]",
      "text/plain": [
       "<IPython.core.display.Image object>"
      ]
     },
     "metadata": {},
     "output_type": "display_data"
    },
    {
     "name": "stdout",
     "output_type": "stream",
     "text": [
      "test sample number 57 (ground truth value = 1) :\n"
     ]
    },
    {
     "data": {
      "image/png": "[encoded data removed]",
      "text/plain": [
       "<IPython.core.display.Image object>"
      ]
     },
     "metadata": {},
     "output_type": "display_data"
    },
    {
     "name": "stdout",
     "output_type": "stream",
     "text": [
      "test sample number 58 (ground truth value = 9) :\n"
     ]
    },
    {
     "data": {
      "image/png": "[encoded data removed]",
      "text/plain": [
       "<IPython.core.display.Image object>"
      ]
     },
     "metadata": {},
     "output_type": "display_data"
    },
    {
     "name": "stdout",
     "output_type": "stream",
     "text": [
      "test sample number 59 (ground truth value = 5) :\n"
     ]
    },
    {
     "data": {
      "image/png": "[encoded data removed]",
      "text/plain": [
       "<IPython.core.display.Image object>"
      ]
     },
     "metadata": {},
     "output_type": "display_data"
    },
    {
     "name": "stdout",
     "output_type": "stream",
     "text": [
      "test sample number 60 (ground truth value = 7) :\n"
     ]
    },
    {
     "data": {
      "image/png": "[encoded data removed]",
      "text/plain": [
       "<IPython.core.display.Image object>"
      ]
     },
     "metadata": {},
     "output_type": "display_data"
    },
    {
     "name": "stdout",
     "output_type": "stream",
     "text": [
      "test sample number 61 (ground truth value = 8) :\n"
     ]
    },
    {
     "data": {
      "image/png": "[encoded data removed]",
      "text/plain": [
       "<IPython.core.display.Image object>"
      ]
     },
     "metadata": {},
     "output_type": "display_data"
    },
    {
     "name": "stdout",
     "output_type": "stream",
     "text": [
      "test sample number 62 (ground truth value = 9) :\n"
     ]
    },
    {
     "data": {
      "image/png": "[encoded data removed]",
      "text/plain": [
       "<IPython.core.display.Image object>"
      ]
     },
     "metadata": {},
     "output_type": "display_data"
    },
    {
     "name": "stdout",
     "output_type": "stream",
     "text": [
      "test sample number 63 (ground truth value = 3) :\n"
     ]
    },
    {
     "data": {
      "image/png": "[encoded data removed]",
      "text/plain": [
       "<IPython.core.display.Image object>"
      ]
     },
     "metadata": {},
     "output_type": "display_data"
    },
    {
     "name": "stdout",
     "output_type": "stream",
     "text": [
      "test sample number 64 (ground truth value = 7) :\n"
     ]
    },
    {
     "data": {
      "image/png": "[encoded data removed]",
      "text/plain": [
       "<IPython.core.display.Image object>"
      ]
     },
     "metadata": {},
     "output_type": "display_data"
    },
    {
     "name": "stdout",
     "output_type": "stream",
     "text": [
      "test sample number 65 (ground truth value = 4) :\n"
     ]
    },
    {
     "data": {
      "image/png": "[encoded data removed]",
      "text/plain": [
       "<IPython.core.display.Image object>"
      ]
     },
     "metadata": {},
     "output_type": "display_data"
    },
    {
     "name": "stdout",
     "output_type": "stream",
     "text": [
      "test sample number 66 (ground truth value = 6) :\n"
     ]
    },
    {
     "data": {
      "image/png": "[encoded data removed]",
      "text/plain": [
       "<IPython.core.display.Image object>"
      ]
     },
     "metadata": {},
     "output_type": "display_data"
    },
    {
     "name": "stdout",
     "output_type": "stream",
     "text": [
      "test sample number 67 (ground truth value = 4) :\n"
     ]
    },
    {
     "data": {
      "image/png": "[encoded data removed]",
      "text/plain": [
       "<IPython.core.display.Image object>"
      ]
     },
     "metadata": {},
     "output_type": "display_data"
    },
    {
     "name": "stdout",
     "output_type": "stream",
     "text": [
      "test sample number 68 (ground truth value = 3) :\n"
     ]
    },
    {
     "data": {
      "image/png": "[encoded data removed]",
      "text/plain": [
       "<IPython.core.display.Image object>"
      ]
     },
     "metadata": {},
     "output_type": "display_data"
    },
    {
     "name": "stdout",
     "output_type": "stream",
     "text": [
      "test sample number 69 (ground truth value = 0) :\n"
     ]
    },
    {
     "data": {
      "image/png": "[encoded data removed]",
      "text/plain": [
       "<IPython.core.display.Image object>"
      ]
     },
     "metadata": {},
     "output_type": "display_data"
    },
    {
     "name": "stdout",
     "output_type": "stream",
     "text": [
      "test sample number 70 (ground truth value = 7) :\n"
     ]
    },
    {
     "data": {
      "image/png": "[encoded data removed]",
      "text/plain": [
       "<IPython.core.display.Image object>"
      ]
     },
     "metadata": {},
     "output_type": "display_data"
    },
    {
     "name": "stdout",
     "output_type": "stream",
     "text": [
      "test sample number 71 (ground truth value = 0) :\n"
     ]
    },
    {
     "data": {
      "image/png": "[encoded data removed]",
      "text/plain": [
       "<IPython.core.display.Image object>"
      ]
     },
     "metadata": {},
     "output_type": "display_data"
    },
    {
     "name": "stdout",
     "output_type": "stream",
     "text": [
      "test sample number 72 (ground truth value = 2) :\n"
     ]
    },
    {
     "data": {
      "image/png": "[encoded data removed]",
      "text/plain": [
       "<IPython.core.display.Image object>"
      ]
     },
     "metadata": {},
     "output_type": "display_data"
    },
    {
     "name": "stdout",
     "output_type": "stream",
     "text": [
      "test sample number 73 (ground truth value = 9) :\n"
     ]
    },
    {
     "data": {
      "image/png": "[encoded data removed]",
      "text/plain": [
       "<IPython.core.display.Image object>"
      ]
     },
     "metadata": {},
     "output_type": "display_data"
    },
    {
     "name": "stdout",
     "output_type": "stream",
     "text": [
      "test sample number 74 (ground truth value = 1) :\n"
     ]
    },
    {
     "data": {
      "image/png": "[encoded data removed]",
      "text/plain": [
       "<IPython.core.display.Image object>"
      ]
     },
     "metadata": {},
     "output_type": "display_data"
    },
    {
     "name": "stdout",
     "output_type": "stream",
     "text": [
      "test sample number 75 (ground truth value = 7) :\n"
     ]
    },
    {
     "data": {
      "image/png": "[encoded data removed]",
      "text/plain": [
       "<IPython.core.display.Image object>"
      ]
     },
     "metadata": {},
     "output_type": "display_data"
    },
    {
     "name": "stdout",
     "output_type": "stream",
     "text": [
      "test sample number 76 (ground truth value = 3) :\n"
     ]
    },
    {
     "data": {
      "image/png": "[encoded data removed]",
      "text/plain": [
       "<IPython.core.display.Image object>"
      ]
     },
     "metadata": {},
     "output_type": "display_data"
    },
    {
     "name": "stdout",
     "output_type": "stream",
     "text": [
      "test sample number 77 (ground truth value = 2) :\n"
     ]
    },
    {
     "data": {
      "image/png": "[encoded data removed]",
      "text/plain": [
       "<IPython.core.display.Image object>"
      ]
     },
     "metadata": {},
     "output_type": "display_data"
    },
    {
     "name": "stdout",
     "output_type": "stream",
     "text": [
      "test sample number 78 (ground truth value = 9) :\n"
     ]
    },
    {
     "data": {
      "image/png": "[encoded data removed]",
      "text/plain": [
       "<IPython.core.display.Image object>"
      ]
     },
     "metadata": {},
     "output_type": "display_data"
    },
    {
     "name": "stdout",
     "output_type": "stream",
     "text": [
      "test sample number 79 (ground truth value = 7) :\n"
     ]
    },
    {
     "data": {
      "image/png": "[encoded data removed]",
      "text/plain": [
       "<IPython.core.display.Image object>"
      ]
     },
     "metadata": {},
     "output_type": "display_data"
    },
    {
     "name": "stdout",
     "output_type": "stream",
     "text": [
      "test sample number 80 (ground truth value = 7) :\n"
     ]
    },
    {
     "data": {
      "image/png": "[encoded data removed]",
      "text/plain": [
       "<IPython.core.display.Image object>"
      ]
     },
     "metadata": {},
     "output_type": "display_data"
    },
    {
     "name": "stdout",
     "output_type": "stream",
     "text": [
      "test sample number 81 (ground truth value = 6) :\n"
     ]
    },
    {
     "data": {
      "image/png": "[encoded data removed]",
      "text/plain": [
       "<IPython.core.display.Image object>"
      ]
     },
     "metadata": {},
     "output_type": "display_data"
    },
    {
     "name": "stdout",
     "output_type": "stream",
     "text": [
      "test sample number 82 (ground truth value = 2) :\n"
     ]
    },
    {
     "data": {
      "image/png": "[encoded data removed]",
      "text/plain": [
       "<IPython.core.display.Image object>"
      ]
     },
     "metadata": {},
     "output_type": "display_data"
    },
    {
     "name": "stdout",
     "output_type": "stream",
     "text": [
      "test sample number 83 (ground truth value = 7) :\n"
     ]
    },
    {
     "data": {
      "image/png": "[encoded data removed]",
      "text/plain": [
       "<IPython.core.display.Image object>"
      ]
     },
     "metadata": {},
     "output_type": "display_data"
    },
    {
     "name": "stdout",
     "output_type": "stream",
     "text": [
      "test sample number 84 (ground truth value = 8) :\n"
     ]
    },
    {
     "data": {
      "image/png": "[encoded data removed]",
      "text/plain": [
       "<IPython.core.display.Image object>"
      ]
     },
     "metadata": {},
     "output_type": "display_data"
    },
    {
     "name": "stdout",
     "output_type": "stream",
     "text": [
      "test sample number 85 (ground truth value = 4) :\n"
     ]
    },
    {
     "data": {
      "image/png": "[encoded data removed]",
      "text/plain": [
       "<IPython.core.display.Image object>"
      ]
     },
     "metadata": {},
     "output_type": "display_data"
    },
    {
     "name": "stdout",
     "output_type": "stream",
     "text": [
      "test sample number 86 (ground truth value = 7) :\n"
     ]
    },
    {
     "data": {
      "image/png": "[encoded data removed]",
      "text/plain": [
       "<IPython.core.display.Image object>"
      ]
     },
     "metadata": {},
     "output_type": "display_data"
    },
    {
     "name": "stdout",
     "output_type": "stream",
     "text": [
      "test sample number 87 (ground truth value = 3) :\n"
     ]
    },
    {
     "data": {
      "image/png": "[encoded data removed]",
      "text/plain": [
       "<IPython.core.display.Image object>"
      ]
     },
     "metadata": {},
     "output_type": "display_data"
    },
    {
     "name": "stdout",
     "output_type": "stream",
     "text": [
      "test sample number 88 (ground truth value = 6) :\n"
     ]
    },
    {
     "data": {
      "image/png": "[encoded data removed]",
      "text/plain": [
       "<IPython.core.display.Image object>"
      ]
     },
     "metadata": {},
     "output_type": "display_data"
    },
    {
     "name": "stdout",
     "output_type": "stream",
     "text": [
      "test sample number 89 (ground truth value = 1) :\n"
     ]
    },
    {
     "data": {
      "image/png": "[encoded data removed]",
      "text/plain": [
       "<IPython.core.display.Image object>"
      ]
     },
     "metadata": {},
     "output_type": "display_data"
    },
    {
     "name": "stdout",
     "output_type": "stream",
     "text": [
      "test sample number 90 (ground truth value = 3) :\n"
     ]
    },
    {
     "data": {
      "image/png": "[encoded data removed]",
      "text/plain": [
       "<IPython.core.display.Image object>"
      ]
     },
     "metadata": {},
     "output_type": "display_data"
    },
    {
     "name": "stdout",
     "output_type": "stream",
     "text": [
      "test sample number 91 (ground truth value = 6) :\n"
     ]
    },
    {
     "data": {
      "image/png": "[encoded data removed]",
      "text/plain": [
       "<IPython.core.display.Image object>"
      ]
     },
     "metadata": {},
     "output_type": "display_data"
    },
    {
     "name": "stdout",
     "output_type": "stream",
     "text": [
      "test sample number 92 (ground truth value = 9) :\n"
     ]
    },
    {
     "data": {
      "image/png": "[encoded data removed]",
      "text/plain": [
       "<IPython.core.display.Image object>"
      ]
     },
     "metadata": {},
     "output_type": "display_data"
    },
    {
     "name": "stdout",
     "output_type": "stream",
     "text": [
      "test sample number 93 (ground truth value = 3) :\n"
     ]
    },
    {
     "data": {
      "image/png": "[encoded data removed]",
      "text/plain": [
       "<IPython.core.display.Image object>"
      ]
     },
     "metadata": {},
     "output_type": "display_data"
    },
    {
     "name": "stdout",
     "output_type": "stream",
     "text": [
      "test sample number 94 (ground truth value = 1) :\n"
     ]
    },
    {
     "data": {
      "image/png": "[encoded data removed]",
      "text/plain": [
       "<IPython.core.display.Image object>"
      ]
     },
     "metadata": {},
     "output_type": "display_data"
    },
    {
     "name": "stdout",
     "output_type": "stream",
     "text": [
      "test sample number 95 (ground truth value = 4) :\n"
     ]
    },
    {
     "data": {
      "image/png": "[encoded data removed]",
      "text/plain": [
       "<IPython.core.display.Image object>"
      ]
     },
     "metadata": {},
     "output_type": "display_data"
    },
    {
     "name": "stdout",
     "output_type": "stream",
     "text": [
      "test sample number 96 (ground truth value = 1) :\n"
     ]
    },
    {
     "data": {
      "image/png": "[encoded data removed]",
      "text/plain": [
       "<IPython.core.display.Image object>"
      ]
     },
     "metadata": {},
     "output_type": "display_data"
    },
    {
     "name": "stdout",
     "output_type": "stream",
     "text": [
      "test sample number 97 (ground truth value = 7) :\n"
     ]
    },
    {
     "data": {
      "image/png": "[encoded data removed]",
      "text/plain": [
       "<IPython.core.display.Image object>"
      ]
     },
     "metadata": {},
     "output_type": "display_data"
    },
    {
     "name": "stdout",
     "output_type": "stream",
     "text": [
      "test sample number 98 (ground truth value = 6) :\n"
     ]
    },
    {
     "data": {
      "image/png": "[encoded data removed]",
      "text/plain": [
       "<IPython.core.display.Image object>"
      ]
     },
     "metadata": {},
     "output_type": "display_data"
    },
    {
     "name": "stdout",
     "output_type": "stream",
     "text": [
      "test sample number 99 (ground truth value = 9) :\n"
     ]
    },
    {
     "data": {
      "image/png": "[encoded data removed]",
      "text/plain": [
       "<IPython.core.display.Image object>"
      ]
     },
     "metadata": {},
     "output_type": "display_data"
    }
   ],
   "source": [
    "visualize_data(paths, data, data_status, notebook=True)"
   ]
  },
  {
   "cell_type": "markdown",
   "metadata": {},
   "source": [
    "# Model definition and training"
   ]
  },
  {
   "cell_type": "markdown",
   "metadata": {},
   "source": [
    "Defining hyperparameters and callbacks"
   ]
  },
  {
   "cell_type": "code",
   "execution_count": 16,
   "metadata": {},
   "outputs": [],
   "source": [
    "hyperparameters =\\\n",
    "{\n",
    "    'nb_inner_layers': 2,\n",
    "    'nb_neurons_per_layers': 8,\n",
    "    'activation_function': 'sigmoid',\n",
    "    'batch_size': 33,\n",
    "    'nb_epochs': 500,\n",
    "    'loss': 'mean_squared_error',\n",
    "    'optimizer': 'sgd',\n",
    "    'metrics': ['categorical_accuracy']\n",
    "}\n",
    "\n",
    "callbacks = [TensorBoard(log_dir=paths['model'], histogram_freq=1, batch_size=hyperparameters['batch_size']),\n",
    "             ModelCheckpoint(os.path.join(paths['model'], 'weights.hdf5'))]"
   ]
  },
  {
   "cell_type": "markdown",
   "metadata": {},
   "source": [
    "Creating model"
   ]
  },
  {
   "cell_type": "code",
   "execution_count": 17,
   "metadata": {},
   "outputs": [],
   "source": [
    "model = create_model(hyperparameters)"
   ]
  },
  {
   "cell_type": "markdown",
   "metadata": {},
   "source": [
    "Saving model"
   ]
  },
  {
   "cell_type": "code",
   "execution_count": 12,
   "metadata": {},
   "outputs": [
    {
     "data": {
      "image/png": "[encoded data removed]",
      "text/plain": [
       "<IPython.core.display.Image object>"
      ]
     },
     "metadata": {},
     "output_type": "display_data"
    }
   ],
   "source": [
    "with open(os.path.join(paths['model'],'model.json'), 'w') as json_file:\n",
    "    json_file.write(model.to_json())"
   ]
  },
  {
   "cell_type": "markdown",
   "metadata": {},
   "source": [
    "Training model"
   ]
  },
  {
   "cell_type": "code",
   "execution_count": 18,
   "metadata": {
    "scrolled": true
   },
   "outputs": [
    {
     "name": "stdout",
     "output_type": "stream",
     "text": [
      "Train on 48000 samples, validate on 12000 samples\n",
      "Epoch 1/500\n",
      "48000/48000 [==============================] - 1s 27us/step - loss: 0.1123 - categorical_accuracy: 0.1177 - val_loss: 0.0892 - val_categorical_accuracy: 0.1465\n",
      "Epoch 2/500\n",
      "48000/48000 [==============================] - 2s 35us/step - loss: 0.0883 - categorical_accuracy: 0.1957 - val_loss: 0.0872 - val_categorical_accuracy: 0.2288\n",
      "Epoch 3/500\n",
      "48000/48000 [==============================] - 1s 25us/step - loss: 0.0867 - categorical_accuracy: 0.2551 - val_loss: 0.0858 - val_categorical_accuracy: 0.2765\n",
      "Epoch 4/500\n",
      "48000/48000 [==============================] - 1s 26us/step - loss: 0.0853 - categorical_accuracy: 0.3001 - val_loss: 0.0846 - val_categorical_accuracy: 0.3197\n",
      "Epoch 5/500\n",
      "48000/48000 [==============================] - 1s 30us/step - loss: 0.0841 - categorical_accuracy: 0.3464 - val_loss: 0.0835 - val_categorical_accuracy: 0.3643\n",
      "Epoch 6/500\n",
      "48000/48000 [==============================] - 1s 27us/step - loss: 0.0831 - categorical_accuracy: 0.3736 - val_loss: 0.0827 - val_categorical_accuracy: 0.3808\n",
      "Epoch 7/500\n",
      "48000/48000 [==============================] - 2s 33us/step - loss: 0.0824 - categorical_accuracy: 0.3853 - val_loss: 0.0820 - val_categorical_accuracy: 0.3903\n",
      "Epoch 8/500\n",
      "48000/48000 [==============================] - 1s 30us/step - loss: 0.0818 - categorical_accuracy: 0.3962 - val_loss: 0.0814 - val_categorical_accuracy: 0.3946\n",
      "Epoch 9/500\n",
      "48000/48000 [==============================] - 1s 25us/step - loss: 0.0813 - categorical_accuracy: 0.4000 - val_loss: 0.0810 - val_categorical_accuracy: 0.3999\n",
      "Epoch 10/500\n",
      "48000/48000 [==============================] - 1s 26us/step - loss: 0.0808 - categorical_accuracy: 0.4038 - val_loss: 0.0805 - val_categorical_accuracy: 0.4042\n",
      "Epoch 11/500\n",
      "48000/48000 [==============================] - 1s 30us/step - loss: 0.0804 - categorical_accuracy: 0.4092 - val_loss: 0.0801 - val_categorical_accuracy: 0.4087\n",
      "Epoch 12/500\n",
      "48000/48000 [==============================] - 2s 35us/step - loss: 0.0799 - categorical_accuracy: 0.4142 - val_loss: 0.0797 - val_categorical_accuracy: 0.4125\n",
      "Epoch 13/500\n",
      "48000/48000 [==============================] - 2s 34us/step - loss: 0.0795 - categorical_accuracy: 0.4176 - val_loss: 0.0793 - val_categorical_accuracy: 0.4162\n",
      "Epoch 14/500\n",
      "48000/48000 [==============================] - 2s 34us/step - loss: 0.0791 - categorical_accuracy: 0.4217 - val_loss: 0.0789 - val_categorical_accuracy: 0.4202\n",
      "Epoch 15/500\n",
      "48000/48000 [==============================] - 1s 30us/step - loss: 0.0787 - categorical_accuracy: 0.4259 - val_loss: 0.0785 - val_categorical_accuracy: 0.4253\n",
      "Epoch 16/500\n",
      "48000/48000 [==============================] - 1s 30us/step - loss: 0.0783 - categorical_accuracy: 0.4320 - val_loss: 0.0781 - val_categorical_accuracy: 0.4276\n",
      "Epoch 17/500\n",
      "48000/48000 [==============================] - 2s 31us/step - loss: 0.0779 - categorical_accuracy: 0.4342 - val_loss: 0.0777 - val_categorical_accuracy: 0.4302\n",
      "Epoch 18/500\n",
      "48000/48000 [==============================] - 2s 33us/step - loss: 0.0775 - categorical_accuracy: 0.4373 - val_loss: 0.0774 - val_categorical_accuracy: 0.4313\n",
      "Epoch 19/500\n",
      "48000/48000 [==============================] - 1s 29us/step - loss: 0.0772 - categorical_accuracy: 0.4378 - val_loss: 0.0770 - val_categorical_accuracy: 0.4329\n",
      "Epoch 20/500\n",
      "48000/48000 [==============================] - 1s 30us/step - loss: 0.0768 - categorical_accuracy: 0.4383 - val_loss: 0.0766 - val_categorical_accuracy: 0.4342\n",
      "Epoch 21/500\n",
      "48000/48000 [==============================] - 1s 27us/step - loss: 0.0764 - categorical_accuracy: 0.4399 - val_loss: 0.0763 - val_categorical_accuracy: 0.4341\n",
      "Epoch 22/500\n",
      "48000/48000 [==============================] - 1s 26us/step - loss: 0.0760 - categorical_accuracy: 0.4410 - val_loss: 0.0759 - val_categorical_accuracy: 0.4510\n",
      "Epoch 23/500\n",
      "48000/48000 [==============================] - 2s 33us/step - loss: 0.0757 - categorical_accuracy: 0.4414 - val_loss: 0.0756 - val_categorical_accuracy: 0.4361\n",
      "Epoch 24/500\n",
      "48000/48000 [==============================] - 1s 29us/step - loss: 0.0754 - categorical_accuracy: 0.4432 - val_loss: 0.0753 - val_categorical_accuracy: 0.4516\n",
      "Epoch 25/500\n",
      "48000/48000 [==============================] - 1s 28us/step - loss: 0.0750 - categorical_accuracy: 0.4462 - val_loss: 0.0749 - val_categorical_accuracy: 0.4429\n",
      "Epoch 26/500\n",
      "48000/48000 [==============================] - 1s 29us/step - loss: 0.0747 - categorical_accuracy: 0.4468 - val_loss: 0.0746 - val_categorical_accuracy: 0.4552\n",
      "Epoch 27/500\n",
      "48000/48000 [==============================] - 1s 25us/step - loss: 0.0744 - categorical_accuracy: 0.4501 - val_loss: 0.0743 - val_categorical_accuracy: 0.4548\n",
      "Epoch 28/500\n",
      "48000/48000 [==============================] - 1s 29us/step - loss: 0.0741 - categorical_accuracy: 0.4480 - val_loss: 0.0740 - val_categorical_accuracy: 0.4402\n",
      "Epoch 29/500\n",
      "48000/48000 [==============================] - 1s 26us/step - loss: 0.0738 - categorical_accuracy: 0.4473 - val_loss: 0.0737 - val_categorical_accuracy: 0.4602\n",
      "Epoch 30/500\n",
      "48000/48000 [==============================] - 1s 30us/step - loss: 0.0734 - categorical_accuracy: 0.4524 - val_loss: 0.0734 - val_categorical_accuracy: 0.4597\n",
      "Epoch 31/500\n",
      "48000/48000 [==============================] - 1s 26us/step - loss: 0.0732 - categorical_accuracy: 0.4534 - val_loss: 0.0731 - val_categorical_accuracy: 0.4619\n",
      "Epoch 32/500\n",
      "48000/48000 [==============================] - 1s 27us/step - loss: 0.0729 - categorical_accuracy: 0.4485 - val_loss: 0.0729 - val_categorical_accuracy: 0.4439\n",
      "Epoch 33/500\n",
      "48000/48000 [==============================] - 2s 33us/step - loss: 0.0726 - categorical_accuracy: 0.4441 - val_loss: 0.0726 - val_categorical_accuracy: 0.4632\n",
      "Epoch 34/500\n",
      "48000/48000 [==============================] - 1s 30us/step - loss: 0.0723 - categorical_accuracy: 0.4470 - val_loss: 0.0723 - val_categorical_accuracy: 0.4478\n",
      "Epoch 35/500\n",
      "48000/48000 [==============================] - 1s 24us/step - loss: 0.0720 - categorical_accuracy: 0.4425 - val_loss: 0.0720 - val_categorical_accuracy: 0.4484\n",
      "Epoch 36/500\n",
      "48000/48000 [==============================] - 1s 29us/step - loss: 0.0717 - categorical_accuracy: 0.4430 - val_loss: 0.0718 - val_categorical_accuracy: 0.4505\n",
      "Epoch 37/500\n",
      "48000/48000 [==============================] - 1s 24us/step - loss: 0.0714 - categorical_accuracy: 0.4438 - val_loss: 0.0715 - val_categorical_accuracy: 0.4517\n",
      "Epoch 38/500\n",
      "48000/48000 [==============================] - 1s 24us/step - loss: 0.0712 - categorical_accuracy: 0.4447 - val_loss: 0.0713 - val_categorical_accuracy: 0.4516\n",
      "Epoch 39/500\n",
      "48000/48000 [==============================] - 1s 30us/step - loss: 0.0709 - categorical_accuracy: 0.4458 - val_loss: 0.0710 - val_categorical_accuracy: 0.4523\n",
      "Epoch 40/500\n",
      "48000/48000 [==============================] - 1s 25us/step - loss: 0.0707 - categorical_accuracy: 0.4462 - val_loss: 0.0708 - val_categorical_accuracy: 0.4543\n",
      "Epoch 41/500\n",
      "48000/48000 [==============================] - 1s 24us/step - loss: 0.0704 - categorical_accuracy: 0.4477 - val_loss: 0.0705 - val_categorical_accuracy: 0.4553\n",
      "Epoch 42/500\n",
      "48000/48000 [==============================] - 1s 25us/step - loss: 0.0702 - categorical_accuracy: 0.4489 - val_loss: 0.0703 - val_categorical_accuracy: 0.4555\n",
      "Epoch 43/500\n",
      "48000/48000 [==============================] - 1s 26us/step - loss: 0.0699 - categorical_accuracy: 0.4505 - val_loss: 0.0701 - val_categorical_accuracy: 0.4566\n",
      "Epoch 44/500\n",
      "48000/48000 [==============================] - 1s 25us/step - loss: 0.0697 - categorical_accuracy: 0.4528 - val_loss: 0.0698 - val_categorical_accuracy: 0.4582\n",
      "Epoch 45/500\n",
      "48000/48000 [==============================] - 1s 28us/step - loss: 0.0695 - categorical_accuracy: 0.4533 - val_loss: 0.0696 - val_categorical_accuracy: 0.4590\n",
      "Epoch 46/500\n",
      "48000/48000 [==============================] - 1s 30us/step - loss: 0.0692 - categorical_accuracy: 0.4546 - val_loss: 0.0694 - val_categorical_accuracy: 0.4603\n",
      "Epoch 47/500\n",
      "48000/48000 [==============================] - 1s 28us/step - loss: 0.0690 - categorical_accuracy: 0.4555 - val_loss: 0.0692 - val_categorical_accuracy: 0.4607\n",
      "Epoch 48/500\n"
     ]
    },
    {
     "name": "stdout",
     "output_type": "stream",
     "text": [
      "48000/48000 [==============================] - 1s 30us/step - loss: 0.0688 - categorical_accuracy: 0.4577 - val_loss: 0.0689 - val_categorical_accuracy: 0.4633\n",
      "Epoch 49/500\n",
      "48000/48000 [==============================] - 1s 31us/step - loss: 0.0685 - categorical_accuracy: 0.4593 - val_loss: 0.0687 - val_categorical_accuracy: 0.4641\n",
      "Epoch 50/500\n",
      "48000/48000 [==============================] - 1s 23us/step - loss: 0.0683 - categorical_accuracy: 0.4622 - val_loss: 0.0685 - val_categorical_accuracy: 0.4675\n",
      "Epoch 51/500\n",
      "48000/48000 [==============================] - 1s 24us/step - loss: 0.0680 - categorical_accuracy: 0.4661 - val_loss: 0.0682 - val_categorical_accuracy: 0.4707\n",
      "Epoch 52/500\n",
      "48000/48000 [==============================] - 1s 24us/step - loss: 0.0678 - categorical_accuracy: 0.4684 - val_loss: 0.0680 - val_categorical_accuracy: 0.5306\n",
      "Epoch 53/500\n",
      "48000/48000 [==============================] - 1s 28us/step - loss: 0.0675 - categorical_accuracy: 0.4808 - val_loss: 0.0677 - val_categorical_accuracy: 0.4840\n",
      "Epoch 54/500\n",
      "48000/48000 [==============================] - 1s 24us/step - loss: 0.0672 - categorical_accuracy: 0.4846 - val_loss: 0.0674 - val_categorical_accuracy: 0.4931\n",
      "Epoch 55/500\n",
      "48000/48000 [==============================] - 1s 24us/step - loss: 0.0669 - categorical_accuracy: 0.4915 - val_loss: 0.0671 - val_categorical_accuracy: 0.4997\n",
      "Epoch 56/500\n",
      "48000/48000 [==============================] - 1s 27us/step - loss: 0.0666 - categorical_accuracy: 0.4981 - val_loss: 0.0667 - val_categorical_accuracy: 0.5057\n",
      "Epoch 57/500\n",
      "48000/48000 [==============================] - 1s 24us/step - loss: 0.0663 - categorical_accuracy: 0.5007 - val_loss: 0.0664 - val_categorical_accuracy: 0.5084\n",
      "Epoch 58/500\n",
      "48000/48000 [==============================] - 1s 26us/step - loss: 0.0660 - categorical_accuracy: 0.5044 - val_loss: 0.0662 - val_categorical_accuracy: 0.5114\n",
      "Epoch 59/500\n",
      "48000/48000 [==============================] - 1s 24us/step - loss: 0.0657 - categorical_accuracy: 0.5101 - val_loss: 0.0658 - val_categorical_accuracy: 0.5186\n",
      "Epoch 60/500\n",
      "48000/48000 [==============================] - 1s 29us/step - loss: 0.0654 - categorical_accuracy: 0.5124 - val_loss: 0.0655 - val_categorical_accuracy: 0.5313\n",
      "Epoch 61/500\n",
      "48000/48000 [==============================] - 1s 26us/step - loss: 0.0650 - categorical_accuracy: 0.5251 - val_loss: 0.0652 - val_categorical_accuracy: 0.5233\n",
      "Epoch 62/500\n",
      "48000/48000 [==============================] - 1s 27us/step - loss: 0.0647 - categorical_accuracy: 0.5234 - val_loss: 0.0649 - val_categorical_accuracy: 0.5242\n",
      "Epoch 63/500\n",
      "48000/48000 [==============================] - 2s 32us/step - loss: 0.0645 - categorical_accuracy: 0.5263 - val_loss: 0.0646 - val_categorical_accuracy: 0.5342\n",
      "Epoch 64/500\n",
      "48000/48000 [==============================] - 1s 27us/step - loss: 0.0642 - categorical_accuracy: 0.5327 - val_loss: 0.0644 - val_categorical_accuracy: 0.5364\n",
      "Epoch 65/500\n",
      "48000/48000 [==============================] - 1s 26us/step - loss: 0.0639 - categorical_accuracy: 0.5364 - val_loss: 0.0642 - val_categorical_accuracy: 0.5365\n",
      "Epoch 66/500\n",
      "48000/48000 [==============================] - 1s 30us/step - loss: 0.0636 - categorical_accuracy: 0.5340 - val_loss: 0.0639 - val_categorical_accuracy: 0.5373\n",
      "Epoch 67/500\n",
      "48000/48000 [==============================] - 1s 30us/step - loss: 0.0634 - categorical_accuracy: 0.5383 - val_loss: 0.0637 - val_categorical_accuracy: 0.5360\n",
      "Epoch 68/500\n",
      "48000/48000 [==============================] - 2s 35us/step - loss: 0.0631 - categorical_accuracy: 0.5380 - val_loss: 0.0634 - val_categorical_accuracy: 0.5384\n",
      "Epoch 69/500\n",
      "48000/48000 [==============================] - 2s 34us/step - loss: 0.0629 - categorical_accuracy: 0.5391 - val_loss: 0.0631 - val_categorical_accuracy: 0.5370\n",
      "Epoch 70/500\n",
      "48000/48000 [==============================] - 1s 29us/step - loss: 0.0626 - categorical_accuracy: 0.5393 - val_loss: 0.0629 - val_categorical_accuracy: 0.5393\n",
      "Epoch 71/500\n",
      "48000/48000 [==============================] - 1s 28us/step - loss: 0.0624 - categorical_accuracy: 0.5399 - val_loss: 0.0626 - val_categorical_accuracy: 0.5393\n",
      "Epoch 72/500\n",
      "48000/48000 [==============================] - 1s 30us/step - loss: 0.0621 - categorical_accuracy: 0.5404 - val_loss: 0.0624 - val_categorical_accuracy: 0.5410\n",
      "Epoch 73/500\n",
      "48000/48000 [==============================] - 1s 31us/step - loss: 0.0619 - categorical_accuracy: 0.5412 - val_loss: 0.0622 - val_categorical_accuracy: 0.5390\n",
      "Epoch 74/500\n",
      "48000/48000 [==============================] - 1s 30us/step - loss: 0.0616 - categorical_accuracy: 0.5404 - val_loss: 0.0619 - val_categorical_accuracy: 0.5417\n",
      "Epoch 75/500\n",
      "48000/48000 [==============================] - 2s 32us/step - loss: 0.0614 - categorical_accuracy: 0.5417 - val_loss: 0.0617 - val_categorical_accuracy: 0.5407\n",
      "Epoch 76/500\n",
      "48000/48000 [==============================] - 1s 30us/step - loss: 0.0612 - categorical_accuracy: 0.5422 - val_loss: 0.0615 - val_categorical_accuracy: 0.5420\n",
      "Epoch 77/500\n",
      "48000/48000 [==============================] - 2s 38us/step - loss: 0.0609 - categorical_accuracy: 0.5425 - val_loss: 0.0613 - val_categorical_accuracy: 0.5427\n",
      "Epoch 78/500\n",
      "48000/48000 [==============================] - 2s 33us/step - loss: 0.0607 - categorical_accuracy: 0.5438 - val_loss: 0.0611 - val_categorical_accuracy: 0.5406\n",
      "Epoch 79/500\n",
      "48000/48000 [==============================] - 1s 30us/step - loss: 0.0605 - categorical_accuracy: 0.5430 - val_loss: 0.0608 - val_categorical_accuracy: 0.5442\n",
      "Epoch 80/500\n",
      "48000/48000 [==============================] - 1s 27us/step - loss: 0.0603 - categorical_accuracy: 0.5434 - val_loss: 0.0606 - val_categorical_accuracy: 0.5433\n",
      "Epoch 81/500\n",
      "48000/48000 [==============================] - 1s 28us/step - loss: 0.0601 - categorical_accuracy: 0.5440 - val_loss: 0.0604 - val_categorical_accuracy: 0.5435\n",
      "Epoch 82/500\n",
      "48000/48000 [==============================] - 2s 33us/step - loss: 0.0598 - categorical_accuracy: 0.5445 - val_loss: 0.0602 - val_categorical_accuracy: 0.5425\n",
      "Epoch 83/500\n",
      "48000/48000 [==============================] - 1s 26us/step - loss: 0.0596 - categorical_accuracy: 0.5444 - val_loss: 0.0600 - val_categorical_accuracy: 0.5454\n",
      "Epoch 84/500\n",
      "48000/48000 [==============================] - 1s 25us/step - loss: 0.0594 - categorical_accuracy: 0.5454 - val_loss: 0.0598 - val_categorical_accuracy: 0.5458\n",
      "Epoch 85/500\n",
      "48000/48000 [==============================] - 1s 27us/step - loss: 0.0592 - categorical_accuracy: 0.5460 - val_loss: 0.0595 - val_categorical_accuracy: 0.5451\n",
      "Epoch 86/500\n",
      "48000/48000 [==============================] - 1s 25us/step - loss: 0.0590 - categorical_accuracy: 0.5468 - val_loss: 0.0594 - val_categorical_accuracy: 0.5439\n",
      "Epoch 87/500\n",
      "48000/48000 [==============================] - 1s 25us/step - loss: 0.0588 - categorical_accuracy: 0.5451 - val_loss: 0.0592 - val_categorical_accuracy: 0.5452\n",
      "Epoch 88/500\n",
      "48000/48000 [==============================] - 1s 29us/step - loss: 0.0586 - categorical_accuracy: 0.5453 - val_loss: 0.0590 - val_categorical_accuracy: 0.5381\n",
      "Epoch 89/500\n",
      "48000/48000 [==============================] - 1s 29us/step - loss: 0.0584 - categorical_accuracy: 0.5462 - val_loss: 0.0588 - val_categorical_accuracy: 0.5451\n",
      "Epoch 90/500\n",
      "48000/48000 [==============================] - 2s 35us/step - loss: 0.0582 - categorical_accuracy: 0.5489 - val_loss: 0.0587 - val_categorical_accuracy: 0.5450\n",
      "Epoch 91/500\n",
      "48000/48000 [==============================] - 2s 41us/step - loss: 0.0580 - categorical_accuracy: 0.5491 - val_loss: 0.0584 - val_categorical_accuracy: 0.5387\n",
      "Epoch 92/500\n",
      "48000/48000 [==============================] - 1s 30us/step - loss: 0.0578 - categorical_accuracy: 0.5492 - val_loss: 0.0582 - val_categorical_accuracy: 0.5399\n",
      "Epoch 93/500\n",
      "48000/48000 [==============================] - 1s 30us/step - loss: 0.0576 - categorical_accuracy: 0.5499 - val_loss: 0.0581 - val_categorical_accuracy: 0.5402\n",
      "Epoch 94/500\n",
      "48000/48000 [==============================] - 2s 33us/step - loss: 0.0574 - categorical_accuracy: 0.5500 - val_loss: 0.0579 - val_categorical_accuracy: 0.5404\n",
      "Epoch 95/500\n"
     ]
    },
    {
     "name": "stdout",
     "output_type": "stream",
     "text": [
      "48000/48000 [==============================] - 1s 27us/step - loss: 0.0572 - categorical_accuracy: 0.5502 - val_loss: 0.0577 - val_categorical_accuracy: 0.5406\n",
      "Epoch 96/500\n",
      "48000/48000 [==============================] - 1s 28us/step - loss: 0.0571 - categorical_accuracy: 0.5511 - val_loss: 0.0576 - val_categorical_accuracy: 0.5407\n",
      "Epoch 97/500\n",
      "48000/48000 [==============================] - 1s 30us/step - loss: 0.0569 - categorical_accuracy: 0.5518 - val_loss: 0.0574 - val_categorical_accuracy: 0.5398\n",
      "Epoch 98/500\n",
      "48000/48000 [==============================] - 1s 27us/step - loss: 0.0567 - categorical_accuracy: 0.5512 - val_loss: 0.0572 - val_categorical_accuracy: 0.5422\n",
      "Epoch 99/500\n",
      "48000/48000 [==============================] - 1s 28us/step - loss: 0.0566 - categorical_accuracy: 0.5522 - val_loss: 0.0571 - val_categorical_accuracy: 0.5422\n",
      "Epoch 100/500\n",
      "48000/48000 [==============================] - 2s 32us/step - loss: 0.0564 - categorical_accuracy: 0.5522 - val_loss: 0.0569 - val_categorical_accuracy: 0.5455\n",
      "Epoch 101/500\n",
      "48000/48000 [==============================] - 1s 30us/step - loss: 0.0563 - categorical_accuracy: 0.5521 - val_loss: 0.0568 - val_categorical_accuracy: 0.5422\n",
      "Epoch 102/500\n",
      "48000/48000 [==============================] - 2s 32us/step - loss: 0.0561 - categorical_accuracy: 0.5531 - val_loss: 0.0567 - val_categorical_accuracy: 0.5462\n",
      "Epoch 103/500\n",
      "48000/48000 [==============================] - 2s 41us/step - loss: 0.0559 - categorical_accuracy: 0.5553 - val_loss: 0.0565 - val_categorical_accuracy: 0.5450\n",
      "Epoch 104/500\n",
      "48000/48000 [==============================] - 1s 27us/step - loss: 0.0558 - categorical_accuracy: 0.5552 - val_loss: 0.0563 - val_categorical_accuracy: 0.5454\n",
      "Epoch 105/500\n",
      "48000/48000 [==============================] - 1s 28us/step - loss: 0.0557 - categorical_accuracy: 0.5562 - val_loss: 0.0562 - val_categorical_accuracy: 0.5480\n",
      "Epoch 106/500\n",
      "48000/48000 [==============================] - 1s 27us/step - loss: 0.0555 - categorical_accuracy: 0.5569 - val_loss: 0.0561 - val_categorical_accuracy: 0.5478\n",
      "Epoch 107/500\n",
      "48000/48000 [==============================] - 1s 30us/step - loss: 0.0554 - categorical_accuracy: 0.5571 - val_loss: 0.0559 - val_categorical_accuracy: 0.5486\n",
      "Epoch 108/500\n",
      "48000/48000 [==============================] - 1s 25us/step - loss: 0.0552 - categorical_accuracy: 0.5572 - val_loss: 0.0558 - val_categorical_accuracy: 0.5482\n",
      "Epoch 109/500\n",
      "48000/48000 [==============================] - 1s 26us/step - loss: 0.0551 - categorical_accuracy: 0.5578 - val_loss: 0.0556 - val_categorical_accuracy: 0.5482\n",
      "Epoch 110/500\n",
      "48000/48000 [==============================] - 1s 27us/step - loss: 0.0550 - categorical_accuracy: 0.5576 - val_loss: 0.0556 - val_categorical_accuracy: 0.5479\n",
      "Epoch 111/500\n",
      "48000/48000 [==============================] - 1s 31us/step - loss: 0.0548 - categorical_accuracy: 0.5577 - val_loss: 0.0554 - val_categorical_accuracy: 0.5491\n",
      "Epoch 112/500\n",
      "48000/48000 [==============================] - 2s 36us/step - loss: 0.0547 - categorical_accuracy: 0.5583 - val_loss: 0.0553 - val_categorical_accuracy: 0.5485\n",
      "Epoch 113/500\n",
      "48000/48000 [==============================] - 2s 33us/step - loss: 0.0546 - categorical_accuracy: 0.5583 - val_loss: 0.0552 - val_categorical_accuracy: 0.5491\n",
      "Epoch 114/500\n",
      "48000/48000 [==============================] - 2s 32us/step - loss: 0.0544 - categorical_accuracy: 0.5585 - val_loss: 0.0550 - val_categorical_accuracy: 0.5487\n",
      "Epoch 115/500\n",
      "48000/48000 [==============================] - 1s 30us/step - loss: 0.0543 - categorical_accuracy: 0.5583 - val_loss: 0.0549 - val_categorical_accuracy: 0.5497\n",
      "Epoch 116/500\n",
      "48000/48000 [==============================] - 1s 30us/step - loss: 0.0542 - categorical_accuracy: 0.5589 - val_loss: 0.0548 - val_categorical_accuracy: 0.5490\n",
      "Epoch 117/500\n",
      "48000/48000 [==============================] - 2s 40us/step - loss: 0.0541 - categorical_accuracy: 0.5590 - val_loss: 0.0547 - val_categorical_accuracy: 0.5492\n",
      "Epoch 118/500\n",
      "48000/48000 [==============================] - 2s 32us/step - loss: 0.0540 - categorical_accuracy: 0.5593 - val_loss: 0.0545 - val_categorical_accuracy: 0.5504\n",
      "Epoch 119/500\n",
      "48000/48000 [==============================] - 2s 36us/step - loss: 0.0538 - categorical_accuracy: 0.5595 - val_loss: 0.0544 - val_categorical_accuracy: 0.5496\n",
      "Epoch 120/500\n",
      "48000/48000 [==============================] - 1s 28us/step - loss: 0.0537 - categorical_accuracy: 0.5592 - val_loss: 0.0543 - val_categorical_accuracy: 0.5505\n",
      "Epoch 121/500\n",
      "48000/48000 [==============================] - 2s 35us/step - loss: 0.0536 - categorical_accuracy: 0.5596 - val_loss: 0.0542 - val_categorical_accuracy: 0.5493\n",
      "Epoch 122/500\n",
      "48000/48000 [==============================] - 2s 32us/step - loss: 0.0535 - categorical_accuracy: 0.5600 - val_loss: 0.0541 - val_categorical_accuracy: 0.5501\n",
      "Epoch 123/500\n",
      "48000/48000 [==============================] - 1s 30us/step - loss: 0.0534 - categorical_accuracy: 0.5602 - val_loss: 0.0540 - val_categorical_accuracy: 0.5497\n",
      "Epoch 124/500\n",
      "48000/48000 [==============================] - 1s 26us/step - loss: 0.0533 - categorical_accuracy: 0.5603 - val_loss: 0.0539 - val_categorical_accuracy: 0.5507\n",
      "Epoch 125/500\n",
      "48000/48000 [==============================] - 1s 29us/step - loss: 0.0532 - categorical_accuracy: 0.5602 - val_loss: 0.0539 - val_categorical_accuracy: 0.5506\n",
      "Epoch 126/500\n",
      "48000/48000 [==============================] - 1s 29us/step - loss: 0.0530 - categorical_accuracy: 0.5604 - val_loss: 0.0538 - val_categorical_accuracy: 0.5507\n",
      "Epoch 127/500\n",
      "48000/48000 [==============================] - 2s 32us/step - loss: 0.0530 - categorical_accuracy: 0.5606 - val_loss: 0.0537 - val_categorical_accuracy: 0.5507\n",
      "Epoch 128/500\n",
      "48000/48000 [==============================] - 1s 25us/step - loss: 0.0529 - categorical_accuracy: 0.5605 - val_loss: 0.0536 - val_categorical_accuracy: 0.5499\n",
      "Epoch 129/500\n",
      "48000/48000 [==============================] - 1s 27us/step - loss: 0.0528 - categorical_accuracy: 0.5609 - val_loss: 0.0535 - val_categorical_accuracy: 0.5508\n",
      "Epoch 130/500\n",
      "48000/48000 [==============================] - 1s 27us/step - loss: 0.0527 - categorical_accuracy: 0.5607 - val_loss: 0.0534 - val_categorical_accuracy: 0.5516\n",
      "Epoch 131/500\n",
      "48000/48000 [==============================] - 1s 31us/step - loss: 0.0526 - categorical_accuracy: 0.5609 - val_loss: 0.0533 - val_categorical_accuracy: 0.5504\n",
      "Epoch 132/500\n",
      "48000/48000 [==============================] - 1s 25us/step - loss: 0.0525 - categorical_accuracy: 0.5612 - val_loss: 0.0532 - val_categorical_accuracy: 0.5507\n",
      "Epoch 133/500\n",
      "48000/48000 [==============================] - 1s 26us/step - loss: 0.0524 - categorical_accuracy: 0.5613 - val_loss: 0.0532 - val_categorical_accuracy: 0.5502\n",
      "Epoch 134/500\n",
      "48000/48000 [==============================] - 2s 38us/step - loss: 0.0523 - categorical_accuracy: 0.5614 - val_loss: 0.0531 - val_categorical_accuracy: 0.5502\n",
      "Epoch 135/500\n",
      "48000/48000 [==============================] - 2s 35us/step - loss: 0.0522 - categorical_accuracy: 0.5614 - val_loss: 0.0530 - val_categorical_accuracy: 0.5509\n",
      "Epoch 136/500\n",
      "48000/48000 [==============================] - 2s 32us/step - loss: 0.0522 - categorical_accuracy: 0.5613 - val_loss: 0.0530 - val_categorical_accuracy: 0.5503\n",
      "Epoch 137/500\n",
      "48000/48000 [==============================] - 2s 40us/step - loss: 0.0521 - categorical_accuracy: 0.5616 - val_loss: 0.0529 - val_categorical_accuracy: 0.5510\n",
      "Epoch 138/500\n",
      "48000/48000 [==============================] - 1s 29us/step - loss: 0.0520 - categorical_accuracy: 0.5617 - val_loss: 0.0528 - val_categorical_accuracy: 0.5510\n",
      "Epoch 139/500\n",
      "48000/48000 [==============================] - 2s 33us/step - loss: 0.0519 - categorical_accuracy: 0.5621 - val_loss: 0.0528 - val_categorical_accuracy: 0.5507\n",
      "Epoch 140/500\n",
      "48000/48000 [==============================] - 1s 31us/step - loss: 0.0518 - categorical_accuracy: 0.5622 - val_loss: 0.0527 - val_categorical_accuracy: 0.5505\n",
      "Epoch 141/500\n",
      "48000/48000 [==============================] - 1s 30us/step - loss: 0.0518 - categorical_accuracy: 0.5624 - val_loss: 0.0526 - val_categorical_accuracy: 0.5511\n",
      "Epoch 142/500\n"
     ]
    },
    {
     "name": "stdout",
     "output_type": "stream",
     "text": [
      "48000/48000 [==============================] - 2s 33us/step - loss: 0.0517 - categorical_accuracy: 0.5627 - val_loss: 0.0525 - val_categorical_accuracy: 0.5513\n",
      "Epoch 143/500\n",
      "48000/48000 [==============================] - 1s 28us/step - loss: 0.0516 - categorical_accuracy: 0.5622 - val_loss: 0.0525 - val_categorical_accuracy: 0.5507\n",
      "Epoch 144/500\n",
      "48000/48000 [==============================] - 1s 28us/step - loss: 0.0515 - categorical_accuracy: 0.5621 - val_loss: 0.0525 - val_categorical_accuracy: 0.5507\n",
      "Epoch 145/500\n",
      "48000/48000 [==============================] - 1s 28us/step - loss: 0.0515 - categorical_accuracy: 0.5625 - val_loss: 0.0524 - val_categorical_accuracy: 0.5505\n",
      "Epoch 146/500\n",
      "48000/48000 [==============================] - 1s 25us/step - loss: 0.0514 - categorical_accuracy: 0.5625 - val_loss: 0.0523 - val_categorical_accuracy: 0.5511\n",
      "Epoch 147/500\n",
      "48000/48000 [==============================] - 1s 26us/step - loss: 0.0514 - categorical_accuracy: 0.5624 - val_loss: 0.0523 - val_categorical_accuracy: 0.5509\n",
      "Epoch 148/500\n",
      "48000/48000 [==============================] - 1s 28us/step - loss: 0.0513 - categorical_accuracy: 0.5630 - val_loss: 0.0521 - val_categorical_accuracy: 0.5512\n",
      "Epoch 149/500\n",
      "48000/48000 [==============================] - 1s 31us/step - loss: 0.0512 - categorical_accuracy: 0.5628 - val_loss: 0.0521 - val_categorical_accuracy: 0.5515\n",
      "Epoch 150/500\n",
      "48000/48000 [==============================] - 1s 25us/step - loss: 0.0512 - categorical_accuracy: 0.5629 - val_loss: 0.0521 - val_categorical_accuracy: 0.5508\n",
      "Epoch 151/500\n",
      "48000/48000 [==============================] - 1s 25us/step - loss: 0.0511 - categorical_accuracy: 0.5629 - val_loss: 0.0520 - val_categorical_accuracy: 0.5521\n",
      "Epoch 152/500\n",
      "48000/48000 [==============================] - 1s 30us/step - loss: 0.0511 - categorical_accuracy: 0.5632 - val_loss: 0.0520 - val_categorical_accuracy: 0.5513\n",
      "Epoch 153/500\n",
      "48000/48000 [==============================] - 1s 29us/step - loss: 0.0510 - categorical_accuracy: 0.5632 - val_loss: 0.0519 - val_categorical_accuracy: 0.5509\n",
      "Epoch 154/500\n",
      "48000/48000 [==============================] - 1s 25us/step - loss: 0.0509 - categorical_accuracy: 0.5636 - val_loss: 0.0519 - val_categorical_accuracy: 0.5506\n",
      "Epoch 155/500\n",
      "48000/48000 [==============================] - 1s 29us/step - loss: 0.0509 - categorical_accuracy: 0.5632 - val_loss: 0.0518 - val_categorical_accuracy: 0.5505\n",
      "Epoch 156/500\n",
      "48000/48000 [==============================] - 1s 26us/step - loss: 0.0508 - categorical_accuracy: 0.5632 - val_loss: 0.0517 - val_categorical_accuracy: 0.5508\n",
      "Epoch 157/500\n",
      "48000/48000 [==============================] - 1s 28us/step - loss: 0.0507 - categorical_accuracy: 0.5638 - val_loss: 0.0517 - val_categorical_accuracy: 0.5515\n",
      "Epoch 158/500\n",
      "48000/48000 [==============================] - 2s 32us/step - loss: 0.0507 - categorical_accuracy: 0.5637 - val_loss: 0.0516 - val_categorical_accuracy: 0.5519\n",
      "Epoch 159/500\n",
      "48000/48000 [==============================] - 2s 32us/step - loss: 0.0507 - categorical_accuracy: 0.5636 - val_loss: 0.0516 - val_categorical_accuracy: 0.5515\n",
      "Epoch 160/500\n",
      "48000/48000 [==============================] - 1s 31us/step - loss: 0.0506 - categorical_accuracy: 0.5634 - val_loss: 0.0516 - val_categorical_accuracy: 0.5520\n",
      "Epoch 161/500\n",
      "48000/48000 [==============================] - 1s 27us/step - loss: 0.0506 - categorical_accuracy: 0.5640 - val_loss: 0.0515 - val_categorical_accuracy: 0.5517\n",
      "Epoch 162/500\n",
      "48000/48000 [==============================] - 1s 28us/step - loss: 0.0505 - categorical_accuracy: 0.5643 - val_loss: 0.0515 - val_categorical_accuracy: 0.5521\n",
      "Epoch 163/500\n",
      "48000/48000 [==============================] - 1s 24us/step - loss: 0.0505 - categorical_accuracy: 0.5642 - val_loss: 0.0514 - val_categorical_accuracy: 0.5517\n",
      "Epoch 164/500\n",
      "48000/48000 [==============================] - 1s 24us/step - loss: 0.0504 - categorical_accuracy: 0.5642 - val_loss: 0.0514 - val_categorical_accuracy: 0.5521\n",
      "Epoch 165/500\n",
      "48000/48000 [==============================] - 1s 28us/step - loss: 0.0504 - categorical_accuracy: 0.5644 - val_loss: 0.0513 - val_categorical_accuracy: 0.5522\n",
      "Epoch 166/500\n",
      "48000/48000 [==============================] - 1s 28us/step - loss: 0.0503 - categorical_accuracy: 0.5642 - val_loss: 0.0513 - val_categorical_accuracy: 0.5519\n",
      "Epoch 167/500\n",
      "48000/48000 [==============================] - 1s 28us/step - loss: 0.0503 - categorical_accuracy: 0.5641 - val_loss: 0.0513 - val_categorical_accuracy: 0.5519\n",
      "Epoch 168/500\n",
      "48000/48000 [==============================] - 1s 26us/step - loss: 0.0502 - categorical_accuracy: 0.5643 - val_loss: 0.0513 - val_categorical_accuracy: 0.5517\n",
      "Epoch 169/500\n",
      "48000/48000 [==============================] - 1s 25us/step - loss: 0.0502 - categorical_accuracy: 0.5645 - val_loss: 0.0512 - val_categorical_accuracy: 0.5519\n",
      "Epoch 170/500\n",
      "48000/48000 [==============================] - 1s 27us/step - loss: 0.0501 - categorical_accuracy: 0.5646 - val_loss: 0.0512 - val_categorical_accuracy: 0.5511\n",
      "Epoch 171/500\n",
      "48000/48000 [==============================] - 1s 27us/step - loss: 0.0502 - categorical_accuracy: 0.5643 - val_loss: 0.0512 - val_categorical_accuracy: 0.5522\n",
      "Epoch 172/500\n",
      "48000/48000 [==============================] - 1s 29us/step - loss: 0.0501 - categorical_accuracy: 0.5648 - val_loss: 0.0512 - val_categorical_accuracy: 0.5515\n",
      "Epoch 173/500\n",
      "48000/48000 [==============================] - 1s 25us/step - loss: 0.0501 - categorical_accuracy: 0.5647 - val_loss: 0.0512 - val_categorical_accuracy: 0.5512\n",
      "Epoch 174/500\n",
      "48000/48000 [==============================] - 1s 25us/step - loss: 0.0500 - categorical_accuracy: 0.5644 - val_loss: 0.0511 - val_categorical_accuracy: 0.5521\n",
      "Epoch 175/500\n",
      "48000/48000 [==============================] - 1s 30us/step - loss: 0.0500 - categorical_accuracy: 0.5647 - val_loss: 0.0511 - val_categorical_accuracy: 0.5512\n",
      "Epoch 176/500\n",
      "48000/48000 [==============================] - 1s 28us/step - loss: 0.0499 - categorical_accuracy: 0.5648 - val_loss: 0.0510 - val_categorical_accuracy: 0.5516\n",
      "Epoch 177/500\n",
      "48000/48000 [==============================] - 1s 25us/step - loss: 0.0499 - categorical_accuracy: 0.5651 - val_loss: 0.0510 - val_categorical_accuracy: 0.5526\n",
      "Epoch 178/500\n",
      "48000/48000 [==============================] - 1s 24us/step - loss: 0.0499 - categorical_accuracy: 0.5650 - val_loss: 0.0510 - val_categorical_accuracy: 0.5522\n",
      "Epoch 179/500\n",
      "48000/48000 [==============================] - 1s 30us/step - loss: 0.0498 - categorical_accuracy: 0.5651 - val_loss: 0.0510 - val_categorical_accuracy: 0.5514\n",
      "Epoch 180/500\n",
      "48000/48000 [==============================] - 1s 27us/step - loss: 0.0498 - categorical_accuracy: 0.5653 - val_loss: 0.0510 - val_categorical_accuracy: 0.5522\n",
      "Epoch 181/500\n",
      "48000/48000 [==============================] - 1s 25us/step - loss: 0.0498 - categorical_accuracy: 0.5654 - val_loss: 0.0510 - val_categorical_accuracy: 0.5518\n",
      "Epoch 182/500\n",
      "48000/48000 [==============================] - 1s 27us/step - loss: 0.0497 - categorical_accuracy: 0.5654 - val_loss: 0.0509 - val_categorical_accuracy: 0.5527\n",
      "Epoch 183/500\n",
      "48000/48000 [==============================] - 2s 31us/step - loss: 0.0497 - categorical_accuracy: 0.5655 - val_loss: 0.0508 - val_categorical_accuracy: 0.5524\n",
      "Epoch 184/500\n",
      "48000/48000 [==============================] - 2s 39us/step - loss: 0.0497 - categorical_accuracy: 0.5658 - val_loss: 0.0508 - val_categorical_accuracy: 0.5527\n",
      "Epoch 185/500\n",
      "48000/48000 [==============================] - 2s 45us/step - loss: 0.0496 - categorical_accuracy: 0.5659 - val_loss: 0.0508 - val_categorical_accuracy: 0.5522\n",
      "Epoch 186/500\n",
      "48000/48000 [==============================] - 1s 31us/step - loss: 0.0496 - categorical_accuracy: 0.5657 - val_loss: 0.0508 - val_categorical_accuracy: 0.5524\n",
      "Epoch 187/500\n",
      "48000/48000 [==============================] - 1s 27us/step - loss: 0.0496 - categorical_accuracy: 0.5659 - val_loss: 0.0508 - val_categorical_accuracy: 0.5526\n",
      "Epoch 188/500\n",
      "48000/48000 [==============================] - 1s 29us/step - loss: 0.0495 - categorical_accuracy: 0.5686 - val_loss: 0.0507 - val_categorical_accuracy: 0.5641\n",
      "Epoch 189/500\n"
     ]
    },
    {
     "name": "stdout",
     "output_type": "stream",
     "text": [
      "48000/48000 [==============================] - 1s 27us/step - loss: 0.0495 - categorical_accuracy: 0.5673 - val_loss: 0.0507 - val_categorical_accuracy: 0.5528\n",
      "Epoch 190/500\n",
      "48000/48000 [==============================] - 1s 27us/step - loss: 0.0495 - categorical_accuracy: 0.5699 - val_loss: 0.0507 - val_categorical_accuracy: 0.5526\n",
      "Epoch 191/500\n",
      "48000/48000 [==============================] - 1s 29us/step - loss: 0.0494 - categorical_accuracy: 0.5707 - val_loss: 0.0506 - val_categorical_accuracy: 0.5534\n",
      "Epoch 192/500\n",
      "48000/48000 [==============================] - 1s 27us/step - loss: 0.0494 - categorical_accuracy: 0.5756 - val_loss: 0.0506 - val_categorical_accuracy: 0.5529\n",
      "Epoch 193/500\n",
      "48000/48000 [==============================] - 1s 25us/step - loss: 0.0494 - categorical_accuracy: 0.5684 - val_loss: 0.0506 - val_categorical_accuracy: 0.5525\n",
      "Epoch 194/500\n",
      "48000/48000 [==============================] - 1s 27us/step - loss: 0.0494 - categorical_accuracy: 0.5721 - val_loss: 0.0506 - val_categorical_accuracy: 0.5647\n",
      "Epoch 195/500\n",
      "48000/48000 [==============================] - 1s 25us/step - loss: 0.0493 - categorical_accuracy: 0.5739 - val_loss: 0.0507 - val_categorical_accuracy: 0.5640\n",
      "Epoch 196/500\n",
      "48000/48000 [==============================] - 1s 27us/step - loss: 0.0493 - categorical_accuracy: 0.5777 - val_loss: 0.0506 - val_categorical_accuracy: 0.5645\n",
      "Epoch 197/500\n",
      "48000/48000 [==============================] - 1s 30us/step - loss: 0.0493 - categorical_accuracy: 0.5778 - val_loss: 0.0505 - val_categorical_accuracy: 0.5643\n",
      "Epoch 198/500\n",
      "48000/48000 [==============================] - 1s 25us/step - loss: 0.0493 - categorical_accuracy: 0.5765 - val_loss: 0.0505 - val_categorical_accuracy: 0.5650\n",
      "Epoch 199/500\n",
      "48000/48000 [==============================] - 1s 25us/step - loss: 0.0493 - categorical_accuracy: 0.5780 - val_loss: 0.0505 - val_categorical_accuracy: 0.5648\n",
      "Epoch 200/500\n",
      "48000/48000 [==============================] - 1s 25us/step - loss: 0.0492 - categorical_accuracy: 0.5759 - val_loss: 0.0505 - val_categorical_accuracy: 0.5647\n",
      "Epoch 201/500\n",
      "48000/48000 [==============================] - 1s 31us/step - loss: 0.0492 - categorical_accuracy: 0.5782 - val_loss: 0.0505 - val_categorical_accuracy: 0.5645\n",
      "Epoch 202/500\n",
      "48000/48000 [==============================] - 1s 26us/step - loss: 0.0492 - categorical_accuracy: 0.5785 - val_loss: 0.0505 - val_categorical_accuracy: 0.5650\n",
      "Epoch 203/500\n",
      "48000/48000 [==============================] - 1s 28us/step - loss: 0.0492 - categorical_accuracy: 0.5782 - val_loss: 0.0504 - val_categorical_accuracy: 0.5652\n",
      "Epoch 204/500\n",
      "48000/48000 [==============================] - 1s 28us/step - loss: 0.0492 - categorical_accuracy: 0.5770 - val_loss: 0.0505 - val_categorical_accuracy: 0.5645\n",
      "Epoch 205/500\n",
      "48000/48000 [==============================] - 2s 35us/step - loss: 0.0491 - categorical_accuracy: 0.5782 - val_loss: 0.0504 - val_categorical_accuracy: 0.5646\n",
      "Epoch 206/500\n",
      "48000/48000 [==============================] - 2s 32us/step - loss: 0.0491 - categorical_accuracy: 0.5782 - val_loss: 0.0504 - val_categorical_accuracy: 0.5649\n",
      "Epoch 207/500\n",
      "48000/48000 [==============================] - 2s 38us/step - loss: 0.0491 - categorical_accuracy: 0.5778 - val_loss: 0.0504 - val_categorical_accuracy: 0.5644\n",
      "Epoch 208/500\n",
      "48000/48000 [==============================] - 1s 30us/step - loss: 0.0491 - categorical_accuracy: 0.5784 - val_loss: 0.0504 - val_categorical_accuracy: 0.5652\n",
      "Epoch 209/500\n",
      "48000/48000 [==============================] - 2s 33us/step - loss: 0.0490 - categorical_accuracy: 0.5784 - val_loss: 0.0504 - val_categorical_accuracy: 0.5643\n",
      "Epoch 210/500\n",
      "48000/48000 [==============================] - 1s 30us/step - loss: 0.0490 - categorical_accuracy: 0.5784 - val_loss: 0.0504 - val_categorical_accuracy: 0.5643\n",
      "Epoch 211/500\n",
      "48000/48000 [==============================] - 1s 27us/step - loss: 0.0490 - categorical_accuracy: 0.5782 - val_loss: 0.0504 - val_categorical_accuracy: 0.5646\n",
      "Epoch 212/500\n",
      "48000/48000 [==============================] - 1s 25us/step - loss: 0.0490 - categorical_accuracy: 0.5786 - val_loss: 0.0503 - val_categorical_accuracy: 0.5641\n",
      "Epoch 213/500\n",
      "48000/48000 [==============================] - 1s 31us/step - loss: 0.0490 - categorical_accuracy: 0.5785 - val_loss: 0.0503 - val_categorical_accuracy: 0.5655\n",
      "Epoch 214/500\n",
      "48000/48000 [==============================] - 1s 27us/step - loss: 0.0490 - categorical_accuracy: 0.5785 - val_loss: 0.0504 - val_categorical_accuracy: 0.5651\n",
      "Epoch 215/500\n",
      "48000/48000 [==============================] - 1s 27us/step - loss: 0.0489 - categorical_accuracy: 0.5786 - val_loss: 0.0503 - val_categorical_accuracy: 0.5641\n",
      "Epoch 216/500\n",
      "48000/48000 [==============================] - 2s 31us/step - loss: 0.0489 - categorical_accuracy: 0.5787 - val_loss: 0.0503 - val_categorical_accuracy: 0.5652\n",
      "Epoch 217/500\n",
      "48000/48000 [==============================] - 1s 26us/step - loss: 0.0489 - categorical_accuracy: 0.5785 - val_loss: 0.0503 - val_categorical_accuracy: 0.5647\n",
      "Epoch 218/500\n",
      "48000/48000 [==============================] - 1s 29us/step - loss: 0.0489 - categorical_accuracy: 0.5790 - val_loss: 0.0503 - val_categorical_accuracy: 0.5643\n",
      "Epoch 219/500\n",
      "48000/48000 [==============================] - 1s 28us/step - loss: 0.0489 - categorical_accuracy: 0.5789 - val_loss: 0.0503 - val_categorical_accuracy: 0.5643\n",
      "Epoch 220/500\n",
      "48000/48000 [==============================] - 1s 25us/step - loss: 0.0489 - categorical_accuracy: 0.5788 - val_loss: 0.0502 - val_categorical_accuracy: 0.5648\n",
      "Epoch 221/500\n",
      "48000/48000 [==============================] - 1s 26us/step - loss: 0.0489 - categorical_accuracy: 0.5785 - val_loss: 0.0502 - val_categorical_accuracy: 0.5638\n",
      "Epoch 222/500\n",
      "48000/48000 [==============================] - 1s 30us/step - loss: 0.0488 - categorical_accuracy: 0.5786 - val_loss: 0.0502 - val_categorical_accuracy: 0.5646\n",
      "Epoch 223/500\n",
      "48000/48000 [==============================] - 2s 34us/step - loss: 0.0488 - categorical_accuracy: 0.5787 - val_loss: 0.0502 - val_categorical_accuracy: 0.5644\n",
      "Epoch 224/500\n",
      "48000/48000 [==============================] - 1s 30us/step - loss: 0.0488 - categorical_accuracy: 0.5786 - val_loss: 0.0502 - val_categorical_accuracy: 0.5647\n",
      "Epoch 225/500\n",
      "48000/48000 [==============================] - 1s 31us/step - loss: 0.0488 - categorical_accuracy: 0.5790 - val_loss: 0.0502 - val_categorical_accuracy: 0.5651\n",
      "Epoch 226/500\n",
      "48000/48000 [==============================] - 2s 33us/step - loss: 0.0488 - categorical_accuracy: 0.5789 - val_loss: 0.0502 - val_categorical_accuracy: 0.5645\n",
      "Epoch 227/500\n",
      "48000/48000 [==============================] - 1s 27us/step - loss: 0.0488 - categorical_accuracy: 0.5787 - val_loss: 0.0501 - val_categorical_accuracy: 0.5658\n",
      "Epoch 228/500\n",
      "48000/48000 [==============================] - 1s 27us/step - loss: 0.0487 - categorical_accuracy: 0.5792 - val_loss: 0.0502 - val_categorical_accuracy: 0.5656\n",
      "Epoch 229/500\n",
      "48000/48000 [==============================] - 1s 31us/step - loss: 0.0487 - categorical_accuracy: 0.5789 - val_loss: 0.0501 - val_categorical_accuracy: 0.5655\n",
      "Epoch 230/500\n",
      "48000/48000 [==============================] - 2s 39us/step - loss: 0.0487 - categorical_accuracy: 0.5792 - val_loss: 0.0501 - val_categorical_accuracy: 0.5647\n",
      "Epoch 231/500\n",
      "48000/48000 [==============================] - 1s 27us/step - loss: 0.0487 - categorical_accuracy: 0.5792 - val_loss: 0.0501 - val_categorical_accuracy: 0.5652\n",
      "Epoch 232/500\n",
      "48000/48000 [==============================] - 1s 30us/step - loss: 0.0487 - categorical_accuracy: 0.5792 - val_loss: 0.0501 - val_categorical_accuracy: 0.5647\n",
      "Epoch 233/500\n",
      "48000/48000 [==============================] - 1s 28us/step - loss: 0.0487 - categorical_accuracy: 0.5794 - val_loss: 0.0501 - val_categorical_accuracy: 0.5653\n",
      "Epoch 234/500\n",
      "48000/48000 [==============================] - 2s 34us/step - loss: 0.0487 - categorical_accuracy: 0.5788 - val_loss: 0.0501 - val_categorical_accuracy: 0.5651\n",
      "Epoch 235/500\n",
      "48000/48000 [==============================] - 1s 29us/step - loss: 0.0487 - categorical_accuracy: 0.5791 - val_loss: 0.0501 - val_categorical_accuracy: 0.5651\n",
      "Epoch 236/500\n"
     ]
    },
    {
     "name": "stdout",
     "output_type": "stream",
     "text": [
      "48000/48000 [==============================] - 1s 26us/step - loss: 0.0487 - categorical_accuracy: 0.5790 - val_loss: 0.0501 - val_categorical_accuracy: 0.5649\n",
      "Epoch 237/500\n",
      "48000/48000 [==============================] - 1s 29us/step - loss: 0.0486 - categorical_accuracy: 0.5790 - val_loss: 0.0501 - val_categorical_accuracy: 0.5651\n",
      "Epoch 238/500\n",
      "48000/48000 [==============================] - 1s 27us/step - loss: 0.0486 - categorical_accuracy: 0.5789 - val_loss: 0.0501 - val_categorical_accuracy: 0.5645\n",
      "Epoch 239/500\n",
      "48000/48000 [==============================] - 1s 29us/step - loss: 0.0486 - categorical_accuracy: 0.5794 - val_loss: 0.0501 - val_categorical_accuracy: 0.5651\n",
      "Epoch 240/500\n",
      "48000/48000 [==============================] - 1s 27us/step - loss: 0.0486 - categorical_accuracy: 0.5794 - val_loss: 0.0500 - val_categorical_accuracy: 0.5653\n",
      "Epoch 241/500\n",
      "48000/48000 [==============================] - 1s 27us/step - loss: 0.0486 - categorical_accuracy: 0.5791 - val_loss: 0.0500 - val_categorical_accuracy: 0.5652\n",
      "Epoch 242/500\n",
      "48000/48000 [==============================] - 1s 31us/step - loss: 0.0486 - categorical_accuracy: 0.5792 - val_loss: 0.0500 - val_categorical_accuracy: 0.5652\n",
      "Epoch 243/500\n",
      "48000/48000 [==============================] - 1s 26us/step - loss: 0.0486 - categorical_accuracy: 0.5790 - val_loss: 0.0500 - val_categorical_accuracy: 0.5650\n",
      "Epoch 244/500\n",
      "48000/48000 [==============================] - 1s 26us/step - loss: 0.0485 - categorical_accuracy: 0.5794 - val_loss: 0.0500 - val_categorical_accuracy: 0.5650\n",
      "Epoch 245/500\n",
      "48000/48000 [==============================] - 1s 31us/step - loss: 0.0485 - categorical_accuracy: 0.5788 - val_loss: 0.0500 - val_categorical_accuracy: 0.5652\n",
      "Epoch 246/500\n",
      "48000/48000 [==============================] - 1s 26us/step - loss: 0.0485 - categorical_accuracy: 0.5794 - val_loss: 0.0500 - val_categorical_accuracy: 0.5646\n",
      "Epoch 247/500\n",
      "48000/48000 [==============================] - 1s 30us/step - loss: 0.0485 - categorical_accuracy: 0.5791 - val_loss: 0.0500 - val_categorical_accuracy: 0.5647\n",
      "Epoch 248/500\n",
      "48000/48000 [==============================] - 2s 35us/step - loss: 0.0485 - categorical_accuracy: 0.5789 - val_loss: 0.0500 - val_categorical_accuracy: 0.5620\n",
      "Epoch 249/500\n",
      "48000/48000 [==============================] - 1s 28us/step - loss: 0.0485 - categorical_accuracy: 0.5788 - val_loss: 0.0500 - val_categorical_accuracy: 0.5650\n",
      "Epoch 250/500\n",
      "48000/48000 [==============================] - 1s 28us/step - loss: 0.0485 - categorical_accuracy: 0.5784 - val_loss: 0.0500 - val_categorical_accuracy: 0.5646\n",
      "Epoch 251/500\n",
      "48000/48000 [==============================] - 1s 30us/step - loss: 0.0485 - categorical_accuracy: 0.5788 - val_loss: 0.0500 - val_categorical_accuracy: 0.5622\n",
      "Epoch 252/500\n",
      "48000/48000 [==============================] - 1s 25us/step - loss: 0.0485 - categorical_accuracy: 0.5790 - val_loss: 0.0500 - val_categorical_accuracy: 0.5650\n",
      "Epoch 253/500\n",
      "48000/48000 [==============================] - 1s 26us/step - loss: 0.0485 - categorical_accuracy: 0.5788 - val_loss: 0.0500 - val_categorical_accuracy: 0.5649\n",
      "Epoch 254/500\n",
      "48000/48000 [==============================] - 1s 30us/step - loss: 0.0485 - categorical_accuracy: 0.5789 - val_loss: 0.0499 - val_categorical_accuracy: 0.5630\n",
      "Epoch 255/500\n",
      "48000/48000 [==============================] - 1s 28us/step - loss: 0.0485 - categorical_accuracy: 0.5786 - val_loss: 0.0499 - val_categorical_accuracy: 0.5627\n",
      "Epoch 256/500\n",
      "48000/48000 [==============================] - 1s 28us/step - loss: 0.0484 - categorical_accuracy: 0.5782 - val_loss: 0.0499 - val_categorical_accuracy: 0.5652\n",
      "Epoch 257/500\n",
      "48000/48000 [==============================] - 1s 27us/step - loss: 0.0484 - categorical_accuracy: 0.5787 - val_loss: 0.0499 - val_categorical_accuracy: 0.5620\n",
      "Epoch 258/500\n",
      "48000/48000 [==============================] - 1s 29us/step - loss: 0.0484 - categorical_accuracy: 0.5784 - val_loss: 0.0499 - val_categorical_accuracy: 0.5625\n",
      "Epoch 259/500\n",
      "48000/48000 [==============================] - 1s 30us/step - loss: 0.0484 - categorical_accuracy: 0.5783 - val_loss: 0.0499 - val_categorical_accuracy: 0.5625\n",
      "Epoch 260/500\n",
      "48000/48000 [==============================] - 1s 28us/step - loss: 0.0484 - categorical_accuracy: 0.5784 - val_loss: 0.0499 - val_categorical_accuracy: 0.5628\n",
      "Epoch 261/500\n",
      "48000/48000 [==============================] - 1s 28us/step - loss: 0.0484 - categorical_accuracy: 0.5787 - val_loss: 0.0499 - val_categorical_accuracy: 0.5619\n",
      "Epoch 262/500\n",
      "48000/48000 [==============================] - 1s 27us/step - loss: 0.0484 - categorical_accuracy: 0.5785 - val_loss: 0.0499 - val_categorical_accuracy: 0.5627\n",
      "Epoch 263/500\n",
      "48000/48000 [==============================] - 1s 27us/step - loss: 0.0484 - categorical_accuracy: 0.5784 - val_loss: 0.0499 - val_categorical_accuracy: 0.5623\n",
      "Epoch 264/500\n",
      "48000/48000 [==============================] - 1s 28us/step - loss: 0.0483 - categorical_accuracy: 0.5785 - val_loss: 0.0498 - val_categorical_accuracy: 0.5657\n",
      "Epoch 265/500\n",
      "48000/48000 [==============================] - 1s 27us/step - loss: 0.0484 - categorical_accuracy: 0.5781 - val_loss: 0.0498 - val_categorical_accuracy: 0.5629\n",
      "Epoch 266/500\n",
      "48000/48000 [==============================] - 1s 26us/step - loss: 0.0483 - categorical_accuracy: 0.5783 - val_loss: 0.0498 - val_categorical_accuracy: 0.5628\n",
      "Epoch 267/500\n",
      "48000/48000 [==============================] - 1s 27us/step - loss: 0.0483 - categorical_accuracy: 0.5785 - val_loss: 0.0498 - val_categorical_accuracy: 0.5640\n",
      "Epoch 268/500\n",
      "48000/48000 [==============================] - 1s 30us/step - loss: 0.0483 - categorical_accuracy: 0.5786 - val_loss: 0.0498 - val_categorical_accuracy: 0.5627\n",
      "Epoch 269/500\n",
      "48000/48000 [==============================] - 1s 26us/step - loss: 0.0483 - categorical_accuracy: 0.5784 - val_loss: 0.0499 - val_categorical_accuracy: 0.5621\n",
      "Epoch 270/500\n",
      "48000/48000 [==============================] - 1s 30us/step - loss: 0.0483 - categorical_accuracy: 0.5785 - val_loss: 0.0498 - val_categorical_accuracy: 0.5629\n",
      "Epoch 271/500\n",
      "48000/48000 [==============================] - 2s 33us/step - loss: 0.0482 - categorical_accuracy: 0.5782 - val_loss: 0.0498 - val_categorical_accuracy: 0.5617\n",
      "Epoch 272/500\n",
      "48000/48000 [==============================] - 1s 29us/step - loss: 0.0483 - categorical_accuracy: 0.5781 - val_loss: 0.0498 - val_categorical_accuracy: 0.5621\n",
      "Epoch 273/500\n",
      "48000/48000 [==============================] - 2s 35us/step - loss: 0.0482 - categorical_accuracy: 0.5785 - val_loss: 0.0498 - val_categorical_accuracy: 0.5626\n",
      "Epoch 274/500\n",
      "48000/48000 [==============================] - 2s 36us/step - loss: 0.0482 - categorical_accuracy: 0.5782 - val_loss: 0.0497 - val_categorical_accuracy: 0.5629\n",
      "Epoch 275/500\n",
      "48000/48000 [==============================] - 1s 27us/step - loss: 0.0482 - categorical_accuracy: 0.5785 - val_loss: 0.0497 - val_categorical_accuracy: 0.5633\n",
      "Epoch 276/500\n",
      "48000/48000 [==============================] - 1s 28us/step - loss: 0.0482 - categorical_accuracy: 0.5782 - val_loss: 0.0497 - val_categorical_accuracy: 0.5629\n",
      "Epoch 277/500\n",
      "48000/48000 [==============================] - 1s 30us/step - loss: 0.0482 - categorical_accuracy: 0.5785 - val_loss: 0.0497 - val_categorical_accuracy: 0.5622\n",
      "Epoch 278/500\n",
      "48000/48000 [==============================] - 1s 27us/step - loss: 0.0482 - categorical_accuracy: 0.5784 - val_loss: 0.0498 - val_categorical_accuracy: 0.5618\n",
      "Epoch 279/500\n",
      "48000/48000 [==============================] - 1s 27us/step - loss: 0.0482 - categorical_accuracy: 0.5782 - val_loss: 0.0497 - val_categorical_accuracy: 0.5632\n",
      "Epoch 280/500\n",
      "48000/48000 [==============================] - 1s 30us/step - loss: 0.0482 - categorical_accuracy: 0.5784 - val_loss: 0.0497 - val_categorical_accuracy: 0.5628\n",
      "Epoch 281/500\n",
      "48000/48000 [==============================] - 1s 29us/step - loss: 0.0482 - categorical_accuracy: 0.5786 - val_loss: 0.0497 - val_categorical_accuracy: 0.5624\n",
      "Epoch 282/500\n",
      "48000/48000 [==============================] - 1s 28us/step - loss: 0.0481 - categorical_accuracy: 0.5784 - val_loss: 0.0497 - val_categorical_accuracy: 0.5628\n",
      "Epoch 283/500\n"
     ]
    },
    {
     "name": "stdout",
     "output_type": "stream",
     "text": [
      "48000/48000 [==============================] - 1s 31us/step - loss: 0.0481 - categorical_accuracy: 0.5786 - val_loss: 0.0496 - val_categorical_accuracy: 0.5638\n",
      "Epoch 284/500\n",
      "48000/48000 [==============================] - 1s 30us/step - loss: 0.0481 - categorical_accuracy: 0.5785 - val_loss: 0.0497 - val_categorical_accuracy: 0.5633\n",
      "Epoch 285/500\n",
      "48000/48000 [==============================] - 1s 30us/step - loss: 0.0481 - categorical_accuracy: 0.5790 - val_loss: 0.0497 - val_categorical_accuracy: 0.5622\n",
      "Epoch 286/500\n",
      "48000/48000 [==============================] - 2s 35us/step - loss: 0.0481 - categorical_accuracy: 0.5785 - val_loss: 0.0497 - val_categorical_accuracy: 0.5641\n",
      "Epoch 287/500\n",
      "48000/48000 [==============================] - 1s 29us/step - loss: 0.0481 - categorical_accuracy: 0.5788 - val_loss: 0.0496 - val_categorical_accuracy: 0.5633\n",
      "Epoch 288/500\n",
      "48000/48000 [==============================] - 1s 27us/step - loss: 0.0480 - categorical_accuracy: 0.5789 - val_loss: 0.0496 - val_categorical_accuracy: 0.5632\n",
      "Epoch 289/500\n",
      "48000/48000 [==============================] - 2s 32us/step - loss: 0.0481 - categorical_accuracy: 0.5788 - val_loss: 0.0496 - val_categorical_accuracy: 0.5636\n",
      "Epoch 290/500\n",
      "48000/48000 [==============================] - 2s 34us/step - loss: 0.0480 - categorical_accuracy: 0.5789 - val_loss: 0.0496 - val_categorical_accuracy: 0.5617\n",
      "Epoch 291/500\n",
      "48000/48000 [==============================] - 1s 29us/step - loss: 0.0480 - categorical_accuracy: 0.5790 - val_loss: 0.0496 - val_categorical_accuracy: 0.5639\n",
      "Epoch 292/500\n",
      "48000/48000 [==============================] - 1s 30us/step - loss: 0.0480 - categorical_accuracy: 0.5791 - val_loss: 0.0496 - val_categorical_accuracy: 0.5629\n",
      "Epoch 293/500\n",
      "48000/48000 [==============================] - 1s 27us/step - loss: 0.0480 - categorical_accuracy: 0.5791 - val_loss: 0.0495 - val_categorical_accuracy: 0.5647\n",
      "Epoch 294/500\n",
      "48000/48000 [==============================] - 2s 32us/step - loss: 0.0480 - categorical_accuracy: 0.5791 - val_loss: 0.0495 - val_categorical_accuracy: 0.5632\n",
      "Epoch 295/500\n",
      "48000/48000 [==============================] - 2s 32us/step - loss: 0.0480 - categorical_accuracy: 0.5791 - val_loss: 0.0496 - val_categorical_accuracy: 0.5627\n",
      "Epoch 296/500\n",
      "48000/48000 [==============================] - 1s 28us/step - loss: 0.0480 - categorical_accuracy: 0.5792 - val_loss: 0.0495 - val_categorical_accuracy: 0.5644\n",
      "Epoch 297/500\n",
      "48000/48000 [==============================] - 1s 28us/step - loss: 0.0480 - categorical_accuracy: 0.5794 - val_loss: 0.0495 - val_categorical_accuracy: 0.5635\n",
      "Epoch 298/500\n",
      "48000/48000 [==============================] - 2s 33us/step - loss: 0.0480 - categorical_accuracy: 0.5794 - val_loss: 0.0495 - val_categorical_accuracy: 0.5640\n",
      "Epoch 299/500\n",
      "48000/48000 [==============================] - 1s 28us/step - loss: 0.0480 - categorical_accuracy: 0.5790 - val_loss: 0.0496 - val_categorical_accuracy: 0.5635\n",
      "Epoch 300/500\n",
      "48000/48000 [==============================] - 1s 29us/step - loss: 0.0480 - categorical_accuracy: 0.5794 - val_loss: 0.0496 - val_categorical_accuracy: 0.5633\n",
      "Epoch 301/500\n",
      "48000/48000 [==============================] - 1s 29us/step - loss: 0.0479 - categorical_accuracy: 0.5795 - val_loss: 0.0496 - val_categorical_accuracy: 0.5628\n",
      "Epoch 302/500\n",
      "48000/48000 [==============================] - 1s 29us/step - loss: 0.0479 - categorical_accuracy: 0.5795 - val_loss: 0.0496 - val_categorical_accuracy: 0.5629\n",
      "Epoch 303/500\n",
      "48000/48000 [==============================] - 1s 28us/step - loss: 0.0479 - categorical_accuracy: 0.5793 - val_loss: 0.0495 - val_categorical_accuracy: 0.5626\n",
      "Epoch 304/500\n",
      "48000/48000 [==============================] - 1s 31us/step - loss: 0.0479 - categorical_accuracy: 0.5794 - val_loss: 0.0494 - val_categorical_accuracy: 0.5639\n",
      "Epoch 305/500\n",
      "48000/48000 [==============================] - 1s 26us/step - loss: 0.0479 - categorical_accuracy: 0.5793 - val_loss: 0.0496 - val_categorical_accuracy: 0.5627\n",
      "Epoch 306/500\n",
      "48000/48000 [==============================] - 1s 31us/step - loss: 0.0479 - categorical_accuracy: 0.5793 - val_loss: 0.0495 - val_categorical_accuracy: 0.5639\n",
      "Epoch 307/500\n",
      "48000/48000 [==============================] - 2s 35us/step - loss: 0.0479 - categorical_accuracy: 0.5794 - val_loss: 0.0495 - val_categorical_accuracy: 0.5641\n",
      "Epoch 308/500\n",
      "48000/48000 [==============================] - 2s 33us/step - loss: 0.0479 - categorical_accuracy: 0.5795 - val_loss: 0.0495 - val_categorical_accuracy: 0.5621\n",
      "Epoch 309/500\n",
      "48000/48000 [==============================] - 2s 39us/step - loss: 0.0479 - categorical_accuracy: 0.5797 - val_loss: 0.0494 - val_categorical_accuracy: 0.5634\n",
      "Epoch 310/500\n",
      "48000/48000 [==============================] - 2s 47us/step - loss: 0.0479 - categorical_accuracy: 0.5795 - val_loss: 0.0494 - val_categorical_accuracy: 0.5628\n",
      "Epoch 311/500\n",
      "48000/48000 [==============================] - 2s 35us/step - loss: 0.0479 - categorical_accuracy: 0.5794 - val_loss: 0.0494 - val_categorical_accuracy: 0.5628\n",
      "Epoch 312/500\n",
      "48000/48000 [==============================] - 2s 38us/step - loss: 0.0478 - categorical_accuracy: 0.5798 - val_loss: 0.0495 - val_categorical_accuracy: 0.5635\n",
      "Epoch 313/500\n",
      "48000/48000 [==============================] - 1s 31us/step - loss: 0.0478 - categorical_accuracy: 0.5796 - val_loss: 0.0495 - val_categorical_accuracy: 0.5637\n",
      "Epoch 314/500\n",
      "48000/48000 [==============================] - 2s 33us/step - loss: 0.0478 - categorical_accuracy: 0.5795 - val_loss: 0.0494 - val_categorical_accuracy: 0.5631\n",
      "Epoch 315/500\n",
      "48000/48000 [==============================] - 2s 34us/step - loss: 0.0478 - categorical_accuracy: 0.5798 - val_loss: 0.0495 - val_categorical_accuracy: 0.5628\n",
      "Epoch 316/500\n",
      "48000/48000 [==============================] - 2s 34us/step - loss: 0.0478 - categorical_accuracy: 0.5797 - val_loss: 0.0494 - val_categorical_accuracy: 0.5643\n",
      "Epoch 317/500\n",
      "48000/48000 [==============================] - 2s 41us/step - loss: 0.0478 - categorical_accuracy: 0.5799 - val_loss: 0.0494 - val_categorical_accuracy: 0.5633\n",
      "Epoch 318/500\n",
      "48000/48000 [==============================] - 2s 38us/step - loss: 0.0478 - categorical_accuracy: 0.5795 - val_loss: 0.0494 - val_categorical_accuracy: 0.5630\n",
      "Epoch 319/500\n",
      "48000/48000 [==============================] - 2s 34us/step - loss: 0.0478 - categorical_accuracy: 0.5795 - val_loss: 0.0494 - val_categorical_accuracy: 0.5658\n",
      "Epoch 320/500\n",
      "48000/48000 [==============================] - 2s 37us/step - loss: 0.0478 - categorical_accuracy: 0.5799 - val_loss: 0.0495 - val_categorical_accuracy: 0.5635\n",
      "Epoch 321/500\n",
      "48000/48000 [==============================] - 2s 35us/step - loss: 0.0478 - categorical_accuracy: 0.5797 - val_loss: 0.0495 - val_categorical_accuracy: 0.5628\n",
      "Epoch 322/500\n",
      "48000/48000 [==============================] - 2s 37us/step - loss: 0.0478 - categorical_accuracy: 0.5799 - val_loss: 0.0494 - val_categorical_accuracy: 0.5637\n",
      "Epoch 323/500\n",
      "48000/48000 [==============================] - 2s 37us/step - loss: 0.0478 - categorical_accuracy: 0.5800 - val_loss: 0.0494 - val_categorical_accuracy: 0.5626\n",
      "Epoch 324/500\n",
      "48000/48000 [==============================] - 2s 35us/step - loss: 0.0477 - categorical_accuracy: 0.5798 - val_loss: 0.0494 - val_categorical_accuracy: 0.5633\n",
      "Epoch 325/500\n",
      "48000/48000 [==============================] - 2s 39us/step - loss: 0.0477 - categorical_accuracy: 0.5800 - val_loss: 0.0494 - val_categorical_accuracy: 0.5637\n",
      "Epoch 326/500\n",
      "48000/48000 [==============================] - 2s 32us/step - loss: 0.0478 - categorical_accuracy: 0.5796 - val_loss: 0.0494 - val_categorical_accuracy: 0.5638\n",
      "Epoch 327/500\n",
      "48000/48000 [==============================] - 2s 35us/step - loss: 0.0477 - categorical_accuracy: 0.5797 - val_loss: 0.0494 - val_categorical_accuracy: 0.5632\n",
      "Epoch 328/500\n",
      "48000/48000 [==============================] - 2s 36us/step - loss: 0.0477 - categorical_accuracy: 0.5801 - val_loss: 0.0494 - val_categorical_accuracy: 0.5629\n",
      "Epoch 329/500\n",
      "48000/48000 [==============================] - 2s 34us/step - loss: 0.0477 - categorical_accuracy: 0.5796 - val_loss: 0.0494 - val_categorical_accuracy: 0.5637\n",
      "Epoch 330/500\n"
     ]
    },
    {
     "name": "stdout",
     "output_type": "stream",
     "text": [
      "48000/48000 [==============================] - 3s 54us/step - loss: 0.0477 - categorical_accuracy: 0.5801 - val_loss: 0.0494 - val_categorical_accuracy: 0.5635\n",
      "Epoch 331/500\n",
      "48000/48000 [==============================] - 2s 38us/step - loss: 0.0477 - categorical_accuracy: 0.5800 - val_loss: 0.0495 - val_categorical_accuracy: 0.5629\n",
      "Epoch 332/500\n",
      "48000/48000 [==============================] - 1s 29us/step - loss: 0.0477 - categorical_accuracy: 0.5799 - val_loss: 0.0494 - val_categorical_accuracy: 0.5634\n",
      "Epoch 333/500\n",
      "48000/48000 [==============================] - 2s 39us/step - loss: 0.0477 - categorical_accuracy: 0.5798 - val_loss: 0.0494 - val_categorical_accuracy: 0.5632\n",
      "Epoch 334/500\n",
      "48000/48000 [==============================] - 1s 30us/step - loss: 0.0477 - categorical_accuracy: 0.5799 - val_loss: 0.0494 - val_categorical_accuracy: 0.5639\n",
      "Epoch 335/500\n",
      "48000/48000 [==============================] - 2s 32us/step - loss: 0.0477 - categorical_accuracy: 0.5799 - val_loss: 0.0494 - val_categorical_accuracy: 0.5627\n",
      "Epoch 336/500\n",
      "48000/48000 [==============================] - 1s 29us/step - loss: 0.0477 - categorical_accuracy: 0.5800 - val_loss: 0.0494 - val_categorical_accuracy: 0.5631\n",
      "Epoch 337/500\n",
      "48000/48000 [==============================] - 1s 31us/step - loss: 0.0477 - categorical_accuracy: 0.5802 - val_loss: 0.0494 - val_categorical_accuracy: 0.5630\n",
      "Epoch 338/500\n",
      "48000/48000 [==============================] - 2s 34us/step - loss: 0.0477 - categorical_accuracy: 0.5802 - val_loss: 0.0494 - val_categorical_accuracy: 0.5633\n",
      "Epoch 339/500\n",
      "48000/48000 [==============================] - 1s 31us/step - loss: 0.0476 - categorical_accuracy: 0.5803 - val_loss: 0.0494 - val_categorical_accuracy: 0.5629\n",
      "Epoch 340/500\n",
      "48000/48000 [==============================] - 2s 34us/step - loss: 0.0476 - categorical_accuracy: 0.5804 - val_loss: 0.0494 - val_categorical_accuracy: 0.5623\n",
      "Epoch 341/500\n",
      "48000/48000 [==============================] - 2s 41us/step - loss: 0.0476 - categorical_accuracy: 0.5804 - val_loss: 0.0495 - val_categorical_accuracy: 0.5620\n",
      "Epoch 342/500\n",
      "48000/48000 [==============================] - 2s 31us/step - loss: 0.0476 - categorical_accuracy: 0.5801 - val_loss: 0.0495 - val_categorical_accuracy: 0.5628\n",
      "Epoch 343/500\n",
      "48000/48000 [==============================] - 1s 30us/step - loss: 0.0476 - categorical_accuracy: 0.5803 - val_loss: 0.0494 - val_categorical_accuracy: 0.5627\n",
      "Epoch 344/500\n",
      "48000/48000 [==============================] - 2s 33us/step - loss: 0.0476 - categorical_accuracy: 0.5803 - val_loss: 0.0493 - val_categorical_accuracy: 0.5645\n",
      "Epoch 345/500\n",
      "48000/48000 [==============================] - 2s 35us/step - loss: 0.0477 - categorical_accuracy: 0.5800 - val_loss: 0.0494 - val_categorical_accuracy: 0.5630\n",
      "Epoch 346/500\n",
      "48000/48000 [==============================] - 2s 33us/step - loss: 0.0476 - categorical_accuracy: 0.5802 - val_loss: 0.0494 - val_categorical_accuracy: 0.5635\n",
      "Epoch 347/500\n",
      "48000/48000 [==============================] - 2s 38us/step - loss: 0.0476 - categorical_accuracy: 0.5801 - val_loss: 0.0494 - val_categorical_accuracy: 0.5625\n",
      "Epoch 348/500\n",
      "48000/48000 [==============================] - 2s 43us/step - loss: 0.0476 - categorical_accuracy: 0.5801 - val_loss: 0.0493 - val_categorical_accuracy: 0.5643\n",
      "Epoch 349/500\n",
      "48000/48000 [==============================] - 2s 44us/step - loss: 0.0476 - categorical_accuracy: 0.5803 - val_loss: 0.0493 - val_categorical_accuracy: 0.5628\n",
      "Epoch 350/500\n",
      "48000/48000 [==============================] - 2s 38us/step - loss: 0.0476 - categorical_accuracy: 0.5802 - val_loss: 0.0494 - val_categorical_accuracy: 0.5633\n",
      "Epoch 351/500\n",
      "48000/48000 [==============================] - 2s 33us/step - loss: 0.0476 - categorical_accuracy: 0.5802 - val_loss: 0.0493 - val_categorical_accuracy: 0.5631\n",
      "Epoch 352/500\n",
      "48000/48000 [==============================] - 1s 31us/step - loss: 0.0476 - categorical_accuracy: 0.5803 - val_loss: 0.0493 - val_categorical_accuracy: 0.5631\n",
      "Epoch 353/500\n",
      "48000/48000 [==============================] - 1s 30us/step - loss: 0.0476 - categorical_accuracy: 0.5799 - val_loss: 0.0494 - val_categorical_accuracy: 0.5642\n",
      "Epoch 354/500\n",
      "48000/48000 [==============================] - 2s 34us/step - loss: 0.0476 - categorical_accuracy: 0.5802 - val_loss: 0.0494 - val_categorical_accuracy: 0.5617\n",
      "Epoch 355/500\n",
      "48000/48000 [==============================] - 2s 41us/step - loss: 0.0476 - categorical_accuracy: 0.5803 - val_loss: 0.0494 - val_categorical_accuracy: 0.5627\n",
      "Epoch 356/500\n",
      "48000/48000 [==============================] - 2s 40us/step - loss: 0.0476 - categorical_accuracy: 0.5803 - val_loss: 0.0493 - val_categorical_accuracy: 0.5625\n",
      "Epoch 357/500\n",
      "48000/48000 [==============================] - 2s 35us/step - loss: 0.0476 - categorical_accuracy: 0.5804 - val_loss: 0.0493 - val_categorical_accuracy: 0.5627\n",
      "Epoch 358/500\n",
      "48000/48000 [==============================] - 2s 40us/step - loss: 0.0476 - categorical_accuracy: 0.5804 - val_loss: 0.0493 - val_categorical_accuracy: 0.5625\n",
      "Epoch 359/500\n",
      "48000/48000 [==============================] - 2s 37us/step - loss: 0.0476 - categorical_accuracy: 0.5803 - val_loss: 0.0494 - val_categorical_accuracy: 0.5631\n",
      "Epoch 360/500\n",
      "48000/48000 [==============================] - 1s 31us/step - loss: 0.0476 - categorical_accuracy: 0.5804 - val_loss: 0.0493 - val_categorical_accuracy: 0.5638\n",
      "Epoch 361/500\n",
      "48000/48000 [==============================] - 2s 31us/step - loss: 0.0476 - categorical_accuracy: 0.5801 - val_loss: 0.0493 - val_categorical_accuracy: 0.5627\n",
      "Epoch 362/500\n",
      "48000/48000 [==============================] - 2s 35us/step - loss: 0.0476 - categorical_accuracy: 0.5802 - val_loss: 0.0493 - val_categorical_accuracy: 0.5620\n",
      "Epoch 363/500\n",
      "48000/48000 [==============================] - 2s 38us/step - loss: 0.0475 - categorical_accuracy: 0.5805 - val_loss: 0.0493 - val_categorical_accuracy: 0.5628\n",
      "Epoch 364/500\n",
      "48000/48000 [==============================] - 2s 38us/step - loss: 0.0476 - categorical_accuracy: 0.5801 - val_loss: 0.0493 - val_categorical_accuracy: 0.5627\n",
      "Epoch 365/500\n",
      "48000/48000 [==============================] - 2s 33us/step - loss: 0.0475 - categorical_accuracy: 0.5804 - val_loss: 0.0493 - val_categorical_accuracy: 0.5628\n",
      "Epoch 366/500\n",
      "48000/48000 [==============================] - 2s 32us/step - loss: 0.0475 - categorical_accuracy: 0.5803 - val_loss: 0.0493 - val_categorical_accuracy: 0.5628\n",
      "Epoch 367/500\n",
      "48000/48000 [==============================] - 2s 40us/step - loss: 0.0475 - categorical_accuracy: 0.5804 - val_loss: 0.0493 - val_categorical_accuracy: 0.5623\n",
      "Epoch 368/500\n",
      "48000/48000 [==============================] - 2s 39us/step - loss: 0.0475 - categorical_accuracy: 0.5804 - val_loss: 0.0493 - val_categorical_accuracy: 0.5632\n",
      "Epoch 369/500\n",
      "48000/48000 [==============================] - 2s 31us/step - loss: 0.0475 - categorical_accuracy: 0.5806 - val_loss: 0.0493 - val_categorical_accuracy: 0.5627\n",
      "Epoch 370/500\n",
      "48000/48000 [==============================] - 2s 32us/step - loss: 0.0475 - categorical_accuracy: 0.5804 - val_loss: 0.0493 - val_categorical_accuracy: 0.5629\n",
      "Epoch 371/500\n",
      "48000/48000 [==============================] - 2s 42us/step - loss: 0.0475 - categorical_accuracy: 0.5804 - val_loss: 0.0493 - val_categorical_accuracy: 0.5628\n",
      "Epoch 372/500\n",
      "48000/48000 [==============================] - 2s 41us/step - loss: 0.0475 - categorical_accuracy: 0.5804 - val_loss: 0.0493 - val_categorical_accuracy: 0.5629\n",
      "Epoch 373/500\n",
      "48000/48000 [==============================] - 2s 33us/step - loss: 0.0475 - categorical_accuracy: 0.5804 - val_loss: 0.0493 - val_categorical_accuracy: 0.5631\n",
      "Epoch 374/500\n",
      "48000/48000 [==============================] - 2s 37us/step - loss: 0.0475 - categorical_accuracy: 0.5804 - val_loss: 0.0493 - val_categorical_accuracy: 0.5624\n",
      "Epoch 375/500\n",
      "48000/48000 [==============================] - 2s 37us/step - loss: 0.0475 - categorical_accuracy: 0.5804 - val_loss: 0.0492 - val_categorical_accuracy: 0.5626\n",
      "Epoch 376/500\n",
      "48000/48000 [==============================] - 2s 35us/step - loss: 0.0475 - categorical_accuracy: 0.5804 - val_loss: 0.0493 - val_categorical_accuracy: 0.5629\n",
      "Epoch 377/500\n"
     ]
    },
    {
     "name": "stdout",
     "output_type": "stream",
     "text": [
      "48000/48000 [==============================] - 2s 35us/step - loss: 0.0475 - categorical_accuracy: 0.5806 - val_loss: 0.0493 - val_categorical_accuracy: 0.5622\n",
      "Epoch 378/500\n",
      "48000/48000 [==============================] - 2s 35us/step - loss: 0.0475 - categorical_accuracy: 0.5802 - val_loss: 0.0493 - val_categorical_accuracy: 0.5628\n",
      "Epoch 379/500\n",
      "48000/48000 [==============================] - 2s 34us/step - loss: 0.0475 - categorical_accuracy: 0.5804 - val_loss: 0.0493 - val_categorical_accuracy: 0.5623\n",
      "Epoch 380/500\n",
      "48000/48000 [==============================] - 2s 33us/step - loss: 0.0475 - categorical_accuracy: 0.5805 - val_loss: 0.0492 - val_categorical_accuracy: 0.5638\n",
      "Epoch 381/500\n",
      "48000/48000 [==============================] - 2s 33us/step - loss: 0.0475 - categorical_accuracy: 0.5804 - val_loss: 0.0493 - val_categorical_accuracy: 0.5621\n",
      "Epoch 382/500\n",
      "48000/48000 [==============================] - 2s 35us/step - loss: 0.0475 - categorical_accuracy: 0.5805 - val_loss: 0.0493 - val_categorical_accuracy: 0.5623\n",
      "Epoch 383/500\n",
      "48000/48000 [==============================] - 1s 27us/step - loss: 0.0475 - categorical_accuracy: 0.5806 - val_loss: 0.0493 - val_categorical_accuracy: 0.5636\n",
      "Epoch 384/500\n",
      "48000/48000 [==============================] - 1s 28us/step - loss: 0.0474 - categorical_accuracy: 0.5806 - val_loss: 0.0493 - val_categorical_accuracy: 0.5619\n",
      "Epoch 385/500\n",
      "48000/48000 [==============================] - 1s 31us/step - loss: 0.0475 - categorical_accuracy: 0.5804 - val_loss: 0.0493 - val_categorical_accuracy: 0.5627\n",
      "Epoch 386/500\n",
      "48000/48000 [==============================] - 1s 27us/step - loss: 0.0474 - categorical_accuracy: 0.5806 - val_loss: 0.0493 - val_categorical_accuracy: 0.5622\n",
      "Epoch 387/500\n",
      "48000/48000 [==============================] - 1s 28us/step - loss: 0.0474 - categorical_accuracy: 0.5805 - val_loss: 0.0493 - val_categorical_accuracy: 0.5624\n",
      "Epoch 388/500\n",
      "48000/48000 [==============================] - 1s 29us/step - loss: 0.0474 - categorical_accuracy: 0.5804 - val_loss: 0.0493 - val_categorical_accuracy: 0.5630\n",
      "Epoch 389/500\n",
      "48000/48000 [==============================] - 2s 33us/step - loss: 0.0474 - categorical_accuracy: 0.5806 - val_loss: 0.0492 - val_categorical_accuracy: 0.5630\n",
      "Epoch 390/500\n",
      "48000/48000 [==============================] - 2s 35us/step - loss: 0.0474 - categorical_accuracy: 0.5807 - val_loss: 0.0492 - val_categorical_accuracy: 0.5630\n",
      "Epoch 391/500\n",
      "48000/48000 [==============================] - 2s 33us/step - loss: 0.0474 - categorical_accuracy: 0.5807 - val_loss: 0.0493 - val_categorical_accuracy: 0.5627\n",
      "Epoch 392/500\n",
      "48000/48000 [==============================] - 1s 28us/step - loss: 0.0474 - categorical_accuracy: 0.5806 - val_loss: 0.0493 - val_categorical_accuracy: 0.5621\n",
      "Epoch 393/500\n",
      "48000/48000 [==============================] - 1s 27us/step - loss: 0.0474 - categorical_accuracy: 0.5806 - val_loss: 0.0493 - val_categorical_accuracy: 0.5620\n",
      "Epoch 394/500\n",
      "48000/48000 [==============================] - 1s 28us/step - loss: 0.0474 - categorical_accuracy: 0.5806 - val_loss: 0.0493 - val_categorical_accuracy: 0.5624\n",
      "Epoch 395/500\n",
      "48000/48000 [==============================] - 1s 30us/step - loss: 0.0474 - categorical_accuracy: 0.5806 - val_loss: 0.0493 - val_categorical_accuracy: 0.5636\n",
      "Epoch 396/500\n",
      "48000/48000 [==============================] - 1s 27us/step - loss: 0.0474 - categorical_accuracy: 0.5807 - val_loss: 0.0492 - val_categorical_accuracy: 0.5625\n",
      "Epoch 397/500\n",
      "48000/48000 [==============================] - 1s 29us/step - loss: 0.0474 - categorical_accuracy: 0.5808 - val_loss: 0.0492 - val_categorical_accuracy: 0.5632\n",
      "Epoch 398/500\n",
      "48000/48000 [==============================] - 2s 38us/step - loss: 0.0474 - categorical_accuracy: 0.5806 - val_loss: 0.0492 - val_categorical_accuracy: 0.5624\n",
      "Epoch 399/500\n",
      "48000/48000 [==============================] - 1s 29us/step - loss: 0.0474 - categorical_accuracy: 0.5805 - val_loss: 0.0493 - val_categorical_accuracy: 0.5626\n",
      "Epoch 400/500\n",
      "48000/48000 [==============================] - 1s 27us/step - loss: 0.0474 - categorical_accuracy: 0.5805 - val_loss: 0.0492 - val_categorical_accuracy: 0.5630\n",
      "Epoch 401/500\n",
      "48000/48000 [==============================] - 1s 31us/step - loss: 0.0474 - categorical_accuracy: 0.5806 - val_loss: 0.0492 - val_categorical_accuracy: 0.5624\n",
      "Epoch 402/500\n",
      "48000/48000 [==============================] - 1s 27us/step - loss: 0.0474 - categorical_accuracy: 0.5806 - val_loss: 0.0492 - val_categorical_accuracy: 0.5623\n",
      "Epoch 403/500\n",
      "48000/48000 [==============================] - 1s 28us/step - loss: 0.0474 - categorical_accuracy: 0.5806 - val_loss: 0.0493 - val_categorical_accuracy: 0.5623\n",
      "Epoch 404/500\n",
      "48000/48000 [==============================] - 1s 29us/step - loss: 0.0474 - categorical_accuracy: 0.5805 - val_loss: 0.0492 - val_categorical_accuracy: 0.5630\n",
      "Epoch 405/500\n",
      "48000/48000 [==============================] - 1s 28us/step - loss: 0.0474 - categorical_accuracy: 0.5806 - val_loss: 0.0493 - val_categorical_accuracy: 0.5622\n",
      "Epoch 406/500\n",
      "48000/48000 [==============================] - 1s 30us/step - loss: 0.0474 - categorical_accuracy: 0.5804 - val_loss: 0.0493 - val_categorical_accuracy: 0.5617\n",
      "Epoch 407/500\n",
      "48000/48000 [==============================] - 1s 30us/step - loss: 0.0474 - categorical_accuracy: 0.5805 - val_loss: 0.0492 - val_categorical_accuracy: 0.5627\n",
      "Epoch 408/500\n",
      "48000/48000 [==============================] - 1s 29us/step - loss: 0.0474 - categorical_accuracy: 0.5805 - val_loss: 0.0492 - val_categorical_accuracy: 0.5622\n",
      "Epoch 409/500\n",
      "48000/48000 [==============================] - 1s 28us/step - loss: 0.0474 - categorical_accuracy: 0.5805 - val_loss: 0.0492 - val_categorical_accuracy: 0.5625\n",
      "Epoch 410/500\n",
      "48000/48000 [==============================] - 2s 40us/step - loss: 0.0474 - categorical_accuracy: 0.5806 - val_loss: 0.0492 - val_categorical_accuracy: 0.5621\n",
      "Epoch 411/500\n",
      "48000/48000 [==============================] - 2s 33us/step - loss: 0.0474 - categorical_accuracy: 0.5806 - val_loss: 0.0492 - val_categorical_accuracy: 0.5626\n",
      "Epoch 412/500\n",
      "48000/48000 [==============================] - 1s 29us/step - loss: 0.0474 - categorical_accuracy: 0.5806 - val_loss: 0.0492 - val_categorical_accuracy: 0.5630\n",
      "Epoch 413/500\n",
      "48000/48000 [==============================] - 2s 34us/step - loss: 0.0474 - categorical_accuracy: 0.5803 - val_loss: 0.0492 - val_categorical_accuracy: 0.5624\n",
      "Epoch 414/500\n",
      "48000/48000 [==============================] - 2s 34us/step - loss: 0.0474 - categorical_accuracy: 0.5805 - val_loss: 0.0492 - val_categorical_accuracy: 0.5632\n",
      "Epoch 415/500\n",
      "48000/48000 [==============================] - 2s 32us/step - loss: 0.0474 - categorical_accuracy: 0.5807 - val_loss: 0.0492 - val_categorical_accuracy: 0.5630\n",
      "Epoch 416/500\n",
      "48000/48000 [==============================] - 2s 32us/step - loss: 0.0474 - categorical_accuracy: 0.5806 - val_loss: 0.0492 - val_categorical_accuracy: 0.5625\n",
      "Epoch 417/500\n",
      "48000/48000 [==============================] - 1s 28us/step - loss: 0.0473 - categorical_accuracy: 0.5806 - val_loss: 0.0492 - val_categorical_accuracy: 0.5629\n",
      "Epoch 418/500\n",
      "48000/48000 [==============================] - 2s 33us/step - loss: 0.0473 - categorical_accuracy: 0.5805 - val_loss: 0.0492 - val_categorical_accuracy: 0.5622\n",
      "Epoch 419/500\n",
      "48000/48000 [==============================] - 2s 34us/step - loss: 0.0473 - categorical_accuracy: 0.5806 - val_loss: 0.0492 - val_categorical_accuracy: 0.5627\n",
      "Epoch 420/500\n",
      "48000/48000 [==============================] - 1s 28us/step - loss: 0.0473 - categorical_accuracy: 0.5807 - val_loss: 0.0492 - val_categorical_accuracy: 0.5626\n",
      "Epoch 421/500\n",
      "48000/48000 [==============================] - 1s 28us/step - loss: 0.0473 - categorical_accuracy: 0.5807 - val_loss: 0.0492 - val_categorical_accuracy: 0.5630\n",
      "Epoch 422/500\n",
      "48000/48000 [==============================] - 2s 36us/step - loss: 0.0473 - categorical_accuracy: 0.5806 - val_loss: 0.0493 - val_categorical_accuracy: 0.5623\n",
      "Epoch 423/500\n",
      "48000/48000 [==============================] - 2s 36us/step - loss: 0.0473 - categorical_accuracy: 0.5807 - val_loss: 0.0492 - val_categorical_accuracy: 0.5627\n",
      "Epoch 424/500\n"
     ]
    },
    {
     "name": "stdout",
     "output_type": "stream",
     "text": [
      "48000/48000 [==============================] - 1s 31us/step - loss: 0.0473 - categorical_accuracy: 0.5806 - val_loss: 0.0492 - val_categorical_accuracy: 0.5628\n",
      "Epoch 425/500\n",
      "48000/48000 [==============================] - 2s 36us/step - loss: 0.0473 - categorical_accuracy: 0.5806 - val_loss: 0.0492 - val_categorical_accuracy: 0.5627\n",
      "Epoch 426/500\n",
      "48000/48000 [==============================] - 1s 31us/step - loss: 0.0473 - categorical_accuracy: 0.5806 - val_loss: 0.0492 - val_categorical_accuracy: 0.5626\n",
      "Epoch 427/500\n",
      "48000/48000 [==============================] - 2s 34us/step - loss: 0.0473 - categorical_accuracy: 0.5806 - val_loss: 0.0492 - val_categorical_accuracy: 0.5629\n",
      "Epoch 428/500\n",
      "48000/48000 [==============================] - 1s 30us/step - loss: 0.0473 - categorical_accuracy: 0.5806 - val_loss: 0.0492 - val_categorical_accuracy: 0.5626\n",
      "Epoch 429/500\n",
      "48000/48000 [==============================] - 2s 36us/step - loss: 0.0473 - categorical_accuracy: 0.5806 - val_loss: 0.0492 - val_categorical_accuracy: 0.5627\n",
      "Epoch 430/500\n",
      "48000/48000 [==============================] - 2s 41us/step - loss: 0.0473 - categorical_accuracy: 0.5807 - val_loss: 0.0492 - val_categorical_accuracy: 0.5627\n",
      "Epoch 431/500\n",
      "48000/48000 [==============================] - 2s 33us/step - loss: 0.0473 - categorical_accuracy: 0.5806 - val_loss: 0.0492 - val_categorical_accuracy: 0.5624\n",
      "Epoch 432/500\n",
      "48000/48000 [==============================] - 2s 34us/step - loss: 0.0473 - categorical_accuracy: 0.5805 - val_loss: 0.0492 - val_categorical_accuracy: 0.5630\n",
      "Epoch 433/500\n",
      "48000/48000 [==============================] - 1s 28us/step - loss: 0.0473 - categorical_accuracy: 0.5806 - val_loss: 0.0492 - val_categorical_accuracy: 0.5631\n",
      "Epoch 434/500\n",
      "48000/48000 [==============================] - 1s 27us/step - loss: 0.0473 - categorical_accuracy: 0.5806 - val_loss: 0.0492 - val_categorical_accuracy: 0.5632\n",
      "Epoch 435/500\n",
      "48000/48000 [==============================] - 2s 36us/step - loss: 0.0473 - categorical_accuracy: 0.5805 - val_loss: 0.0492 - val_categorical_accuracy: 0.5631\n",
      "Epoch 436/500\n",
      "48000/48000 [==============================] - 2s 31us/step - loss: 0.0473 - categorical_accuracy: 0.5805 - val_loss: 0.0492 - val_categorical_accuracy: 0.5623\n",
      "Epoch 437/500\n",
      "48000/48000 [==============================] - 1s 27us/step - loss: 0.0473 - categorical_accuracy: 0.5805 - val_loss: 0.0492 - val_categorical_accuracy: 0.5626\n",
      "Epoch 438/500\n",
      "48000/48000 [==============================] - 2s 32us/step - loss: 0.0473 - categorical_accuracy: 0.5807 - val_loss: 0.0492 - val_categorical_accuracy: 0.5627\n",
      "Epoch 439/500\n",
      "48000/48000 [==============================] - 2s 33us/step - loss: 0.0473 - categorical_accuracy: 0.5806 - val_loss: 0.0492 - val_categorical_accuracy: 0.5627\n",
      "Epoch 440/500\n",
      "48000/48000 [==============================] - 2s 33us/step - loss: 0.0473 - categorical_accuracy: 0.5807 - val_loss: 0.0492 - val_categorical_accuracy: 0.5627\n",
      "Epoch 441/500\n",
      "48000/48000 [==============================] - 2s 32us/step - loss: 0.0473 - categorical_accuracy: 0.5809 - val_loss: 0.0492 - val_categorical_accuracy: 0.5626\n",
      "Epoch 442/500\n",
      "48000/48000 [==============================] - 1s 28us/step - loss: 0.0473 - categorical_accuracy: 0.5808 - val_loss: 0.0492 - val_categorical_accuracy: 0.5640\n",
      "Epoch 443/500\n",
      "48000/48000 [==============================] - 2s 36us/step - loss: 0.0473 - categorical_accuracy: 0.5808 - val_loss: 0.0492 - val_categorical_accuracy: 0.5626\n",
      "Epoch 444/500\n",
      "48000/48000 [==============================] - 2s 37us/step - loss: 0.0473 - categorical_accuracy: 0.5807 - val_loss: 0.0492 - val_categorical_accuracy: 0.5625\n",
      "Epoch 445/500\n",
      "48000/48000 [==============================] - 1s 28us/step - loss: 0.0473 - categorical_accuracy: 0.5807 - val_loss: 0.0492 - val_categorical_accuracy: 0.5624\n",
      "Epoch 446/500\n",
      "48000/48000 [==============================] - 1s 29us/step - loss: 0.0473 - categorical_accuracy: 0.5806 - val_loss: 0.0492 - val_categorical_accuracy: 0.5632\n",
      "Epoch 447/500\n",
      "48000/48000 [==============================] - 2s 38us/step - loss: 0.0473 - categorical_accuracy: 0.5808 - val_loss: 0.0492 - val_categorical_accuracy: 0.5630\n",
      "Epoch 448/500\n",
      "48000/48000 [==============================] - 2s 34us/step - loss: 0.0473 - categorical_accuracy: 0.5807 - val_loss: 0.0492 - val_categorical_accuracy: 0.5623\n",
      "Epoch 449/500\n",
      "48000/48000 [==============================] - 1s 30us/step - loss: 0.0473 - categorical_accuracy: 0.5807 - val_loss: 0.0492 - val_categorical_accuracy: 0.5632\n",
      "Epoch 450/500\n",
      "48000/48000 [==============================] - 1s 28us/step - loss: 0.0473 - categorical_accuracy: 0.5807 - val_loss: 0.0492 - val_categorical_accuracy: 0.5627\n",
      "Epoch 451/500\n",
      "48000/48000 [==============================] - 1s 31us/step - loss: 0.0473 - categorical_accuracy: 0.5806 - val_loss: 0.0492 - val_categorical_accuracy: 0.5626\n",
      "Epoch 452/500\n",
      "48000/48000 [==============================] - 2s 33us/step - loss: 0.0473 - categorical_accuracy: 0.5808 - val_loss: 0.0492 - val_categorical_accuracy: 0.5627\n",
      "Epoch 453/500\n",
      "48000/48000 [==============================] - 1s 27us/step - loss: 0.0473 - categorical_accuracy: 0.5807 - val_loss: 0.0492 - val_categorical_accuracy: 0.5631\n",
      "Epoch 454/500\n",
      "48000/48000 [==============================] - 1s 28us/step - loss: 0.0473 - categorical_accuracy: 0.5807 - val_loss: 0.0492 - val_categorical_accuracy: 0.5625\n",
      "Epoch 455/500\n",
      "48000/48000 [==============================] - 2s 32us/step - loss: 0.0473 - categorical_accuracy: 0.5806 - val_loss: 0.0492 - val_categorical_accuracy: 0.5627\n",
      "Epoch 456/500\n",
      "48000/48000 [==============================] - 2s 32us/step - loss: 0.0473 - categorical_accuracy: 0.5807 - val_loss: 0.0492 - val_categorical_accuracy: 0.5630\n",
      "Epoch 457/500\n",
      "48000/48000 [==============================] - 1s 28us/step - loss: 0.0473 - categorical_accuracy: 0.5806 - val_loss: 0.0492 - val_categorical_accuracy: 0.5627\n",
      "Epoch 458/500\n",
      "48000/48000 [==============================] - 1s 29us/step - loss: 0.0473 - categorical_accuracy: 0.5806 - val_loss: 0.0492 - val_categorical_accuracy: 0.5622\n",
      "Epoch 459/500\n",
      "48000/48000 [==============================] - 1s 30us/step - loss: 0.0473 - categorical_accuracy: 0.5809 - val_loss: 0.0492 - val_categorical_accuracy: 0.5627\n",
      "Epoch 460/500\n",
      "48000/48000 [==============================] - 2s 32us/step - loss: 0.0473 - categorical_accuracy: 0.5806 - val_loss: 0.0492 - val_categorical_accuracy: 0.5624\n",
      "Epoch 461/500\n",
      "48000/48000 [==============================] - 2s 31us/step - loss: 0.0472 - categorical_accuracy: 0.5807 - val_loss: 0.0492 - val_categorical_accuracy: 0.5623\n",
      "Epoch 462/500\n",
      "48000/48000 [==============================] - 1s 27us/step - loss: 0.0472 - categorical_accuracy: 0.5808 - val_loss: 0.0491 - val_categorical_accuracy: 0.5625\n",
      "Epoch 463/500\n",
      "48000/48000 [==============================] - 1s 30us/step - loss: 0.0473 - categorical_accuracy: 0.5806 - val_loss: 0.0492 - val_categorical_accuracy: 0.5627\n",
      "Epoch 464/500\n",
      "48000/48000 [==============================] - 2s 35us/step - loss: 0.0473 - categorical_accuracy: 0.5807 - val_loss: 0.0492 - val_categorical_accuracy: 0.5632\n",
      "Epoch 465/500\n",
      "48000/48000 [==============================] - 2s 36us/step - loss: 0.0473 - categorical_accuracy: 0.5808 - val_loss: 0.0492 - val_categorical_accuracy: 0.5622\n",
      "Epoch 466/500\n",
      "48000/48000 [==============================] - 1s 28us/step - loss: 0.0472 - categorical_accuracy: 0.5808 - val_loss: 0.0492 - val_categorical_accuracy: 0.5625\n",
      "Epoch 467/500\n",
      "48000/48000 [==============================] - 1s 31us/step - loss: 0.0473 - categorical_accuracy: 0.5808 - val_loss: 0.0492 - val_categorical_accuracy: 0.5626\n",
      "Epoch 468/500\n",
      "48000/48000 [==============================] - 2s 35us/step - loss: 0.0473 - categorical_accuracy: 0.5806 - val_loss: 0.0492 - val_categorical_accuracy: 0.5629\n",
      "Epoch 469/500\n",
      "48000/48000 [==============================] - 1s 28us/step - loss: 0.0473 - categorical_accuracy: 0.5806 - val_loss: 0.0492 - val_categorical_accuracy: 0.5627\n",
      "Epoch 470/500\n",
      "48000/48000 [==============================] - 1s 28us/step - loss: 0.0472 - categorical_accuracy: 0.5807 - val_loss: 0.0492 - val_categorical_accuracy: 0.5628\n",
      "Epoch 471/500\n"
     ]
    },
    {
     "name": "stdout",
     "output_type": "stream",
     "text": [
      "48000/48000 [==============================] - 2s 33us/step - loss: 0.0472 - categorical_accuracy: 0.5808 - val_loss: 0.0492 - val_categorical_accuracy: 0.5627\n",
      "Epoch 472/500\n",
      "48000/48000 [==============================] - 2s 32us/step - loss: 0.0473 - categorical_accuracy: 0.5807 - val_loss: 0.0492 - val_categorical_accuracy: 0.5625\n",
      "Epoch 473/500\n",
      "48000/48000 [==============================] - 1s 28us/step - loss: 0.0472 - categorical_accuracy: 0.5808 - val_loss: 0.0492 - val_categorical_accuracy: 0.5635\n",
      "Epoch 474/500\n",
      "48000/48000 [==============================] - 1s 29us/step - loss: 0.0472 - categorical_accuracy: 0.5807 - val_loss: 0.0491 - val_categorical_accuracy: 0.5626\n",
      "Epoch 475/500\n",
      "48000/48000 [==============================] - 1s 28us/step - loss: 0.0472 - categorical_accuracy: 0.5809 - val_loss: 0.0492 - val_categorical_accuracy: 0.5637\n",
      "Epoch 476/500\n",
      "48000/48000 [==============================] - 1s 28us/step - loss: 0.0472 - categorical_accuracy: 0.5806 - val_loss: 0.0492 - val_categorical_accuracy: 0.5629\n",
      "Epoch 477/500\n",
      "48000/48000 [==============================] - 1s 30us/step - loss: 0.0472 - categorical_accuracy: 0.5807 - val_loss: 0.0492 - val_categorical_accuracy: 0.5631\n",
      "Epoch 478/500\n",
      "48000/48000 [==============================] - 1s 28us/step - loss: 0.0472 - categorical_accuracy: 0.5808 - val_loss: 0.0492 - val_categorical_accuracy: 0.5624\n",
      "Epoch 479/500\n",
      "48000/48000 [==============================] - 1s 28us/step - loss: 0.0472 - categorical_accuracy: 0.5808 - val_loss: 0.0491 - val_categorical_accuracy: 0.5633\n",
      "Epoch 480/500\n",
      "48000/48000 [==============================] - 2s 34us/step - loss: 0.0472 - categorical_accuracy: 0.5809 - val_loss: 0.0491 - val_categorical_accuracy: 0.5632\n",
      "Epoch 481/500\n",
      "48000/48000 [==============================] - 1s 31us/step - loss: 0.0472 - categorical_accuracy: 0.5808 - val_loss: 0.0491 - val_categorical_accuracy: 0.5632\n",
      "Epoch 482/500\n",
      "48000/48000 [==============================] - 1s 29us/step - loss: 0.0472 - categorical_accuracy: 0.5808 - val_loss: 0.0492 - val_categorical_accuracy: 0.5632\n",
      "Epoch 483/500\n",
      "48000/48000 [==============================] - 2s 37us/step - loss: 0.0472 - categorical_accuracy: 0.5809 - val_loss: 0.0492 - val_categorical_accuracy: 0.5638\n",
      "Epoch 484/500\n",
      "48000/48000 [==============================] - 2s 35us/step - loss: 0.0472 - categorical_accuracy: 0.5809 - val_loss: 0.0491 - val_categorical_accuracy: 0.5626\n",
      "Epoch 485/500\n",
      "48000/48000 [==============================] - 1s 29us/step - loss: 0.0472 - categorical_accuracy: 0.5809 - val_loss: 0.0492 - val_categorical_accuracy: 0.5628\n",
      "Epoch 486/500\n",
      "48000/48000 [==============================] - 2s 33us/step - loss: 0.0472 - categorical_accuracy: 0.5808 - val_loss: 0.0492 - val_categorical_accuracy: 0.5628\n",
      "Epoch 487/500\n",
      "48000/48000 [==============================] - 2s 32us/step - loss: 0.0472 - categorical_accuracy: 0.5809 - val_loss: 0.0491 - val_categorical_accuracy: 0.5626\n",
      "Epoch 488/500\n",
      "48000/48000 [==============================] - 2s 32us/step - loss: 0.0472 - categorical_accuracy: 0.5807 - val_loss: 0.0491 - val_categorical_accuracy: 0.5627\n",
      "Epoch 489/500\n",
      "48000/48000 [==============================] - 2s 34us/step - loss: 0.0472 - categorical_accuracy: 0.5809 - val_loss: 0.0492 - val_categorical_accuracy: 0.5628\n",
      "Epoch 490/500\n",
      "48000/48000 [==============================] - 1s 29us/step - loss: 0.0472 - categorical_accuracy: 0.5809 - val_loss: 0.0491 - val_categorical_accuracy: 0.5637\n",
      "Epoch 491/500\n",
      "48000/48000 [==============================] - 2s 38us/step - loss: 0.0472 - categorical_accuracy: 0.5809 - val_loss: 0.0491 - val_categorical_accuracy: 0.5625\n",
      "Epoch 492/500\n",
      "48000/48000 [==============================] - 2s 34us/step - loss: 0.0472 - categorical_accuracy: 0.5808 - val_loss: 0.0491 - val_categorical_accuracy: 0.5637\n",
      "Epoch 493/500\n",
      "48000/48000 [==============================] - 1s 27us/step - loss: 0.0472 - categorical_accuracy: 0.5808 - val_loss: 0.0492 - val_categorical_accuracy: 0.5631\n",
      "Epoch 494/500\n",
      "48000/48000 [==============================] - 1s 29us/step - loss: 0.0472 - categorical_accuracy: 0.5807 - val_loss: 0.0491 - val_categorical_accuracy: 0.5637\n",
      "Epoch 495/500\n",
      "48000/48000 [==============================] - 1s 29us/step - loss: 0.0472 - categorical_accuracy: 0.5807 - val_loss: 0.0492 - val_categorical_accuracy: 0.5622\n",
      "Epoch 496/500\n",
      "48000/48000 [==============================] - 1s 30us/step - loss: 0.0472 - categorical_accuracy: 0.5809 - val_loss: 0.0492 - val_categorical_accuracy: 0.5631\n",
      "Epoch 497/500\n",
      "48000/48000 [==============================] - 1s 29us/step - loss: 0.0472 - categorical_accuracy: 0.5809 - val_loss: 0.0491 - val_categorical_accuracy: 0.5626\n",
      "Epoch 498/500\n",
      "48000/48000 [==============================] - 1s 29us/step - loss: 0.0472 - categorical_accuracy: 0.5809 - val_loss: 0.0491 - val_categorical_accuracy: 0.5624\n",
      "Epoch 499/500\n",
      "48000/48000 [==============================] - 1s 31us/step - loss: 0.0472 - categorical_accuracy: 0.5808 - val_loss: 0.0491 - val_categorical_accuracy: 0.5634\n",
      "Epoch 500/500\n",
      "48000/48000 [==============================] - 2s 32us/step - loss: 0.0472 - categorical_accuracy: 0.5808 - val_loss: 0.0492 - val_categorical_accuracy: 0.5627\n"
     ]
    },
    {
     "data": {
      "text/plain": [
       "<keras.callbacks.History at 0x7f11ce69d950>"
      ]
     },
     "execution_count": 18,
     "metadata": {},
     "output_type": "execute_result"
    }
   ],
   "source": [
    "model.fit(data['x_train'], data['y_train_gt'],\n",
    "          batch_size=hyperparameters['batch_size'],\n",
    "          epochs=hyperparameters['nb_epochs'],\n",
    "          verbose=1,\n",
    "          callbacks=callbacks,\n",
    "          validation_data=(data['x_validation'], data['y_validation_gt']))"
   ]
  },
  {
   "cell_type": "markdown",
   "metadata": {},
   "source": [
    "Plotting model"
   ]
  },
  {
   "cell_type": "code",
   "execution_count": 19,
   "metadata": {},
   "outputs": [
    {
     "data": {
      "image/png": "[encoded data removed]",
      "text/plain": [
       "<IPython.core.display.Image object>"
      ]
     },
     "metadata": {},
     "output_type": "display_data"
    }
   ],
   "source": [
    "plot_model(model, os.path.join(paths['model'], 'model.png'),\n",
    "          show_shapes=True)\n",
    "display(Image(filename=os.path.join(paths['model'], 'model.png')))"
   ]
  },
  {
   "cell_type": "markdown",
   "metadata": {},
   "source": [
    "## Model evaluation"
   ]
  },
  {
   "cell_type": "markdown",
   "metadata": {},
   "source": [
    "Evaluating model on test set"
   ]
  },
  {
   "cell_type": "code",
   "execution_count": 20,
   "metadata": {},
   "outputs": [],
   "source": [
    "prediction = np.argmax(model.predict(data['x_test'], batch_size=hyperparameters['batch_size']), axis=-1)"
   ]
  },
  {
   "cell_type": "markdown",
   "metadata": {},
   "source": [
    "Computing and displaying confusion matrix"
   ]
  },
  {
   "cell_type": "code",
   "execution_count": 23,
   "metadata": {},
   "outputs": [
    {
     "ename": "NameError",
     "evalue": "name 'plot_heatmap' is not defined",
     "output_type": "error",
     "traceback": [
      "\u001b[0;31m---------------------------------------------------------------------------\u001b[0m",
      "\u001b[0;31mNameError\u001b[0m                                 Traceback (most recent call last)",
      "\u001b[0;32m<ipython-input-23-0074e264415e>\u001b[0m in \u001b[0;36m<module>\u001b[0;34m()\u001b[0m\n\u001b[1;32m      1\u001b[0m \u001b[0mconfusion\u001b[0m \u001b[0;34m=\u001b[0m \u001b[0mconfusion_matrix\u001b[0m\u001b[0;34m(\u001b[0m\u001b[0mdata\u001b[0m\u001b[0;34m[\u001b[0m\u001b[0;34m'y_test'\u001b[0m\u001b[0;34m]\u001b[0m\u001b[0;34m.\u001b[0m\u001b[0mtolist\u001b[0m\u001b[0;34m(\u001b[0m\u001b[0;34m)\u001b[0m\u001b[0;34m,\u001b[0m \u001b[0mprediction\u001b[0m\u001b[0;34m.\u001b[0m\u001b[0mtolist\u001b[0m\u001b[0;34m(\u001b[0m\u001b[0;34m)\u001b[0m\u001b[0;34m,\u001b[0m \u001b[0mlabels\u001b[0m\u001b[0;34m=\u001b[0m\u001b[0mcategories\u001b[0m\u001b[0;34m)\u001b[0m\u001b[0;34m\u001b[0m\u001b[0m\n\u001b[0;32m----> 2\u001b[0;31m \u001b[0mplot_heatmap\u001b[0m\u001b[0;34m(\u001b[0m\u001b[0mpaths\u001b[0m\u001b[0;34m,\u001b[0m \u001b[0mconfusion\u001b[0m\u001b[0;34m,\u001b[0m \u001b[0mcategories\u001b[0m\u001b[0;34m,\u001b[0m \u001b[0mnotebook\u001b[0m\u001b[0;34m=\u001b[0m\u001b[0mTrue\u001b[0m\u001b[0;34m)\u001b[0m\u001b[0;34m\u001b[0m\u001b[0m\n\u001b[0m",
      "\u001b[0;31mNameError\u001b[0m: name 'plot_heatmap' is not defined"
     ]
    }
   ],
   "source": [
    "confusion = confusion_matrix(data['y_test'].tolist(), prediction.tolist(), labels=categories)\n",
    "plot_heatmap(paths, confusion, categories, notebook=True)"
   ]
  },
  {
   "cell_type": "code",
   "execution_count": null,
   "metadata": {},
   "outputs": [],
   "source": []
  }
 ],
 "metadata": {
  "kernelspec": {
   "display_name": "Python 2",
   "language": "python",
   "name": "python2"
  },
  "language_info": {
   "codemirror_mode": {
    "name": "ipython",
    "version": 2
   },
   "file_extension": ".py",
   "mimetype": "text/x-python",
   "name": "python",
   "nbconvert_exporter": "python",
   "pygments_lexer": "ipython2",
   "version": "2.7.15rc1"
  }
 },
 "nbformat": 4,
 "nbformat_minor": 2
}
