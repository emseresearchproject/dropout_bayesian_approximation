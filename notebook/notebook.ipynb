{
 "cells": [
  {
   "cell_type": "markdown",
   "metadata": {},
   "source": [
    "# Vanilla MNIST neural network"
   ]
  },
  {
   "cell_type": "markdown",
   "metadata": {},
   "source": [
    "## Environment setting"
   ]
  },
  {
   "cell_type": "markdown",
   "metadata": {},
   "source": [
    "Importing libraries"
   ]
  },
  {
   "cell_type": "code",
   "execution_count": 1,
   "metadata": {
    "scrolled": true
   },
   "outputs": [
    {
     "name": "stderr",
     "output_type": "stream",
     "text": [
      "/home/tuche-kaki/.local/lib/python2.7/site-packages/h5py/__init__.py:36: RuntimeWarning: numpy.dtype size changed, may indicate binary incompatibility. Expected 96, got 88\n",
      "  from ._conv import register_converters as _register_converters\n",
      "/home/tuche-kaki/.local/lib/python2.7/site-packages/h5py/__init__.py:45: RuntimeWarning: numpy.dtype size changed, may indicate binary incompatibility. Expected 96, got 88\n",
      "  from . import h5a, h5d, h5ds, h5f, h5fd, h5g, h5r, h5s, h5t, h5p, h5z\n",
      "/home/tuche-kaki/.local/lib/python2.7/site-packages/h5py/_hl/group.py:22: RuntimeWarning: numpy.dtype size changed, may indicate binary incompatibility. Expected 96, got 88\n",
      "  from .. import h5g, h5i, h5o, h5r, h5t, h5l, h5p\n",
      "Using TensorFlow backend.\n",
      "/home/tuche-kaki/.local/lib/python2.7/site-packages/pandas/_libs/__init__.py:4: RuntimeWarning: numpy.dtype size changed, may indicate binary incompatibility. Expected 96, got 88\n",
      "  from .tslib import iNaT, NaT, Timestamp, Timedelta, OutOfBoundsDatetime\n",
      "/home/tuche-kaki/.local/lib/python2.7/site-packages/pandas/__init__.py:26: RuntimeWarning: numpy.dtype size changed, may indicate binary incompatibility. Expected 96, got 88\n",
      "  from pandas._libs import (hashtable as _hashtable,\n",
      "/home/tuche-kaki/.local/lib/python2.7/site-packages/pandas/core/dtypes/common.py:6: RuntimeWarning: numpy.dtype size changed, may indicate binary incompatibility. Expected 96, got 88\n",
      "  from pandas._libs import algos, lib\n",
      "/home/tuche-kaki/.local/lib/python2.7/site-packages/pandas/core/util/hashing.py:7: RuntimeWarning: numpy.dtype size changed, may indicate binary incompatibility. Expected 96, got 88\n",
      "  from pandas._libs import hashing, tslib\n",
      "/home/tuche-kaki/.local/lib/python2.7/site-packages/pandas/core/indexes/base.py:7: RuntimeWarning: numpy.dtype size changed, may indicate binary incompatibility. Expected 96, got 88\n",
      "  from pandas._libs import (lib, index as libindex, tslib as libts,\n",
      "/home/tuche-kaki/.local/lib/python2.7/site-packages/pandas/tseries/offsets.py:21: RuntimeWarning: numpy.dtype size changed, may indicate binary incompatibility. Expected 96, got 88\n",
      "  import pandas._libs.tslibs.offsets as liboffsets\n",
      "/home/tuche-kaki/.local/lib/python2.7/site-packages/pandas/core/ops.py:16: RuntimeWarning: numpy.dtype size changed, may indicate binary incompatibility. Expected 96, got 88\n",
      "  from pandas._libs import algos as libalgos, ops as libops\n",
      "/home/tuche-kaki/.local/lib/python2.7/site-packages/pandas/core/indexes/interval.py:32: RuntimeWarning: numpy.dtype size changed, may indicate binary incompatibility. Expected 96, got 88\n",
      "  from pandas._libs.interval import (\n",
      "/home/tuche-kaki/.local/lib/python2.7/site-packages/pandas/core/internals.py:14: RuntimeWarning: numpy.dtype size changed, may indicate binary incompatibility. Expected 96, got 88\n",
      "  from pandas._libs import internals as libinternals\n",
      "/home/tuche-kaki/.local/lib/python2.7/site-packages/pandas/core/sparse/array.py:33: RuntimeWarning: numpy.dtype size changed, may indicate binary incompatibility. Expected 96, got 88\n",
      "  import pandas._libs.sparse as splib\n",
      "/home/tuche-kaki/.local/lib/python2.7/site-packages/pandas/core/window.py:36: RuntimeWarning: numpy.dtype size changed, may indicate binary incompatibility. Expected 96, got 88\n",
      "  import pandas._libs.window as _window\n",
      "/home/tuche-kaki/.local/lib/python2.7/site-packages/pandas/core/groupby/groupby.py:68: RuntimeWarning: numpy.dtype size changed, may indicate binary incompatibility. Expected 96, got 88\n",
      "  from pandas._libs import (lib, reduction,\n",
      "/home/tuche-kaki/.local/lib/python2.7/site-packages/pandas/core/reshape/reshape.py:30: RuntimeWarning: numpy.dtype size changed, may indicate binary incompatibility. Expected 96, got 88\n",
      "  from pandas._libs import algos as _algos, reshape as _reshape\n",
      "/home/tuche-kaki/.local/lib/python2.7/site-packages/pandas/io/parsers.py:45: RuntimeWarning: numpy.dtype size changed, may indicate binary incompatibility. Expected 96, got 88\n",
      "  import pandas._libs.parsers as parsers\n",
      "/home/tuche-kaki/.local/lib/python2.7/site-packages/pandas/io/pytables.py:50: RuntimeWarning: numpy.dtype size changed, may indicate binary incompatibility. Expected 96, got 88\n",
      "  from pandas._libs import algos, lib, writers as libwriters\n",
      "/home/tuche-kaki/.local/lib/python2.7/site-packages/sklearn/utils/__init__.py:12: RuntimeWarning: numpy.dtype size changed, may indicate binary incompatibility. Expected 96, got 88\n",
      "  from .murmurhash import murmurhash3_32\n",
      "/home/tuche-kaki/.local/lib/python2.7/site-packages/sklearn/utils/extmath.py:23: RuntimeWarning: numpy.dtype size changed, may indicate binary incompatibility. Expected 96, got 88\n",
      "  from ._logistic_sigmoid import _log_logistic_sigmoid\n",
      "/home/tuche-kaki/.local/lib/python2.7/site-packages/sklearn/utils/extmath.py:25: RuntimeWarning: numpy.dtype size changed, may indicate binary incompatibility. Expected 96, got 88\n",
      "  from .sparsefuncs_fast import csr_row_norms\n",
      "/home/tuche-kaki/.local/lib/python2.7/site-packages/sklearn/metrics/cluster/supervised.py:25: RuntimeWarning: numpy.dtype size changed, may indicate binary incompatibility. Expected 96, got 88\n",
      "  from .expected_mutual_info_fast import expected_mutual_information\n",
      "/home/tuche-kaki/.local/lib/python2.7/site-packages/sklearn/metrics/pairwise.py:31: RuntimeWarning: numpy.dtype size changed, may indicate binary incompatibility. Expected 96, got 88\n",
      "  from .pairwise_fast import _chi2_kernel_fast, _sparse_manhattan\n"
     ]
    }
   ],
   "source": [
    "import os\n",
    "import numpy as np\n",
    "import json\n",
    "from keras.datasets import mnist\n",
    "from keras.callbacks import TensorBoard, ModelCheckpoint\n",
    "from preprocess import *\n",
    "from utils import *\n",
    "from model import *\n",
    "from keras.models import model_from_json\n",
    "from sklearn.metrics import confusion_matrix, f1_score\n",
    "from keras.utils import plot_model\n",
    "import plotly.offline as py\n",
    "import plotly.graph_objs as go\n",
    "import plotly.io as pio\n",
    "from keras import backend as K"
   ]
  },
  {
   "cell_type": "markdown",
   "metadata": {},
   "source": [
    "Setting plotly"
   ]
  },
  {
   "cell_type": "code",
   "execution_count": 2,
   "metadata": {},
   "outputs": [
    {
     "data": {
      "text/html": [
       "<script type=\"text/javascript\">window.PlotlyConfig = {MathJaxConfig: 'local'};</script><script type=\"text/javascript\">if (window.MathJax) {MathJax.Hub.Config({SVG: {font: \"STIX-Web\"}});}</script><script>requirejs.config({paths: { 'plotly': ['https://cdn.plot.ly/plotly-latest.min']},});if(!window._Plotly) {require(['plotly'],function(plotly) {window._Plotly=plotly;});}</script>"
      ],
      "text/vnd.plotly.v1+html": [
       "<script type=\"text/javascript\">window.PlotlyConfig = {MathJaxConfig: 'local'};</script><script type=\"text/javascript\">if (window.MathJax) {MathJax.Hub.Config({SVG: {font: \"STIX-Web\"}});}</script><script>requirejs.config({paths: { 'plotly': ['https://cdn.plot.ly/plotly-latest.min']},});if(!window._Plotly) {require(['plotly'],function(plotly) {window._Plotly=plotly;});}</script>"
      ]
     },
     "metadata": {},
     "output_type": "display_data"
    }
   ],
   "source": [
    "py.init_notebook_mode(connected=True)\n",
    "K.clear_session()"
   ]
  },
  {
   "cell_type": "markdown",
   "metadata": {},
   "source": [
    "Defining global variables"
   ]
  },
  {
   "cell_type": "code",
   "execution_count": 3,
   "metadata": {},
   "outputs": [],
   "source": [
    "data_status = ['train', 'validation', 'test']\n",
    "categories = np.arange(10).tolist()"
   ]
  },
  {
   "cell_type": "markdown",
   "metadata": {},
   "source": [
    "Defining output directory structure"
   ]
  },
  {
   "cell_type": "code",
   "execution_count": 4,
   "metadata": {},
   "outputs": [],
   "source": [
    "path_structure = \\\n",
    "    {\n",
    "        'preprocess': [],\n",
    "        'model': [['stats']],\n",
    "        'visualisation': [data_status, categories]\n",
    "    }\n",
    "paths = create_paths_from_dictionnary(path_structure)"
   ]
  },
  {
   "cell_type": "markdown",
   "metadata": {},
   "source": [
    "## Preprocess and data visualisation"
   ]
  },
  {
   "cell_type": "markdown",
   "metadata": {},
   "source": [
    "Loading splitting and preprocessing data"
   ]
  },
  {
   "cell_type": "code",
   "execution_count": 5,
   "metadata": {},
   "outputs": [],
   "source": [
    "data = dict()\n",
    "(data['x_train'], data['y_train']), (data['x_test'], data['y_test']) = mnist.load_data()\n",
    "(data['x_train'], data['y_train']), (data['x_validation'], data['y_validation']) = data_split(data['x_train'],\n",
    "                                                                                              data['y_train'])\n",
    "data_to_categories(data, list(data))\n",
    "save_data(paths['preprocess'], data)"
   ]
  },
  {
   "cell_type": "markdown",
   "metadata": {},
   "source": [
    "Vizualizing the first 100 images of training, validation and test set"
   ]
  },
  {
   "cell_type": "code",
   "execution_count": 6,
   "metadata": {
    "scrolled": true
   },
   "outputs": [
    {
     "name": "stdout",
     "output_type": "stream",
     "text": [
      "train sample number 0 (ground truth value = 5) :\n"
     ]
    },
    {
     "data": {
      "image/png": "[encoded data removed]",
      "text/plain": [
       "<IPython.core.display.Image object>"
      ]
     },
     "metadata": {},
     "output_type": "display_data"
    },
    {
     "name": "stdout",
     "output_type": "stream",
     "text": [
      "train sample number 1 (ground truth value = 0) :\n"
     ]
    },
    {
     "data": {
      "image/png": "[encoded data removed]",
      "text/plain": [
       "<IPython.core.display.Image object>"
      ]
     },
     "metadata": {},
     "output_type": "display_data"
    },
    {
     "name": "stdout",
     "output_type": "stream",
     "text": [
      "train sample number 2 (ground truth value = 4) :\n"
     ]
    },
    {
     "data": {
      "image/png": "[encoded data removed]",
      "text/plain": [
       "<IPython.core.display.Image object>"
      ]
     },
     "metadata": {},
     "output_type": "display_data"
    },
    {
     "name": "stdout",
     "output_type": "stream",
     "text": [
      "train sample number 3 (ground truth value = 1) :\n"
     ]
    },
    {
     "data": {
      "image/png": "[encoded data removed]",
      "text/plain": [
       "<IPython.core.display.Image object>"
      ]
     },
     "metadata": {},
     "output_type": "display_data"
    },
    {
     "name": "stdout",
     "output_type": "stream",
     "text": [
      "train sample number 4 (ground truth value = 9) :\n"
     ]
    },
    {
     "data": {
      "image/png": "[encoded data removed]",
      "text/plain": [
       "<IPython.core.display.Image object>"
      ]
     },
     "metadata": {},
     "output_type": "display_data"
    },
    {
     "name": "stdout",
     "output_type": "stream",
     "text": [
      "train sample number 5 (ground truth value = 2) :\n"
     ]
    },
    {
     "data": {
      "image/png": "[encoded data removed]",
      "text/plain": [
       "<IPython.core.display.Image object>"
      ]
     },
     "metadata": {},
     "output_type": "display_data"
    },
    {
     "name": "stdout",
     "output_type": "stream",
     "text": [
      "train sample number 6 (ground truth value = 1) :\n"
     ]
    },
    {
     "data": {
      "image/png": "[encoded data removed]",
      "text/plain": [
       "<IPython.core.display.Image object>"
      ]
     },
     "metadata": {},
     "output_type": "display_data"
    },
    {
     "name": "stdout",
     "output_type": "stream",
     "text": [
      "train sample number 7 (ground truth value = 3) :\n"
     ]
    },
    {
     "data": {
      "image/png": "[encoded data removed]",
      "text/plain": [
       "<IPython.core.display.Image object>"
      ]
     },
     "metadata": {},
     "output_type": "display_data"
    },
    {
     "name": "stdout",
     "output_type": "stream",
     "text": [
      "train sample number 8 (ground truth value = 1) :\n"
     ]
    },
    {
     "data": {
      "image/png": "[encoded data removed]",
      "text/plain": [
       "<IPython.core.display.Image object>"
      ]
     },
     "metadata": {},
     "output_type": "display_data"
    },
    {
     "name": "stdout",
     "output_type": "stream",
     "text": [
      "train sample number 9 (ground truth value = 4) :\n"
     ]
    },
    {
     "data": {
      "image/png": "[encoded data removed]",
      "text/plain": [
       "<IPython.core.display.Image object>"
      ]
     },
     "metadata": {},
     "output_type": "display_data"
    },
    {
     "name": "stdout",
     "output_type": "stream",
     "text": [
      "train sample number 10 (ground truth value = 3) :\n"
     ]
    },
    {
     "data": {
      "image/png": "[encoded data removed]",
      "text/plain": [
       "<IPython.core.display.Image object>"
      ]
     },
     "metadata": {},
     "output_type": "display_data"
    },
    {
     "name": "stdout",
     "output_type": "stream",
     "text": [
      "train sample number 11 (ground truth value = 5) :\n"
     ]
    },
    {
     "data": {
      "image/png": "[encoded data removed]",
      "text/plain": [
       "<IPython.core.display.Image object>"
      ]
     },
     "metadata": {},
     "output_type": "display_data"
    },
    {
     "name": "stdout",
     "output_type": "stream",
     "text": [
      "train sample number 12 (ground truth value = 3) :\n"
     ]
    },
    {
     "data": {
      "image/png": "[encoded data removed]",
      "text/plain": [
       "<IPython.core.display.Image object>"
      ]
     },
     "metadata": {},
     "output_type": "display_data"
    },
    {
     "name": "stdout",
     "output_type": "stream",
     "text": [
      "train sample number 13 (ground truth value = 6) :\n"
     ]
    },
    {
     "data": {
      "image/png": "[encoded data removed]",
      "text/plain": [
       "<IPython.core.display.Image object>"
      ]
     },
     "metadata": {},
     "output_type": "display_data"
    },
    {
     "name": "stdout",
     "output_type": "stream",
     "text": [
      "train sample number 14 (ground truth value = 1) :\n"
     ]
    },
    {
     "data": {
      "image/png": "[encoded data removed]",
      "text/plain": [
       "<IPython.core.display.Image object>"
      ]
     },
     "metadata": {},
     "output_type": "display_data"
    },
    {
     "name": "stdout",
     "output_type": "stream",
     "text": [
      "train sample number 15 (ground truth value = 7) :\n"
     ]
    },
    {
     "data": {
      "image/png": "[encoded data removed]",
      "text/plain": [
       "<IPython.core.display.Image object>"
      ]
     },
     "metadata": {},
     "output_type": "display_data"
    },
    {
     "name": "stdout",
     "output_type": "stream",
     "text": [
      "train sample number 16 (ground truth value = 2) :\n"
     ]
    },
    {
     "data": {
      "image/png": "[encoded data removed]",
      "text/plain": [
       "<IPython.core.display.Image object>"
      ]
     },
     "metadata": {},
     "output_type": "display_data"
    },
    {
     "name": "stdout",
     "output_type": "stream",
     "text": [
      "train sample number 17 (ground truth value = 8) :\n"
     ]
    },
    {
     "data": {
      "image/png": "[encoded data removed]",
      "text/plain": [
       "<IPython.core.display.Image object>"
      ]
     },
     "metadata": {},
     "output_type": "display_data"
    },
    {
     "name": "stdout",
     "output_type": "stream",
     "text": [
      "train sample number 18 (ground truth value = 6) :\n"
     ]
    },
    {
     "data": {
      "image/png": "[encoded data removed]",
      "text/plain": [
       "<IPython.core.display.Image object>"
      ]
     },
     "metadata": {},
     "output_type": "display_data"
    },
    {
     "name": "stdout",
     "output_type": "stream",
     "text": [
      "train sample number 19 (ground truth value = 9) :\n"
     ]
    },
    {
     "data": {
      "image/png": "[encoded data removed]",
      "text/plain": [
       "<IPython.core.display.Image object>"
      ]
     },
     "metadata": {},
     "output_type": "display_data"
    },
    {
     "name": "stdout",
     "output_type": "stream",
     "text": [
      "train sample number 20 (ground truth value = 4) :\n"
     ]
    },
    {
     "data": {
      "image/png": "[encoded data removed]",
      "text/plain": [
       "<IPython.core.display.Image object>"
      ]
     },
     "metadata": {},
     "output_type": "display_data"
    },
    {
     "name": "stdout",
     "output_type": "stream",
     "text": [
      "train sample number 21 (ground truth value = 0) :\n"
     ]
    },
    {
     "data": {
      "image/png": "[encoded data removed]",
      "text/plain": [
       "<IPython.core.display.Image object>"
      ]
     },
     "metadata": {},
     "output_type": "display_data"
    },
    {
     "name": "stdout",
     "output_type": "stream",
     "text": [
      "train sample number 22 (ground truth value = 9) :\n"
     ]
    },
    {
     "data": {
      "image/png": "[encoded data removed]",
      "text/plain": [
       "<IPython.core.display.Image object>"
      ]
     },
     "metadata": {},
     "output_type": "display_data"
    },
    {
     "name": "stdout",
     "output_type": "stream",
     "text": [
      "train sample number 23 (ground truth value = 1) :\n"
     ]
    },
    {
     "data": {
      "image/png": "[encoded data removed]",
      "text/plain": [
       "<IPython.core.display.Image object>"
      ]
     },
     "metadata": {},
     "output_type": "display_data"
    },
    {
     "name": "stdout",
     "output_type": "stream",
     "text": [
      "train sample number 24 (ground truth value = 1) :\n"
     ]
    },
    {
     "data": {
      "image/png": "[encoded data removed]",
      "text/plain": [
       "<IPython.core.display.Image object>"
      ]
     },
     "metadata": {},
     "output_type": "display_data"
    },
    {
     "name": "stdout",
     "output_type": "stream",
     "text": [
      "train sample number 25 (ground truth value = 2) :\n"
     ]
    },
    {
     "data": {
      "image/png": "[encoded data removed]",
      "text/plain": [
       "<IPython.core.display.Image object>"
      ]
     },
     "metadata": {},
     "output_type": "display_data"
    },
    {
     "name": "stdout",
     "output_type": "stream",
     "text": [
      "train sample number 26 (ground truth value = 4) :\n"
     ]
    },
    {
     "data": {
      "image/png": "[encoded data removed]",
      "text/plain": [
       "<IPython.core.display.Image object>"
      ]
     },
     "metadata": {},
     "output_type": "display_data"
    },
    {
     "name": "stdout",
     "output_type": "stream",
     "text": [
      "train sample number 27 (ground truth value = 3) :\n"
     ]
    },
    {
     "data": {
      "image/png": "[encoded data removed]",
      "text/plain": [
       "<IPython.core.display.Image object>"
      ]
     },
     "metadata": {},
     "output_type": "display_data"
    },
    {
     "name": "stdout",
     "output_type": "stream",
     "text": [
      "train sample number 28 (ground truth value = 2) :\n"
     ]
    },
    {
     "data": {
      "image/png": "[encoded data removed]",
      "text/plain": [
       "<IPython.core.display.Image object>"
      ]
     },
     "metadata": {},
     "output_type": "display_data"
    },
    {
     "name": "stdout",
     "output_type": "stream",
     "text": [
      "train sample number 29 (ground truth value = 7) :\n"
     ]
    },
    {
     "data": {
      "image/png": "[encoded data removed]",
      "text/plain": [
       "<IPython.core.display.Image object>"
      ]
     },
     "metadata": {},
     "output_type": "display_data"
    },
    {
     "name": "stdout",
     "output_type": "stream",
     "text": [
      "train sample number 30 (ground truth value = 3) :\n"
     ]
    },
    {
     "data": {
      "image/png": "[encoded data removed]",
      "text/plain": [
       "<IPython.core.display.Image object>"
      ]
     },
     "metadata": {},
     "output_type": "display_data"
    },
    {
     "name": "stdout",
     "output_type": "stream",
     "text": [
      "train sample number 31 (ground truth value = 8) :\n"
     ]
    },
    {
     "data": {
      "image/png": "[encoded data removed]",
      "text/plain": [
       "<IPython.core.display.Image object>"
      ]
     },
     "metadata": {},
     "output_type": "display_data"
    },
    {
     "name": "stdout",
     "output_type": "stream",
     "text": [
      "train sample number 32 (ground truth value = 6) :\n"
     ]
    },
    {
     "data": {
      "image/png": "[encoded data removed]",
      "text/plain": [
       "<IPython.core.display.Image object>"
      ]
     },
     "metadata": {},
     "output_type": "display_data"
    },
    {
     "name": "stdout",
     "output_type": "stream",
     "text": [
      "train sample number 33 (ground truth value = 9) :\n"
     ]
    },
    {
     "data": {
      "image/png": "[encoded data removed]",
      "text/plain": [
       "<IPython.core.display.Image object>"
      ]
     },
     "metadata": {},
     "output_type": "display_data"
    },
    {
     "name": "stdout",
     "output_type": "stream",
     "text": [
      "train sample number 34 (ground truth value = 0) :\n"
     ]
    },
    {
     "data": {
      "image/png": "[encoded data removed]",
      "text/plain": [
       "<IPython.core.display.Image object>"
      ]
     },
     "metadata": {},
     "output_type": "display_data"
    },
    {
     "name": "stdout",
     "output_type": "stream",
     "text": [
      "train sample number 35 (ground truth value = 5) :\n"
     ]
    },
    {
     "data": {
      "image/png": "[encoded data removed]",
      "text/plain": [
       "<IPython.core.display.Image object>"
      ]
     },
     "metadata": {},
     "output_type": "display_data"
    },
    {
     "name": "stdout",
     "output_type": "stream",
     "text": [
      "train sample number 36 (ground truth value = 6) :\n"
     ]
    },
    {
     "data": {
      "image/png": "[encoded data removed]",
      "text/plain": [
       "<IPython.core.display.Image object>"
      ]
     },
     "metadata": {},
     "output_type": "display_data"
    },
    {
     "name": "stdout",
     "output_type": "stream",
     "text": [
      "train sample number 37 (ground truth value = 0) :\n"
     ]
    },
    {
     "data": {
      "image/png": "[encoded data removed]",
      "text/plain": [
       "<IPython.core.display.Image object>"
      ]
     },
     "metadata": {},
     "output_type": "display_data"
    },
    {
     "name": "stdout",
     "output_type": "stream",
     "text": [
      "train sample number 38 (ground truth value = 7) :\n"
     ]
    },
    {
     "data": {
      "image/png": "[encoded data removed]",
      "text/plain": [
       "<IPython.core.display.Image object>"
      ]
     },
     "metadata": {},
     "output_type": "display_data"
    },
    {
     "name": "stdout",
     "output_type": "stream",
     "text": [
      "train sample number 39 (ground truth value = 6) :\n"
     ]
    },
    {
     "data": {
      "image/png": "[encoded data removed]",
      "text/plain": [
       "<IPython.core.display.Image object>"
      ]
     },
     "metadata": {},
     "output_type": "display_data"
    },
    {
     "name": "stdout",
     "output_type": "stream",
     "text": [
      "train sample number 40 (ground truth value = 1) :\n"
     ]
    },
    {
     "data": {
      "image/png": "[encoded data removed]",
      "text/plain": [
       "<IPython.core.display.Image object>"
      ]
     },
     "metadata": {},
     "output_type": "display_data"
    },
    {
     "name": "stdout",
     "output_type": "stream",
     "text": [
      "train sample number 41 (ground truth value = 8) :\n"
     ]
    },
    {
     "data": {
      "image/png": "[encoded data removed]",
      "text/plain": [
       "<IPython.core.display.Image object>"
      ]
     },
     "metadata": {},
     "output_type": "display_data"
    },
    {
     "name": "stdout",
     "output_type": "stream",
     "text": [
      "train sample number 42 (ground truth value = 7) :\n"
     ]
    },
    {
     "data": {
      "image/png": "[encoded data removed]",
      "text/plain": [
       "<IPython.core.display.Image object>"
      ]
     },
     "metadata": {},
     "output_type": "display_data"
    },
    {
     "name": "stdout",
     "output_type": "stream",
     "text": [
      "train sample number 43 (ground truth value = 9) :\n"
     ]
    },
    {
     "data": {
      "image/png": "[encoded data removed]",
      "text/plain": [
       "<IPython.core.display.Image object>"
      ]
     },
     "metadata": {},
     "output_type": "display_data"
    },
    {
     "name": "stdout",
     "output_type": "stream",
     "text": [
      "train sample number 44 (ground truth value = 3) :\n"
     ]
    },
    {
     "data": {
      "image/png": "[encoded data removed]",
      "text/plain": [
       "<IPython.core.display.Image object>"
      ]
     },
     "metadata": {},
     "output_type": "display_data"
    },
    {
     "name": "stdout",
     "output_type": "stream",
     "text": [
      "train sample number 45 (ground truth value = 9) :\n"
     ]
    },
    {
     "data": {
      "image/png": "[encoded data removed]",
      "text/plain": [
       "<IPython.core.display.Image object>"
      ]
     },
     "metadata": {},
     "output_type": "display_data"
    },
    {
     "name": "stdout",
     "output_type": "stream",
     "text": [
      "train sample number 46 (ground truth value = 8) :\n"
     ]
    },
    {
     "data": {
      "image/png": "[encoded data removed]",
      "text/plain": [
       "<IPython.core.display.Image object>"
      ]
     },
     "metadata": {},
     "output_type": "display_data"
    },
    {
     "name": "stdout",
     "output_type": "stream",
     "text": [
      "train sample number 47 (ground truth value = 5) :\n"
     ]
    },
    {
     "data": {
      "image/png": "[encoded data removed]",
      "text/plain": [
       "<IPython.core.display.Image object>"
      ]
     },
     "metadata": {},
     "output_type": "display_data"
    },
    {
     "name": "stdout",
     "output_type": "stream",
     "text": [
      "train sample number 48 (ground truth value = 9) :\n"
     ]
    },
    {
     "data": {
      "image/png": "[encoded data removed]",
      "text/plain": [
       "<IPython.core.display.Image object>"
      ]
     },
     "metadata": {},
     "output_type": "display_data"
    },
    {
     "name": "stdout",
     "output_type": "stream",
     "text": [
      "train sample number 49 (ground truth value = 3) :\n"
     ]
    },
    {
     "data": {
      "image/png": "[encoded data removed]",
      "text/plain": [
       "<IPython.core.display.Image object>"
      ]
     },
     "metadata": {},
     "output_type": "display_data"
    },
    {
     "name": "stdout",
     "output_type": "stream",
     "text": [
      "train sample number 50 (ground truth value = 3) :\n"
     ]
    },
    {
     "data": {
      "image/png": "[encoded data removed]",
      "text/plain": [
       "<IPython.core.display.Image object>"
      ]
     },
     "metadata": {},
     "output_type": "display_data"
    },
    {
     "name": "stdout",
     "output_type": "stream",
     "text": [
      "train sample number 51 (ground truth value = 0) :\n"
     ]
    },
    {
     "data": {
      "image/png": "[encoded data removed]",
      "text/plain": [
       "<IPython.core.display.Image object>"
      ]
     },
     "metadata": {},
     "output_type": "display_data"
    },
    {
     "name": "stdout",
     "output_type": "stream",
     "text": [
      "train sample number 52 (ground truth value = 7) :\n"
     ]
    },
    {
     "data": {
      "image/png": "[encoded data removed]",
      "text/plain": [
       "<IPython.core.display.Image object>"
      ]
     },
     "metadata": {},
     "output_type": "display_data"
    },
    {
     "name": "stdout",
     "output_type": "stream",
     "text": [
      "train sample number 53 (ground truth value = 4) :\n"
     ]
    },
    {
     "data": {
      "image/png": "[encoded data removed]",
      "text/plain": [
       "<IPython.core.display.Image object>"
      ]
     },
     "metadata": {},
     "output_type": "display_data"
    },
    {
     "name": "stdout",
     "output_type": "stream",
     "text": [
      "train sample number 54 (ground truth value = 9) :\n"
     ]
    },
    {
     "data": {
      "image/png": "[encoded data removed]",
      "text/plain": [
       "<IPython.core.display.Image object>"
      ]
     },
     "metadata": {},
     "output_type": "display_data"
    },
    {
     "name": "stdout",
     "output_type": "stream",
     "text": [
      "train sample number 55 (ground truth value = 8) :\n"
     ]
    },
    {
     "data": {
      "image/png": "[encoded data removed]",
      "text/plain": [
       "<IPython.core.display.Image object>"
      ]
     },
     "metadata": {},
     "output_type": "display_data"
    },
    {
     "name": "stdout",
     "output_type": "stream",
     "text": [
      "train sample number 56 (ground truth value = 0) :\n"
     ]
    },
    {
     "data": {
      "image/png": "[encoded data removed]",
      "text/plain": [
       "<IPython.core.display.Image object>"
      ]
     },
     "metadata": {},
     "output_type": "display_data"
    },
    {
     "name": "stdout",
     "output_type": "stream",
     "text": [
      "train sample number 57 (ground truth value = 9) :\n"
     ]
    },
    {
     "data": {
      "image/png": "[encoded data removed]",
      "text/plain": [
       "<IPython.core.display.Image object>"
      ]
     },
     "metadata": {},
     "output_type": "display_data"
    },
    {
     "name": "stdout",
     "output_type": "stream",
     "text": [
      "train sample number 58 (ground truth value = 4) :\n"
     ]
    },
    {
     "data": {
      "image/png": "[encoded data removed]",
      "text/plain": [
       "<IPython.core.display.Image object>"
      ]
     },
     "metadata": {},
     "output_type": "display_data"
    },
    {
     "name": "stdout",
     "output_type": "stream",
     "text": [
      "train sample number 59 (ground truth value = 1) :\n"
     ]
    },
    {
     "data": {
      "image/png": "[encoded data removed]",
      "text/plain": [
       "<IPython.core.display.Image object>"
      ]
     },
     "metadata": {},
     "output_type": "display_data"
    },
    {
     "name": "stdout",
     "output_type": "stream",
     "text": [
      "train sample number 60 (ground truth value = 4) :\n"
     ]
    },
    {
     "data": {
      "image/png": "[encoded data removed]",
      "text/plain": [
       "<IPython.core.display.Image object>"
      ]
     },
     "metadata": {},
     "output_type": "display_data"
    },
    {
     "name": "stdout",
     "output_type": "stream",
     "text": [
      "train sample number 61 (ground truth value = 4) :\n"
     ]
    },
    {
     "data": {
      "image/png": "[encoded data removed]",
      "text/plain": [
       "<IPython.core.display.Image object>"
      ]
     },
     "metadata": {},
     "output_type": "display_data"
    },
    {
     "name": "stdout",
     "output_type": "stream",
     "text": [
      "train sample number 62 (ground truth value = 6) :\n"
     ]
    },
    {
     "data": {
      "image/png": "[encoded data removed]",
      "text/plain": [
       "<IPython.core.display.Image object>"
      ]
     },
     "metadata": {},
     "output_type": "display_data"
    },
    {
     "name": "stdout",
     "output_type": "stream",
     "text": [
      "train sample number 63 (ground truth value = 0) :\n"
     ]
    },
    {
     "data": {
      "image/png": "[encoded data removed]",
      "text/plain": [
       "<IPython.core.display.Image object>"
      ]
     },
     "metadata": {},
     "output_type": "display_data"
    },
    {
     "name": "stdout",
     "output_type": "stream",
     "text": [
      "train sample number 64 (ground truth value = 4) :\n"
     ]
    },
    {
     "data": {
      "image/png": "[encoded data removed]",
      "text/plain": [
       "<IPython.core.display.Image object>"
      ]
     },
     "metadata": {},
     "output_type": "display_data"
    },
    {
     "name": "stdout",
     "output_type": "stream",
     "text": [
      "train sample number 65 (ground truth value = 5) :\n"
     ]
    },
    {
     "data": {
      "image/png": "[encoded data removed]",
      "text/plain": [
       "<IPython.core.display.Image object>"
      ]
     },
     "metadata": {},
     "output_type": "display_data"
    },
    {
     "name": "stdout",
     "output_type": "stream",
     "text": [
      "train sample number 66 (ground truth value = 6) :\n"
     ]
    },
    {
     "data": {
      "image/png": "[encoded data removed]",
      "text/plain": [
       "<IPython.core.display.Image object>"
      ]
     },
     "metadata": {},
     "output_type": "display_data"
    },
    {
     "name": "stdout",
     "output_type": "stream",
     "text": [
      "train sample number 67 (ground truth value = 1) :\n"
     ]
    },
    {
     "data": {
      "image/png": "[encoded data removed]",
      "text/plain": [
       "<IPython.core.display.Image object>"
      ]
     },
     "metadata": {},
     "output_type": "display_data"
    },
    {
     "name": "stdout",
     "output_type": "stream",
     "text": [
      "train sample number 68 (ground truth value = 0) :\n"
     ]
    },
    {
     "data": {
      "image/png": "[encoded data removed]",
      "text/plain": [
       "<IPython.core.display.Image object>"
      ]
     },
     "metadata": {},
     "output_type": "display_data"
    },
    {
     "name": "stdout",
     "output_type": "stream",
     "text": [
      "train sample number 69 (ground truth value = 0) :\n"
     ]
    },
    {
     "data": {
      "image/png": "[encoded data removed]",
      "text/plain": [
       "<IPython.core.display.Image object>"
      ]
     },
     "metadata": {},
     "output_type": "display_data"
    },
    {
     "name": "stdout",
     "output_type": "stream",
     "text": [
      "train sample number 70 (ground truth value = 1) :\n"
     ]
    },
    {
     "data": {
      "image/png": "[encoded data removed]",
      "text/plain": [
       "<IPython.core.display.Image object>"
      ]
     },
     "metadata": {},
     "output_type": "display_data"
    },
    {
     "name": "stdout",
     "output_type": "stream",
     "text": [
      "train sample number 71 (ground truth value = 7) :\n"
     ]
    },
    {
     "data": {
      "image/png": "[encoded data removed]",
      "text/plain": [
       "<IPython.core.display.Image object>"
      ]
     },
     "metadata": {},
     "output_type": "display_data"
    },
    {
     "name": "stdout",
     "output_type": "stream",
     "text": [
      "train sample number 72 (ground truth value = 1) :\n"
     ]
    },
    {
     "data": {
      "image/png": "[encoded data removed]",
      "text/plain": [
       "<IPython.core.display.Image object>"
      ]
     },
     "metadata": {},
     "output_type": "display_data"
    },
    {
     "name": "stdout",
     "output_type": "stream",
     "text": [
      "train sample number 73 (ground truth value = 6) :\n"
     ]
    },
    {
     "data": {
      "image/png": "[encoded data removed]",
      "text/plain": [
       "<IPython.core.display.Image object>"
      ]
     },
     "metadata": {},
     "output_type": "display_data"
    },
    {
     "name": "stdout",
     "output_type": "stream",
     "text": [
      "train sample number 74 (ground truth value = 3) :\n"
     ]
    },
    {
     "data": {
      "image/png": "[encoded data removed]",
      "text/plain": [
       "<IPython.core.display.Image object>"
      ]
     },
     "metadata": {},
     "output_type": "display_data"
    },
    {
     "name": "stdout",
     "output_type": "stream",
     "text": [
      "train sample number 75 (ground truth value = 0) :\n"
     ]
    },
    {
     "data": {
      "image/png": "[encoded data removed]",
      "text/plain": [
       "<IPython.core.display.Image object>"
      ]
     },
     "metadata": {},
     "output_type": "display_data"
    },
    {
     "name": "stdout",
     "output_type": "stream",
     "text": [
      "train sample number 76 (ground truth value = 2) :\n"
     ]
    },
    {
     "data": {
      "image/png": "[encoded data removed]",
      "text/plain": [
       "<IPython.core.display.Image object>"
      ]
     },
     "metadata": {},
     "output_type": "display_data"
    },
    {
     "name": "stdout",
     "output_type": "stream",
     "text": [
      "train sample number 77 (ground truth value = 1) :\n"
     ]
    },
    {
     "data": {
      "image/png": "[encoded data removed]",
      "text/plain": [
       "<IPython.core.display.Image object>"
      ]
     },
     "metadata": {},
     "output_type": "display_data"
    },
    {
     "name": "stdout",
     "output_type": "stream",
     "text": [
      "train sample number 78 (ground truth value = 1) :\n"
     ]
    },
    {
     "data": {
      "image/png": "[encoded data removed]",
      "text/plain": [
       "<IPython.core.display.Image object>"
      ]
     },
     "metadata": {},
     "output_type": "display_data"
    },
    {
     "name": "stdout",
     "output_type": "stream",
     "text": [
      "train sample number 79 (ground truth value = 7) :\n"
     ]
    },
    {
     "data": {
      "image/png": "[encoded data removed]",
      "text/plain": [
       "<IPython.core.display.Image object>"
      ]
     },
     "metadata": {},
     "output_type": "display_data"
    },
    {
     "name": "stdout",
     "output_type": "stream",
     "text": [
      "train sample number 80 (ground truth value = 9) :\n"
     ]
    },
    {
     "data": {
      "image/png": "[encoded data removed]",
      "text/plain": [
       "<IPython.core.display.Image object>"
      ]
     },
     "metadata": {},
     "output_type": "display_data"
    },
    {
     "name": "stdout",
     "output_type": "stream",
     "text": [
      "train sample number 81 (ground truth value = 0) :\n"
     ]
    },
    {
     "data": {
      "image/png": "[encoded data removed]",
      "text/plain": [
       "<IPython.core.display.Image object>"
      ]
     },
     "metadata": {},
     "output_type": "display_data"
    },
    {
     "name": "stdout",
     "output_type": "stream",
     "text": [
      "train sample number 82 (ground truth value = 2) :\n"
     ]
    },
    {
     "data": {
      "image/png": "[encoded data removed]",
      "text/plain": [
       "<IPython.core.display.Image object>"
      ]
     },
     "metadata": {},
     "output_type": "display_data"
    },
    {
     "name": "stdout",
     "output_type": "stream",
     "text": [
      "train sample number 83 (ground truth value = 6) :\n"
     ]
    },
    {
     "data": {
      "image/png": "[encoded data removed]",
      "text/plain": [
       "<IPython.core.display.Image object>"
      ]
     },
     "metadata": {},
     "output_type": "display_data"
    },
    {
     "name": "stdout",
     "output_type": "stream",
     "text": [
      "train sample number 84 (ground truth value = 7) :\n"
     ]
    },
    {
     "data": {
      "image/png": "[encoded data removed]",
      "text/plain": [
       "<IPython.core.display.Image object>"
      ]
     },
     "metadata": {},
     "output_type": "display_data"
    },
    {
     "name": "stdout",
     "output_type": "stream",
     "text": [
      "train sample number 85 (ground truth value = 8) :\n"
     ]
    },
    {
     "data": {
      "image/png": "[encoded data removed]",
      "text/plain": [
       "<IPython.core.display.Image object>"
      ]
     },
     "metadata": {},
     "output_type": "display_data"
    },
    {
     "name": "stdout",
     "output_type": "stream",
     "text": [
      "train sample number 86 (ground truth value = 3) :\n"
     ]
    },
    {
     "data": {
      "image/png": "[encoded data removed]",
      "text/plain": [
       "<IPython.core.display.Image object>"
      ]
     },
     "metadata": {},
     "output_type": "display_data"
    },
    {
     "name": "stdout",
     "output_type": "stream",
     "text": [
      "train sample number 87 (ground truth value = 9) :\n"
     ]
    },
    {
     "data": {
      "image/png": "[encoded data removed]",
      "text/plain": [
       "<IPython.core.display.Image object>"
      ]
     },
     "metadata": {},
     "output_type": "display_data"
    },
    {
     "name": "stdout",
     "output_type": "stream",
     "text": [
      "train sample number 88 (ground truth value = 0) :\n"
     ]
    },
    {
     "data": {
      "image/png": "[encoded data removed]",
      "text/plain": [
       "<IPython.core.display.Image object>"
      ]
     },
     "metadata": {},
     "output_type": "display_data"
    },
    {
     "name": "stdout",
     "output_type": "stream",
     "text": [
      "train sample number 89 (ground truth value = 4) :\n"
     ]
    },
    {
     "data": {
      "image/png": "[encoded data removed]",
      "text/plain": [
       "<IPython.core.display.Image object>"
      ]
     },
     "metadata": {},
     "output_type": "display_data"
    },
    {
     "name": "stdout",
     "output_type": "stream",
     "text": [
      "train sample number 90 (ground truth value = 6) :\n"
     ]
    },
    {
     "data": {
      "image/png": "[encoded data removed]",
      "text/plain": [
       "<IPython.core.display.Image object>"
      ]
     },
     "metadata": {},
     "output_type": "display_data"
    },
    {
     "name": "stdout",
     "output_type": "stream",
     "text": [
      "train sample number 91 (ground truth value = 7) :\n"
     ]
    },
    {
     "data": {
      "image/png": "[encoded data removed]",
      "text/plain": [
       "<IPython.core.display.Image object>"
      ]
     },
     "metadata": {},
     "output_type": "display_data"
    },
    {
     "name": "stdout",
     "output_type": "stream",
     "text": [
      "train sample number 92 (ground truth value = 4) :\n"
     ]
    },
    {
     "data": {
      "image/png": "[encoded data removed]",
      "text/plain": [
       "<IPython.core.display.Image object>"
      ]
     },
     "metadata": {},
     "output_type": "display_data"
    },
    {
     "name": "stdout",
     "output_type": "stream",
     "text": [
      "train sample number 93 (ground truth value = 6) :\n"
     ]
    },
    {
     "data": {
      "image/png": "[encoded data removed]",
      "text/plain": [
       "<IPython.core.display.Image object>"
      ]
     },
     "metadata": {},
     "output_type": "display_data"
    },
    {
     "name": "stdout",
     "output_type": "stream",
     "text": [
      "train sample number 94 (ground truth value = 8) :\n"
     ]
    },
    {
     "data": {
      "image/png": "[encoded data removed]",
      "text/plain": [
       "<IPython.core.display.Image object>"
      ]
     },
     "metadata": {},
     "output_type": "display_data"
    },
    {
     "name": "stdout",
     "output_type": "stream",
     "text": [
      "train sample number 95 (ground truth value = 0) :\n"
     ]
    },
    {
     "data": {
      "image/png": "[encoded data removed]",
      "text/plain": [
       "<IPython.core.display.Image object>"
      ]
     },
     "metadata": {},
     "output_type": "display_data"
    },
    {
     "name": "stdout",
     "output_type": "stream",
     "text": [
      "train sample number 96 (ground truth value = 7) :\n"
     ]
    },
    {
     "data": {
      "image/png": "[encoded data removed]",
      "text/plain": [
       "<IPython.core.display.Image object>"
      ]
     },
     "metadata": {},
     "output_type": "display_data"
    },
    {
     "name": "stdout",
     "output_type": "stream",
     "text": [
      "train sample number 97 (ground truth value = 8) :\n"
     ]
    },
    {
     "data": {
      "image/png": "[encoded data removed]",
      "text/plain": [
       "<IPython.core.display.Image object>"
      ]
     },
     "metadata": {},
     "output_type": "display_data"
    },
    {
     "name": "stdout",
     "output_type": "stream",
     "text": [
      "train sample number 98 (ground truth value = 3) :\n"
     ]
    },
    {
     "data": {
      "image/png": "[encoded data removed]",
      "text/plain": [
       "<IPython.core.display.Image object>"
      ]
     },
     "metadata": {},
     "output_type": "display_data"
    },
    {
     "name": "stdout",
     "output_type": "stream",
     "text": [
      "train sample number 99 (ground truth value = 1) :\n"
     ]
    },
    {
     "data": {
      "image/png": "[encoded data removed]",
      "text/plain": [
       "<IPython.core.display.Image object>"
      ]
     },
     "metadata": {},
     "output_type": "display_data"
    },
    {
     "name": "stdout",
     "output_type": "stream",
     "text": [
      "validation sample number 0 (ground truth value = 4) :\n"
     ]
    },
    {
     "data": {
      "image/png": "[encoded data removed]",
      "text/plain": [
       "<IPython.core.display.Image object>"
      ]
     },
     "metadata": {},
     "output_type": "display_data"
    },
    {
     "name": "stdout",
     "output_type": "stream",
     "text": [
      "validation sample number 1 (ground truth value = 7) :\n"
     ]
    },
    {
     "data": {
      "image/png": "[encoded data removed]",
      "text/plain": [
       "<IPython.core.display.Image object>"
      ]
     },
     "metadata": {},
     "output_type": "display_data"
    },
    {
     "name": "stdout",
     "output_type": "stream",
     "text": [
      "validation sample number 2 (ground truth value = 8) :\n"
     ]
    },
    {
     "data": {
      "image/png": "[encoded data removed]",
      "text/plain": [
       "<IPython.core.display.Image object>"
      ]
     },
     "metadata": {},
     "output_type": "display_data"
    },
    {
     "name": "stdout",
     "output_type": "stream",
     "text": [
      "validation sample number 3 (ground truth value = 8) :\n"
     ]
    },
    {
     "data": {
      "image/png": "[encoded data removed]",
      "text/plain": [
       "<IPython.core.display.Image object>"
      ]
     },
     "metadata": {},
     "output_type": "display_data"
    },
    {
     "name": "stdout",
     "output_type": "stream",
     "text": [
      "validation sample number 4 (ground truth value = 5) :\n"
     ]
    },
    {
     "data": {
      "image/png": "[encoded data removed]",
      "text/plain": [
       "<IPython.core.display.Image object>"
      ]
     },
     "metadata": {},
     "output_type": "display_data"
    },
    {
     "name": "stdout",
     "output_type": "stream",
     "text": [
      "validation sample number 5 (ground truth value = 6) :\n"
     ]
    },
    {
     "data": {
      "image/png": "[encoded data removed]",
      "text/plain": [
       "<IPython.core.display.Image object>"
      ]
     },
     "metadata": {},
     "output_type": "display_data"
    },
    {
     "name": "stdout",
     "output_type": "stream",
     "text": [
      "validation sample number 6 (ground truth value = 6) :\n"
     ]
    },
    {
     "data": {
      "image/png": "[encoded data removed]",
      "text/plain": [
       "<IPython.core.display.Image object>"
      ]
     },
     "metadata": {},
     "output_type": "display_data"
    },
    {
     "name": "stdout",
     "output_type": "stream",
     "text": [
      "validation sample number 7 (ground truth value = 8) :\n"
     ]
    },
    {
     "data": {
      "image/png": "[encoded data removed]",
      "text/plain": [
       "<IPython.core.display.Image object>"
      ]
     },
     "metadata": {},
     "output_type": "display_data"
    },
    {
     "name": "stdout",
     "output_type": "stream",
     "text": [
      "validation sample number 8 (ground truth value = 2) :\n"
     ]
    },
    {
     "data": {
      "image/png": "[encoded data removed]",
      "text/plain": [
       "<IPython.core.display.Image object>"
      ]
     },
     "metadata": {},
     "output_type": "display_data"
    },
    {
     "name": "stdout",
     "output_type": "stream",
     "text": [
      "validation sample number 9 (ground truth value = 2) :\n"
     ]
    },
    {
     "data": {
      "image/png": "[encoded data removed]",
      "text/plain": [
       "<IPython.core.display.Image object>"
      ]
     },
     "metadata": {},
     "output_type": "display_data"
    },
    {
     "name": "stdout",
     "output_type": "stream",
     "text": [
      "validation sample number 10 (ground truth value = 7) :\n"
     ]
    },
    {
     "data": {
      "image/png": "[encoded data removed]",
      "text/plain": [
       "<IPython.core.display.Image object>"
      ]
     },
     "metadata": {},
     "output_type": "display_data"
    },
    {
     "name": "stdout",
     "output_type": "stream",
     "text": [
      "validation sample number 11 (ground truth value = 8) :\n"
     ]
    },
    {
     "data": {
      "image/png": "[encoded data removed]",
      "text/plain": [
       "<IPython.core.display.Image object>"
      ]
     },
     "metadata": {},
     "output_type": "display_data"
    },
    {
     "name": "stdout",
     "output_type": "stream",
     "text": [
      "validation sample number 12 (ground truth value = 0) :\n"
     ]
    },
    {
     "data": {
      "image/png": "[encoded data removed]",
      "text/plain": [
       "<IPython.core.display.Image object>"
      ]
     },
     "metadata": {},
     "output_type": "display_data"
    },
    {
     "name": "stdout",
     "output_type": "stream",
     "text": [
      "validation sample number 13 (ground truth value = 4) :\n"
     ]
    },
    {
     "data": {
      "image/png": "[encoded data removed]",
      "text/plain": [
       "<IPython.core.display.Image object>"
      ]
     },
     "metadata": {},
     "output_type": "display_data"
    },
    {
     "name": "stdout",
     "output_type": "stream",
     "text": [
      "validation sample number 14 (ground truth value = 3) :\n"
     ]
    },
    {
     "data": {
      "image/png": "[encoded data removed]",
      "text/plain": [
       "<IPython.core.display.Image object>"
      ]
     },
     "metadata": {},
     "output_type": "display_data"
    },
    {
     "name": "stdout",
     "output_type": "stream",
     "text": [
      "validation sample number 15 (ground truth value = 4) :\n"
     ]
    },
    {
     "data": {
      "image/png": "[encoded data removed]",
      "text/plain": [
       "<IPython.core.display.Image object>"
      ]
     },
     "metadata": {},
     "output_type": "display_data"
    },
    {
     "name": "stdout",
     "output_type": "stream",
     "text": [
      "validation sample number 16 (ground truth value = 5) :\n"
     ]
    },
    {
     "data": {
      "image/png": "[encoded data removed]",
      "text/plain": [
       "<IPython.core.display.Image object>"
      ]
     },
     "metadata": {},
     "output_type": "display_data"
    },
    {
     "name": "stdout",
     "output_type": "stream",
     "text": [
      "validation sample number 17 (ground truth value = 2) :\n"
     ]
    },
    {
     "data": {
      "image/png": "[encoded data removed]",
      "text/plain": [
       "<IPython.core.display.Image object>"
      ]
     },
     "metadata": {},
     "output_type": "display_data"
    },
    {
     "name": "stdout",
     "output_type": "stream",
     "text": [
      "validation sample number 18 (ground truth value = 4) :\n"
     ]
    },
    {
     "data": {
      "image/png": "[encoded data removed]",
      "text/plain": [
       "<IPython.core.display.Image object>"
      ]
     },
     "metadata": {},
     "output_type": "display_data"
    },
    {
     "name": "stdout",
     "output_type": "stream",
     "text": [
      "validation sample number 19 (ground truth value = 2) :\n"
     ]
    },
    {
     "data": {
      "image/png": "[encoded data removed]",
      "text/plain": [
       "<IPython.core.display.Image object>"
      ]
     },
     "metadata": {},
     "output_type": "display_data"
    },
    {
     "name": "stdout",
     "output_type": "stream",
     "text": [
      "validation sample number 20 (ground truth value = 4) :\n"
     ]
    },
    {
     "data": {
      "image/png": "[encoded data removed]",
      "text/plain": [
       "<IPython.core.display.Image object>"
      ]
     },
     "metadata": {},
     "output_type": "display_data"
    },
    {
     "name": "stdout",
     "output_type": "stream",
     "text": [
      "validation sample number 21 (ground truth value = 8) :\n"
     ]
    },
    {
     "data": {
      "image/png": "[encoded data removed]",
      "text/plain": [
       "<IPython.core.display.Image object>"
      ]
     },
     "metadata": {},
     "output_type": "display_data"
    },
    {
     "name": "stdout",
     "output_type": "stream",
     "text": [
      "validation sample number 22 (ground truth value = 1) :\n"
     ]
    },
    {
     "data": {
      "image/png": "[encoded data removed]",
      "text/plain": [
       "<IPython.core.display.Image object>"
      ]
     },
     "metadata": {},
     "output_type": "display_data"
    },
    {
     "name": "stdout",
     "output_type": "stream",
     "text": [
      "validation sample number 23 (ground truth value = 0) :\n"
     ]
    },
    {
     "data": {
      "image/png": "[encoded data removed]",
      "text/plain": [
       "<IPython.core.display.Image object>"
      ]
     },
     "metadata": {},
     "output_type": "display_data"
    },
    {
     "name": "stdout",
     "output_type": "stream",
     "text": [
      "validation sample number 24 (ground truth value = 1) :\n"
     ]
    },
    {
     "data": {
      "image/png": "[encoded data removed]",
      "text/plain": [
       "<IPython.core.display.Image object>"
      ]
     },
     "metadata": {},
     "output_type": "display_data"
    },
    {
     "name": "stdout",
     "output_type": "stream",
     "text": [
      "validation sample number 25 (ground truth value = 0) :\n"
     ]
    },
    {
     "data": {
      "image/png": "[encoded data removed]",
      "text/plain": [
       "<IPython.core.display.Image object>"
      ]
     },
     "metadata": {},
     "output_type": "display_data"
    },
    {
     "name": "stdout",
     "output_type": "stream",
     "text": [
      "validation sample number 26 (ground truth value = 0) :\n"
     ]
    },
    {
     "data": {
      "image/png": "[encoded data removed]",
      "text/plain": [
       "<IPython.core.display.Image object>"
      ]
     },
     "metadata": {},
     "output_type": "display_data"
    },
    {
     "name": "stdout",
     "output_type": "stream",
     "text": [
      "validation sample number 27 (ground truth value = 1) :\n"
     ]
    },
    {
     "data": {
      "image/png": "[encoded data removed]",
      "text/plain": [
       "<IPython.core.display.Image object>"
      ]
     },
     "metadata": {},
     "output_type": "display_data"
    },
    {
     "name": "stdout",
     "output_type": "stream",
     "text": [
      "validation sample number 28 (ground truth value = 8) :\n"
     ]
    },
    {
     "data": {
      "image/png": "[encoded data removed]",
      "text/plain": [
       "<IPython.core.display.Image object>"
      ]
     },
     "metadata": {},
     "output_type": "display_data"
    },
    {
     "name": "stdout",
     "output_type": "stream",
     "text": [
      "validation sample number 29 (ground truth value = 2) :\n"
     ]
    },
    {
     "data": {
      "image/png": "[encoded data removed]",
      "text/plain": [
       "<IPython.core.display.Image object>"
      ]
     },
     "metadata": {},
     "output_type": "display_data"
    },
    {
     "name": "stdout",
     "output_type": "stream",
     "text": [
      "validation sample number 30 (ground truth value = 9) :\n"
     ]
    },
    {
     "data": {
      "image/png": "[encoded data removed]",
      "text/plain": [
       "<IPython.core.display.Image object>"
      ]
     },
     "metadata": {},
     "output_type": "display_data"
    },
    {
     "name": "stdout",
     "output_type": "stream",
     "text": [
      "validation sample number 31 (ground truth value = 3) :\n"
     ]
    },
    {
     "data": {
      "image/png": "[encoded data removed]",
      "text/plain": [
       "<IPython.core.display.Image object>"
      ]
     },
     "metadata": {},
     "output_type": "display_data"
    },
    {
     "name": "stdout",
     "output_type": "stream",
     "text": [
      "validation sample number 32 (ground truth value = 6) :\n"
     ]
    },
    {
     "data": {
      "image/png": "[encoded data removed]",
      "text/plain": [
       "<IPython.core.display.Image object>"
      ]
     },
     "metadata": {},
     "output_type": "display_data"
    },
    {
     "name": "stdout",
     "output_type": "stream",
     "text": [
      "validation sample number 33 (ground truth value = 6) :\n"
     ]
    },
    {
     "data": {
      "image/png": "[encoded data removed]",
      "text/plain": [
       "<IPython.core.display.Image object>"
      ]
     },
     "metadata": {},
     "output_type": "display_data"
    },
    {
     "name": "stdout",
     "output_type": "stream",
     "text": [
      "validation sample number 34 (ground truth value = 2) :\n"
     ]
    },
    {
     "data": {
      "image/png": "[encoded data removed]",
      "text/plain": [
       "<IPython.core.display.Image object>"
      ]
     },
     "metadata": {},
     "output_type": "display_data"
    },
    {
     "name": "stdout",
     "output_type": "stream",
     "text": [
      "validation sample number 35 (ground truth value = 7) :\n"
     ]
    },
    {
     "data": {
      "image/png": "[encoded data removed]",
      "text/plain": [
       "<IPython.core.display.Image object>"
      ]
     },
     "metadata": {},
     "output_type": "display_data"
    },
    {
     "name": "stdout",
     "output_type": "stream",
     "text": [
      "validation sample number 36 (ground truth value = 9) :\n"
     ]
    },
    {
     "data": {
      "image/png": "[encoded data removed]",
      "text/plain": [
       "<IPython.core.display.Image object>"
      ]
     },
     "metadata": {},
     "output_type": "display_data"
    },
    {
     "name": "stdout",
     "output_type": "stream",
     "text": [
      "validation sample number 37 (ground truth value = 8) :\n"
     ]
    },
    {
     "data": {
      "image/png": "[encoded data removed]",
      "text/plain": [
       "<IPython.core.display.Image object>"
      ]
     },
     "metadata": {},
     "output_type": "display_data"
    },
    {
     "name": "stdout",
     "output_type": "stream",
     "text": [
      "validation sample number 38 (ground truth value = 3) :\n"
     ]
    },
    {
     "data": {
      "image/png": "[encoded data removed]",
      "text/plain": [
       "<IPython.core.display.Image object>"
      ]
     },
     "metadata": {},
     "output_type": "display_data"
    },
    {
     "name": "stdout",
     "output_type": "stream",
     "text": [
      "validation sample number 39 (ground truth value = 0) :\n"
     ]
    },
    {
     "data": {
      "image/png": "[encoded data removed]",
      "text/plain": [
       "<IPython.core.display.Image object>"
      ]
     },
     "metadata": {},
     "output_type": "display_data"
    },
    {
     "name": "stdout",
     "output_type": "stream",
     "text": [
      "validation sample number 40 (ground truth value = 1) :\n"
     ]
    },
    {
     "data": {
      "image/png": "[encoded data removed]",
      "text/plain": [
       "<IPython.core.display.Image object>"
      ]
     },
     "metadata": {},
     "output_type": "display_data"
    },
    {
     "name": "stdout",
     "output_type": "stream",
     "text": [
      "validation sample number 41 (ground truth value = 1) :\n"
     ]
    },
    {
     "data": {
      "image/png": "[encoded data removed]",
      "text/plain": [
       "<IPython.core.display.Image object>"
      ]
     },
     "metadata": {},
     "output_type": "display_data"
    },
    {
     "name": "stdout",
     "output_type": "stream",
     "text": [
      "validation sample number 42 (ground truth value = 9) :\n"
     ]
    },
    {
     "data": {
      "image/png": "[encoded data removed]",
      "text/plain": [
       "<IPython.core.display.Image object>"
      ]
     },
     "metadata": {},
     "output_type": "display_data"
    },
    {
     "name": "stdout",
     "output_type": "stream",
     "text": [
      "validation sample number 43 (ground truth value = 2) :\n"
     ]
    },
    {
     "data": {
      "image/png": "[encoded data removed]",
      "text/plain": [
       "<IPython.core.display.Image object>"
      ]
     },
     "metadata": {},
     "output_type": "display_data"
    },
    {
     "name": "stdout",
     "output_type": "stream",
     "text": [
      "validation sample number 44 (ground truth value = 1) :\n"
     ]
    },
    {
     "data": {
      "image/png": "[encoded data removed]",
      "text/plain": [
       "<IPython.core.display.Image object>"
      ]
     },
     "metadata": {},
     "output_type": "display_data"
    },
    {
     "name": "stdout",
     "output_type": "stream",
     "text": [
      "validation sample number 45 (ground truth value = 3) :\n"
     ]
    },
    {
     "data": {
      "image/png": "[encoded data removed]",
      "text/plain": [
       "<IPython.core.display.Image object>"
      ]
     },
     "metadata": {},
     "output_type": "display_data"
    },
    {
     "name": "stdout",
     "output_type": "stream",
     "text": [
      "validation sample number 46 (ground truth value = 5) :\n"
     ]
    },
    {
     "data": {
      "image/png": "[encoded data removed]",
      "text/plain": [
       "<IPython.core.display.Image object>"
      ]
     },
     "metadata": {},
     "output_type": "display_data"
    },
    {
     "name": "stdout",
     "output_type": "stream",
     "text": [
      "validation sample number 47 (ground truth value = 4) :\n"
     ]
    },
    {
     "data": {
      "image/png": "[encoded data removed]",
      "text/plain": [
       "<IPython.core.display.Image object>"
      ]
     },
     "metadata": {},
     "output_type": "display_data"
    },
    {
     "name": "stdout",
     "output_type": "stream",
     "text": [
      "validation sample number 48 (ground truth value = 4) :\n"
     ]
    },
    {
     "data": {
      "image/png": "[encoded data removed]",
      "text/plain": [
       "<IPython.core.display.Image object>"
      ]
     },
     "metadata": {},
     "output_type": "display_data"
    },
    {
     "name": "stdout",
     "output_type": "stream",
     "text": [
      "validation sample number 49 (ground truth value = 5) :\n"
     ]
    },
    {
     "data": {
      "image/png": "[encoded data removed]",
      "text/plain": [
       "<IPython.core.display.Image object>"
      ]
     },
     "metadata": {},
     "output_type": "display_data"
    },
    {
     "name": "stdout",
     "output_type": "stream",
     "text": [
      "validation sample number 50 (ground truth value = 7) :\n"
     ]
    },
    {
     "data": {
      "image/png": "[encoded data removed]",
      "text/plain": [
       "<IPython.core.display.Image object>"
      ]
     },
     "metadata": {},
     "output_type": "display_data"
    },
    {
     "name": "stdout",
     "output_type": "stream",
     "text": [
      "validation sample number 51 (ground truth value = 6) :\n"
     ]
    },
    {
     "data": {
      "image/png": "[encoded data removed]",
      "text/plain": [
       "<IPython.core.display.Image object>"
      ]
     },
     "metadata": {},
     "output_type": "display_data"
    },
    {
     "name": "stdout",
     "output_type": "stream",
     "text": [
      "validation sample number 52 (ground truth value = 6) :\n"
     ]
    },
    {
     "data": {
      "image/png": "[encoded data removed]",
      "text/plain": [
       "<IPython.core.display.Image object>"
      ]
     },
     "metadata": {},
     "output_type": "display_data"
    },
    {
     "name": "stdout",
     "output_type": "stream",
     "text": [
      "validation sample number 53 (ground truth value = 7) :\n"
     ]
    },
    {
     "data": {
      "image/png": "[encoded data removed]",
      "text/plain": [
       "<IPython.core.display.Image object>"
      ]
     },
     "metadata": {},
     "output_type": "display_data"
    },
    {
     "name": "stdout",
     "output_type": "stream",
     "text": [
      "validation sample number 54 (ground truth value = 6) :\n"
     ]
    },
    {
     "data": {
      "image/png": "[encoded data removed]",
      "text/plain": [
       "<IPython.core.display.Image object>"
      ]
     },
     "metadata": {},
     "output_type": "display_data"
    },
    {
     "name": "stdout",
     "output_type": "stream",
     "text": [
      "validation sample number 55 (ground truth value = 8) :\n"
     ]
    },
    {
     "data": {
      "image/png": "[encoded data removed]",
      "text/plain": [
       "<IPython.core.display.Image object>"
      ]
     },
     "metadata": {},
     "output_type": "display_data"
    },
    {
     "name": "stdout",
     "output_type": "stream",
     "text": [
      "validation sample number 56 (ground truth value = 4) :\n"
     ]
    },
    {
     "data": {
      "image/png": "[encoded data removed]",
      "text/plain": [
       "<IPython.core.display.Image object>"
      ]
     },
     "metadata": {},
     "output_type": "display_data"
    },
    {
     "name": "stdout",
     "output_type": "stream",
     "text": [
      "validation sample number 57 (ground truth value = 9) :\n"
     ]
    },
    {
     "data": {
      "image/png": "[encoded data removed]",
      "text/plain": [
       "<IPython.core.display.Image object>"
      ]
     },
     "metadata": {},
     "output_type": "display_data"
    },
    {
     "name": "stdout",
     "output_type": "stream",
     "text": [
      "validation sample number 58 (ground truth value = 5) :\n"
     ]
    },
    {
     "data": {
      "image/png": "[encoded data removed]",
      "text/plain": [
       "<IPython.core.display.Image object>"
      ]
     },
     "metadata": {},
     "output_type": "display_data"
    },
    {
     "name": "stdout",
     "output_type": "stream",
     "text": [
      "validation sample number 59 (ground truth value = 0) :\n"
     ]
    },
    {
     "data": {
      "image/png": "[encoded data removed]",
      "text/plain": [
       "<IPython.core.display.Image object>"
      ]
     },
     "metadata": {},
     "output_type": "display_data"
    },
    {
     "name": "stdout",
     "output_type": "stream",
     "text": [
      "validation sample number 60 (ground truth value = 8) :\n"
     ]
    },
    {
     "data": {
      "image/png": "[encoded data removed]",
      "text/plain": [
       "<IPython.core.display.Image object>"
      ]
     },
     "metadata": {},
     "output_type": "display_data"
    },
    {
     "name": "stdout",
     "output_type": "stream",
     "text": [
      "validation sample number 61 (ground truth value = 1) :\n"
     ]
    },
    {
     "data": {
      "image/png": "[encoded data removed]",
      "text/plain": [
       "<IPython.core.display.Image object>"
      ]
     },
     "metadata": {},
     "output_type": "display_data"
    },
    {
     "name": "stdout",
     "output_type": "stream",
     "text": [
      "validation sample number 62 (ground truth value = 8) :\n"
     ]
    },
    {
     "data": {
      "image/png": "[encoded data removed]",
      "text/plain": [
       "<IPython.core.display.Image object>"
      ]
     },
     "metadata": {},
     "output_type": "display_data"
    },
    {
     "name": "stdout",
     "output_type": "stream",
     "text": [
      "validation sample number 63 (ground truth value = 2) :\n"
     ]
    },
    {
     "data": {
      "image/png": "[encoded data removed]",
      "text/plain": [
       "<IPython.core.display.Image object>"
      ]
     },
     "metadata": {},
     "output_type": "display_data"
    },
    {
     "name": "stdout",
     "output_type": "stream",
     "text": [
      "validation sample number 64 (ground truth value = 3) :\n"
     ]
    },
    {
     "data": {
      "image/png": "[encoded data removed]",
      "text/plain": [
       "<IPython.core.display.Image object>"
      ]
     },
     "metadata": {},
     "output_type": "display_data"
    },
    {
     "name": "stdout",
     "output_type": "stream",
     "text": [
      "validation sample number 65 (ground truth value = 3) :\n"
     ]
    },
    {
     "data": {
      "image/png": "[encoded data removed]",
      "text/plain": [
       "<IPython.core.display.Image object>"
      ]
     },
     "metadata": {},
     "output_type": "display_data"
    },
    {
     "name": "stdout",
     "output_type": "stream",
     "text": [
      "validation sample number 66 (ground truth value = 6) :\n"
     ]
    },
    {
     "data": {
      "image/png": "[encoded data removed]",
      "text/plain": [
       "<IPython.core.display.Image object>"
      ]
     },
     "metadata": {},
     "output_type": "display_data"
    },
    {
     "name": "stdout",
     "output_type": "stream",
     "text": [
      "validation sample number 67 (ground truth value = 4) :\n"
     ]
    },
    {
     "data": {
      "image/png": "[encoded data removed]",
      "text/plain": [
       "<IPython.core.display.Image object>"
      ]
     },
     "metadata": {},
     "output_type": "display_data"
    },
    {
     "name": "stdout",
     "output_type": "stream",
     "text": [
      "validation sample number 68 (ground truth value = 4) :\n"
     ]
    },
    {
     "data": {
      "image/png": "[encoded data removed]",
      "text/plain": [
       "<IPython.core.display.Image object>"
      ]
     },
     "metadata": {},
     "output_type": "display_data"
    },
    {
     "name": "stdout",
     "output_type": "stream",
     "text": [
      "validation sample number 69 (ground truth value = 5) :\n"
     ]
    },
    {
     "data": {
      "image/png": "[encoded data removed]",
      "text/plain": [
       "<IPython.core.display.Image object>"
      ]
     },
     "metadata": {},
     "output_type": "display_data"
    },
    {
     "name": "stdout",
     "output_type": "stream",
     "text": [
      "validation sample number 70 (ground truth value = 2) :\n"
     ]
    },
    {
     "data": {
      "image/png": "[encoded data removed]",
      "text/plain": [
       "<IPython.core.display.Image object>"
      ]
     },
     "metadata": {},
     "output_type": "display_data"
    },
    {
     "name": "stdout",
     "output_type": "stream",
     "text": [
      "validation sample number 71 (ground truth value = 6) :\n"
     ]
    },
    {
     "data": {
      "image/png": "[encoded data removed]",
      "text/plain": [
       "<IPython.core.display.Image object>"
      ]
     },
     "metadata": {},
     "output_type": "display_data"
    },
    {
     "name": "stdout",
     "output_type": "stream",
     "text": [
      "validation sample number 72 (ground truth value = 9) :\n"
     ]
    },
    {
     "data": {
      "image/png": "[encoded data removed]",
      "text/plain": [
       "<IPython.core.display.Image object>"
      ]
     },
     "metadata": {},
     "output_type": "display_data"
    },
    {
     "name": "stdout",
     "output_type": "stream",
     "text": [
      "validation sample number 73 (ground truth value = 7) :\n"
     ]
    },
    {
     "data": {
      "image/png": "[encoded data removed]",
      "text/plain": [
       "<IPython.core.display.Image object>"
      ]
     },
     "metadata": {},
     "output_type": "display_data"
    },
    {
     "name": "stdout",
     "output_type": "stream",
     "text": [
      "validation sample number 74 (ground truth value = 1) :\n"
     ]
    },
    {
     "data": {
      "image/png": "[encoded data removed]",
      "text/plain": [
       "<IPython.core.display.Image object>"
      ]
     },
     "metadata": {},
     "output_type": "display_data"
    },
    {
     "name": "stdout",
     "output_type": "stream",
     "text": [
      "validation sample number 75 (ground truth value = 8) :\n"
     ]
    },
    {
     "data": {
      "image/png": "[encoded data removed]",
      "text/plain": [
       "<IPython.core.display.Image object>"
      ]
     },
     "metadata": {},
     "output_type": "display_data"
    },
    {
     "name": "stdout",
     "output_type": "stream",
     "text": [
      "validation sample number 76 (ground truth value = 3) :\n"
     ]
    },
    {
     "data": {
      "image/png": "[encoded data removed]",
      "text/plain": [
       "<IPython.core.display.Image object>"
      ]
     },
     "metadata": {},
     "output_type": "display_data"
    },
    {
     "name": "stdout",
     "output_type": "stream",
     "text": [
      "validation sample number 77 (ground truth value = 9) :\n"
     ]
    },
    {
     "data": {
      "image/png": "[encoded data removed]",
      "text/plain": [
       "<IPython.core.display.Image object>"
      ]
     },
     "metadata": {},
     "output_type": "display_data"
    },
    {
     "name": "stdout",
     "output_type": "stream",
     "text": [
      "validation sample number 78 (ground truth value = 5) :\n"
     ]
    },
    {
     "data": {
      "image/png": "[encoded data removed]",
      "text/plain": [
       "<IPython.core.display.Image object>"
      ]
     },
     "metadata": {},
     "output_type": "display_data"
    },
    {
     "name": "stdout",
     "output_type": "stream",
     "text": [
      "validation sample number 79 (ground truth value = 1) :\n"
     ]
    },
    {
     "data": {
      "image/png": "[encoded data removed]",
      "text/plain": [
       "<IPython.core.display.Image object>"
      ]
     },
     "metadata": {},
     "output_type": "display_data"
    },
    {
     "name": "stdout",
     "output_type": "stream",
     "text": [
      "validation sample number 80 (ground truth value = 7) :\n"
     ]
    },
    {
     "data": {
      "image/png": "[encoded data removed]",
      "text/plain": [
       "<IPython.core.display.Image object>"
      ]
     },
     "metadata": {},
     "output_type": "display_data"
    },
    {
     "name": "stdout",
     "output_type": "stream",
     "text": [
      "validation sample number 81 (ground truth value = 8) :\n"
     ]
    },
    {
     "data": {
      "image/png": "[encoded data removed]",
      "text/plain": [
       "<IPython.core.display.Image object>"
      ]
     },
     "metadata": {},
     "output_type": "display_data"
    },
    {
     "name": "stdout",
     "output_type": "stream",
     "text": [
      "validation sample number 82 (ground truth value = 6) :\n"
     ]
    },
    {
     "data": {
      "image/png": "[encoded data removed]",
      "text/plain": [
       "<IPython.core.display.Image object>"
      ]
     },
     "metadata": {},
     "output_type": "display_data"
    },
    {
     "name": "stdout",
     "output_type": "stream",
     "text": [
      "validation sample number 83 (ground truth value = 6) :\n"
     ]
    },
    {
     "data": {
      "image/png": "[encoded data removed]",
      "text/plain": [
       "<IPython.core.display.Image object>"
      ]
     },
     "metadata": {},
     "output_type": "display_data"
    },
    {
     "name": "stdout",
     "output_type": "stream",
     "text": [
      "validation sample number 84 (ground truth value = 4) :\n"
     ]
    },
    {
     "data": {
      "image/png": "[encoded data removed]",
      "text/plain": [
       "<IPython.core.display.Image object>"
      ]
     },
     "metadata": {},
     "output_type": "display_data"
    },
    {
     "name": "stdout",
     "output_type": "stream",
     "text": [
      "validation sample number 85 (ground truth value = 1) :\n"
     ]
    },
    {
     "data": {
      "image/png": "[encoded data removed]",
      "text/plain": [
       "<IPython.core.display.Image object>"
      ]
     },
     "metadata": {},
     "output_type": "display_data"
    },
    {
     "name": "stdout",
     "output_type": "stream",
     "text": [
      "validation sample number 86 (ground truth value = 6) :\n"
     ]
    },
    {
     "data": {
      "image/png": "[encoded data removed]",
      "text/plain": [
       "<IPython.core.display.Image object>"
      ]
     },
     "metadata": {},
     "output_type": "display_data"
    },
    {
     "name": "stdout",
     "output_type": "stream",
     "text": [
      "validation sample number 87 (ground truth value = 4) :\n"
     ]
    },
    {
     "data": {
      "image/png": "[encoded data removed]",
      "text/plain": [
       "<IPython.core.display.Image object>"
      ]
     },
     "metadata": {},
     "output_type": "display_data"
    },
    {
     "name": "stdout",
     "output_type": "stream",
     "text": [
      "validation sample number 88 (ground truth value = 3) :\n"
     ]
    },
    {
     "data": {
      "image/png": "[encoded data removed]",
      "text/plain": [
       "<IPython.core.display.Image object>"
      ]
     },
     "metadata": {},
     "output_type": "display_data"
    },
    {
     "name": "stdout",
     "output_type": "stream",
     "text": [
      "validation sample number 89 (ground truth value = 9) :\n"
     ]
    },
    {
     "data": {
      "image/png": "[encoded data removed]",
      "text/plain": [
       "<IPython.core.display.Image object>"
      ]
     },
     "metadata": {},
     "output_type": "display_data"
    },
    {
     "name": "stdout",
     "output_type": "stream",
     "text": [
      "validation sample number 90 (ground truth value = 6) :\n"
     ]
    },
    {
     "data": {
      "image/png": "[encoded data removed]",
      "text/plain": [
       "<IPython.core.display.Image object>"
      ]
     },
     "metadata": {},
     "output_type": "display_data"
    },
    {
     "name": "stdout",
     "output_type": "stream",
     "text": [
      "validation sample number 91 (ground truth value = 3) :\n"
     ]
    },
    {
     "data": {
      "image/png": "[encoded data removed]",
      "text/plain": [
       "<IPython.core.display.Image object>"
      ]
     },
     "metadata": {},
     "output_type": "display_data"
    },
    {
     "name": "stdout",
     "output_type": "stream",
     "text": [
      "validation sample number 92 (ground truth value = 8) :\n"
     ]
    },
    {
     "data": {
      "image/png": "[encoded data removed]",
      "text/plain": [
       "<IPython.core.display.Image object>"
      ]
     },
     "metadata": {},
     "output_type": "display_data"
    },
    {
     "name": "stdout",
     "output_type": "stream",
     "text": [
      "validation sample number 93 (ground truth value = 7) :\n"
     ]
    },
    {
     "data": {
      "image/png": "[encoded data removed]",
      "text/plain": [
       "<IPython.core.display.Image object>"
      ]
     },
     "metadata": {},
     "output_type": "display_data"
    },
    {
     "name": "stdout",
     "output_type": "stream",
     "text": [
      "validation sample number 94 (ground truth value = 5) :\n"
     ]
    },
    {
     "data": {
      "image/png": "[encoded data removed]",
      "text/plain": [
       "<IPython.core.display.Image object>"
      ]
     },
     "metadata": {},
     "output_type": "display_data"
    },
    {
     "name": "stdout",
     "output_type": "stream",
     "text": [
      "validation sample number 95 (ground truth value = 7) :\n"
     ]
    },
    {
     "data": {
      "image/png": "[encoded data removed]",
      "text/plain": [
       "<IPython.core.display.Image object>"
      ]
     },
     "metadata": {},
     "output_type": "display_data"
    },
    {
     "name": "stdout",
     "output_type": "stream",
     "text": [
      "validation sample number 96 (ground truth value = 7) :\n"
     ]
    },
    {
     "data": {
      "image/png": "[encoded data removed]",
      "text/plain": [
       "<IPython.core.display.Image object>"
      ]
     },
     "metadata": {},
     "output_type": "display_data"
    },
    {
     "name": "stdout",
     "output_type": "stream",
     "text": [
      "validation sample number 97 (ground truth value = 9) :\n"
     ]
    },
    {
     "data": {
      "image/png": "[encoded data removed]",
      "text/plain": [
       "<IPython.core.display.Image object>"
      ]
     },
     "metadata": {},
     "output_type": "display_data"
    },
    {
     "name": "stdout",
     "output_type": "stream",
     "text": [
      "validation sample number 98 (ground truth value = 7) :\n"
     ]
    },
    {
     "data": {
      "image/png": "[encoded data removed]",
      "text/plain": [
       "<IPython.core.display.Image object>"
      ]
     },
     "metadata": {},
     "output_type": "display_data"
    },
    {
     "name": "stdout",
     "output_type": "stream",
     "text": [
      "validation sample number 99 (ground truth value = 1) :\n"
     ]
    },
    {
     "data": {
      "image/png": "[encoded data removed]",
      "text/plain": [
       "<IPython.core.display.Image object>"
      ]
     },
     "metadata": {},
     "output_type": "display_data"
    },
    {
     "name": "stdout",
     "output_type": "stream",
     "text": [
      "test sample number 0 (ground truth value = 7) :\n"
     ]
    },
    {
     "data": {
      "image/png": "[encoded data removed]",
      "text/plain": [
       "<IPython.core.display.Image object>"
      ]
     },
     "metadata": {},
     "output_type": "display_data"
    },
    {
     "name": "stdout",
     "output_type": "stream",
     "text": [
      "test sample number 1 (ground truth value = 2) :\n"
     ]
    },
    {
     "data": {
      "image/png": "[encoded data removed]",
      "text/plain": [
       "<IPython.core.display.Image object>"
      ]
     },
     "metadata": {},
     "output_type": "display_data"
    },
    {
     "name": "stdout",
     "output_type": "stream",
     "text": [
      "test sample number 2 (ground truth value = 1) :\n"
     ]
    },
    {
     "data": {
      "image/png": "[encoded data removed]",
      "text/plain": [
       "<IPython.core.display.Image object>"
      ]
     },
     "metadata": {},
     "output_type": "display_data"
    },
    {
     "name": "stdout",
     "output_type": "stream",
     "text": [
      "test sample number 3 (ground truth value = 0) :\n"
     ]
    },
    {
     "data": {
      "image/png": "[encoded data removed]",
      "text/plain": [
       "<IPython.core.display.Image object>"
      ]
     },
     "metadata": {},
     "output_type": "display_data"
    },
    {
     "name": "stdout",
     "output_type": "stream",
     "text": [
      "test sample number 4 (ground truth value = 4) :\n"
     ]
    },
    {
     "data": {
      "image/png": "[encoded data removed]",
      "text/plain": [
       "<IPython.core.display.Image object>"
      ]
     },
     "metadata": {},
     "output_type": "display_data"
    },
    {
     "name": "stdout",
     "output_type": "stream",
     "text": [
      "test sample number 5 (ground truth value = 1) :\n"
     ]
    },
    {
     "data": {
      "image/png": "[encoded data removed]",
      "text/plain": [
       "<IPython.core.display.Image object>"
      ]
     },
     "metadata": {},
     "output_type": "display_data"
    },
    {
     "name": "stdout",
     "output_type": "stream",
     "text": [
      "test sample number 6 (ground truth value = 4) :\n"
     ]
    },
    {
     "data": {
      "image/png": "[encoded data removed]",
      "text/plain": [
       "<IPython.core.display.Image object>"
      ]
     },
     "metadata": {},
     "output_type": "display_data"
    },
    {
     "name": "stdout",
     "output_type": "stream",
     "text": [
      "test sample number 7 (ground truth value = 9) :\n"
     ]
    },
    {
     "data": {
      "image/png": "[encoded data removed]",
      "text/plain": [
       "<IPython.core.display.Image object>"
      ]
     },
     "metadata": {},
     "output_type": "display_data"
    },
    {
     "name": "stdout",
     "output_type": "stream",
     "text": [
      "test sample number 8 (ground truth value = 5) :\n"
     ]
    },
    {
     "data": {
      "image/png": "[encoded data removed]",
      "text/plain": [
       "<IPython.core.display.Image object>"
      ]
     },
     "metadata": {},
     "output_type": "display_data"
    },
    {
     "name": "stdout",
     "output_type": "stream",
     "text": [
      "test sample number 9 (ground truth value = 9) :\n"
     ]
    },
    {
     "data": {
      "image/png": "[encoded data removed]",
      "text/plain": [
       "<IPython.core.display.Image object>"
      ]
     },
     "metadata": {},
     "output_type": "display_data"
    },
    {
     "name": "stdout",
     "output_type": "stream",
     "text": [
      "test sample number 10 (ground truth value = 0) :\n"
     ]
    },
    {
     "data": {
      "image/png": "[encoded data removed]",
      "text/plain": [
       "<IPython.core.display.Image object>"
      ]
     },
     "metadata": {},
     "output_type": "display_data"
    },
    {
     "name": "stdout",
     "output_type": "stream",
     "text": [
      "test sample number 11 (ground truth value = 6) :\n"
     ]
    },
    {
     "data": {
      "image/png": "[encoded data removed]",
      "text/plain": [
       "<IPython.core.display.Image object>"
      ]
     },
     "metadata": {},
     "output_type": "display_data"
    },
    {
     "name": "stdout",
     "output_type": "stream",
     "text": [
      "test sample number 12 (ground truth value = 9) :\n"
     ]
    },
    {
     "data": {
      "image/png": "[encoded data removed]",
      "text/plain": [
       "<IPython.core.display.Image object>"
      ]
     },
     "metadata": {},
     "output_type": "display_data"
    },
    {
     "name": "stdout",
     "output_type": "stream",
     "text": [
      "test sample number 13 (ground truth value = 0) :\n"
     ]
    },
    {
     "data": {
      "image/png": "[encoded data removed]",
      "text/plain": [
       "<IPython.core.display.Image object>"
      ]
     },
     "metadata": {},
     "output_type": "display_data"
    },
    {
     "name": "stdout",
     "output_type": "stream",
     "text": [
      "test sample number 14 (ground truth value = 1) :\n"
     ]
    },
    {
     "data": {
      "image/png": "[encoded data removed]",
      "text/plain": [
       "<IPython.core.display.Image object>"
      ]
     },
     "metadata": {},
     "output_type": "display_data"
    },
    {
     "name": "stdout",
     "output_type": "stream",
     "text": [
      "test sample number 15 (ground truth value = 5) :\n"
     ]
    },
    {
     "data": {
      "image/png": "[encoded data removed]",
      "text/plain": [
       "<IPython.core.display.Image object>"
      ]
     },
     "metadata": {},
     "output_type": "display_data"
    },
    {
     "name": "stdout",
     "output_type": "stream",
     "text": [
      "test sample number 16 (ground truth value = 9) :\n"
     ]
    },
    {
     "data": {
      "image/png": "[encoded data removed]",
      "text/plain": [
       "<IPython.core.display.Image object>"
      ]
     },
     "metadata": {},
     "output_type": "display_data"
    },
    {
     "name": "stdout",
     "output_type": "stream",
     "text": [
      "test sample number 17 (ground truth value = 7) :\n"
     ]
    },
    {
     "data": {
      "image/png": "[encoded data removed]",
      "text/plain": [
       "<IPython.core.display.Image object>"
      ]
     },
     "metadata": {},
     "output_type": "display_data"
    },
    {
     "name": "stdout",
     "output_type": "stream",
     "text": [
      "test sample number 18 (ground truth value = 3) :\n"
     ]
    },
    {
     "data": {
      "image/png": "[encoded data removed]",
      "text/plain": [
       "<IPython.core.display.Image object>"
      ]
     },
     "metadata": {},
     "output_type": "display_data"
    },
    {
     "name": "stdout",
     "output_type": "stream",
     "text": [
      "test sample number 19 (ground truth value = 4) :\n"
     ]
    },
    {
     "data": {
      "image/png": "[encoded data removed]",
      "text/plain": [
       "<IPython.core.display.Image object>"
      ]
     },
     "metadata": {},
     "output_type": "display_data"
    },
    {
     "name": "stdout",
     "output_type": "stream",
     "text": [
      "test sample number 20 (ground truth value = 9) :\n"
     ]
    },
    {
     "data": {
      "image/png": "[encoded data removed]",
      "text/plain": [
       "<IPython.core.display.Image object>"
      ]
     },
     "metadata": {},
     "output_type": "display_data"
    },
    {
     "name": "stdout",
     "output_type": "stream",
     "text": [
      "test sample number 21 (ground truth value = 6) :\n"
     ]
    },
    {
     "data": {
      "image/png": "[encoded data removed]",
      "text/plain": [
       "<IPython.core.display.Image object>"
      ]
     },
     "metadata": {},
     "output_type": "display_data"
    },
    {
     "name": "stdout",
     "output_type": "stream",
     "text": [
      "test sample number 22 (ground truth value = 6) :\n"
     ]
    },
    {
     "data": {
      "image/png": "[encoded data removed]",
      "text/plain": [
       "<IPython.core.display.Image object>"
      ]
     },
     "metadata": {},
     "output_type": "display_data"
    },
    {
     "name": "stdout",
     "output_type": "stream",
     "text": [
      "test sample number 23 (ground truth value = 5) :\n"
     ]
    },
    {
     "data": {
      "image/png": "[encoded data removed]",
      "text/plain": [
       "<IPython.core.display.Image object>"
      ]
     },
     "metadata": {},
     "output_type": "display_data"
    },
    {
     "name": "stdout",
     "output_type": "stream",
     "text": [
      "test sample number 24 (ground truth value = 4) :\n"
     ]
    },
    {
     "data": {
      "image/png": "[encoded data removed]",
      "text/plain": [
       "<IPython.core.display.Image object>"
      ]
     },
     "metadata": {},
     "output_type": "display_data"
    },
    {
     "name": "stdout",
     "output_type": "stream",
     "text": [
      "test sample number 25 (ground truth value = 0) :\n"
     ]
    },
    {
     "data": {
      "image/png": "[encoded data removed]",
      "text/plain": [
       "<IPython.core.display.Image object>"
      ]
     },
     "metadata": {},
     "output_type": "display_data"
    },
    {
     "name": "stdout",
     "output_type": "stream",
     "text": [
      "test sample number 26 (ground truth value = 7) :\n"
     ]
    },
    {
     "data": {
      "image/png": "[encoded data removed]",
      "text/plain": [
       "<IPython.core.display.Image object>"
      ]
     },
     "metadata": {},
     "output_type": "display_data"
    },
    {
     "name": "stdout",
     "output_type": "stream",
     "text": [
      "test sample number 27 (ground truth value = 4) :\n"
     ]
    },
    {
     "data": {
      "image/png": "[encoded data removed]",
      "text/plain": [
       "<IPython.core.display.Image object>"
      ]
     },
     "metadata": {},
     "output_type": "display_data"
    },
    {
     "name": "stdout",
     "output_type": "stream",
     "text": [
      "test sample number 28 (ground truth value = 0) :\n"
     ]
    },
    {
     "data": {
      "image/png": "[encoded data removed]",
      "text/plain": [
       "<IPython.core.display.Image object>"
      ]
     },
     "metadata": {},
     "output_type": "display_data"
    },
    {
     "name": "stdout",
     "output_type": "stream",
     "text": [
      "test sample number 29 (ground truth value = 1) :\n"
     ]
    },
    {
     "data": {
      "image/png": "[encoded data removed]",
      "text/plain": [
       "<IPython.core.display.Image object>"
      ]
     },
     "metadata": {},
     "output_type": "display_data"
    },
    {
     "name": "stdout",
     "output_type": "stream",
     "text": [
      "test sample number 30 (ground truth value = 3) :\n"
     ]
    },
    {
     "data": {
      "image/png": "[encoded data removed]",
      "text/plain": [
       "<IPython.core.display.Image object>"
      ]
     },
     "metadata": {},
     "output_type": "display_data"
    },
    {
     "name": "stdout",
     "output_type": "stream",
     "text": [
      "test sample number 31 (ground truth value = 1) :\n"
     ]
    },
    {
     "data": {
      "image/png": "[encoded data removed]",
      "text/plain": [
       "<IPython.core.display.Image object>"
      ]
     },
     "metadata": {},
     "output_type": "display_data"
    },
    {
     "name": "stdout",
     "output_type": "stream",
     "text": [
      "test sample number 32 (ground truth value = 3) :\n"
     ]
    },
    {
     "data": {
      "image/png": "[encoded data removed]",
      "text/plain": [
       "<IPython.core.display.Image object>"
      ]
     },
     "metadata": {},
     "output_type": "display_data"
    },
    {
     "name": "stdout",
     "output_type": "stream",
     "text": [
      "test sample number 33 (ground truth value = 4) :\n"
     ]
    },
    {
     "data": {
      "image/png": "[encoded data removed]",
      "text/plain": [
       "<IPython.core.display.Image object>"
      ]
     },
     "metadata": {},
     "output_type": "display_data"
    },
    {
     "name": "stdout",
     "output_type": "stream",
     "text": [
      "test sample number 34 (ground truth value = 7) :\n"
     ]
    },
    {
     "data": {
      "image/png": "[encoded data removed]",
      "text/plain": [
       "<IPython.core.display.Image object>"
      ]
     },
     "metadata": {},
     "output_type": "display_data"
    },
    {
     "name": "stdout",
     "output_type": "stream",
     "text": [
      "test sample number 35 (ground truth value = 2) :\n"
     ]
    },
    {
     "data": {
      "image/png": "[encoded data removed]",
      "text/plain": [
       "<IPython.core.display.Image object>"
      ]
     },
     "metadata": {},
     "output_type": "display_data"
    },
    {
     "name": "stdout",
     "output_type": "stream",
     "text": [
      "test sample number 36 (ground truth value = 7) :\n"
     ]
    },
    {
     "data": {
      "image/png": "[encoded data removed]",
      "text/plain": [
       "<IPython.core.display.Image object>"
      ]
     },
     "metadata": {},
     "output_type": "display_data"
    },
    {
     "name": "stdout",
     "output_type": "stream",
     "text": [
      "test sample number 37 (ground truth value = 1) :\n"
     ]
    },
    {
     "data": {
      "image/png": "[encoded data removed]",
      "text/plain": [
       "<IPython.core.display.Image object>"
      ]
     },
     "metadata": {},
     "output_type": "display_data"
    },
    {
     "name": "stdout",
     "output_type": "stream",
     "text": [
      "test sample number 38 (ground truth value = 2) :\n"
     ]
    },
    {
     "data": {
      "image/png": "[encoded data removed]",
      "text/plain": [
       "<IPython.core.display.Image object>"
      ]
     },
     "metadata": {},
     "output_type": "display_data"
    },
    {
     "name": "stdout",
     "output_type": "stream",
     "text": [
      "test sample number 39 (ground truth value = 1) :\n"
     ]
    },
    {
     "data": {
      "image/png": "[encoded data removed]",
      "text/plain": [
       "<IPython.core.display.Image object>"
      ]
     },
     "metadata": {},
     "output_type": "display_data"
    },
    {
     "name": "stdout",
     "output_type": "stream",
     "text": [
      "test sample number 40 (ground truth value = 1) :\n"
     ]
    },
    {
     "data": {
      "image/png": "[encoded data removed]",
      "text/plain": [
       "<IPython.core.display.Image object>"
      ]
     },
     "metadata": {},
     "output_type": "display_data"
    },
    {
     "name": "stdout",
     "output_type": "stream",
     "text": [
      "test sample number 41 (ground truth value = 7) :\n"
     ]
    },
    {
     "data": {
      "image/png": "[encoded data removed]",
      "text/plain": [
       "<IPython.core.display.Image object>"
      ]
     },
     "metadata": {},
     "output_type": "display_data"
    },
    {
     "name": "stdout",
     "output_type": "stream",
     "text": [
      "test sample number 42 (ground truth value = 4) :\n"
     ]
    },
    {
     "data": {
      "image/png": "[encoded data removed]",
      "text/plain": [
       "<IPython.core.display.Image object>"
      ]
     },
     "metadata": {},
     "output_type": "display_data"
    },
    {
     "name": "stdout",
     "output_type": "stream",
     "text": [
      "test sample number 43 (ground truth value = 2) :\n"
     ]
    },
    {
     "data": {
      "image/png": "[encoded data removed]",
      "text/plain": [
       "<IPython.core.display.Image object>"
      ]
     },
     "metadata": {},
     "output_type": "display_data"
    },
    {
     "name": "stdout",
     "output_type": "stream",
     "text": [
      "test sample number 44 (ground truth value = 3) :\n"
     ]
    },
    {
     "data": {
      "image/png": "[encoded data removed]",
      "text/plain": [
       "<IPython.core.display.Image object>"
      ]
     },
     "metadata": {},
     "output_type": "display_data"
    },
    {
     "name": "stdout",
     "output_type": "stream",
     "text": [
      "test sample number 45 (ground truth value = 5) :\n"
     ]
    },
    {
     "data": {
      "image/png": "[encoded data removed]",
      "text/plain": [
       "<IPython.core.display.Image object>"
      ]
     },
     "metadata": {},
     "output_type": "display_data"
    },
    {
     "name": "stdout",
     "output_type": "stream",
     "text": [
      "test sample number 46 (ground truth value = 1) :\n"
     ]
    },
    {
     "data": {
      "image/png": "[encoded data removed]",
      "text/plain": [
       "<IPython.core.display.Image object>"
      ]
     },
     "metadata": {},
     "output_type": "display_data"
    },
    {
     "name": "stdout",
     "output_type": "stream",
     "text": [
      "test sample number 47 (ground truth value = 2) :\n"
     ]
    },
    {
     "data": {
      "image/png": "[encoded data removed]",
      "text/plain": [
       "<IPython.core.display.Image object>"
      ]
     },
     "metadata": {},
     "output_type": "display_data"
    },
    {
     "name": "stdout",
     "output_type": "stream",
     "text": [
      "test sample number 48 (ground truth value = 4) :\n"
     ]
    },
    {
     "data": {
      "image/png": "[encoded data removed]",
      "text/plain": [
       "<IPython.core.display.Image object>"
      ]
     },
     "metadata": {},
     "output_type": "display_data"
    },
    {
     "name": "stdout",
     "output_type": "stream",
     "text": [
      "test sample number 49 (ground truth value = 4) :\n"
     ]
    },
    {
     "data": {
      "image/png": "[encoded data removed]",
      "text/plain": [
       "<IPython.core.display.Image object>"
      ]
     },
     "metadata": {},
     "output_type": "display_data"
    },
    {
     "name": "stdout",
     "output_type": "stream",
     "text": [
      "test sample number 50 (ground truth value = 6) :\n"
     ]
    },
    {
     "data": {
      "image/png": "[encoded data removed]",
      "text/plain": [
       "<IPython.core.display.Image object>"
      ]
     },
     "metadata": {},
     "output_type": "display_data"
    },
    {
     "name": "stdout",
     "output_type": "stream",
     "text": [
      "test sample number 51 (ground truth value = 3) :\n"
     ]
    },
    {
     "data": {
      "image/png": "[encoded data removed]",
      "text/plain": [
       "<IPython.core.display.Image object>"
      ]
     },
     "metadata": {},
     "output_type": "display_data"
    },
    {
     "name": "stdout",
     "output_type": "stream",
     "text": [
      "test sample number 52 (ground truth value = 5) :\n"
     ]
    },
    {
     "data": {
      "image/png": "[encoded data removed]",
      "text/plain": [
       "<IPython.core.display.Image object>"
      ]
     },
     "metadata": {},
     "output_type": "display_data"
    },
    {
     "name": "stdout",
     "output_type": "stream",
     "text": [
      "test sample number 53 (ground truth value = 5) :\n"
     ]
    },
    {
     "data": {
      "image/png": "[encoded data removed]",
      "text/plain": [
       "<IPython.core.display.Image object>"
      ]
     },
     "metadata": {},
     "output_type": "display_data"
    },
    {
     "name": "stdout",
     "output_type": "stream",
     "text": [
      "test sample number 54 (ground truth value = 6) :\n"
     ]
    },
    {
     "data": {
      "image/png": "[encoded data removed]",
      "text/plain": [
       "<IPython.core.display.Image object>"
      ]
     },
     "metadata": {},
     "output_type": "display_data"
    },
    {
     "name": "stdout",
     "output_type": "stream",
     "text": [
      "test sample number 55 (ground truth value = 0) :\n"
     ]
    },
    {
     "data": {
      "image/png": "[encoded data removed]",
      "text/plain": [
       "<IPython.core.display.Image object>"
      ]
     },
     "metadata": {},
     "output_type": "display_data"
    },
    {
     "name": "stdout",
     "output_type": "stream",
     "text": [
      "test sample number 56 (ground truth value = 4) :\n"
     ]
    },
    {
     "data": {
      "image/png": "[encoded data removed]",
      "text/plain": [
       "<IPython.core.display.Image object>"
      ]
     },
     "metadata": {},
     "output_type": "display_data"
    },
    {
     "name": "stdout",
     "output_type": "stream",
     "text": [
      "test sample number 57 (ground truth value = 1) :\n"
     ]
    },
    {
     "data": {
      "image/png": "[encoded data removed]",
      "text/plain": [
       "<IPython.core.display.Image object>"
      ]
     },
     "metadata": {},
     "output_type": "display_data"
    },
    {
     "name": "stdout",
     "output_type": "stream",
     "text": [
      "test sample number 58 (ground truth value = 9) :\n"
     ]
    },
    {
     "data": {
      "image/png": "[encoded data removed]",
      "text/plain": [
       "<IPython.core.display.Image object>"
      ]
     },
     "metadata": {},
     "output_type": "display_data"
    },
    {
     "name": "stdout",
     "output_type": "stream",
     "text": [
      "test sample number 59 (ground truth value = 5) :\n"
     ]
    },
    {
     "data": {
      "image/png": "[encoded data removed]",
      "text/plain": [
       "<IPython.core.display.Image object>"
      ]
     },
     "metadata": {},
     "output_type": "display_data"
    },
    {
     "name": "stdout",
     "output_type": "stream",
     "text": [
      "test sample number 60 (ground truth value = 7) :\n"
     ]
    },
    {
     "data": {
      "image/png": "[encoded data removed]",
      "text/plain": [
       "<IPython.core.display.Image object>"
      ]
     },
     "metadata": {},
     "output_type": "display_data"
    },
    {
     "name": "stdout",
     "output_type": "stream",
     "text": [
      "test sample number 61 (ground truth value = 8) :\n"
     ]
    },
    {
     "data": {
      "image/png": "[encoded data removed]",
      "text/plain": [
       "<IPython.core.display.Image object>"
      ]
     },
     "metadata": {},
     "output_type": "display_data"
    },
    {
     "name": "stdout",
     "output_type": "stream",
     "text": [
      "test sample number 62 (ground truth value = 9) :\n"
     ]
    },
    {
     "data": {
      "image/png": "[encoded data removed]",
      "text/plain": [
       "<IPython.core.display.Image object>"
      ]
     },
     "metadata": {},
     "output_type": "display_data"
    },
    {
     "name": "stdout",
     "output_type": "stream",
     "text": [
      "test sample number 63 (ground truth value = 3) :\n"
     ]
    },
    {
     "data": {
      "image/png": "[encoded data removed]",
      "text/plain": [
       "<IPython.core.display.Image object>"
      ]
     },
     "metadata": {},
     "output_type": "display_data"
    },
    {
     "name": "stdout",
     "output_type": "stream",
     "text": [
      "test sample number 64 (ground truth value = 7) :\n"
     ]
    },
    {
     "data": {
      "image/png": "[encoded data removed]",
      "text/plain": [
       "<IPython.core.display.Image object>"
      ]
     },
     "metadata": {},
     "output_type": "display_data"
    },
    {
     "name": "stdout",
     "output_type": "stream",
     "text": [
      "test sample number 65 (ground truth value = 4) :\n"
     ]
    },
    {
     "data": {
      "image/png": "[encoded data removed]",
      "text/plain": [
       "<IPython.core.display.Image object>"
      ]
     },
     "metadata": {},
     "output_type": "display_data"
    },
    {
     "name": "stdout",
     "output_type": "stream",
     "text": [
      "test sample number 66 (ground truth value = 6) :\n"
     ]
    },
    {
     "data": {
      "image/png": "[encoded data removed]",
      "text/plain": [
       "<IPython.core.display.Image object>"
      ]
     },
     "metadata": {},
     "output_type": "display_data"
    },
    {
     "name": "stdout",
     "output_type": "stream",
     "text": [
      "test sample number 67 (ground truth value = 4) :\n"
     ]
    },
    {
     "data": {
      "image/png": "[encoded data removed]",
      "text/plain": [
       "<IPython.core.display.Image object>"
      ]
     },
     "metadata": {},
     "output_type": "display_data"
    },
    {
     "name": "stdout",
     "output_type": "stream",
     "text": [
      "test sample number 68 (ground truth value = 3) :\n"
     ]
    },
    {
     "data": {
      "image/png": "[encoded data removed]",
      "text/plain": [
       "<IPython.core.display.Image object>"
      ]
     },
     "metadata": {},
     "output_type": "display_data"
    },
    {
     "name": "stdout",
     "output_type": "stream",
     "text": [
      "test sample number 69 (ground truth value = 0) :\n"
     ]
    },
    {
     "data": {
      "image/png": "[encoded data removed]",
      "text/plain": [
       "<IPython.core.display.Image object>"
      ]
     },
     "metadata": {},
     "output_type": "display_data"
    },
    {
     "name": "stdout",
     "output_type": "stream",
     "text": [
      "test sample number 70 (ground truth value = 7) :\n"
     ]
    },
    {
     "data": {
      "image/png": "[encoded data removed]",
      "text/plain": [
       "<IPython.core.display.Image object>"
      ]
     },
     "metadata": {},
     "output_type": "display_data"
    },
    {
     "name": "stdout",
     "output_type": "stream",
     "text": [
      "test sample number 71 (ground truth value = 0) :\n"
     ]
    },
    {
     "data": {
      "image/png": "[encoded data removed]",
      "text/plain": [
       "<IPython.core.display.Image object>"
      ]
     },
     "metadata": {},
     "output_type": "display_data"
    },
    {
     "name": "stdout",
     "output_type": "stream",
     "text": [
      "test sample number 72 (ground truth value = 2) :\n"
     ]
    },
    {
     "data": {
      "image/png": "[encoded data removed]",
      "text/plain": [
       "<IPython.core.display.Image object>"
      ]
     },
     "metadata": {},
     "output_type": "display_data"
    },
    {
     "name": "stdout",
     "output_type": "stream",
     "text": [
      "test sample number 73 (ground truth value = 9) :\n"
     ]
    },
    {
     "data": {
      "image/png": "[encoded data removed]",
      "text/plain": [
       "<IPython.core.display.Image object>"
      ]
     },
     "metadata": {},
     "output_type": "display_data"
    },
    {
     "name": "stdout",
     "output_type": "stream",
     "text": [
      "test sample number 74 (ground truth value = 1) :\n"
     ]
    },
    {
     "data": {
      "image/png": "[encoded data removed]",
      "text/plain": [
       "<IPython.core.display.Image object>"
      ]
     },
     "metadata": {},
     "output_type": "display_data"
    },
    {
     "name": "stdout",
     "output_type": "stream",
     "text": [
      "test sample number 75 (ground truth value = 7) :\n"
     ]
    },
    {
     "data": {
      "image/png": "[encoded data removed]",
      "text/plain": [
       "<IPython.core.display.Image object>"
      ]
     },
     "metadata": {},
     "output_type": "display_data"
    },
    {
     "name": "stdout",
     "output_type": "stream",
     "text": [
      "test sample number 76 (ground truth value = 3) :\n"
     ]
    },
    {
     "data": {
      "image/png": "[encoded data removed]",
      "text/plain": [
       "<IPython.core.display.Image object>"
      ]
     },
     "metadata": {},
     "output_type": "display_data"
    },
    {
     "name": "stdout",
     "output_type": "stream",
     "text": [
      "test sample number 77 (ground truth value = 2) :\n"
     ]
    },
    {
     "data": {
      "image/png": "[encoded data removed]",
      "text/plain": [
       "<IPython.core.display.Image object>"
      ]
     },
     "metadata": {},
     "output_type": "display_data"
    },
    {
     "name": "stdout",
     "output_type": "stream",
     "text": [
      "test sample number 78 (ground truth value = 9) :\n"
     ]
    },
    {
     "data": {
      "image/png": "[encoded data removed]",
      "text/plain": [
       "<IPython.core.display.Image object>"
      ]
     },
     "metadata": {},
     "output_type": "display_data"
    },
    {
     "name": "stdout",
     "output_type": "stream",
     "text": [
      "test sample number 79 (ground truth value = 7) :\n"
     ]
    },
    {
     "data": {
      "image/png": "[encoded data removed]",
      "text/plain": [
       "<IPython.core.display.Image object>"
      ]
     },
     "metadata": {},
     "output_type": "display_data"
    },
    {
     "name": "stdout",
     "output_type": "stream",
     "text": [
      "test sample number 80 (ground truth value = 7) :\n"
     ]
    },
    {
     "data": {
      "image/png": "[encoded data removed]",
      "text/plain": [
       "<IPython.core.display.Image object>"
      ]
     },
     "metadata": {},
     "output_type": "display_data"
    },
    {
     "name": "stdout",
     "output_type": "stream",
     "text": [
      "test sample number 81 (ground truth value = 6) :\n"
     ]
    },
    {
     "data": {
      "image/png": "[encoded data removed]",
      "text/plain": [
       "<IPython.core.display.Image object>"
      ]
     },
     "metadata": {},
     "output_type": "display_data"
    },
    {
     "name": "stdout",
     "output_type": "stream",
     "text": [
      "test sample number 82 (ground truth value = 2) :\n"
     ]
    },
    {
     "data": {
      "image/png": "[encoded data removed]",
      "text/plain": [
       "<IPython.core.display.Image object>"
      ]
     },
     "metadata": {},
     "output_type": "display_data"
    },
    {
     "name": "stdout",
     "output_type": "stream",
     "text": [
      "test sample number 83 (ground truth value = 7) :\n"
     ]
    },
    {
     "data": {
      "image/png": "[encoded data removed]",
      "text/plain": [
       "<IPython.core.display.Image object>"
      ]
     },
     "metadata": {},
     "output_type": "display_data"
    },
    {
     "name": "stdout",
     "output_type": "stream",
     "text": [
      "test sample number 84 (ground truth value = 8) :\n"
     ]
    },
    {
     "data": {
      "image/png": "[encoded data removed]",
      "text/plain": [
       "<IPython.core.display.Image object>"
      ]
     },
     "metadata": {},
     "output_type": "display_data"
    },
    {
     "name": "stdout",
     "output_type": "stream",
     "text": [
      "test sample number 85 (ground truth value = 4) :\n"
     ]
    },
    {
     "data": {
      "image/png": "[encoded data removed]",
      "text/plain": [
       "<IPython.core.display.Image object>"
      ]
     },
     "metadata": {},
     "output_type": "display_data"
    },
    {
     "name": "stdout",
     "output_type": "stream",
     "text": [
      "test sample number 86 (ground truth value = 7) :\n"
     ]
    },
    {
     "data": {
      "image/png": "[encoded data removed]",
      "text/plain": [
       "<IPython.core.display.Image object>"
      ]
     },
     "metadata": {},
     "output_type": "display_data"
    },
    {
     "name": "stdout",
     "output_type": "stream",
     "text": [
      "test sample number 87 (ground truth value = 3) :\n"
     ]
    },
    {
     "data": {
      "image/png": "[encoded data removed]",
      "text/plain": [
       "<IPython.core.display.Image object>"
      ]
     },
     "metadata": {},
     "output_type": "display_data"
    },
    {
     "name": "stdout",
     "output_type": "stream",
     "text": [
      "test sample number 88 (ground truth value = 6) :\n"
     ]
    },
    {
     "data": {
      "image/png": "[encoded data removed]",
      "text/plain": [
       "<IPython.core.display.Image object>"
      ]
     },
     "metadata": {},
     "output_type": "display_data"
    },
    {
     "name": "stdout",
     "output_type": "stream",
     "text": [
      "test sample number 89 (ground truth value = 1) :\n"
     ]
    },
    {
     "data": {
      "image/png": "[encoded data removed]",
      "text/plain": [
       "<IPython.core.display.Image object>"
      ]
     },
     "metadata": {},
     "output_type": "display_data"
    },
    {
     "name": "stdout",
     "output_type": "stream",
     "text": [
      "test sample number 90 (ground truth value = 3) :\n"
     ]
    },
    {
     "data": {
      "image/png": "[encoded data removed]",
      "text/plain": [
       "<IPython.core.display.Image object>"
      ]
     },
     "metadata": {},
     "output_type": "display_data"
    },
    {
     "name": "stdout",
     "output_type": "stream",
     "text": [
      "test sample number 91 (ground truth value = 6) :\n"
     ]
    },
    {
     "data": {
      "image/png": "[encoded data removed]",
      "text/plain": [
       "<IPython.core.display.Image object>"
      ]
     },
     "metadata": {},
     "output_type": "display_data"
    },
    {
     "name": "stdout",
     "output_type": "stream",
     "text": [
      "test sample number 92 (ground truth value = 9) :\n"
     ]
    },
    {
     "data": {
      "image/png": "[encoded data removed]",
      "text/plain": [
       "<IPython.core.display.Image object>"
      ]
     },
     "metadata": {},
     "output_type": "display_data"
    },
    {
     "name": "stdout",
     "output_type": "stream",
     "text": [
      "test sample number 93 (ground truth value = 3) :\n"
     ]
    },
    {
     "data": {
      "image/png": "[encoded data removed]",
      "text/plain": [
       "<IPython.core.display.Image object>"
      ]
     },
     "metadata": {},
     "output_type": "display_data"
    },
    {
     "name": "stdout",
     "output_type": "stream",
     "text": [
      "test sample number 94 (ground truth value = 1) :\n"
     ]
    },
    {
     "data": {
      "image/png": "[encoded data removed]",
      "text/plain": [
       "<IPython.core.display.Image object>"
      ]
     },
     "metadata": {},
     "output_type": "display_data"
    },
    {
     "name": "stdout",
     "output_type": "stream",
     "text": [
      "test sample number 95 (ground truth value = 4) :\n"
     ]
    },
    {
     "data": {
      "image/png": "[encoded data removed]",
      "text/plain": [
       "<IPython.core.display.Image object>"
      ]
     },
     "metadata": {},
     "output_type": "display_data"
    },
    {
     "name": "stdout",
     "output_type": "stream",
     "text": [
      "test sample number 96 (ground truth value = 1) :\n"
     ]
    },
    {
     "data": {
      "image/png": "[encoded data removed]",
      "text/plain": [
       "<IPython.core.display.Image object>"
      ]
     },
     "metadata": {},
     "output_type": "display_data"
    },
    {
     "name": "stdout",
     "output_type": "stream",
     "text": [
      "test sample number 97 (ground truth value = 7) :\n"
     ]
    },
    {
     "data": {
      "image/png": "[encoded data removed]",
      "text/plain": [
       "<IPython.core.display.Image object>"
      ]
     },
     "metadata": {},
     "output_type": "display_data"
    },
    {
     "name": "stdout",
     "output_type": "stream",
     "text": [
      "test sample number 98 (ground truth value = 6) :\n"
     ]
    },
    {
     "data": {
      "image/png": "[encoded data removed]",
      "text/plain": [
       "<IPython.core.display.Image object>"
      ]
     },
     "metadata": {},
     "output_type": "display_data"
    },
    {
     "name": "stdout",
     "output_type": "stream",
     "text": [
      "test sample number 99 (ground truth value = 9) :\n"
     ]
    },
    {
     "data": {
      "image/png": "[encoded data removed]",
      "text/plain": [
       "<IPython.core.display.Image object>"
      ]
     },
     "metadata": {},
     "output_type": "display_data"
    }
   ],
   "source": [
    "visualize_data(paths, data, data_status, notebook=True)"
   ]
  },
  {
   "cell_type": "markdown",
   "metadata": {},
   "source": [
    "# Model definition and training"
   ]
  },
  {
   "cell_type": "markdown",
   "metadata": {},
   "source": [
    "Defining hyperparameters and callbacks"
   ]
  },
  {
   "cell_type": "code",
   "execution_count": 8,
   "metadata": {},
   "outputs": [],
   "source": [
    "hyperparameters =\\\n",
    "{\n",
    "    'nb_inner_layers': 4,\n",
    "    'nb_neurons_per_layers': 25,\n",
    "    'activation_function': 'sigmoid',\n",
    "    'batch_size': 50,\n",
    "    'nb_epochs': 1000,\n",
    "    'loss': 'mean_squared_error',\n",
    "    'optimizer': 'sgd',\n",
    "    'metrics': ['categorical_accuracy']\n",
    "}\n",
    "\n",
    "callbacks = [TensorBoard(log_dir=paths['model'], histogram_freq=1, batch_size=hyperparameters['batch_size']),\n",
    "             ModelCheckpoint(os.path.join(paths['model'], 'weights.hdf5'))]"
   ]
  },
  {
   "cell_type": "markdown",
   "metadata": {},
   "source": [
    "Creating model"
   ]
  },
  {
   "cell_type": "code",
   "execution_count": 10,
   "metadata": {},
   "outputs": [],
   "source": [
    "model = create_model(hyperparameters)"
   ]
  },
  {
   "cell_type": "markdown",
   "metadata": {},
   "source": [
    "Saving model"
   ]
  },
  {
   "cell_type": "code",
   "execution_count": 19,
   "metadata": {},
   "outputs": [],
   "source": [
    "with open(os.path.join(paths['model'],'model.json'), 'w') as json_file:\n",
    "    json_file.write(model.to_json())"
   ]
  },
  {
   "cell_type": "markdown",
   "metadata": {},
   "source": [
    "Training model"
   ]
  },
  {
   "cell_type": "code",
   "execution_count": 20,
   "metadata": {
    "scrolled": true
   },
   "outputs": [
    {
     "name": "stdout",
     "output_type": "stream",
     "text": [
      "Train on 48000 samples, validate on 12000 samples\n",
      "Epoch 1/1000\n",
      "48000/48000 [==============================] - 3s 52us/step - loss: 0.1042 - categorical_accuracy: 0.1121 - val_loss: 0.0900 - val_categorical_accuracy: 0.1274\n",
      "Epoch 2/1000\n",
      "48000/48000 [==============================] - 2s 50us/step - loss: 0.0899 - categorical_accuracy: 0.1236 - val_loss: 0.0899 - val_categorical_accuracy: 0.1152\n",
      "Epoch 3/1000\n",
      "48000/48000 [==============================] - 2s 50us/step - loss: 0.0898 - categorical_accuracy: 0.1289 - val_loss: 0.0898 - val_categorical_accuracy: 0.1243\n",
      "Epoch 4/1000\n",
      "48000/48000 [==============================] - 2s 51us/step - loss: 0.0897 - categorical_accuracy: 0.1365 - val_loss: 0.0897 - val_categorical_accuracy: 0.1434\n",
      "Epoch 5/1000\n",
      "48000/48000 [==============================] - 2s 51us/step - loss: 0.0896 - categorical_accuracy: 0.1479 - val_loss: 0.0896 - val_categorical_accuracy: 0.1483\n",
      "Epoch 6/1000\n",
      "48000/48000 [==============================] - 3s 53us/step - loss: 0.0895 - categorical_accuracy: 0.1560 - val_loss: 0.0895 - val_categorical_accuracy: 0.1822\n",
      "Epoch 7/1000\n",
      "48000/48000 [==============================] - 3s 56us/step - loss: 0.0894 - categorical_accuracy: 0.1696 - val_loss: 0.0894 - val_categorical_accuracy: 0.1353\n",
      "Epoch 8/1000\n",
      "48000/48000 [==============================] - 2s 50us/step - loss: 0.0894 - categorical_accuracy: 0.1690 - val_loss: 0.0893 - val_categorical_accuracy: 0.2048\n",
      "Epoch 9/1000\n",
      "48000/48000 [==============================] - 2s 46us/step - loss: 0.0893 - categorical_accuracy: 0.1846 - val_loss: 0.0893 - val_categorical_accuracy: 0.1512\n",
      "Epoch 10/1000\n",
      "48000/48000 [==============================] - 2s 47us/step - loss: 0.0892 - categorical_accuracy: 0.1875 - val_loss: 0.0892 - val_categorical_accuracy: 0.1984\n",
      "Epoch 11/1000\n",
      "48000/48000 [==============================] - 3s 55us/step - loss: 0.0891 - categorical_accuracy: 0.1992 - val_loss: 0.0891 - val_categorical_accuracy: 0.1870\n",
      "Epoch 12/1000\n",
      "48000/48000 [==============================] - 2s 47us/step - loss: 0.0890 - categorical_accuracy: 0.2091 - val_loss: 0.0890 - val_categorical_accuracy: 0.1826\n",
      "Epoch 13/1000\n",
      "48000/48000 [==============================] - 3s 55us/step - loss: 0.0889 - categorical_accuracy: 0.2195 - val_loss: 0.0889 - val_categorical_accuracy: 0.2219\n",
      "Epoch 14/1000\n",
      "48000/48000 [==============================] - 2s 47us/step - loss: 0.0888 - categorical_accuracy: 0.2294 - val_loss: 0.0888 - val_categorical_accuracy: 0.3111\n",
      "Epoch 15/1000\n",
      "48000/48000 [==============================] - 3s 71us/step - loss: 0.0887 - categorical_accuracy: 0.2356 - val_loss: 0.0887 - val_categorical_accuracy: 0.2895\n",
      "Epoch 16/1000\n",
      "48000/48000 [==============================] - 3s 60us/step - loss: 0.0887 - categorical_accuracy: 0.2599 - val_loss: 0.0886 - val_categorical_accuracy: 0.2916\n",
      "Epoch 17/1000\n",
      "48000/48000 [==============================] - 3s 53us/step - loss: 0.0886 - categorical_accuracy: 0.2798 - val_loss: 0.0885 - val_categorical_accuracy: 0.2727\n",
      "Epoch 18/1000\n",
      "48000/48000 [==============================] - 2s 51us/step - loss: 0.0885 - categorical_accuracy: 0.2895 - val_loss: 0.0884 - val_categorical_accuracy: 0.2177\n",
      "Epoch 19/1000\n",
      "48000/48000 [==============================] - 3s 53us/step - loss: 0.0883 - categorical_accuracy: 0.2921 - val_loss: 0.0883 - val_categorical_accuracy: 0.2560\n",
      "Epoch 20/1000\n",
      "48000/48000 [==============================] - 2s 46us/step - loss: 0.0882 - categorical_accuracy: 0.3085 - val_loss: 0.0882 - val_categorical_accuracy: 0.3070\n",
      "Epoch 21/1000\n",
      "48000/48000 [==============================] - 2s 49us/step - loss: 0.0881 - categorical_accuracy: 0.3239 - val_loss: 0.0881 - val_categorical_accuracy: 0.3583\n",
      "Epoch 22/1000\n",
      "48000/48000 [==============================] - 2s 49us/step - loss: 0.0880 - categorical_accuracy: 0.3363 - val_loss: 0.0880 - val_categorical_accuracy: 0.2790\n",
      "Epoch 23/1000\n",
      "48000/48000 [==============================] - 2s 51us/step - loss: 0.0879 - categorical_accuracy: 0.3481 - val_loss: 0.0878 - val_categorical_accuracy: 0.3406\n",
      "Epoch 24/1000\n",
      "48000/48000 [==============================] - 3s 58us/step - loss: 0.0878 - categorical_accuracy: 0.3532 - val_loss: 0.0877 - val_categorical_accuracy: 0.3971\n",
      "Epoch 25/1000\n",
      "48000/48000 [==============================] - 3s 60us/step - loss: 0.0876 - categorical_accuracy: 0.3682 - val_loss: 0.0876 - val_categorical_accuracy: 0.3765\n",
      "Epoch 26/1000\n",
      "48000/48000 [==============================] - 3s 52us/step - loss: 0.0875 - categorical_accuracy: 0.3741 - val_loss: 0.0874 - val_categorical_accuracy: 0.3919\n",
      "Epoch 27/1000\n",
      "48000/48000 [==============================] - 2s 48us/step - loss: 0.0874 - categorical_accuracy: 0.3874 - val_loss: 0.0873 - val_categorical_accuracy: 0.3852\n",
      "Epoch 28/1000\n",
      "48000/48000 [==============================] - 2s 47us/step - loss: 0.0872 - categorical_accuracy: 0.3947 - val_loss: 0.0871 - val_categorical_accuracy: 0.3754\n",
      "Epoch 29/1000\n",
      "48000/48000 [==============================] - 2s 52us/step - loss: 0.0871 - categorical_accuracy: 0.4100 - val_loss: 0.0870 - val_categorical_accuracy: 0.4036\n",
      "Epoch 30/1000\n",
      "48000/48000 [==============================] - 2s 48us/step - loss: 0.0869 - categorical_accuracy: 0.4192 - val_loss: 0.0868 - val_categorical_accuracy: 0.3510\n",
      "Epoch 31/1000\n",
      "48000/48000 [==============================] - 3s 53us/step - loss: 0.0867 - categorical_accuracy: 0.4179 - val_loss: 0.0866 - val_categorical_accuracy: 0.4449\n",
      "Epoch 32/1000\n",
      "48000/48000 [==============================] - 3s 60us/step - loss: 0.0865 - categorical_accuracy: 0.4301 - val_loss: 0.0865 - val_categorical_accuracy: 0.3928\n",
      "Epoch 33/1000\n",
      "48000/48000 [==============================] - 3s 54us/step - loss: 0.0864 - categorical_accuracy: 0.4430 - val_loss: 0.0863 - val_categorical_accuracy: 0.4529\n",
      "Epoch 34/1000\n",
      "48000/48000 [==============================] - 3s 55us/step - loss: 0.0862 - categorical_accuracy: 0.4453 - val_loss: 0.0861 - val_categorical_accuracy: 0.4688\n",
      "Epoch 35/1000\n",
      "48000/48000 [==============================] - 3s 53us/step - loss: 0.0860 - categorical_accuracy: 0.4526 - val_loss: 0.0859 - val_categorical_accuracy: 0.3776\n",
      "Epoch 36/1000\n",
      "48000/48000 [==============================] - 3s 54us/step - loss: 0.0858 - categorical_accuracy: 0.4531 - val_loss: 0.0857 - val_categorical_accuracy: 0.4618\n",
      "Epoch 37/1000\n",
      "48000/48000 [==============================] - 3s 53us/step - loss: 0.0855 - categorical_accuracy: 0.4578 - val_loss: 0.0854 - val_categorical_accuracy: 0.4865\n",
      "Epoch 38/1000\n",
      "48000/48000 [==============================] - 3s 53us/step - loss: 0.0853 - categorical_accuracy: 0.4573 - val_loss: 0.0852 - val_categorical_accuracy: 0.4722\n",
      "Epoch 39/1000\n",
      "48000/48000 [==============================] - 3s 53us/step - loss: 0.0851 - categorical_accuracy: 0.4613 - val_loss: 0.0849 - val_categorical_accuracy: 0.4423\n",
      "Epoch 40/1000\n",
      "48000/48000 [==============================] - 3s 54us/step - loss: 0.0848 - categorical_accuracy: 0.4619 - val_loss: 0.0847 - val_categorical_accuracy: 0.4558\n",
      "Epoch 41/1000\n",
      "48000/48000 [==============================] - 3s 59us/step - loss: 0.0845 - categorical_accuracy: 0.4658 - val_loss: 0.0844 - val_categorical_accuracy: 0.4517\n",
      "Epoch 42/1000\n",
      "48000/48000 [==============================] - 3s 57us/step - loss: 0.0842 - categorical_accuracy: 0.4645 - val_loss: 0.0841 - val_categorical_accuracy: 0.4937\n",
      "Epoch 43/1000\n",
      "48000/48000 [==============================] - 3s 55us/step - loss: 0.0839 - categorical_accuracy: 0.4625 - val_loss: 0.0838 - val_categorical_accuracy: 0.4877\n",
      "Epoch 44/1000\n",
      "48000/48000 [==============================] - 3s 58us/step - loss: 0.0836 - categorical_accuracy: 0.4656 - val_loss: 0.0835 - val_categorical_accuracy: 0.4570\n",
      "Epoch 45/1000\n",
      "48000/48000 [==============================] - 3s 55us/step - loss: 0.0833 - categorical_accuracy: 0.4639 - val_loss: 0.0831 - val_categorical_accuracy: 0.4811\n",
      "Epoch 46/1000\n",
      "48000/48000 [==============================] - 3s 54us/step - loss: 0.0830 - categorical_accuracy: 0.4655 - val_loss: 0.0828 - val_categorical_accuracy: 0.4779\n",
      "Epoch 47/1000\n",
      "48000/48000 [==============================] - 3s 53us/step - loss: 0.0826 - categorical_accuracy: 0.4606 - val_loss: 0.0824 - val_categorical_accuracy: 0.4734\n"
     ]
    },
    {
     "name": "stdout",
     "output_type": "stream",
     "text": [
      "Epoch 48/1000\n",
      "48000/48000 [==============================] - 2s 49us/step - loss: 0.0822 - categorical_accuracy: 0.4598 - val_loss: 0.0821 - val_categorical_accuracy: 0.4462\n",
      "Epoch 49/1000\n",
      "48000/48000 [==============================] - 2s 51us/step - loss: 0.0818 - categorical_accuracy: 0.4544 - val_loss: 0.0817 - val_categorical_accuracy: 0.4467\n",
      "Epoch 50/1000\n",
      "48000/48000 [==============================] - 3s 56us/step - loss: 0.0814 - categorical_accuracy: 0.4529 - val_loss: 0.0813 - val_categorical_accuracy: 0.4932\n",
      "Epoch 51/1000\n",
      "48000/48000 [==============================] - 2s 51us/step - loss: 0.0810 - categorical_accuracy: 0.4599 - val_loss: 0.0808 - val_categorical_accuracy: 0.4312\n",
      "Epoch 52/1000\n",
      "48000/48000 [==============================] - 2s 49us/step - loss: 0.0806 - categorical_accuracy: 0.4509 - val_loss: 0.0804 - val_categorical_accuracy: 0.4513\n",
      "Epoch 53/1000\n",
      "48000/48000 [==============================] - 3s 55us/step - loss: 0.0802 - categorical_accuracy: 0.4513 - val_loss: 0.0799 - val_categorical_accuracy: 0.4393\n",
      "Epoch 54/1000\n",
      "48000/48000 [==============================] - 3s 57us/step - loss: 0.0797 - categorical_accuracy: 0.4516 - val_loss: 0.0795 - val_categorical_accuracy: 0.4432\n",
      "Epoch 55/1000\n",
      "48000/48000 [==============================] - 3s 54us/step - loss: 0.0792 - categorical_accuracy: 0.4477 - val_loss: 0.0790 - val_categorical_accuracy: 0.4666\n",
      "Epoch 56/1000\n",
      "48000/48000 [==============================] - 3s 56us/step - loss: 0.0788 - categorical_accuracy: 0.4498 - val_loss: 0.0786 - val_categorical_accuracy: 0.4506\n",
      "Epoch 57/1000\n",
      "48000/48000 [==============================] - 3s 55us/step - loss: 0.0783 - categorical_accuracy: 0.4520 - val_loss: 0.0781 - val_categorical_accuracy: 0.4398\n",
      "Epoch 58/1000\n",
      "48000/48000 [==============================] - 3s 56us/step - loss: 0.0778 - categorical_accuracy: 0.4489 - val_loss: 0.0776 - val_categorical_accuracy: 0.4602\n",
      "Epoch 59/1000\n",
      "48000/48000 [==============================] - 3s 56us/step - loss: 0.0773 - categorical_accuracy: 0.4501 - val_loss: 0.0771 - val_categorical_accuracy: 0.4304\n",
      "Epoch 60/1000\n",
      "48000/48000 [==============================] - 3s 56us/step - loss: 0.0769 - categorical_accuracy: 0.4469 - val_loss: 0.0767 - val_categorical_accuracy: 0.4452\n",
      "Epoch 61/1000\n",
      "48000/48000 [==============================] - 3s 58us/step - loss: 0.0764 - categorical_accuracy: 0.4480 - val_loss: 0.0762 - val_categorical_accuracy: 0.4803\n",
      "Epoch 62/1000\n",
      "48000/48000 [==============================] - 3s 56us/step - loss: 0.0759 - categorical_accuracy: 0.4495 - val_loss: 0.0758 - val_categorical_accuracy: 0.4132\n",
      "Epoch 63/1000\n",
      "48000/48000 [==============================] - 3s 58us/step - loss: 0.0755 - categorical_accuracy: 0.4493 - val_loss: 0.0753 - val_categorical_accuracy: 0.4377\n",
      "Epoch 64/1000\n",
      "48000/48000 [==============================] - 3s 61us/step - loss: 0.0751 - categorical_accuracy: 0.4445 - val_loss: 0.0749 - val_categorical_accuracy: 0.4117\n",
      "Epoch 65/1000\n",
      "48000/48000 [==============================] - 2s 52us/step - loss: 0.0746 - categorical_accuracy: 0.4500 - val_loss: 0.0745 - val_categorical_accuracy: 0.4572\n",
      "Epoch 66/1000\n",
      "48000/48000 [==============================] - 3s 59us/step - loss: 0.0743 - categorical_accuracy: 0.4531 - val_loss: 0.0741 - val_categorical_accuracy: 0.4993\n",
      "Epoch 67/1000\n",
      "48000/48000 [==============================] - 3s 53us/step - loss: 0.0739 - categorical_accuracy: 0.4555 - val_loss: 0.0738 - val_categorical_accuracy: 0.4419\n",
      "Epoch 68/1000\n",
      "48000/48000 [==============================] - 2s 52us/step - loss: 0.0735 - categorical_accuracy: 0.4498 - val_loss: 0.0735 - val_categorical_accuracy: 0.4931\n",
      "Epoch 69/1000\n",
      "48000/48000 [==============================] - 3s 56us/step - loss: 0.0732 - categorical_accuracy: 0.4618 - val_loss: 0.0732 - val_categorical_accuracy: 0.4258\n",
      "Epoch 70/1000\n",
      "48000/48000 [==============================] - 3s 63us/step - loss: 0.0729 - categorical_accuracy: 0.4556 - val_loss: 0.0729 - val_categorical_accuracy: 0.4585\n",
      "Epoch 71/1000\n",
      "48000/48000 [==============================] - 3s 57us/step - loss: 0.0726 - categorical_accuracy: 0.4612 - val_loss: 0.0726 - val_categorical_accuracy: 0.4595\n",
      "Epoch 72/1000\n",
      "48000/48000 [==============================] - 4s 77us/step - loss: 0.0723 - categorical_accuracy: 0.4630 - val_loss: 0.0723 - val_categorical_accuracy: 0.4552\n",
      "Epoch 73/1000\n",
      "48000/48000 [==============================] - 3s 59us/step - loss: 0.0721 - categorical_accuracy: 0.4633 - val_loss: 0.0720 - val_categorical_accuracy: 0.4722\n",
      "Epoch 74/1000\n",
      "48000/48000 [==============================] - 2s 49us/step - loss: 0.0718 - categorical_accuracy: 0.4708 - val_loss: 0.0718 - val_categorical_accuracy: 0.4723\n",
      "Epoch 75/1000\n",
      "48000/48000 [==============================] - 2s 47us/step - loss: 0.0716 - categorical_accuracy: 0.4705 - val_loss: 0.0716 - val_categorical_accuracy: 0.4658\n",
      "Epoch 76/1000\n",
      "48000/48000 [==============================] - 2s 46us/step - loss: 0.0713 - categorical_accuracy: 0.4791 - val_loss: 0.0714 - val_categorical_accuracy: 0.4805\n",
      "Epoch 77/1000\n",
      "48000/48000 [==============================] - 2s 48us/step - loss: 0.0711 - categorical_accuracy: 0.4804 - val_loss: 0.0712 - val_categorical_accuracy: 0.4735\n",
      "Epoch 78/1000\n",
      "48000/48000 [==============================] - 2s 50us/step - loss: 0.0709 - categorical_accuracy: 0.4825 - val_loss: 0.0710 - val_categorical_accuracy: 0.4646\n",
      "Epoch 79/1000\n",
      "48000/48000 [==============================] - 2s 48us/step - loss: 0.0707 - categorical_accuracy: 0.4881 - val_loss: 0.0708 - val_categorical_accuracy: 0.5067\n",
      "Epoch 80/1000\n",
      "48000/48000 [==============================] - 2s 48us/step - loss: 0.0705 - categorical_accuracy: 0.4981 - val_loss: 0.0705 - val_categorical_accuracy: 0.5117\n",
      "Epoch 81/1000\n",
      "48000/48000 [==============================] - 2s 46us/step - loss: 0.0703 - categorical_accuracy: 0.5019 - val_loss: 0.0704 - val_categorical_accuracy: 0.5173\n",
      "Epoch 82/1000\n",
      "48000/48000 [==============================] - 2s 49us/step - loss: 0.0701 - categorical_accuracy: 0.5078 - val_loss: 0.0702 - val_categorical_accuracy: 0.5207\n",
      "Epoch 83/1000\n",
      "48000/48000 [==============================] - 2s 51us/step - loss: 0.0699 - categorical_accuracy: 0.5137 - val_loss: 0.0700 - val_categorical_accuracy: 0.5197\n",
      "Epoch 84/1000\n",
      "48000/48000 [==============================] - 2s 46us/step - loss: 0.0697 - categorical_accuracy: 0.5166 - val_loss: 0.0698 - val_categorical_accuracy: 0.5628\n",
      "Epoch 85/1000\n",
      "48000/48000 [==============================] - 2s 47us/step - loss: 0.0695 - categorical_accuracy: 0.5211 - val_loss: 0.0696 - val_categorical_accuracy: 0.5147\n",
      "Epoch 86/1000\n",
      "48000/48000 [==============================] - 2s 47us/step - loss: 0.0693 - categorical_accuracy: 0.5265 - val_loss: 0.0694 - val_categorical_accuracy: 0.5065\n",
      "Epoch 87/1000\n",
      "48000/48000 [==============================] - 2s 46us/step - loss: 0.0691 - categorical_accuracy: 0.5298 - val_loss: 0.0692 - val_categorical_accuracy: 0.5498\n",
      "Epoch 88/1000\n",
      "48000/48000 [==============================] - 2s 48us/step - loss: 0.0689 - categorical_accuracy: 0.5395 - val_loss: 0.0690 - val_categorical_accuracy: 0.5298\n",
      "Epoch 89/1000\n",
      "48000/48000 [==============================] - 2s 46us/step - loss: 0.0687 - categorical_accuracy: 0.5409 - val_loss: 0.0688 - val_categorical_accuracy: 0.5653\n",
      "Epoch 90/1000\n",
      "48000/48000 [==============================] - 2s 46us/step - loss: 0.0685 - categorical_accuracy: 0.5490 - val_loss: 0.0686 - val_categorical_accuracy: 0.5352\n",
      "Epoch 91/1000\n",
      "48000/48000 [==============================] - 2s 48us/step - loss: 0.0683 - categorical_accuracy: 0.5519 - val_loss: 0.0684 - val_categorical_accuracy: 0.5558\n",
      "Epoch 92/1000\n",
      "48000/48000 [==============================] - 2s 47us/step - loss: 0.0681 - categorical_accuracy: 0.5549 - val_loss: 0.0682 - val_categorical_accuracy: 0.5758\n",
      "Epoch 93/1000\n",
      "48000/48000 [==============================] - 2s 49us/step - loss: 0.0679 - categorical_accuracy: 0.5588 - val_loss: 0.0680 - val_categorical_accuracy: 0.5616\n",
      "Epoch 94/1000\n",
      "48000/48000 [==============================] - 2s 52us/step - loss: 0.0677 - categorical_accuracy: 0.5635 - val_loss: 0.0678 - val_categorical_accuracy: 0.5581\n",
      "Epoch 95/1000\n",
      "48000/48000 [==============================] - 2s 50us/step - loss: 0.0675 - categorical_accuracy: 0.5655 - val_loss: 0.0677 - val_categorical_accuracy: 0.5752\n",
      "Epoch 96/1000\n",
      "48000/48000 [==============================] - 3s 58us/step - loss: 0.0673 - categorical_accuracy: 0.5705 - val_loss: 0.0674 - val_categorical_accuracy: 0.5573\n",
      "Epoch 97/1000\n",
      "48000/48000 [==============================] - 3s 53us/step - loss: 0.0671 - categorical_accuracy: 0.5739 - val_loss: 0.0672 - val_categorical_accuracy: 0.5761\n",
      "Epoch 98/1000\n",
      "48000/48000 [==============================] - 3s 53us/step - loss: 0.0669 - categorical_accuracy: 0.5770 - val_loss: 0.0671 - val_categorical_accuracy: 0.5806\n",
      "Epoch 99/1000\n",
      "48000/48000 [==============================] - 2s 49us/step - loss: 0.0668 - categorical_accuracy: 0.5813 - val_loss: 0.0669 - val_categorical_accuracy: 0.5895\n",
      "Epoch 100/1000\n",
      "48000/48000 [==============================] - 3s 53us/step - loss: 0.0666 - categorical_accuracy: 0.5826 - val_loss: 0.0667 - val_categorical_accuracy: 0.5910\n",
      "Epoch 101/1000\n",
      "48000/48000 [==============================] - 3s 53us/step - loss: 0.0664 - categorical_accuracy: 0.5881 - val_loss: 0.0665 - val_categorical_accuracy: 0.6147\n",
      "Epoch 102/1000\n",
      "48000/48000 [==============================] - 2s 52us/step - loss: 0.0662 - categorical_accuracy: 0.5914 - val_loss: 0.0664 - val_categorical_accuracy: 0.6003\n",
      "Epoch 103/1000\n",
      "48000/48000 [==============================] - 2s 46us/step - loss: 0.0661 - categorical_accuracy: 0.5941 - val_loss: 0.0662 - val_categorical_accuracy: 0.5942\n",
      "Epoch 104/1000\n",
      "48000/48000 [==============================] - 2s 52us/step - loss: 0.0659 - categorical_accuracy: 0.5942 - val_loss: 0.0661 - val_categorical_accuracy: 0.6008\n",
      "Epoch 105/1000\n",
      "48000/48000 [==============================] - 3s 59us/step - loss: 0.0657 - categorical_accuracy: 0.5991 - val_loss: 0.0659 - val_categorical_accuracy: 0.5969\n",
      "Epoch 106/1000\n",
      "48000/48000 [==============================] - 3s 58us/step - loss: 0.0656 - categorical_accuracy: 0.5990 - val_loss: 0.0658 - val_categorical_accuracy: 0.5989\n",
      "Epoch 107/1000\n",
      "48000/48000 [==============================] - 3s 56us/step - loss: 0.0654 - categorical_accuracy: 0.6037 - val_loss: 0.0656 - val_categorical_accuracy: 0.6050\n",
      "Epoch 108/1000\n",
      "48000/48000 [==============================] - 3s 63us/step - loss: 0.0653 - categorical_accuracy: 0.6050 - val_loss: 0.0655 - val_categorical_accuracy: 0.6089\n",
      "Epoch 109/1000\n",
      "48000/48000 [==============================] - 3s 64us/step - loss: 0.0652 - categorical_accuracy: 0.6067 - val_loss: 0.0654 - val_categorical_accuracy: 0.6132\n",
      "Epoch 110/1000\n",
      "48000/48000 [==============================] - 3s 68us/step - loss: 0.0650 - categorical_accuracy: 0.6095 - val_loss: 0.0652 - val_categorical_accuracy: 0.6155\n",
      "Epoch 111/1000\n",
      "48000/48000 [==============================] - 2s 50us/step - loss: 0.0649 - categorical_accuracy: 0.6114 - val_loss: 0.0651 - val_categorical_accuracy: 0.6151\n",
      "Epoch 112/1000\n",
      "48000/48000 [==============================] - 2s 48us/step - loss: 0.0648 - categorical_accuracy: 0.6140 - val_loss: 0.0650 - val_categorical_accuracy: 0.6212\n",
      "Epoch 113/1000\n",
      "48000/48000 [==============================] - 2s 47us/step - loss: 0.0647 - categorical_accuracy: 0.6156 - val_loss: 0.0649 - val_categorical_accuracy: 0.6205\n",
      "Epoch 114/1000\n",
      "48000/48000 [==============================] - 3s 55us/step - loss: 0.0645 - categorical_accuracy: 0.6165 - val_loss: 0.0648 - val_categorical_accuracy: 0.6278\n",
      "Epoch 115/1000\n",
      "48000/48000 [==============================] - 2s 49us/step - loss: 0.0644 - categorical_accuracy: 0.6199 - val_loss: 0.0647 - val_categorical_accuracy: 0.6232\n",
      "Epoch 116/1000\n",
      "48000/48000 [==============================] - 2s 49us/step - loss: 0.0643 - categorical_accuracy: 0.6222 - val_loss: 0.0646 - val_categorical_accuracy: 0.6152\n",
      "Epoch 117/1000\n",
      "48000/48000 [==============================] - 2s 49us/step - loss: 0.0642 - categorical_accuracy: 0.6219 - val_loss: 0.0645 - val_categorical_accuracy: 0.6210\n",
      "Epoch 118/1000\n",
      "48000/48000 [==============================] - 2s 46us/step - loss: 0.0641 - categorical_accuracy: 0.6229 - val_loss: 0.0644 - val_categorical_accuracy: 0.6273\n",
      "Epoch 119/1000\n",
      "48000/48000 [==============================] - 2s 46us/step - loss: 0.0640 - categorical_accuracy: 0.6259 - val_loss: 0.0643 - val_categorical_accuracy: 0.5990\n",
      "Epoch 120/1000\n",
      "48000/48000 [==============================] - 2s 46us/step - loss: 0.0639 - categorical_accuracy: 0.6253 - val_loss: 0.0642 - val_categorical_accuracy: 0.6298\n",
      "Epoch 121/1000\n",
      "48000/48000 [==============================] - 2s 46us/step - loss: 0.0638 - categorical_accuracy: 0.6288 - val_loss: 0.0641 - val_categorical_accuracy: 0.6303\n",
      "Epoch 122/1000\n",
      "48000/48000 [==============================] - 2s 46us/step - loss: 0.0637 - categorical_accuracy: 0.6297 - val_loss: 0.0640 - val_categorical_accuracy: 0.6290\n",
      "Epoch 123/1000\n",
      "48000/48000 [==============================] - 2s 46us/step - loss: 0.0637 - categorical_accuracy: 0.6310 - val_loss: 0.0639 - val_categorical_accuracy: 0.6098\n",
      "Epoch 124/1000\n",
      "48000/48000 [==============================] - 2s 47us/step - loss: 0.0636 - categorical_accuracy: 0.6317 - val_loss: 0.0638 - val_categorical_accuracy: 0.6153\n",
      "Epoch 125/1000\n",
      "48000/48000 [==============================] - 2s 47us/step - loss: 0.0635 - categorical_accuracy: 0.6335 - val_loss: 0.0638 - val_categorical_accuracy: 0.6319\n",
      "Epoch 126/1000\n",
      "48000/48000 [==============================] - 2s 47us/step - loss: 0.0634 - categorical_accuracy: 0.6352 - val_loss: 0.0637 - val_categorical_accuracy: 0.6258\n",
      "Epoch 127/1000\n",
      "48000/48000 [==============================] - 2s 48us/step - loss: 0.0633 - categorical_accuracy: 0.6382 - val_loss: 0.0636 - val_categorical_accuracy: 0.6213\n",
      "Epoch 128/1000\n",
      "48000/48000 [==============================] - 2s 47us/step - loss: 0.0632 - categorical_accuracy: 0.6366 - val_loss: 0.0635 - val_categorical_accuracy: 0.6468\n",
      "Epoch 129/1000\n",
      "48000/48000 [==============================] - 2s 51us/step - loss: 0.0631 - categorical_accuracy: 0.6392 - val_loss: 0.0634 - val_categorical_accuracy: 0.6514\n",
      "Epoch 130/1000\n",
      "48000/48000 [==============================] - 2s 51us/step - loss: 0.0630 - categorical_accuracy: 0.6404 - val_loss: 0.0633 - val_categorical_accuracy: 0.6448\n",
      "Epoch 131/1000\n",
      "48000/48000 [==============================] - 3s 61us/step - loss: 0.0629 - categorical_accuracy: 0.6399 - val_loss: 0.0633 - val_categorical_accuracy: 0.6619\n",
      "Epoch 132/1000\n",
      "48000/48000 [==============================] - 2s 49us/step - loss: 0.0629 - categorical_accuracy: 0.6435 - val_loss: 0.0632 - val_categorical_accuracy: 0.6346\n",
      "Epoch 133/1000\n",
      "48000/48000 [==============================] - 2s 47us/step - loss: 0.0628 - categorical_accuracy: 0.6450 - val_loss: 0.0631 - val_categorical_accuracy: 0.6542\n",
      "Epoch 134/1000\n",
      "48000/48000 [==============================] - 2s 47us/step - loss: 0.0627 - categorical_accuracy: 0.6472 - val_loss: 0.0630 - val_categorical_accuracy: 0.6298\n",
      "Epoch 135/1000\n",
      "48000/48000 [==============================] - 2s 47us/step - loss: 0.0626 - categorical_accuracy: 0.6463 - val_loss: 0.0629 - val_categorical_accuracy: 0.6572\n",
      "Epoch 136/1000\n",
      "48000/48000 [==============================] - 3s 62us/step - loss: 0.0625 - categorical_accuracy: 0.6512 - val_loss: 0.0629 - val_categorical_accuracy: 0.6402\n",
      "Epoch 137/1000\n",
      "48000/48000 [==============================] - 3s 57us/step - loss: 0.0624 - categorical_accuracy: 0.6477 - val_loss: 0.0627 - val_categorical_accuracy: 0.6622\n",
      "Epoch 138/1000\n",
      "48000/48000 [==============================] - 3s 55us/step - loss: 0.0623 - categorical_accuracy: 0.6542 - val_loss: 0.0627 - val_categorical_accuracy: 0.6442\n",
      "Epoch 139/1000\n",
      "48000/48000 [==============================] - 2s 47us/step - loss: 0.0622 - categorical_accuracy: 0.6573 - val_loss: 0.0626 - val_categorical_accuracy: 0.6338\n",
      "Epoch 140/1000\n",
      "48000/48000 [==============================] - 2s 50us/step - loss: 0.0622 - categorical_accuracy: 0.6541 - val_loss: 0.0625 - val_categorical_accuracy: 0.6622\n",
      "Epoch 141/1000\n",
      "48000/48000 [==============================] - 3s 56us/step - loss: 0.0621 - categorical_accuracy: 0.6571 - val_loss: 0.0624 - val_categorical_accuracy: 0.6354\n"
     ]
    },
    {
     "name": "stdout",
     "output_type": "stream",
     "text": [
      "Epoch 142/1000\n",
      "48000/48000 [==============================] - 3s 59us/step - loss: 0.0620 - categorical_accuracy: 0.6591 - val_loss: 0.0623 - val_categorical_accuracy: 0.6737\n",
      "Epoch 143/1000\n",
      "48000/48000 [==============================] - 2s 49us/step - loss: 0.0619 - categorical_accuracy: 0.6601 - val_loss: 0.0622 - val_categorical_accuracy: 0.6561\n",
      "Epoch 144/1000\n",
      "48000/48000 [==============================] - 3s 57us/step - loss: 0.0618 - categorical_accuracy: 0.6633 - val_loss: 0.0621 - val_categorical_accuracy: 0.6538\n",
      "Epoch 145/1000\n",
      "48000/48000 [==============================] - 2s 50us/step - loss: 0.0617 - categorical_accuracy: 0.6611 - val_loss: 0.0620 - val_categorical_accuracy: 0.6542\n",
      "Epoch 146/1000\n",
      "48000/48000 [==============================] - 3s 55us/step - loss: 0.0616 - categorical_accuracy: 0.6671 - val_loss: 0.0619 - val_categorical_accuracy: 0.6542\n",
      "Epoch 147/1000\n",
      "48000/48000 [==============================] - 4s 78us/step - loss: 0.0614 - categorical_accuracy: 0.6662 - val_loss: 0.0618 - val_categorical_accuracy: 0.6838\n",
      "Epoch 148/1000\n",
      "48000/48000 [==============================] - 3s 60us/step - loss: 0.0613 - categorical_accuracy: 0.6725 - val_loss: 0.0617 - val_categorical_accuracy: 0.6423\n",
      "Epoch 149/1000\n",
      "48000/48000 [==============================] - 2s 50us/step - loss: 0.0612 - categorical_accuracy: 0.6697 - val_loss: 0.0616 - val_categorical_accuracy: 0.6660\n",
      "Epoch 150/1000\n",
      "48000/48000 [==============================] - 2s 52us/step - loss: 0.0611 - categorical_accuracy: 0.6766 - val_loss: 0.0614 - val_categorical_accuracy: 0.6712\n",
      "Epoch 151/1000\n",
      "48000/48000 [==============================] - 3s 55us/step - loss: 0.0610 - categorical_accuracy: 0.6778 - val_loss: 0.0613 - val_categorical_accuracy: 0.6633\n",
      "Epoch 152/1000\n",
      "48000/48000 [==============================] - 2s 52us/step - loss: 0.0609 - categorical_accuracy: 0.6790 - val_loss: 0.0612 - val_categorical_accuracy: 0.7072\n",
      "Epoch 153/1000\n",
      "48000/48000 [==============================] - 2s 50us/step - loss: 0.0607 - categorical_accuracy: 0.6806 - val_loss: 0.0611 - val_categorical_accuracy: 0.6923\n",
      "Epoch 154/1000\n",
      "48000/48000 [==============================] - 3s 53us/step - loss: 0.0606 - categorical_accuracy: 0.6876 - val_loss: 0.0610 - val_categorical_accuracy: 0.6769\n",
      "Epoch 155/1000\n",
      "48000/48000 [==============================] - 2s 46us/step - loss: 0.0605 - categorical_accuracy: 0.6853 - val_loss: 0.0609 - val_categorical_accuracy: 0.6773\n",
      "Epoch 156/1000\n",
      "48000/48000 [==============================] - 2s 50us/step - loss: 0.0604 - categorical_accuracy: 0.6888 - val_loss: 0.0607 - val_categorical_accuracy: 0.6773\n",
      "Epoch 157/1000\n",
      "48000/48000 [==============================] - 2s 49us/step - loss: 0.0602 - categorical_accuracy: 0.6889 - val_loss: 0.0606 - val_categorical_accuracy: 0.6780\n",
      "Epoch 158/1000\n",
      "48000/48000 [==============================] - 2s 46us/step - loss: 0.0601 - categorical_accuracy: 0.6909 - val_loss: 0.0605 - val_categorical_accuracy: 0.6931\n",
      "Epoch 159/1000\n",
      "48000/48000 [==============================] - 2s 45us/step - loss: 0.0600 - categorical_accuracy: 0.6920 - val_loss: 0.0603 - val_categorical_accuracy: 0.7245\n",
      "Epoch 160/1000\n",
      "48000/48000 [==============================] - 3s 55us/step - loss: 0.0599 - categorical_accuracy: 0.6988 - val_loss: 0.0602 - val_categorical_accuracy: 0.6911\n",
      "Epoch 161/1000\n",
      "48000/48000 [==============================] - 2s 50us/step - loss: 0.0597 - categorical_accuracy: 0.6964 - val_loss: 0.0601 - val_categorical_accuracy: 0.7073\n",
      "Epoch 162/1000\n",
      "48000/48000 [==============================] - 3s 53us/step - loss: 0.0596 - categorical_accuracy: 0.6989 - val_loss: 0.0599 - val_categorical_accuracy: 0.6957\n",
      "Epoch 163/1000\n",
      "48000/48000 [==============================] - 3s 53us/step - loss: 0.0595 - categorical_accuracy: 0.7043 - val_loss: 0.0598 - val_categorical_accuracy: 0.6956\n",
      "Epoch 164/1000\n",
      "48000/48000 [==============================] - 3s 62us/step - loss: 0.0593 - categorical_accuracy: 0.7048 - val_loss: 0.0597 - val_categorical_accuracy: 0.7257\n",
      "Epoch 165/1000\n",
      "48000/48000 [==============================] - 2s 47us/step - loss: 0.0592 - categorical_accuracy: 0.7058 - val_loss: 0.0596 - val_categorical_accuracy: 0.7148\n",
      "Epoch 166/1000\n",
      "48000/48000 [==============================] - 3s 53us/step - loss: 0.0590 - categorical_accuracy: 0.7071 - val_loss: 0.0594 - val_categorical_accuracy: 0.7372\n",
      "Epoch 167/1000\n",
      "48000/48000 [==============================] - 2s 45us/step - loss: 0.0589 - categorical_accuracy: 0.7160 - val_loss: 0.0593 - val_categorical_accuracy: 0.7110\n",
      "Epoch 168/1000\n",
      "48000/48000 [==============================] - 2s 47us/step - loss: 0.0588 - categorical_accuracy: 0.7139 - val_loss: 0.0591 - val_categorical_accuracy: 0.7107\n",
      "Epoch 169/1000\n",
      "48000/48000 [==============================] - 2s 48us/step - loss: 0.0586 - categorical_accuracy: 0.7147 - val_loss: 0.0590 - val_categorical_accuracy: 0.7108\n",
      "Epoch 170/1000\n",
      "48000/48000 [==============================] - 2s 45us/step - loss: 0.0585 - categorical_accuracy: 0.7171 - val_loss: 0.0588 - val_categorical_accuracy: 0.7026\n",
      "Epoch 171/1000\n",
      "48000/48000 [==============================] - 2s 49us/step - loss: 0.0583 - categorical_accuracy: 0.7165 - val_loss: 0.0587 - val_categorical_accuracy: 0.7198\n",
      "Epoch 172/1000\n",
      "48000/48000 [==============================] - 2s 46us/step - loss: 0.0582 - categorical_accuracy: 0.7234 - val_loss: 0.0586 - val_categorical_accuracy: 0.7108\n",
      "Epoch 173/1000\n",
      "48000/48000 [==============================] - 2s 44us/step - loss: 0.0581 - categorical_accuracy: 0.7208 - val_loss: 0.0584 - val_categorical_accuracy: 0.7256\n",
      "Epoch 174/1000\n",
      "48000/48000 [==============================] - 2s 49us/step - loss: 0.0579 - categorical_accuracy: 0.7263 - val_loss: 0.0583 - val_categorical_accuracy: 0.7153\n",
      "Epoch 175/1000\n",
      "48000/48000 [==============================] - 2s 45us/step - loss: 0.0578 - categorical_accuracy: 0.7232 - val_loss: 0.0582 - val_categorical_accuracy: 0.7248\n",
      "Epoch 176/1000\n",
      "48000/48000 [==============================] - 2s 46us/step - loss: 0.0577 - categorical_accuracy: 0.7228 - val_loss: 0.0580 - val_categorical_accuracy: 0.7224\n",
      "Epoch 177/1000\n",
      "48000/48000 [==============================] - 2s 45us/step - loss: 0.0575 - categorical_accuracy: 0.7287 - val_loss: 0.0579 - val_categorical_accuracy: 0.7266\n",
      "Epoch 178/1000\n",
      "48000/48000 [==============================] - 2s 45us/step - loss: 0.0574 - categorical_accuracy: 0.7303 - val_loss: 0.0578 - val_categorical_accuracy: 0.7303\n",
      "Epoch 179/1000\n",
      "48000/48000 [==============================] - 2s 45us/step - loss: 0.0573 - categorical_accuracy: 0.7313 - val_loss: 0.0577 - val_categorical_accuracy: 0.7228\n",
      "Epoch 180/1000\n",
      "48000/48000 [==============================] - 2s 45us/step - loss: 0.0571 - categorical_accuracy: 0.7320 - val_loss: 0.0576 - val_categorical_accuracy: 0.7320\n",
      "Epoch 181/1000\n",
      "48000/48000 [==============================] - 2s 45us/step - loss: 0.0570 - categorical_accuracy: 0.7335 - val_loss: 0.0575 - val_categorical_accuracy: 0.7376\n",
      "Epoch 182/1000\n",
      "48000/48000 [==============================] - 2s 48us/step - loss: 0.0569 - categorical_accuracy: 0.7358 - val_loss: 0.0573 - val_categorical_accuracy: 0.7202\n",
      "Epoch 183/1000\n",
      "48000/48000 [==============================] - 2s 50us/step - loss: 0.0568 - categorical_accuracy: 0.7348 - val_loss: 0.0572 - val_categorical_accuracy: 0.7378\n",
      "Epoch 184/1000\n",
      "48000/48000 [==============================] - 2s 48us/step - loss: 0.0567 - categorical_accuracy: 0.7386 - val_loss: 0.0571 - val_categorical_accuracy: 0.7373\n",
      "Epoch 185/1000\n",
      "48000/48000 [==============================] - 2s 45us/step - loss: 0.0566 - categorical_accuracy: 0.7405 - val_loss: 0.0570 - val_categorical_accuracy: 0.7392\n",
      "Epoch 186/1000\n",
      "48000/48000 [==============================] - 2s 47us/step - loss: 0.0565 - categorical_accuracy: 0.7427 - val_loss: 0.0569 - val_categorical_accuracy: 0.7432\n",
      "Epoch 187/1000\n",
      "48000/48000 [==============================] - 2s 47us/step - loss: 0.0564 - categorical_accuracy: 0.7480 - val_loss: 0.0568 - val_categorical_accuracy: 0.7377\n",
      "Epoch 188/1000\n",
      "48000/48000 [==============================] - 2s 45us/step - loss: 0.0562 - categorical_accuracy: 0.7427 - val_loss: 0.0567 - val_categorical_accuracy: 0.7380\n"
     ]
    },
    {
     "name": "stdout",
     "output_type": "stream",
     "text": [
      "Epoch 189/1000\n",
      "48000/48000 [==============================] - 2s 47us/step - loss: 0.0562 - categorical_accuracy: 0.7456 - val_loss: 0.0566 - val_categorical_accuracy: 0.7373\n",
      "Epoch 190/1000\n",
      "48000/48000 [==============================] - 2s 47us/step - loss: 0.0561 - categorical_accuracy: 0.7476 - val_loss: 0.0566 - val_categorical_accuracy: 0.7372\n",
      "Epoch 191/1000\n",
      "48000/48000 [==============================] - 2s 48us/step - loss: 0.0560 - categorical_accuracy: 0.7513 - val_loss: 0.0564 - val_categorical_accuracy: 0.7441\n",
      "Epoch 192/1000\n",
      "48000/48000 [==============================] - 2s 50us/step - loss: 0.0559 - categorical_accuracy: 0.7498 - val_loss: 0.0564 - val_categorical_accuracy: 0.7353\n",
      "Epoch 193/1000\n",
      "48000/48000 [==============================] - 2s 48us/step - loss: 0.0558 - categorical_accuracy: 0.7495 - val_loss: 0.0563 - val_categorical_accuracy: 0.7379\n",
      "Epoch 194/1000\n",
      "48000/48000 [==============================] - 3s 52us/step - loss: 0.0557 - categorical_accuracy: 0.7486 - val_loss: 0.0562 - val_categorical_accuracy: 0.7337\n",
      "Epoch 195/1000\n",
      "48000/48000 [==============================] - 2s 51us/step - loss: 0.0556 - categorical_accuracy: 0.7492 - val_loss: 0.0561 - val_categorical_accuracy: 0.7441\n",
      "Epoch 196/1000\n",
      "48000/48000 [==============================] - 2s 50us/step - loss: 0.0555 - categorical_accuracy: 0.7488 - val_loss: 0.0561 - val_categorical_accuracy: 0.7470\n",
      "Epoch 197/1000\n",
      "48000/48000 [==============================] - 2s 47us/step - loss: 0.0555 - categorical_accuracy: 0.7516 - val_loss: 0.0560 - val_categorical_accuracy: 0.7362\n",
      "Epoch 198/1000\n",
      "48000/48000 [==============================] - 2s 49us/step - loss: 0.0554 - categorical_accuracy: 0.7528 - val_loss: 0.0559 - val_categorical_accuracy: 0.7632\n",
      "Epoch 199/1000\n",
      "48000/48000 [==============================] - 2s 48us/step - loss: 0.0553 - categorical_accuracy: 0.7536 - val_loss: 0.0559 - val_categorical_accuracy: 0.7397\n",
      "Epoch 200/1000\n",
      "48000/48000 [==============================] - 2s 47us/step - loss: 0.0552 - categorical_accuracy: 0.7516 - val_loss: 0.0558 - val_categorical_accuracy: 0.7458\n",
      "Epoch 201/1000\n",
      "48000/48000 [==============================] - 2s 47us/step - loss: 0.0552 - categorical_accuracy: 0.7544 - val_loss: 0.0557 - val_categorical_accuracy: 0.7488\n",
      "Epoch 202/1000\n",
      "48000/48000 [==============================] - 2s 49us/step - loss: 0.0551 - categorical_accuracy: 0.7556 - val_loss: 0.0557 - val_categorical_accuracy: 0.7385\n",
      "Epoch 203/1000\n",
      "48000/48000 [==============================] - 2s 47us/step - loss: 0.0550 - categorical_accuracy: 0.7539 - val_loss: 0.0556 - val_categorical_accuracy: 0.7437\n",
      "Epoch 204/1000\n",
      "48000/48000 [==============================] - 2s 48us/step - loss: 0.0550 - categorical_accuracy: 0.7547 - val_loss: 0.0556 - val_categorical_accuracy: 0.7708\n",
      "Epoch 205/1000\n",
      "48000/48000 [==============================] - 2s 49us/step - loss: 0.0549 - categorical_accuracy: 0.7552 - val_loss: 0.0555 - val_categorical_accuracy: 0.7377\n",
      "Epoch 206/1000\n",
      "48000/48000 [==============================] - 2s 48us/step - loss: 0.0548 - categorical_accuracy: 0.7525 - val_loss: 0.0554 - val_categorical_accuracy: 0.7495\n",
      "Epoch 207/1000\n",
      "48000/48000 [==============================] - 2s 47us/step - loss: 0.0548 - categorical_accuracy: 0.7573 - val_loss: 0.0554 - val_categorical_accuracy: 0.7558\n",
      "Epoch 208/1000\n",
      "48000/48000 [==============================] - 2s 47us/step - loss: 0.0547 - categorical_accuracy: 0.7566 - val_loss: 0.0553 - val_categorical_accuracy: 0.7723\n",
      "Epoch 209/1000\n",
      "48000/48000 [==============================] - 2s 47us/step - loss: 0.0546 - categorical_accuracy: 0.7581 - val_loss: 0.0552 - val_categorical_accuracy: 0.7457\n",
      "Epoch 210/1000\n",
      "48000/48000 [==============================] - 3s 56us/step - loss: 0.0546 - categorical_accuracy: 0.7596 - val_loss: 0.0552 - val_categorical_accuracy: 0.7513\n",
      "Epoch 211/1000\n",
      "48000/48000 [==============================] - 2s 46us/step - loss: 0.0545 - categorical_accuracy: 0.7588 - val_loss: 0.0551 - val_categorical_accuracy: 0.7557\n",
      "Epoch 212/1000\n",
      "48000/48000 [==============================] - 2s 49us/step - loss: 0.0544 - categorical_accuracy: 0.7585 - val_loss: 0.0550 - val_categorical_accuracy: 0.7757\n",
      "Epoch 213/1000\n",
      "48000/48000 [==============================] - 3s 53us/step - loss: 0.0544 - categorical_accuracy: 0.7598 - val_loss: 0.0550 - val_categorical_accuracy: 0.7459\n",
      "Epoch 214/1000\n",
      "48000/48000 [==============================] - 2s 48us/step - loss: 0.0543 - categorical_accuracy: 0.7623 - val_loss: 0.0549 - val_categorical_accuracy: 0.7483\n",
      "Epoch 215/1000\n",
      "48000/48000 [==============================] - 2s 45us/step - loss: 0.0542 - categorical_accuracy: 0.7628 - val_loss: 0.0549 - val_categorical_accuracy: 0.7450\n",
      "Epoch 216/1000\n",
      "48000/48000 [==============================] - 2s 48us/step - loss: 0.0542 - categorical_accuracy: 0.7610 - val_loss: 0.0548 - val_categorical_accuracy: 0.7782\n",
      "Epoch 217/1000\n",
      "48000/48000 [==============================] - 2s 50us/step - loss: 0.0541 - categorical_accuracy: 0.7628 - val_loss: 0.0547 - val_categorical_accuracy: 0.7525\n",
      "Epoch 218/1000\n",
      "48000/48000 [==============================] - 2s 46us/step - loss: 0.0540 - categorical_accuracy: 0.7623 - val_loss: 0.0547 - val_categorical_accuracy: 0.7540\n",
      "Epoch 219/1000\n",
      "48000/48000 [==============================] - 2s 51us/step - loss: 0.0540 - categorical_accuracy: 0.7664 - val_loss: 0.0546 - val_categorical_accuracy: 0.7809\n",
      "Epoch 220/1000\n",
      "48000/48000 [==============================] - 2s 50us/step - loss: 0.0539 - categorical_accuracy: 0.7653 - val_loss: 0.0546 - val_categorical_accuracy: 0.7732\n",
      "Epoch 221/1000\n",
      "48000/48000 [==============================] - 2s 51us/step - loss: 0.0539 - categorical_accuracy: 0.7658 - val_loss: 0.0545 - val_categorical_accuracy: 0.7816\n",
      "Epoch 222/1000\n",
      "48000/48000 [==============================] - 2s 46us/step - loss: 0.0538 - categorical_accuracy: 0.7664 - val_loss: 0.0544 - val_categorical_accuracy: 0.7746\n",
      "Epoch 223/1000\n",
      "48000/48000 [==============================] - 2s 48us/step - loss: 0.0537 - categorical_accuracy: 0.7652 - val_loss: 0.0543 - val_categorical_accuracy: 0.7528\n",
      "Epoch 224/1000\n",
      "48000/48000 [==============================] - 2s 51us/step - loss: 0.0536 - categorical_accuracy: 0.7693 - val_loss: 0.0543 - val_categorical_accuracy: 0.7483\n",
      "Epoch 225/1000\n",
      "48000/48000 [==============================] - 2s 50us/step - loss: 0.0536 - categorical_accuracy: 0.7676 - val_loss: 0.0542 - val_categorical_accuracy: 0.7509\n",
      "Epoch 226/1000\n",
      "48000/48000 [==============================] - 2s 48us/step - loss: 0.0535 - categorical_accuracy: 0.7670 - val_loss: 0.0541 - val_categorical_accuracy: 0.7743\n",
      "Epoch 227/1000\n",
      "48000/48000 [==============================] - 2s 45us/step - loss: 0.0534 - categorical_accuracy: 0.7703 - val_loss: 0.0541 - val_categorical_accuracy: 0.7518\n",
      "Epoch 228/1000\n",
      "48000/48000 [==============================] - 2s 45us/step - loss: 0.0534 - categorical_accuracy: 0.7690 - val_loss: 0.0540 - val_categorical_accuracy: 0.7532\n",
      "Epoch 229/1000\n",
      "48000/48000 [==============================] - 3s 52us/step - loss: 0.0533 - categorical_accuracy: 0.7682 - val_loss: 0.0539 - val_categorical_accuracy: 0.7523\n",
      "Epoch 230/1000\n",
      "48000/48000 [==============================] - 2s 48us/step - loss: 0.0532 - categorical_accuracy: 0.7692 - val_loss: 0.0538 - val_categorical_accuracy: 0.7799\n",
      "Epoch 231/1000\n",
      "48000/48000 [==============================] - 2s 47us/step - loss: 0.0531 - categorical_accuracy: 0.7724 - val_loss: 0.0538 - val_categorical_accuracy: 0.7477\n",
      "Epoch 232/1000\n",
      "48000/48000 [==============================] - 2s 52us/step - loss: 0.0530 - categorical_accuracy: 0.7696 - val_loss: 0.0537 - val_categorical_accuracy: 0.7681\n",
      "Epoch 233/1000\n",
      "48000/48000 [==============================] - 2s 47us/step - loss: 0.0529 - categorical_accuracy: 0.7713 - val_loss: 0.0536 - val_categorical_accuracy: 0.7516\n",
      "Epoch 234/1000\n",
      "48000/48000 [==============================] - 2s 49us/step - loss: 0.0529 - categorical_accuracy: 0.7726 - val_loss: 0.0535 - val_categorical_accuracy: 0.7534\n",
      "Epoch 235/1000\n",
      "48000/48000 [==============================] - 2s 48us/step - loss: 0.0528 - categorical_accuracy: 0.7704 - val_loss: 0.0534 - val_categorical_accuracy: 0.7716\n"
     ]
    },
    {
     "name": "stdout",
     "output_type": "stream",
     "text": [
      "Epoch 236/1000\n",
      "48000/48000 [==============================] - 2s 52us/step - loss: 0.0527 - categorical_accuracy: 0.7714 - val_loss: 0.0533 - val_categorical_accuracy: 0.7687\n",
      "Epoch 237/1000\n",
      "48000/48000 [==============================] - 3s 55us/step - loss: 0.0526 - categorical_accuracy: 0.7712 - val_loss: 0.0532 - val_categorical_accuracy: 0.7522\n",
      "Epoch 238/1000\n",
      "48000/48000 [==============================] - 3s 53us/step - loss: 0.0525 - categorical_accuracy: 0.7709 - val_loss: 0.0532 - val_categorical_accuracy: 0.7517\n",
      "Epoch 239/1000\n",
      "48000/48000 [==============================] - 3s 53us/step - loss: 0.0524 - categorical_accuracy: 0.7730 - val_loss: 0.0531 - val_categorical_accuracy: 0.7539\n",
      "Epoch 240/1000\n",
      "48000/48000 [==============================] - 2s 48us/step - loss: 0.0523 - categorical_accuracy: 0.7715 - val_loss: 0.0529 - val_categorical_accuracy: 0.7699\n",
      "Epoch 241/1000\n",
      "48000/48000 [==============================] - 2s 50us/step - loss: 0.0522 - categorical_accuracy: 0.7722 - val_loss: 0.0529 - val_categorical_accuracy: 0.7398\n",
      "Epoch 242/1000\n",
      "48000/48000 [==============================] - 3s 54us/step - loss: 0.0521 - categorical_accuracy: 0.7680 - val_loss: 0.0527 - val_categorical_accuracy: 0.7777\n",
      "Epoch 243/1000\n",
      "48000/48000 [==============================] - 2s 47us/step - loss: 0.0520 - categorical_accuracy: 0.7725 - val_loss: 0.0526 - val_categorical_accuracy: 0.7701\n",
      "Epoch 244/1000\n",
      "48000/48000 [==============================] - 3s 56us/step - loss: 0.0519 - categorical_accuracy: 0.7717 - val_loss: 0.0525 - val_categorical_accuracy: 0.7677\n",
      "Epoch 245/1000\n",
      "48000/48000 [==============================] - 4s 79us/step - loss: 0.0518 - categorical_accuracy: 0.7715 - val_loss: 0.0524 - val_categorical_accuracy: 0.7503\n",
      "Epoch 246/1000\n",
      "48000/48000 [==============================] - 2s 48us/step - loss: 0.0517 - categorical_accuracy: 0.7699 - val_loss: 0.0523 - val_categorical_accuracy: 0.7660\n",
      "Epoch 247/1000\n",
      "48000/48000 [==============================] - 2s 48us/step - loss: 0.0515 - categorical_accuracy: 0.7703 - val_loss: 0.0522 - val_categorical_accuracy: 0.7561\n",
      "Epoch 248/1000\n",
      "48000/48000 [==============================] - 2s 48us/step - loss: 0.0514 - categorical_accuracy: 0.7697 - val_loss: 0.0521 - val_categorical_accuracy: 0.7621\n",
      "Epoch 249/1000\n",
      "48000/48000 [==============================] - 3s 52us/step - loss: 0.0513 - categorical_accuracy: 0.7680 - val_loss: 0.0519 - val_categorical_accuracy: 0.7644\n",
      "Epoch 250/1000\n",
      "48000/48000 [==============================] - 2s 50us/step - loss: 0.0512 - categorical_accuracy: 0.7690 - val_loss: 0.0518 - val_categorical_accuracy: 0.7526\n",
      "Epoch 251/1000\n",
      "48000/48000 [==============================] - 2s 48us/step - loss: 0.0511 - categorical_accuracy: 0.7683 - val_loss: 0.0517 - val_categorical_accuracy: 0.7690\n",
      "Epoch 252/1000\n",
      "48000/48000 [==============================] - 3s 54us/step - loss: 0.0509 - categorical_accuracy: 0.7703 - val_loss: 0.0516 - val_categorical_accuracy: 0.7512\n",
      "Epoch 253/1000\n",
      "48000/48000 [==============================] - 3s 67us/step - loss: 0.0508 - categorical_accuracy: 0.7663 - val_loss: 0.0514 - val_categorical_accuracy: 0.7687\n",
      "Epoch 254/1000\n",
      "48000/48000 [==============================] - 2s 51us/step - loss: 0.0507 - categorical_accuracy: 0.7688 - val_loss: 0.0513 - val_categorical_accuracy: 0.7645\n",
      "Epoch 255/1000\n",
      "48000/48000 [==============================] - 2s 47us/step - loss: 0.0506 - categorical_accuracy: 0.7669 - val_loss: 0.0512 - val_categorical_accuracy: 0.7656\n",
      "Epoch 256/1000\n",
      "48000/48000 [==============================] - 2s 51us/step - loss: 0.0504 - categorical_accuracy: 0.7680 - val_loss: 0.0510 - val_categorical_accuracy: 0.7534\n",
      "Epoch 257/1000\n",
      "48000/48000 [==============================] - 2s 48us/step - loss: 0.0503 - categorical_accuracy: 0.7690 - val_loss: 0.0509 - val_categorical_accuracy: 0.7547\n",
      "Epoch 258/1000\n",
      "48000/48000 [==============================] - 2s 49us/step - loss: 0.0501 - categorical_accuracy: 0.7684 - val_loss: 0.0507 - val_categorical_accuracy: 0.7527\n",
      "Epoch 259/1000\n",
      "48000/48000 [==============================] - 2s 46us/step - loss: 0.0500 - categorical_accuracy: 0.7685 - val_loss: 0.0506 - val_categorical_accuracy: 0.7647\n",
      "Epoch 260/1000\n",
      "48000/48000 [==============================] - 2s 47us/step - loss: 0.0498 - categorical_accuracy: 0.7699 - val_loss: 0.0504 - val_categorical_accuracy: 0.7503\n",
      "Epoch 261/1000\n",
      "48000/48000 [==============================] - 2s 47us/step - loss: 0.0497 - categorical_accuracy: 0.7691 - val_loss: 0.0503 - val_categorical_accuracy: 0.7623\n",
      "Epoch 262/1000\n",
      "48000/48000 [==============================] - 2s 46us/step - loss: 0.0495 - categorical_accuracy: 0.7699 - val_loss: 0.0501 - val_categorical_accuracy: 0.7757\n",
      "Epoch 263/1000\n",
      "48000/48000 [==============================] - 2s 46us/step - loss: 0.0494 - categorical_accuracy: 0.7697 - val_loss: 0.0500 - val_categorical_accuracy: 0.7635\n",
      "Epoch 264/1000\n",
      "48000/48000 [==============================] - 2s 46us/step - loss: 0.0492 - categorical_accuracy: 0.7708 - val_loss: 0.0498 - val_categorical_accuracy: 0.7676\n",
      "Epoch 265/1000\n",
      "48000/48000 [==============================] - 2s 46us/step - loss: 0.0491 - categorical_accuracy: 0.7706 - val_loss: 0.0497 - val_categorical_accuracy: 0.7669\n",
      "Epoch 266/1000\n",
      "48000/48000 [==============================] - 2s 46us/step - loss: 0.0489 - categorical_accuracy: 0.7737 - val_loss: 0.0495 - val_categorical_accuracy: 0.7509\n",
      "Epoch 267/1000\n",
      "48000/48000 [==============================] - 2s 46us/step - loss: 0.0488 - categorical_accuracy: 0.7702 - val_loss: 0.0494 - val_categorical_accuracy: 0.7648\n",
      "Epoch 268/1000\n",
      "48000/48000 [==============================] - 2s 46us/step - loss: 0.0486 - categorical_accuracy: 0.7718 - val_loss: 0.0492 - val_categorical_accuracy: 0.7642\n",
      "Epoch 269/1000\n",
      "48000/48000 [==============================] - 2s 46us/step - loss: 0.0485 - categorical_accuracy: 0.7779 - val_loss: 0.0491 - val_categorical_accuracy: 0.7482\n",
      "Epoch 270/1000\n",
      "48000/48000 [==============================] - 2s 47us/step - loss: 0.0483 - categorical_accuracy: 0.7732 - val_loss: 0.0489 - val_categorical_accuracy: 0.7676\n",
      "Epoch 271/1000\n",
      "48000/48000 [==============================] - 2s 47us/step - loss: 0.0481 - categorical_accuracy: 0.7802 - val_loss: 0.0487 - val_categorical_accuracy: 0.7510\n",
      "Epoch 272/1000\n",
      "48000/48000 [==============================] - 2s 52us/step - loss: 0.0480 - categorical_accuracy: 0.7783 - val_loss: 0.0485 - val_categorical_accuracy: 0.7664\n",
      "Epoch 273/1000\n",
      "48000/48000 [==============================] - 2s 48us/step - loss: 0.0478 - categorical_accuracy: 0.7806 - val_loss: 0.0484 - val_categorical_accuracy: 0.8016\n",
      "Epoch 274/1000\n",
      "48000/48000 [==============================] - 2s 47us/step - loss: 0.0476 - categorical_accuracy: 0.7838 - val_loss: 0.0482 - val_categorical_accuracy: 0.7694\n",
      "Epoch 275/1000\n",
      "48000/48000 [==============================] - 2s 46us/step - loss: 0.0475 - categorical_accuracy: 0.7841 - val_loss: 0.0480 - val_categorical_accuracy: 0.7688\n",
      "Epoch 276/1000\n",
      "48000/48000 [==============================] - 2s 48us/step - loss: 0.0473 - categorical_accuracy: 0.7869 - val_loss: 0.0479 - val_categorical_accuracy: 0.7978\n",
      "Epoch 277/1000\n",
      "48000/48000 [==============================] - 2s 46us/step - loss: 0.0471 - categorical_accuracy: 0.7909 - val_loss: 0.0477 - val_categorical_accuracy: 0.7703\n",
      "Epoch 278/1000\n",
      "48000/48000 [==============================] - 2s 46us/step - loss: 0.0470 - categorical_accuracy: 0.7912 - val_loss: 0.0475 - val_categorical_accuracy: 0.8092\n",
      "Epoch 279/1000\n",
      "48000/48000 [==============================] - 2s 46us/step - loss: 0.0468 - categorical_accuracy: 0.7966 - val_loss: 0.0474 - val_categorical_accuracy: 0.8012\n",
      "Epoch 280/1000\n",
      "48000/48000 [==============================] - 2s 46us/step - loss: 0.0467 - categorical_accuracy: 0.7997 - val_loss: 0.0472 - val_categorical_accuracy: 0.7741\n",
      "Epoch 281/1000\n",
      "48000/48000 [==============================] - 2s 50us/step - loss: 0.0465 - categorical_accuracy: 0.8055 - val_loss: 0.0471 - val_categorical_accuracy: 0.7697\n",
      "Epoch 282/1000\n",
      "48000/48000 [==============================] - 2s 50us/step - loss: 0.0463 - categorical_accuracy: 0.8071 - val_loss: 0.0469 - val_categorical_accuracy: 0.8073\n"
     ]
    },
    {
     "name": "stdout",
     "output_type": "stream",
     "text": [
      "Epoch 283/1000\n",
      "48000/48000 [==============================] - 2s 48us/step - loss: 0.0462 - categorical_accuracy: 0.8075 - val_loss: 0.0467 - val_categorical_accuracy: 0.8226\n",
      "Epoch 284/1000\n",
      "48000/48000 [==============================] - 2s 45us/step - loss: 0.0460 - categorical_accuracy: 0.8136 - val_loss: 0.0466 - val_categorical_accuracy: 0.8148\n",
      "Epoch 285/1000\n",
      "48000/48000 [==============================] - 2s 47us/step - loss: 0.0458 - categorical_accuracy: 0.8134 - val_loss: 0.0464 - val_categorical_accuracy: 0.8097\n",
      "Epoch 286/1000\n",
      "48000/48000 [==============================] - 2s 47us/step - loss: 0.0457 - categorical_accuracy: 0.8169 - val_loss: 0.0463 - val_categorical_accuracy: 0.8147\n",
      "Epoch 287/1000\n",
      "48000/48000 [==============================] - 2s 46us/step - loss: 0.0455 - categorical_accuracy: 0.8184 - val_loss: 0.0461 - val_categorical_accuracy: 0.8147\n",
      "Epoch 288/1000\n",
      "48000/48000 [==============================] - 2s 45us/step - loss: 0.0454 - categorical_accuracy: 0.8220 - val_loss: 0.0460 - val_categorical_accuracy: 0.8114\n",
      "Epoch 289/1000\n",
      "48000/48000 [==============================] - 2s 45us/step - loss: 0.0452 - categorical_accuracy: 0.8214 - val_loss: 0.0458 - val_categorical_accuracy: 0.8163\n",
      "Epoch 290/1000\n",
      "48000/48000 [==============================] - 2s 46us/step - loss: 0.0451 - categorical_accuracy: 0.8243 - val_loss: 0.0457 - val_categorical_accuracy: 0.7756\n",
      "Epoch 291/1000\n",
      "48000/48000 [==============================] - 3s 53us/step - loss: 0.0449 - categorical_accuracy: 0.8251 - val_loss: 0.0455 - val_categorical_accuracy: 0.8170\n",
      "Epoch 292/1000\n",
      "48000/48000 [==============================] - 2s 48us/step - loss: 0.0447 - categorical_accuracy: 0.8255 - val_loss: 0.0453 - val_categorical_accuracy: 0.8211\n",
      "Epoch 293/1000\n",
      "48000/48000 [==============================] - 2s 49us/step - loss: 0.0446 - categorical_accuracy: 0.8266 - val_loss: 0.0452 - val_categorical_accuracy: 0.8297\n",
      "Epoch 294/1000\n",
      "48000/48000 [==============================] - 2s 46us/step - loss: 0.0444 - categorical_accuracy: 0.8279 - val_loss: 0.0450 - val_categorical_accuracy: 0.8178\n",
      "Epoch 295/1000\n",
      "48000/48000 [==============================] - 2s 45us/step - loss: 0.0442 - categorical_accuracy: 0.8281 - val_loss: 0.0448 - val_categorical_accuracy: 0.8160\n",
      "Epoch 296/1000\n",
      "48000/48000 [==============================] - 2s 46us/step - loss: 0.0441 - categorical_accuracy: 0.8290 - val_loss: 0.0447 - val_categorical_accuracy: 0.8170\n",
      "Epoch 297/1000\n",
      "48000/48000 [==============================] - 2s 46us/step - loss: 0.0439 - categorical_accuracy: 0.8308 - val_loss: 0.0445 - val_categorical_accuracy: 0.8208\n",
      "Epoch 298/1000\n",
      "48000/48000 [==============================] - 3s 53us/step - loss: 0.0437 - categorical_accuracy: 0.8325 - val_loss: 0.0444 - val_categorical_accuracy: 0.8194\n",
      "Epoch 299/1000\n",
      "48000/48000 [==============================] - 2s 48us/step - loss: 0.0436 - categorical_accuracy: 0.8340 - val_loss: 0.0442 - val_categorical_accuracy: 0.8348\n",
      "Epoch 300/1000\n",
      "48000/48000 [==============================] - 2s 48us/step - loss: 0.0434 - categorical_accuracy: 0.8378 - val_loss: 0.0441 - val_categorical_accuracy: 0.8216\n",
      "Epoch 301/1000\n",
      "48000/48000 [==============================] - 2s 46us/step - loss: 0.0433 - categorical_accuracy: 0.8374 - val_loss: 0.0439 - val_categorical_accuracy: 0.8329\n",
      "Epoch 302/1000\n",
      "48000/48000 [==============================] - 2s 48us/step - loss: 0.0431 - categorical_accuracy: 0.8404 - val_loss: 0.0438 - val_categorical_accuracy: 0.8232\n",
      "Epoch 303/1000\n",
      "48000/48000 [==============================] - 2s 47us/step - loss: 0.0430 - categorical_accuracy: 0.8417 - val_loss: 0.0437 - val_categorical_accuracy: 0.8350\n",
      "Epoch 304/1000\n",
      "48000/48000 [==============================] - 2s 46us/step - loss: 0.0429 - categorical_accuracy: 0.8414 - val_loss: 0.0436 - val_categorical_accuracy: 0.8400\n",
      "Epoch 305/1000\n",
      "48000/48000 [==============================] - 2s 47us/step - loss: 0.0427 - categorical_accuracy: 0.8446 - val_loss: 0.0434 - val_categorical_accuracy: 0.8226\n",
      "Epoch 306/1000\n",
      "48000/48000 [==============================] - 2s 46us/step - loss: 0.0426 - categorical_accuracy: 0.8442 - val_loss: 0.0433 - val_categorical_accuracy: 0.8329\n",
      "Epoch 307/1000\n",
      "48000/48000 [==============================] - 2s 50us/step - loss: 0.0425 - categorical_accuracy: 0.8448 - val_loss: 0.0432 - val_categorical_accuracy: 0.8391\n",
      "Epoch 308/1000\n",
      "48000/48000 [==============================] - 2s 50us/step - loss: 0.0423 - categorical_accuracy: 0.8463 - val_loss: 0.0430 - val_categorical_accuracy: 0.8436\n",
      "Epoch 309/1000\n",
      "48000/48000 [==============================] - 2s 49us/step - loss: 0.0422 - categorical_accuracy: 0.8482 - val_loss: 0.0429 - val_categorical_accuracy: 0.8430\n",
      "Epoch 310/1000\n",
      "48000/48000 [==============================] - 2s 46us/step - loss: 0.0421 - categorical_accuracy: 0.8488 - val_loss: 0.0428 - val_categorical_accuracy: 0.8404\n",
      "Epoch 311/1000\n",
      "48000/48000 [==============================] - 2s 48us/step - loss: 0.0420 - categorical_accuracy: 0.8490 - val_loss: 0.0427 - val_categorical_accuracy: 0.8452\n",
      "Epoch 312/1000\n",
      "48000/48000 [==============================] - 2s 48us/step - loss: 0.0419 - categorical_accuracy: 0.8495 - val_loss: 0.0426 - val_categorical_accuracy: 0.8418\n",
      "Epoch 313/1000\n",
      "48000/48000 [==============================] - 2s 45us/step - loss: 0.0418 - categorical_accuracy: 0.8505 - val_loss: 0.0425 - val_categorical_accuracy: 0.8417\n",
      "Epoch 314/1000\n",
      "48000/48000 [==============================] - 2s 45us/step - loss: 0.0417 - categorical_accuracy: 0.8509 - val_loss: 0.0424 - val_categorical_accuracy: 0.8422\n",
      "Epoch 315/1000\n",
      "48000/48000 [==============================] - 2s 46us/step - loss: 0.0416 - categorical_accuracy: 0.8511 - val_loss: 0.0423 - val_categorical_accuracy: 0.8428\n",
      "Epoch 316/1000\n",
      "48000/48000 [==============================] - 2s 45us/step - loss: 0.0415 - categorical_accuracy: 0.8519 - val_loss: 0.0423 - val_categorical_accuracy: 0.8440\n",
      "Epoch 317/1000\n",
      "48000/48000 [==============================] - 2s 46us/step - loss: 0.0414 - categorical_accuracy: 0.8524 - val_loss: 0.0422 - val_categorical_accuracy: 0.8450\n",
      "Epoch 318/1000\n",
      "48000/48000 [==============================] - 2s 46us/step - loss: 0.0413 - categorical_accuracy: 0.8525 - val_loss: 0.0421 - val_categorical_accuracy: 0.8452\n",
      "Epoch 319/1000\n",
      "48000/48000 [==============================] - 2s 46us/step - loss: 0.0412 - categorical_accuracy: 0.8525 - val_loss: 0.0420 - val_categorical_accuracy: 0.8491\n",
      "Epoch 320/1000\n",
      "48000/48000 [==============================] - 2s 46us/step - loss: 0.0411 - categorical_accuracy: 0.8531 - val_loss: 0.0420 - val_categorical_accuracy: 0.8514\n",
      "Epoch 321/1000\n",
      "48000/48000 [==============================] - 2s 47us/step - loss: 0.0410 - categorical_accuracy: 0.8531 - val_loss: 0.0419 - val_categorical_accuracy: 0.8475\n",
      "Epoch 322/1000\n",
      "48000/48000 [==============================] - 2s 46us/step - loss: 0.0409 - categorical_accuracy: 0.8536 - val_loss: 0.0418 - val_categorical_accuracy: 0.8460\n",
      "Epoch 323/1000\n",
      "48000/48000 [==============================] - 2s 45us/step - loss: 0.0409 - categorical_accuracy: 0.8542 - val_loss: 0.0417 - val_categorical_accuracy: 0.8473\n",
      "Epoch 324/1000\n",
      "48000/48000 [==============================] - 2s 48us/step - loss: 0.0408 - categorical_accuracy: 0.8554 - val_loss: 0.0417 - val_categorical_accuracy: 0.8459\n",
      "Epoch 325/1000\n",
      "48000/48000 [==============================] - 2s 47us/step - loss: 0.0407 - categorical_accuracy: 0.8549 - val_loss: 0.0416 - val_categorical_accuracy: 0.8474\n",
      "Epoch 326/1000\n",
      "48000/48000 [==============================] - 2s 46us/step - loss: 0.0407 - categorical_accuracy: 0.8548 - val_loss: 0.0416 - val_categorical_accuracy: 0.8467\n",
      "Epoch 327/1000\n",
      "48000/48000 [==============================] - 2s 48us/step - loss: 0.0406 - categorical_accuracy: 0.8549 - val_loss: 0.0415 - val_categorical_accuracy: 0.8455\n",
      "Epoch 328/1000\n",
      "48000/48000 [==============================] - 2s 45us/step - loss: 0.0405 - categorical_accuracy: 0.8551 - val_loss: 0.0414 - val_categorical_accuracy: 0.8501\n",
      "Epoch 329/1000\n",
      "48000/48000 [==============================] - 2s 45us/step - loss: 0.0405 - categorical_accuracy: 0.8563 - val_loss: 0.0414 - val_categorical_accuracy: 0.8455\n"
     ]
    },
    {
     "name": "stdout",
     "output_type": "stream",
     "text": [
      "Epoch 330/1000\n",
      "48000/48000 [==============================] - 2s 45us/step - loss: 0.0404 - categorical_accuracy: 0.8565 - val_loss: 0.0413 - val_categorical_accuracy: 0.8437\n",
      "Epoch 331/1000\n",
      "48000/48000 [==============================] - 2s 46us/step - loss: 0.0403 - categorical_accuracy: 0.8558 - val_loss: 0.0412 - val_categorical_accuracy: 0.8447\n",
      "Epoch 332/1000\n",
      "48000/48000 [==============================] - 2s 45us/step - loss: 0.0403 - categorical_accuracy: 0.8565 - val_loss: 0.0412 - val_categorical_accuracy: 0.8496\n",
      "Epoch 333/1000\n",
      "48000/48000 [==============================] - 2s 46us/step - loss: 0.0402 - categorical_accuracy: 0.8565 - val_loss: 0.0412 - val_categorical_accuracy: 0.8489\n",
      "Epoch 334/1000\n",
      "48000/48000 [==============================] - 2s 45us/step - loss: 0.0402 - categorical_accuracy: 0.8572 - val_loss: 0.0411 - val_categorical_accuracy: 0.8510\n",
      "Epoch 335/1000\n",
      "48000/48000 [==============================] - 2s 46us/step - loss: 0.0401 - categorical_accuracy: 0.8573 - val_loss: 0.0411 - val_categorical_accuracy: 0.8502\n",
      "Epoch 336/1000\n",
      "48000/48000 [==============================] - 2s 46us/step - loss: 0.0401 - categorical_accuracy: 0.8572 - val_loss: 0.0410 - val_categorical_accuracy: 0.8527\n",
      "Epoch 337/1000\n",
      "48000/48000 [==============================] - 2s 46us/step - loss: 0.0400 - categorical_accuracy: 0.8589 - val_loss: 0.0410 - val_categorical_accuracy: 0.8492\n",
      "Epoch 338/1000\n",
      "48000/48000 [==============================] - 2s 46us/step - loss: 0.0400 - categorical_accuracy: 0.8581 - val_loss: 0.0409 - val_categorical_accuracy: 0.8543\n",
      "Epoch 339/1000\n",
      "48000/48000 [==============================] - 2s 51us/step - loss: 0.0399 - categorical_accuracy: 0.8592 - val_loss: 0.0409 - val_categorical_accuracy: 0.8528\n",
      "Epoch 340/1000\n",
      "48000/48000 [==============================] - 2s 47us/step - loss: 0.0399 - categorical_accuracy: 0.8592 - val_loss: 0.0408 - val_categorical_accuracy: 0.8520\n",
      "Epoch 341/1000\n",
      "48000/48000 [==============================] - 2s 45us/step - loss: 0.0398 - categorical_accuracy: 0.8598 - val_loss: 0.0408 - val_categorical_accuracy: 0.8500\n",
      "Epoch 342/1000\n",
      "48000/48000 [==============================] - 2s 46us/step - loss: 0.0398 - categorical_accuracy: 0.8595 - val_loss: 0.0408 - val_categorical_accuracy: 0.8474\n",
      "Epoch 343/1000\n",
      "48000/48000 [==============================] - 2s 47us/step - loss: 0.0397 - categorical_accuracy: 0.8594 - val_loss: 0.0408 - val_categorical_accuracy: 0.8516\n",
      "Epoch 344/1000\n",
      "48000/48000 [==============================] - 2s 46us/step - loss: 0.0397 - categorical_accuracy: 0.8595 - val_loss: 0.0407 - val_categorical_accuracy: 0.8521\n",
      "Epoch 345/1000\n",
      "48000/48000 [==============================] - 2s 45us/step - loss: 0.0396 - categorical_accuracy: 0.8608 - val_loss: 0.0407 - val_categorical_accuracy: 0.8532\n",
      "Epoch 346/1000\n",
      "48000/48000 [==============================] - 2s 46us/step - loss: 0.0396 - categorical_accuracy: 0.8601 - val_loss: 0.0406 - val_categorical_accuracy: 0.8540\n",
      "Epoch 347/1000\n",
      "48000/48000 [==============================] - 2s 51us/step - loss: 0.0396 - categorical_accuracy: 0.8608 - val_loss: 0.0406 - val_categorical_accuracy: 0.8513\n",
      "Epoch 348/1000\n",
      "48000/48000 [==============================] - 3s 54us/step - loss: 0.0395 - categorical_accuracy: 0.8606 - val_loss: 0.0406 - val_categorical_accuracy: 0.8509\n",
      "Epoch 349/1000\n",
      "48000/48000 [==============================] - 2s 49us/step - loss: 0.0395 - categorical_accuracy: 0.8612 - val_loss: 0.0405 - val_categorical_accuracy: 0.8492\n",
      "Epoch 350/1000\n",
      "48000/48000 [==============================] - 2s 46us/step - loss: 0.0395 - categorical_accuracy: 0.8606 - val_loss: 0.0405 - val_categorical_accuracy: 0.8537\n",
      "Epoch 351/1000\n",
      "48000/48000 [==============================] - 2s 45us/step - loss: 0.0394 - categorical_accuracy: 0.8620 - val_loss: 0.0405 - val_categorical_accuracy: 0.8522\n",
      "Epoch 352/1000\n",
      "48000/48000 [==============================] - 2s 45us/step - loss: 0.0394 - categorical_accuracy: 0.8623 - val_loss: 0.0405 - val_categorical_accuracy: 0.8526\n",
      "Epoch 353/1000\n",
      "48000/48000 [==============================] - 2s 45us/step - loss: 0.0393 - categorical_accuracy: 0.8619 - val_loss: 0.0404 - val_categorical_accuracy: 0.8527\n",
      "Epoch 354/1000\n",
      "48000/48000 [==============================] - 2s 46us/step - loss: 0.0393 - categorical_accuracy: 0.8619 - val_loss: 0.0404 - val_categorical_accuracy: 0.8513\n",
      "Epoch 355/1000\n",
      "48000/48000 [==============================] - 2s 46us/step - loss: 0.0393 - categorical_accuracy: 0.8625 - val_loss: 0.0404 - val_categorical_accuracy: 0.8532\n",
      "Epoch 356/1000\n",
      "48000/48000 [==============================] - 2s 51us/step - loss: 0.0392 - categorical_accuracy: 0.8627 - val_loss: 0.0404 - val_categorical_accuracy: 0.8530\n",
      "Epoch 357/1000\n",
      "48000/48000 [==============================] - 2s 48us/step - loss: 0.0392 - categorical_accuracy: 0.8631 - val_loss: 0.0403 - val_categorical_accuracy: 0.8549\n",
      "Epoch 358/1000\n",
      "48000/48000 [==============================] - 2s 47us/step - loss: 0.0392 - categorical_accuracy: 0.8632 - val_loss: 0.0403 - val_categorical_accuracy: 0.8560\n",
      "Epoch 359/1000\n",
      "48000/48000 [==============================] - 2s 45us/step - loss: 0.0391 - categorical_accuracy: 0.8638 - val_loss: 0.0403 - val_categorical_accuracy: 0.8534\n",
      "Epoch 360/1000\n",
      "48000/48000 [==============================] - 3s 54us/step - loss: 0.0391 - categorical_accuracy: 0.8635 - val_loss: 0.0402 - val_categorical_accuracy: 0.8564\n",
      "Epoch 361/1000\n",
      "48000/48000 [==============================] - 2s 50us/step - loss: 0.0391 - categorical_accuracy: 0.8642 - val_loss: 0.0403 - val_categorical_accuracy: 0.8542\n",
      "Epoch 362/1000\n",
      "48000/48000 [==============================] - 2s 48us/step - loss: 0.0391 - categorical_accuracy: 0.8635 - val_loss: 0.0402 - val_categorical_accuracy: 0.8536\n",
      "Epoch 363/1000\n",
      "48000/48000 [==============================] - 2s 45us/step - loss: 0.0390 - categorical_accuracy: 0.8641 - val_loss: 0.0401 - val_categorical_accuracy: 0.8546\n",
      "Epoch 364/1000\n",
      "48000/48000 [==============================] - 2s 50us/step - loss: 0.0390 - categorical_accuracy: 0.8645 - val_loss: 0.0401 - val_categorical_accuracy: 0.8557\n",
      "Epoch 365/1000\n",
      "48000/48000 [==============================] - 2s 51us/step - loss: 0.0390 - categorical_accuracy: 0.8645 - val_loss: 0.0401 - val_categorical_accuracy: 0.8560\n",
      "Epoch 366/1000\n",
      "48000/48000 [==============================] - 2s 48us/step - loss: 0.0389 - categorical_accuracy: 0.8648 - val_loss: 0.0401 - val_categorical_accuracy: 0.8535\n",
      "Epoch 367/1000\n",
      "48000/48000 [==============================] - 2s 51us/step - loss: 0.0389 - categorical_accuracy: 0.8645 - val_loss: 0.0400 - val_categorical_accuracy: 0.8558\n",
      "Epoch 368/1000\n",
      "48000/48000 [==============================] - 2s 48us/step - loss: 0.0389 - categorical_accuracy: 0.8654 - val_loss: 0.0400 - val_categorical_accuracy: 0.8541\n",
      "Epoch 369/1000\n",
      "48000/48000 [==============================] - 2s 49us/step - loss: 0.0388 - categorical_accuracy: 0.8647 - val_loss: 0.0400 - val_categorical_accuracy: 0.8559\n",
      "Epoch 370/1000\n",
      "48000/48000 [==============================] - 2s 51us/step - loss: 0.0388 - categorical_accuracy: 0.8649 - val_loss: 0.0400 - val_categorical_accuracy: 0.8556\n",
      "Epoch 371/1000\n",
      "48000/48000 [==============================] - 2s 48us/step - loss: 0.0388 - categorical_accuracy: 0.8657 - val_loss: 0.0399 - val_categorical_accuracy: 0.8560\n",
      "Epoch 372/1000\n",
      "48000/48000 [==============================] - 2s 51us/step - loss: 0.0387 - categorical_accuracy: 0.8656 - val_loss: 0.0399 - val_categorical_accuracy: 0.8546\n",
      "Epoch 373/1000\n",
      "48000/48000 [==============================] - 3s 54us/step - loss: 0.0387 - categorical_accuracy: 0.8652 - val_loss: 0.0399 - val_categorical_accuracy: 0.8552\n",
      "Epoch 374/1000\n",
      "48000/48000 [==============================] - 3s 71us/step - loss: 0.0387 - categorical_accuracy: 0.8659 - val_loss: 0.0399 - val_categorical_accuracy: 0.8557\n",
      "Epoch 375/1000\n",
      "48000/48000 [==============================] - 4s 73us/step - loss: 0.0386 - categorical_accuracy: 0.8662 - val_loss: 0.0398 - val_categorical_accuracy: 0.8571\n",
      "Epoch 376/1000\n",
      "48000/48000 [==============================] - 2s 52us/step - loss: 0.0386 - categorical_accuracy: 0.8662 - val_loss: 0.0398 - val_categorical_accuracy: 0.8552\n"
     ]
    },
    {
     "name": "stdout",
     "output_type": "stream",
     "text": [
      "Epoch 377/1000\n",
      "48000/48000 [==============================] - 3s 57us/step - loss: 0.0386 - categorical_accuracy: 0.8662 - val_loss: 0.0398 - val_categorical_accuracy: 0.8560\n",
      "Epoch 378/1000\n",
      "48000/48000 [==============================] - 2s 50us/step - loss: 0.0386 - categorical_accuracy: 0.8660 - val_loss: 0.0398 - val_categorical_accuracy: 0.8562\n",
      "Epoch 379/1000\n",
      "48000/48000 [==============================] - 2s 50us/step - loss: 0.0385 - categorical_accuracy: 0.8665 - val_loss: 0.0398 - val_categorical_accuracy: 0.8558\n",
      "Epoch 380/1000\n",
      "48000/48000 [==============================] - 2s 47us/step - loss: 0.0385 - categorical_accuracy: 0.8662 - val_loss: 0.0397 - val_categorical_accuracy: 0.8577\n",
      "Epoch 381/1000\n",
      "48000/48000 [==============================] - 2s 49us/step - loss: 0.0385 - categorical_accuracy: 0.8672 - val_loss: 0.0397 - val_categorical_accuracy: 0.8571\n",
      "Epoch 382/1000\n",
      "48000/48000 [==============================] - 3s 56us/step - loss: 0.0384 - categorical_accuracy: 0.8669 - val_loss: 0.0396 - val_categorical_accuracy: 0.8566\n",
      "Epoch 383/1000\n",
      "48000/48000 [==============================] - 3s 56us/step - loss: 0.0384 - categorical_accuracy: 0.8667 - val_loss: 0.0396 - val_categorical_accuracy: 0.8569\n",
      "Epoch 384/1000\n",
      "48000/48000 [==============================] - 3s 65us/step - loss: 0.0384 - categorical_accuracy: 0.8672 - val_loss: 0.0396 - val_categorical_accuracy: 0.8571\n",
      "Epoch 385/1000\n",
      "48000/48000 [==============================] - 2s 49us/step - loss: 0.0384 - categorical_accuracy: 0.8675 - val_loss: 0.0396 - val_categorical_accuracy: 0.8565\n",
      "Epoch 386/1000\n",
      "48000/48000 [==============================] - 3s 53us/step - loss: 0.0383 - categorical_accuracy: 0.8673 - val_loss: 0.0396 - val_categorical_accuracy: 0.8592\n",
      "Epoch 387/1000\n",
      "48000/48000 [==============================] - 3s 54us/step - loss: 0.0383 - categorical_accuracy: 0.8683 - val_loss: 0.0395 - val_categorical_accuracy: 0.8575\n",
      "Epoch 388/1000\n",
      "48000/48000 [==============================] - 2s 48us/step - loss: 0.0383 - categorical_accuracy: 0.8682 - val_loss: 0.0395 - val_categorical_accuracy: 0.8578\n",
      "Epoch 389/1000\n",
      "48000/48000 [==============================] - 2s 47us/step - loss: 0.0382 - categorical_accuracy: 0.8685 - val_loss: 0.0395 - val_categorical_accuracy: 0.8599\n",
      "Epoch 390/1000\n",
      "48000/48000 [==============================] - 3s 52us/step - loss: 0.0382 - categorical_accuracy: 0.8681 - val_loss: 0.0394 - val_categorical_accuracy: 0.8586\n",
      "Epoch 391/1000\n",
      "48000/48000 [==============================] - 2s 46us/step - loss: 0.0382 - categorical_accuracy: 0.8683 - val_loss: 0.0394 - val_categorical_accuracy: 0.8567\n",
      "Epoch 392/1000\n",
      "48000/48000 [==============================] - 2s 50us/step - loss: 0.0381 - categorical_accuracy: 0.8682 - val_loss: 0.0394 - val_categorical_accuracy: 0.8572\n",
      "Epoch 393/1000\n",
      "48000/48000 [==============================] - 2s 45us/step - loss: 0.0381 - categorical_accuracy: 0.8687 - val_loss: 0.0394 - val_categorical_accuracy: 0.8577\n",
      "Epoch 394/1000\n",
      "48000/48000 [==============================] - 3s 54us/step - loss: 0.0381 - categorical_accuracy: 0.8688 - val_loss: 0.0393 - val_categorical_accuracy: 0.8572\n",
      "Epoch 395/1000\n",
      "48000/48000 [==============================] - 2s 48us/step - loss: 0.0381 - categorical_accuracy: 0.8686 - val_loss: 0.0393 - val_categorical_accuracy: 0.8587\n",
      "Epoch 396/1000\n",
      "48000/48000 [==============================] - 2s 46us/step - loss: 0.0380 - categorical_accuracy: 0.8689 - val_loss: 0.0393 - val_categorical_accuracy: 0.8582\n",
      "Epoch 397/1000\n",
      "48000/48000 [==============================] - 2s 46us/step - loss: 0.0380 - categorical_accuracy: 0.8697 - val_loss: 0.0393 - val_categorical_accuracy: 0.8581\n",
      "Epoch 398/1000\n",
      "48000/48000 [==============================] - 2s 46us/step - loss: 0.0380 - categorical_accuracy: 0.8687 - val_loss: 0.0392 - val_categorical_accuracy: 0.8582\n",
      "Epoch 399/1000\n",
      "48000/48000 [==============================] - 2s 48us/step - loss: 0.0379 - categorical_accuracy: 0.8687 - val_loss: 0.0392 - val_categorical_accuracy: 0.8577\n",
      "Epoch 400/1000\n",
      "48000/48000 [==============================] - 2s 45us/step - loss: 0.0379 - categorical_accuracy: 0.8697 - val_loss: 0.0392 - val_categorical_accuracy: 0.8568\n",
      "Epoch 401/1000\n",
      "48000/48000 [==============================] - 2s 50us/step - loss: 0.0379 - categorical_accuracy: 0.8699 - val_loss: 0.0391 - val_categorical_accuracy: 0.8585\n",
      "Epoch 402/1000\n",
      "48000/48000 [==============================] - 2s 50us/step - loss: 0.0378 - categorical_accuracy: 0.8697 - val_loss: 0.0391 - val_categorical_accuracy: 0.8595\n",
      "Epoch 403/1000\n",
      "48000/48000 [==============================] - 2s 47us/step - loss: 0.0378 - categorical_accuracy: 0.8699 - val_loss: 0.0391 - val_categorical_accuracy: 0.8591\n",
      "Epoch 404/1000\n",
      "48000/48000 [==============================] - 2s 46us/step - loss: 0.0378 - categorical_accuracy: 0.8696 - val_loss: 0.0391 - val_categorical_accuracy: 0.8592\n",
      "Epoch 405/1000\n",
      "48000/48000 [==============================] - 2s 46us/step - loss: 0.0378 - categorical_accuracy: 0.8706 - val_loss: 0.0390 - val_categorical_accuracy: 0.8591\n",
      "Epoch 406/1000\n",
      "48000/48000 [==============================] - 2s 46us/step - loss: 0.0377 - categorical_accuracy: 0.8703 - val_loss: 0.0390 - val_categorical_accuracy: 0.8600\n",
      "Epoch 407/1000\n",
      "48000/48000 [==============================] - 2s 52us/step - loss: 0.0377 - categorical_accuracy: 0.8710 - val_loss: 0.0390 - val_categorical_accuracy: 0.8593\n",
      "Epoch 408/1000\n",
      "48000/48000 [==============================] - 2s 51us/step - loss: 0.0376 - categorical_accuracy: 0.8710 - val_loss: 0.0390 - val_categorical_accuracy: 0.8597\n",
      "Epoch 409/1000\n",
      "48000/48000 [==============================] - 2s 48us/step - loss: 0.0376 - categorical_accuracy: 0.8707 - val_loss: 0.0389 - val_categorical_accuracy: 0.8599\n",
      "Epoch 410/1000\n",
      "48000/48000 [==============================] - 2s 51us/step - loss: 0.0376 - categorical_accuracy: 0.8708 - val_loss: 0.0389 - val_categorical_accuracy: 0.8586\n",
      "Epoch 411/1000\n",
      "48000/48000 [==============================] - 2s 46us/step - loss: 0.0375 - categorical_accuracy: 0.8720 - val_loss: 0.0388 - val_categorical_accuracy: 0.8607\n",
      "Epoch 412/1000\n",
      "48000/48000 [==============================] - 3s 53us/step - loss: 0.0375 - categorical_accuracy: 0.8712 - val_loss: 0.0388 - val_categorical_accuracy: 0.8607\n",
      "Epoch 413/1000\n",
      "48000/48000 [==============================] - 2s 46us/step - loss: 0.0375 - categorical_accuracy: 0.8712 - val_loss: 0.0388 - val_categorical_accuracy: 0.8602\n",
      "Epoch 414/1000\n",
      "48000/48000 [==============================] - 2s 51us/step - loss: 0.0374 - categorical_accuracy: 0.8716 - val_loss: 0.0388 - val_categorical_accuracy: 0.8607\n",
      "Epoch 415/1000\n",
      "48000/48000 [==============================] - 3s 55us/step - loss: 0.0374 - categorical_accuracy: 0.8718 - val_loss: 0.0388 - val_categorical_accuracy: 0.8598\n",
      "Epoch 416/1000\n",
      "48000/48000 [==============================] - 2s 48us/step - loss: 0.0374 - categorical_accuracy: 0.8720 - val_loss: 0.0387 - val_categorical_accuracy: 0.8615\n",
      "Epoch 417/1000\n",
      "48000/48000 [==============================] - 2s 47us/step - loss: 0.0373 - categorical_accuracy: 0.8725 - val_loss: 0.0387 - val_categorical_accuracy: 0.8598\n",
      "Epoch 418/1000\n",
      "48000/48000 [==============================] - 2s 48us/step - loss: 0.0373 - categorical_accuracy: 0.8727 - val_loss: 0.0386 - val_categorical_accuracy: 0.8617\n",
      "Epoch 419/1000\n",
      "48000/48000 [==============================] - 2s 46us/step - loss: 0.0373 - categorical_accuracy: 0.8722 - val_loss: 0.0386 - val_categorical_accuracy: 0.8611\n",
      "Epoch 420/1000\n",
      "48000/48000 [==============================] - 2s 50us/step - loss: 0.0372 - categorical_accuracy: 0.8727 - val_loss: 0.0386 - val_categorical_accuracy: 0.8611\n",
      "Epoch 421/1000\n",
      "48000/48000 [==============================] - 2s 52us/step - loss: 0.0372 - categorical_accuracy: 0.8735 - val_loss: 0.0385 - val_categorical_accuracy: 0.8622\n",
      "Epoch 422/1000\n",
      "48000/48000 [==============================] - 2s 48us/step - loss: 0.0372 - categorical_accuracy: 0.8733 - val_loss: 0.0385 - val_categorical_accuracy: 0.8627\n",
      "Epoch 423/1000\n",
      "48000/48000 [==============================] - 2s 47us/step - loss: 0.0371 - categorical_accuracy: 0.8730 - val_loss: 0.0385 - val_categorical_accuracy: 0.8623\n"
     ]
    },
    {
     "name": "stdout",
     "output_type": "stream",
     "text": [
      "Epoch 424/1000\n",
      "48000/48000 [==============================] - 2s 48us/step - loss: 0.0371 - categorical_accuracy: 0.8732 - val_loss: 0.0384 - val_categorical_accuracy: 0.8639\n",
      "Epoch 425/1000\n",
      "48000/48000 [==============================] - 2s 50us/step - loss: 0.0370 - categorical_accuracy: 0.8739 - val_loss: 0.0384 - val_categorical_accuracy: 0.8602\n",
      "Epoch 426/1000\n",
      "48000/48000 [==============================] - 2s 46us/step - loss: 0.0370 - categorical_accuracy: 0.8733 - val_loss: 0.0384 - val_categorical_accuracy: 0.8610\n",
      "Epoch 427/1000\n",
      "48000/48000 [==============================] - 2s 49us/step - loss: 0.0370 - categorical_accuracy: 0.8738 - val_loss: 0.0383 - val_categorical_accuracy: 0.8644\n",
      "Epoch 428/1000\n",
      "48000/48000 [==============================] - 2s 47us/step - loss: 0.0369 - categorical_accuracy: 0.8739 - val_loss: 0.0383 - val_categorical_accuracy: 0.8620\n",
      "Epoch 429/1000\n",
      "48000/48000 [==============================] - 2s 49us/step - loss: 0.0369 - categorical_accuracy: 0.8739 - val_loss: 0.0383 - val_categorical_accuracy: 0.8620\n",
      "Epoch 430/1000\n",
      "48000/48000 [==============================] - 2s 46us/step - loss: 0.0368 - categorical_accuracy: 0.8737 - val_loss: 0.0382 - val_categorical_accuracy: 0.8644\n",
      "Epoch 431/1000\n",
      "48000/48000 [==============================] - 2s 47us/step - loss: 0.0368 - categorical_accuracy: 0.8739 - val_loss: 0.0382 - val_categorical_accuracy: 0.8635\n",
      "Epoch 432/1000\n",
      "48000/48000 [==============================] - 3s 54us/step - loss: 0.0368 - categorical_accuracy: 0.8743 - val_loss: 0.0381 - val_categorical_accuracy: 0.8626\n",
      "Epoch 433/1000\n",
      "48000/48000 [==============================] - 2s 46us/step - loss: 0.0367 - categorical_accuracy: 0.8746 - val_loss: 0.0381 - val_categorical_accuracy: 0.8642\n",
      "Epoch 434/1000\n",
      "48000/48000 [==============================] - 2s 45us/step - loss: 0.0367 - categorical_accuracy: 0.8746 - val_loss: 0.0380 - val_categorical_accuracy: 0.8647\n",
      "Epoch 435/1000\n",
      "48000/48000 [==============================] - 2s 48us/step - loss: 0.0366 - categorical_accuracy: 0.8749 - val_loss: 0.0380 - val_categorical_accuracy: 0.8652\n",
      "Epoch 436/1000\n",
      "48000/48000 [==============================] - 2s 50us/step - loss: 0.0366 - categorical_accuracy: 0.8751 - val_loss: 0.0380 - val_categorical_accuracy: 0.8637\n",
      "Epoch 437/1000\n",
      "48000/48000 [==============================] - 2s 46us/step - loss: 0.0365 - categorical_accuracy: 0.8740 - val_loss: 0.0379 - val_categorical_accuracy: 0.8655\n",
      "Epoch 438/1000\n",
      "48000/48000 [==============================] - 2s 46us/step - loss: 0.0365 - categorical_accuracy: 0.8753 - val_loss: 0.0379 - val_categorical_accuracy: 0.8622\n",
      "Epoch 439/1000\n",
      "48000/48000 [==============================] - 2s 48us/step - loss: 0.0364 - categorical_accuracy: 0.8750 - val_loss: 0.0378 - val_categorical_accuracy: 0.8646\n",
      "Epoch 440/1000\n",
      "48000/48000 [==============================] - 2s 46us/step - loss: 0.0364 - categorical_accuracy: 0.8755 - val_loss: 0.0378 - val_categorical_accuracy: 0.8652\n",
      "Epoch 441/1000\n",
      "48000/48000 [==============================] - 2s 46us/step - loss: 0.0363 - categorical_accuracy: 0.8759 - val_loss: 0.0377 - val_categorical_accuracy: 0.8606\n",
      "Epoch 442/1000\n",
      "48000/48000 [==============================] - 2s 46us/step - loss: 0.0363 - categorical_accuracy: 0.8758 - val_loss: 0.0377 - val_categorical_accuracy: 0.8650\n",
      "Epoch 443/1000\n",
      "48000/48000 [==============================] - 2s 49us/step - loss: 0.0362 - categorical_accuracy: 0.8752 - val_loss: 0.0376 - val_categorical_accuracy: 0.8630\n",
      "Epoch 444/1000\n",
      "48000/48000 [==============================] - 2s 47us/step - loss: 0.0362 - categorical_accuracy: 0.8761 - val_loss: 0.0376 - val_categorical_accuracy: 0.8590\n",
      "Epoch 445/1000\n",
      "48000/48000 [==============================] - 2s 46us/step - loss: 0.0361 - categorical_accuracy: 0.8758 - val_loss: 0.0375 - val_categorical_accuracy: 0.8594\n",
      "Epoch 446/1000\n",
      "48000/48000 [==============================] - 2s 48us/step - loss: 0.0361 - categorical_accuracy: 0.8764 - val_loss: 0.0375 - val_categorical_accuracy: 0.8632\n",
      "Epoch 447/1000\n",
      "48000/48000 [==============================] - 2s 46us/step - loss: 0.0360 - categorical_accuracy: 0.8765 - val_loss: 0.0374 - val_categorical_accuracy: 0.8642\n",
      "Epoch 448/1000\n",
      "48000/48000 [==============================] - 2s 46us/step - loss: 0.0360 - categorical_accuracy: 0.8765 - val_loss: 0.0373 - val_categorical_accuracy: 0.8641\n",
      "Epoch 449/1000\n",
      "48000/48000 [==============================] - 2s 47us/step - loss: 0.0359 - categorical_accuracy: 0.8761 - val_loss: 0.0373 - val_categorical_accuracy: 0.8652\n",
      "Epoch 450/1000\n",
      "48000/48000 [==============================] - 2s 51us/step - loss: 0.0358 - categorical_accuracy: 0.8772 - val_loss: 0.0373 - val_categorical_accuracy: 0.8628\n",
      "Epoch 451/1000\n",
      "48000/48000 [==============================] - 2s 47us/step - loss: 0.0358 - categorical_accuracy: 0.8767 - val_loss: 0.0372 - val_categorical_accuracy: 0.8645\n",
      "Epoch 452/1000\n",
      "48000/48000 [==============================] - 2s 49us/step - loss: 0.0357 - categorical_accuracy: 0.8767 - val_loss: 0.0371 - val_categorical_accuracy: 0.8667\n",
      "Epoch 453/1000\n",
      "48000/48000 [==============================] - 3s 54us/step - loss: 0.0357 - categorical_accuracy: 0.8774 - val_loss: 0.0371 - val_categorical_accuracy: 0.8658\n",
      "Epoch 454/1000\n",
      "48000/48000 [==============================] - 2s 50us/step - loss: 0.0356 - categorical_accuracy: 0.8773 - val_loss: 0.0370 - val_categorical_accuracy: 0.8647\n",
      "Epoch 455/1000\n",
      "48000/48000 [==============================] - 3s 56us/step - loss: 0.0356 - categorical_accuracy: 0.8779 - val_loss: 0.0370 - val_categorical_accuracy: 0.8610\n",
      "Epoch 456/1000\n",
      "48000/48000 [==============================] - 2s 47us/step - loss: 0.0355 - categorical_accuracy: 0.8775 - val_loss: 0.0369 - val_categorical_accuracy: 0.8644\n",
      "Epoch 457/1000\n",
      "48000/48000 [==============================] - 2s 52us/step - loss: 0.0354 - categorical_accuracy: 0.8782 - val_loss: 0.0369 - val_categorical_accuracy: 0.8618\n",
      "Epoch 458/1000\n",
      "48000/48000 [==============================] - 2s 51us/step - loss: 0.0354 - categorical_accuracy: 0.8779 - val_loss: 0.0368 - val_categorical_accuracy: 0.8658\n",
      "Epoch 459/1000\n",
      "48000/48000 [==============================] - 2s 45us/step - loss: 0.0353 - categorical_accuracy: 0.8779 - val_loss: 0.0367 - val_categorical_accuracy: 0.8649\n",
      "Epoch 460/1000\n",
      "48000/48000 [==============================] - 2s 50us/step - loss: 0.0352 - categorical_accuracy: 0.8785 - val_loss: 0.0367 - val_categorical_accuracy: 0.8646\n",
      "Epoch 461/1000\n",
      "48000/48000 [==============================] - 2s 46us/step - loss: 0.0352 - categorical_accuracy: 0.8787 - val_loss: 0.0366 - val_categorical_accuracy: 0.8659\n",
      "Epoch 462/1000\n",
      "48000/48000 [==============================] - 2s 50us/step - loss: 0.0351 - categorical_accuracy: 0.8786 - val_loss: 0.0366 - val_categorical_accuracy: 0.8614\n",
      "Epoch 463/1000\n",
      "48000/48000 [==============================] - 2s 46us/step - loss: 0.0350 - categorical_accuracy: 0.8789 - val_loss: 0.0365 - val_categorical_accuracy: 0.8657\n",
      "Epoch 464/1000\n",
      "48000/48000 [==============================] - 2s 46us/step - loss: 0.0350 - categorical_accuracy: 0.8792 - val_loss: 0.0364 - val_categorical_accuracy: 0.8660\n",
      "Epoch 465/1000\n",
      "48000/48000 [==============================] - 2s 49us/step - loss: 0.0349 - categorical_accuracy: 0.8793 - val_loss: 0.0363 - val_categorical_accuracy: 0.8658\n",
      "Epoch 466/1000\n",
      "48000/48000 [==============================] - 2s 48us/step - loss: 0.0348 - categorical_accuracy: 0.8795 - val_loss: 0.0363 - val_categorical_accuracy: 0.8657\n",
      "Epoch 467/1000\n",
      "48000/48000 [==============================] - 2s 46us/step - loss: 0.0348 - categorical_accuracy: 0.8798 - val_loss: 0.0363 - val_categorical_accuracy: 0.8636\n",
      "Epoch 468/1000\n",
      "48000/48000 [==============================] - 2s 47us/step - loss: 0.0347 - categorical_accuracy: 0.8806 - val_loss: 0.0362 - val_categorical_accuracy: 0.8648\n",
      "Epoch 469/1000\n",
      "48000/48000 [==============================] - 2s 49us/step - loss: 0.0346 - categorical_accuracy: 0.8804 - val_loss: 0.0361 - val_categorical_accuracy: 0.8653\n",
      "Epoch 470/1000\n",
      "48000/48000 [==============================] - 2s 45us/step - loss: 0.0346 - categorical_accuracy: 0.8802 - val_loss: 0.0360 - val_categorical_accuracy: 0.8664\n"
     ]
    },
    {
     "name": "stdout",
     "output_type": "stream",
     "text": [
      "Epoch 471/1000\n",
      "48000/48000 [==============================] - 2s 51us/step - loss: 0.0345 - categorical_accuracy: 0.8804 - val_loss: 0.0359 - val_categorical_accuracy: 0.8652\n",
      "Epoch 472/1000\n",
      "48000/48000 [==============================] - 3s 52us/step - loss: 0.0344 - categorical_accuracy: 0.8807 - val_loss: 0.0359 - val_categorical_accuracy: 0.8669\n",
      "Epoch 473/1000\n",
      "48000/48000 [==============================] - 2s 48us/step - loss: 0.0343 - categorical_accuracy: 0.8814 - val_loss: 0.0358 - val_categorical_accuracy: 0.8644\n",
      "Epoch 474/1000\n",
      "48000/48000 [==============================] - 2s 46us/step - loss: 0.0343 - categorical_accuracy: 0.8805 - val_loss: 0.0357 - val_categorical_accuracy: 0.8673\n",
      "Epoch 475/1000\n",
      "48000/48000 [==============================] - 3s 56us/step - loss: 0.0342 - categorical_accuracy: 0.8819 - val_loss: 0.0356 - val_categorical_accuracy: 0.8672\n",
      "Epoch 476/1000\n",
      "48000/48000 [==============================] - 2s 48us/step - loss: 0.0341 - categorical_accuracy: 0.8809 - val_loss: 0.0356 - val_categorical_accuracy: 0.8674\n",
      "Epoch 477/1000\n",
      "48000/48000 [==============================] - 2s 46us/step - loss: 0.0340 - categorical_accuracy: 0.8812 - val_loss: 0.0355 - val_categorical_accuracy: 0.8662\n",
      "Epoch 478/1000\n",
      "48000/48000 [==============================] - 2s 47us/step - loss: 0.0339 - categorical_accuracy: 0.8818 - val_loss: 0.0354 - val_categorical_accuracy: 0.8685\n",
      "Epoch 479/1000\n",
      "48000/48000 [==============================] - 2s 49us/step - loss: 0.0338 - categorical_accuracy: 0.8826 - val_loss: 0.0353 - val_categorical_accuracy: 0.8680\n",
      "Epoch 480/1000\n",
      "48000/48000 [==============================] - 2s 45us/step - loss: 0.0338 - categorical_accuracy: 0.8821 - val_loss: 0.0352 - val_categorical_accuracy: 0.8669\n",
      "Epoch 481/1000\n",
      "48000/48000 [==============================] - 2s 45us/step - loss: 0.0337 - categorical_accuracy: 0.8816 - val_loss: 0.0352 - val_categorical_accuracy: 0.8686\n",
      "Epoch 482/1000\n",
      "48000/48000 [==============================] - 2s 48us/step - loss: 0.0336 - categorical_accuracy: 0.8829 - val_loss: 0.0351 - val_categorical_accuracy: 0.8684\n",
      "Epoch 483/1000\n",
      "48000/48000 [==============================] - 2s 51us/step - loss: 0.0335 - categorical_accuracy: 0.8829 - val_loss: 0.0350 - val_categorical_accuracy: 0.8675\n",
      "Epoch 484/1000\n",
      "48000/48000 [==============================] - 2s 51us/step - loss: 0.0334 - categorical_accuracy: 0.8827 - val_loss: 0.0349 - val_categorical_accuracy: 0.8686\n",
      "Epoch 485/1000\n",
      "48000/48000 [==============================] - 2s 48us/step - loss: 0.0333 - categorical_accuracy: 0.8826 - val_loss: 0.0348 - val_categorical_accuracy: 0.8653\n",
      "Epoch 486/1000\n",
      "48000/48000 [==============================] - 2s 46us/step - loss: 0.0333 - categorical_accuracy: 0.8824 - val_loss: 0.0348 - val_categorical_accuracy: 0.8649\n",
      "Epoch 487/1000\n",
      "48000/48000 [==============================] - 2s 45us/step - loss: 0.0332 - categorical_accuracy: 0.8828 - val_loss: 0.0347 - val_categorical_accuracy: 0.8690\n",
      "Epoch 488/1000\n",
      "48000/48000 [==============================] - 2s 47us/step - loss: 0.0331 - categorical_accuracy: 0.8829 - val_loss: 0.0346 - val_categorical_accuracy: 0.8690\n",
      "Epoch 489/1000\n",
      "48000/48000 [==============================] - 2s 49us/step - loss: 0.0330 - categorical_accuracy: 0.8834 - val_loss: 0.0346 - val_categorical_accuracy: 0.8680\n",
      "Epoch 490/1000\n",
      "48000/48000 [==============================] - 3s 53us/step - loss: 0.0329 - categorical_accuracy: 0.8838 - val_loss: 0.0345 - val_categorical_accuracy: 0.8676\n",
      "Epoch 491/1000\n",
      "48000/48000 [==============================] - 2s 49us/step - loss: 0.0328 - categorical_accuracy: 0.8830 - val_loss: 0.0344 - val_categorical_accuracy: 0.8694\n",
      "Epoch 492/1000\n",
      "48000/48000 [==============================] - 2s 49us/step - loss: 0.0328 - categorical_accuracy: 0.8836 - val_loss: 0.0343 - val_categorical_accuracy: 0.8677\n",
      "Epoch 493/1000\n",
      "48000/48000 [==============================] - 2s 47us/step - loss: 0.0327 - categorical_accuracy: 0.8834 - val_loss: 0.0342 - val_categorical_accuracy: 0.8665\n",
      "Epoch 494/1000\n",
      "48000/48000 [==============================] - 3s 56us/step - loss: 0.0326 - categorical_accuracy: 0.8836 - val_loss: 0.0342 - val_categorical_accuracy: 0.8680\n",
      "Epoch 495/1000\n",
      "48000/48000 [==============================] - 2s 47us/step - loss: 0.0325 - categorical_accuracy: 0.8839 - val_loss: 0.0341 - val_categorical_accuracy: 0.8689\n",
      "Epoch 496/1000\n",
      "48000/48000 [==============================] - 2s 50us/step - loss: 0.0324 - categorical_accuracy: 0.8835 - val_loss: 0.0340 - val_categorical_accuracy: 0.8683\n",
      "Epoch 497/1000\n",
      "48000/48000 [==============================] - 2s 52us/step - loss: 0.0323 - categorical_accuracy: 0.8834 - val_loss: 0.0339 - val_categorical_accuracy: 0.8678\n",
      "Epoch 498/1000\n",
      "48000/48000 [==============================] - 2s 50us/step - loss: 0.0322 - categorical_accuracy: 0.8836 - val_loss: 0.0338 - val_categorical_accuracy: 0.8700\n",
      "Epoch 499/1000\n",
      "48000/48000 [==============================] - 2s 52us/step - loss: 0.0322 - categorical_accuracy: 0.8844 - val_loss: 0.0338 - val_categorical_accuracy: 0.8692\n",
      "Epoch 500/1000\n",
      "48000/48000 [==============================] - 3s 53us/step - loss: 0.0321 - categorical_accuracy: 0.8840 - val_loss: 0.0337 - val_categorical_accuracy: 0.8691\n",
      "Epoch 501/1000\n",
      "48000/48000 [==============================] - 2s 46us/step - loss: 0.0320 - categorical_accuracy: 0.8845 - val_loss: 0.0336 - val_categorical_accuracy: 0.8701\n",
      "Epoch 502/1000\n",
      "48000/48000 [==============================] - 2s 46us/step - loss: 0.0319 - categorical_accuracy: 0.8840 - val_loss: 0.0335 - val_categorical_accuracy: 0.8699\n",
      "Epoch 503/1000\n",
      "48000/48000 [==============================] - 3s 58us/step - loss: 0.0318 - categorical_accuracy: 0.8844 - val_loss: 0.0335 - val_categorical_accuracy: 0.8687\n",
      "Epoch 504/1000\n",
      "48000/48000 [==============================] - 2s 50us/step - loss: 0.0318 - categorical_accuracy: 0.8845 - val_loss: 0.0334 - val_categorical_accuracy: 0.8686\n",
      "Epoch 505/1000\n",
      "48000/48000 [==============================] - 2s 51us/step - loss: 0.0317 - categorical_accuracy: 0.8850 - val_loss: 0.0333 - val_categorical_accuracy: 0.8660\n",
      "Epoch 506/1000\n",
      "48000/48000 [==============================] - 2s 46us/step - loss: 0.0316 - categorical_accuracy: 0.8847 - val_loss: 0.0332 - val_categorical_accuracy: 0.8706\n",
      "Epoch 507/1000\n",
      "48000/48000 [==============================] - 2s 48us/step - loss: 0.0315 - categorical_accuracy: 0.8850 - val_loss: 0.0332 - val_categorical_accuracy: 0.8697\n",
      "Epoch 508/1000\n",
      "48000/48000 [==============================] - 2s 48us/step - loss: 0.0315 - categorical_accuracy: 0.8855 - val_loss: 0.0331 - val_categorical_accuracy: 0.8722\n",
      "Epoch 509/1000\n",
      "48000/48000 [==============================] - 2s 45us/step - loss: 0.0314 - categorical_accuracy: 0.8855 - val_loss: 0.0331 - val_categorical_accuracy: 0.8709\n",
      "Epoch 510/1000\n",
      "48000/48000 [==============================] - 2s 48us/step - loss: 0.0313 - categorical_accuracy: 0.8847 - val_loss: 0.0330 - val_categorical_accuracy: 0.8706\n",
      "Epoch 511/1000\n",
      "48000/48000 [==============================] - 2s 46us/step - loss: 0.0313 - categorical_accuracy: 0.8856 - val_loss: 0.0329 - val_categorical_accuracy: 0.8707\n",
      "Epoch 512/1000\n",
      "48000/48000 [==============================] - 2s 46us/step - loss: 0.0312 - categorical_accuracy: 0.8863 - val_loss: 0.0328 - val_categorical_accuracy: 0.8717\n",
      "Epoch 513/1000\n",
      "48000/48000 [==============================] - 2s 49us/step - loss: 0.0311 - categorical_accuracy: 0.8858 - val_loss: 0.0328 - val_categorical_accuracy: 0.8720\n",
      "Epoch 514/1000\n",
      "48000/48000 [==============================] - 2s 46us/step - loss: 0.0311 - categorical_accuracy: 0.8864 - val_loss: 0.0328 - val_categorical_accuracy: 0.8708\n",
      "Epoch 515/1000\n",
      "48000/48000 [==============================] - 2s 51us/step - loss: 0.0310 - categorical_accuracy: 0.8871 - val_loss: 0.0327 - val_categorical_accuracy: 0.8724\n",
      "Epoch 516/1000\n",
      "48000/48000 [==============================] - 3s 55us/step - loss: 0.0309 - categorical_accuracy: 0.8869 - val_loss: 0.0326 - val_categorical_accuracy: 0.8716\n",
      "Epoch 517/1000\n",
      "48000/48000 [==============================] - 3s 53us/step - loss: 0.0308 - categorical_accuracy: 0.8876 - val_loss: 0.0326 - val_categorical_accuracy: 0.8727\n"
     ]
    },
    {
     "name": "stdout",
     "output_type": "stream",
     "text": [
      "Epoch 518/1000\n",
      "48000/48000 [==============================] - 2s 46us/step - loss: 0.0308 - categorical_accuracy: 0.8879 - val_loss: 0.0325 - val_categorical_accuracy: 0.8716\n",
      "Epoch 519/1000\n",
      "48000/48000 [==============================] - 2s 51us/step - loss: 0.0308 - categorical_accuracy: 0.8875 - val_loss: 0.0325 - val_categorical_accuracy: 0.8752\n",
      "Epoch 520/1000\n",
      "48000/48000 [==============================] - 2s 49us/step - loss: 0.0307 - categorical_accuracy: 0.8882 - val_loss: 0.0324 - val_categorical_accuracy: 0.8712\n",
      "Epoch 521/1000\n",
      "48000/48000 [==============================] - 2s 46us/step - loss: 0.0306 - categorical_accuracy: 0.8884 - val_loss: 0.0324 - val_categorical_accuracy: 0.8722\n",
      "Epoch 522/1000\n",
      "48000/48000 [==============================] - 2s 48us/step - loss: 0.0306 - categorical_accuracy: 0.8885 - val_loss: 0.0323 - val_categorical_accuracy: 0.8746\n",
      "Epoch 523/1000\n",
      "48000/48000 [==============================] - 3s 52us/step - loss: 0.0305 - categorical_accuracy: 0.8880 - val_loss: 0.0323 - val_categorical_accuracy: 0.8733\n",
      "Epoch 524/1000\n",
      "48000/48000 [==============================] - 3s 54us/step - loss: 0.0304 - categorical_accuracy: 0.8885 - val_loss: 0.0322 - val_categorical_accuracy: 0.8725\n",
      "Epoch 525/1000\n",
      "48000/48000 [==============================] - 3s 52us/step - loss: 0.0304 - categorical_accuracy: 0.8875 - val_loss: 0.0321 - val_categorical_accuracy: 0.8735\n",
      "Epoch 526/1000\n",
      "48000/48000 [==============================] - 2s 51us/step - loss: 0.0303 - categorical_accuracy: 0.8884 - val_loss: 0.0320 - val_categorical_accuracy: 0.8741\n",
      "Epoch 527/1000\n",
      "48000/48000 [==============================] - 3s 53us/step - loss: 0.0302 - categorical_accuracy: 0.8887 - val_loss: 0.0320 - val_categorical_accuracy: 0.8737\n",
      "Epoch 528/1000\n",
      "48000/48000 [==============================] - 3s 57us/step - loss: 0.0302 - categorical_accuracy: 0.8893 - val_loss: 0.0320 - val_categorical_accuracy: 0.8737\n",
      "Epoch 529/1000\n",
      "48000/48000 [==============================] - 3s 54us/step - loss: 0.0301 - categorical_accuracy: 0.8893 - val_loss: 0.0319 - val_categorical_accuracy: 0.8762\n",
      "Epoch 530/1000\n",
      "48000/48000 [==============================] - 3s 53us/step - loss: 0.0301 - categorical_accuracy: 0.8891 - val_loss: 0.0319 - val_categorical_accuracy: 0.8756\n",
      "Epoch 531/1000\n",
      "48000/48000 [==============================] - 2s 51us/step - loss: 0.0300 - categorical_accuracy: 0.8890 - val_loss: 0.0319 - val_categorical_accuracy: 0.8743\n",
      "Epoch 532/1000\n",
      "48000/48000 [==============================] - 3s 53us/step - loss: 0.0300 - categorical_accuracy: 0.8899 - val_loss: 0.0318 - val_categorical_accuracy: 0.8742\n",
      "Epoch 533/1000\n",
      "48000/48000 [==============================] - 3s 53us/step - loss: 0.0299 - categorical_accuracy: 0.8885 - val_loss: 0.0318 - val_categorical_accuracy: 0.8762\n",
      "Epoch 534/1000\n",
      "48000/48000 [==============================] - 2s 50us/step - loss: 0.0299 - categorical_accuracy: 0.8898 - val_loss: 0.0317 - val_categorical_accuracy: 0.8742\n",
      "Epoch 535/1000\n",
      "48000/48000 [==============================] - 2s 50us/step - loss: 0.0298 - categorical_accuracy: 0.8891 - val_loss: 0.0317 - val_categorical_accuracy: 0.8749\n",
      "Epoch 536/1000\n",
      "48000/48000 [==============================] - 2s 51us/step - loss: 0.0298 - categorical_accuracy: 0.8896 - val_loss: 0.0316 - val_categorical_accuracy: 0.8736\n",
      "Epoch 537/1000\n",
      "48000/48000 [==============================] - 2s 45us/step - loss: 0.0297 - categorical_accuracy: 0.8907 - val_loss: 0.0316 - val_categorical_accuracy: 0.8768\n",
      "Epoch 538/1000\n",
      "48000/48000 [==============================] - 2s 47us/step - loss: 0.0297 - categorical_accuracy: 0.8904 - val_loss: 0.0315 - val_categorical_accuracy: 0.8766\n",
      "Epoch 539/1000\n",
      "48000/48000 [==============================] - 2s 49us/step - loss: 0.0296 - categorical_accuracy: 0.8901 - val_loss: 0.0315 - val_categorical_accuracy: 0.8725\n",
      "Epoch 540/1000\n",
      "48000/48000 [==============================] - 2s 48us/step - loss: 0.0296 - categorical_accuracy: 0.8902 - val_loss: 0.0314 - val_categorical_accuracy: 0.8750\n",
      "Epoch 541/1000\n",
      "48000/48000 [==============================] - 2s 47us/step - loss: 0.0295 - categorical_accuracy: 0.8901 - val_loss: 0.0314 - val_categorical_accuracy: 0.8762\n",
      "Epoch 542/1000\n",
      "48000/48000 [==============================] - 2s 46us/step - loss: 0.0295 - categorical_accuracy: 0.8907 - val_loss: 0.0313 - val_categorical_accuracy: 0.8757\n",
      "Epoch 543/1000\n",
      "48000/48000 [==============================] - 2s 46us/step - loss: 0.0294 - categorical_accuracy: 0.8904 - val_loss: 0.0314 - val_categorical_accuracy: 0.8722\n",
      "Epoch 544/1000\n",
      "48000/48000 [==============================] - 2s 48us/step - loss: 0.0294 - categorical_accuracy: 0.8910 - val_loss: 0.0313 - val_categorical_accuracy: 0.8744\n",
      "Epoch 545/1000\n",
      "48000/48000 [==============================] - 2s 45us/step - loss: 0.0293 - categorical_accuracy: 0.8912 - val_loss: 0.0312 - val_categorical_accuracy: 0.8744\n",
      "Epoch 546/1000\n",
      "48000/48000 [==============================] - 2s 46us/step - loss: 0.0293 - categorical_accuracy: 0.8909 - val_loss: 0.0312 - val_categorical_accuracy: 0.8726\n",
      "Epoch 547/1000\n",
      "48000/48000 [==============================] - 3s 56us/step - loss: 0.0292 - categorical_accuracy: 0.8910 - val_loss: 0.0311 - val_categorical_accuracy: 0.8738\n",
      "Epoch 548/1000\n",
      "48000/48000 [==============================] - 2s 47us/step - loss: 0.0291 - categorical_accuracy: 0.8912 - val_loss: 0.0311 - val_categorical_accuracy: 0.8732\n",
      "Epoch 549/1000\n",
      "48000/48000 [==============================] - 2s 46us/step - loss: 0.0291 - categorical_accuracy: 0.8915 - val_loss: 0.0310 - val_categorical_accuracy: 0.8743\n",
      "Epoch 550/1000\n",
      "48000/48000 [==============================] - 2s 47us/step - loss: 0.0290 - categorical_accuracy: 0.8911 - val_loss: 0.0309 - val_categorical_accuracy: 0.8764\n",
      "Epoch 551/1000\n",
      "48000/48000 [==============================] - 2s 51us/step - loss: 0.0290 - categorical_accuracy: 0.8910 - val_loss: 0.0309 - val_categorical_accuracy: 0.8745\n",
      "Epoch 552/1000\n",
      "48000/48000 [==============================] - 2s 49us/step - loss: 0.0289 - categorical_accuracy: 0.8921 - val_loss: 0.0308 - val_categorical_accuracy: 0.8738\n",
      "Epoch 553/1000\n",
      "48000/48000 [==============================] - 2s 48us/step - loss: 0.0289 - categorical_accuracy: 0.8922 - val_loss: 0.0308 - val_categorical_accuracy: 0.8748\n",
      "Epoch 554/1000\n",
      "48000/48000 [==============================] - 2s 51us/step - loss: 0.0288 - categorical_accuracy: 0.8921 - val_loss: 0.0307 - val_categorical_accuracy: 0.8752\n",
      "Epoch 555/1000\n",
      "48000/48000 [==============================] - 2s 49us/step - loss: 0.0287 - categorical_accuracy: 0.8921 - val_loss: 0.0307 - val_categorical_accuracy: 0.8738\n",
      "Epoch 556/1000\n",
      "48000/48000 [==============================] - 2s 47us/step - loss: 0.0287 - categorical_accuracy: 0.8920 - val_loss: 0.0307 - val_categorical_accuracy: 0.8741\n",
      "Epoch 557/1000\n",
      "48000/48000 [==============================] - 2s 46us/step - loss: 0.0286 - categorical_accuracy: 0.8919 - val_loss: 0.0305 - val_categorical_accuracy: 0.8761\n",
      "Epoch 558/1000\n",
      "48000/48000 [==============================] - 2s 48us/step - loss: 0.0285 - categorical_accuracy: 0.8925 - val_loss: 0.0305 - val_categorical_accuracy: 0.8753\n",
      "Epoch 559/1000\n",
      "48000/48000 [==============================] - 2s 51us/step - loss: 0.0285 - categorical_accuracy: 0.8920 - val_loss: 0.0304 - val_categorical_accuracy: 0.8763\n",
      "Epoch 560/1000\n",
      "48000/48000 [==============================] - 2s 47us/step - loss: 0.0284 - categorical_accuracy: 0.8927 - val_loss: 0.0303 - val_categorical_accuracy: 0.8745\n",
      "Epoch 561/1000\n",
      "48000/48000 [==============================] - 2s 45us/step - loss: 0.0283 - categorical_accuracy: 0.8925 - val_loss: 0.0303 - val_categorical_accuracy: 0.8766\n",
      "Epoch 562/1000\n",
      "48000/48000 [==============================] - 2s 46us/step - loss: 0.0283 - categorical_accuracy: 0.8927 - val_loss: 0.0302 - val_categorical_accuracy: 0.8750\n",
      "Epoch 563/1000\n",
      "48000/48000 [==============================] - 2s 46us/step - loss: 0.0282 - categorical_accuracy: 0.8929 - val_loss: 0.0301 - val_categorical_accuracy: 0.8776\n",
      "Epoch 564/1000\n",
      "48000/48000 [==============================] - 2s 47us/step - loss: 0.0281 - categorical_accuracy: 0.8935 - val_loss: 0.0300 - val_categorical_accuracy: 0.8765\n"
     ]
    },
    {
     "name": "stdout",
     "output_type": "stream",
     "text": [
      "Epoch 565/1000\n",
      "48000/48000 [==============================] - 2s 49us/step - loss: 0.0281 - categorical_accuracy: 0.8931 - val_loss: 0.0300 - val_categorical_accuracy: 0.8772\n",
      "Epoch 566/1000\n",
      "48000/48000 [==============================] - 2s 51us/step - loss: 0.0280 - categorical_accuracy: 0.8940 - val_loss: 0.0299 - val_categorical_accuracy: 0.8762\n",
      "Epoch 567/1000\n",
      "48000/48000 [==============================] - 3s 52us/step - loss: 0.0279 - categorical_accuracy: 0.8940 - val_loss: 0.0298 - val_categorical_accuracy: 0.8778\n",
      "Epoch 568/1000\n",
      "48000/48000 [==============================] - 2s 49us/step - loss: 0.0278 - categorical_accuracy: 0.8936 - val_loss: 0.0297 - val_categorical_accuracy: 0.8795\n",
      "Epoch 569/1000\n",
      "48000/48000 [==============================] - 2s 45us/step - loss: 0.0277 - categorical_accuracy: 0.8942 - val_loss: 0.0296 - val_categorical_accuracy: 0.8786\n",
      "Epoch 570/1000\n",
      "48000/48000 [==============================] - 2s 47us/step - loss: 0.0277 - categorical_accuracy: 0.8943 - val_loss: 0.0296 - val_categorical_accuracy: 0.8782\n",
      "Epoch 571/1000\n",
      "48000/48000 [==============================] - 2s 48us/step - loss: 0.0276 - categorical_accuracy: 0.8948 - val_loss: 0.0296 - val_categorical_accuracy: 0.8797\n",
      "Epoch 572/1000\n",
      "48000/48000 [==============================] - 2s 46us/step - loss: 0.0275 - categorical_accuracy: 0.8946 - val_loss: 0.0294 - val_categorical_accuracy: 0.8778\n",
      "Epoch 573/1000\n",
      "48000/48000 [==============================] - 2s 46us/step - loss: 0.0274 - categorical_accuracy: 0.8947 - val_loss: 0.0294 - val_categorical_accuracy: 0.8781\n",
      "Epoch 574/1000\n",
      "48000/48000 [==============================] - 2s 52us/step - loss: 0.0274 - categorical_accuracy: 0.8943 - val_loss: 0.0293 - val_categorical_accuracy: 0.8799\n",
      "Epoch 575/1000\n",
      "48000/48000 [==============================] - 2s 45us/step - loss: 0.0272 - categorical_accuracy: 0.8951 - val_loss: 0.0292 - val_categorical_accuracy: 0.8787\n",
      "Epoch 576/1000\n",
      "48000/48000 [==============================] - 2s 46us/step - loss: 0.0272 - categorical_accuracy: 0.8945 - val_loss: 0.0292 - val_categorical_accuracy: 0.8751\n",
      "Epoch 577/1000\n",
      "48000/48000 [==============================] - 2s 46us/step - loss: 0.0271 - categorical_accuracy: 0.8954 - val_loss: 0.0290 - val_categorical_accuracy: 0.8796\n",
      "Epoch 578/1000\n",
      "48000/48000 [==============================] - 2s 52us/step - loss: 0.0270 - categorical_accuracy: 0.8955 - val_loss: 0.0290 - val_categorical_accuracy: 0.8772\n",
      "Epoch 579/1000\n",
      "48000/48000 [==============================] - 2s 45us/step - loss: 0.0269 - categorical_accuracy: 0.8955 - val_loss: 0.0288 - val_categorical_accuracy: 0.8795\n",
      "Epoch 580/1000\n",
      "48000/48000 [==============================] - 2s 47us/step - loss: 0.0268 - categorical_accuracy: 0.8950 - val_loss: 0.0287 - val_categorical_accuracy: 0.8794\n",
      "Epoch 581/1000\n",
      "48000/48000 [==============================] - 3s 52us/step - loss: 0.0267 - categorical_accuracy: 0.8955 - val_loss: 0.0287 - val_categorical_accuracy: 0.8799\n",
      "Epoch 582/1000\n",
      "48000/48000 [==============================] - 2s 45us/step - loss: 0.0266 - categorical_accuracy: 0.8958 - val_loss: 0.0286 - val_categorical_accuracy: 0.8798\n",
      "Epoch 583/1000\n",
      "48000/48000 [==============================] - 2s 45us/step - loss: 0.0265 - categorical_accuracy: 0.8956 - val_loss: 0.0285 - val_categorical_accuracy: 0.8797\n",
      "Epoch 584/1000\n",
      "48000/48000 [==============================] - 2s 46us/step - loss: 0.0264 - categorical_accuracy: 0.8962 - val_loss: 0.0284 - val_categorical_accuracy: 0.8808\n",
      "Epoch 585/1000\n",
      "48000/48000 [==============================] - 2s 46us/step - loss: 0.0263 - categorical_accuracy: 0.8961 - val_loss: 0.0283 - val_categorical_accuracy: 0.8796\n",
      "Epoch 586/1000\n",
      "48000/48000 [==============================] - 2s 51us/step - loss: 0.0263 - categorical_accuracy: 0.8964 - val_loss: 0.0282 - val_categorical_accuracy: 0.8807\n",
      "Epoch 587/1000\n",
      "48000/48000 [==============================] - 2s 51us/step - loss: 0.0262 - categorical_accuracy: 0.8969 - val_loss: 0.0281 - val_categorical_accuracy: 0.8804\n",
      "Epoch 588/1000\n",
      "48000/48000 [==============================] - 2s 48us/step - loss: 0.0261 - categorical_accuracy: 0.8980 - val_loss: 0.0280 - val_categorical_accuracy: 0.8826\n",
      "Epoch 589/1000\n",
      "48000/48000 [==============================] - 2s 45us/step - loss: 0.0260 - categorical_accuracy: 0.8986 - val_loss: 0.0279 - val_categorical_accuracy: 0.8830\n",
      "Epoch 590/1000\n",
      "48000/48000 [==============================] - 2s 45us/step - loss: 0.0259 - categorical_accuracy: 0.8985 - val_loss: 0.0279 - val_categorical_accuracy: 0.8837\n",
      "Epoch 591/1000\n",
      "48000/48000 [==============================] - 2s 46us/step - loss: 0.0257 - categorical_accuracy: 0.8985 - val_loss: 0.0277 - val_categorical_accuracy: 0.8837\n",
      "Epoch 592/1000\n",
      "48000/48000 [==============================] - 2s 48us/step - loss: 0.0256 - categorical_accuracy: 0.8986 - val_loss: 0.0276 - val_categorical_accuracy: 0.8834\n",
      "Epoch 593/1000\n",
      "48000/48000 [==============================] - 2s 48us/step - loss: 0.0255 - categorical_accuracy: 0.8991 - val_loss: 0.0276 - val_categorical_accuracy: 0.8827\n",
      "Epoch 594/1000\n",
      "48000/48000 [==============================] - 2s 47us/step - loss: 0.0255 - categorical_accuracy: 0.8991 - val_loss: 0.0274 - val_categorical_accuracy: 0.8837\n",
      "Epoch 595/1000\n",
      "48000/48000 [==============================] - 2s 46us/step - loss: 0.0254 - categorical_accuracy: 0.8991 - val_loss: 0.0274 - val_categorical_accuracy: 0.8832\n",
      "Epoch 596/1000\n",
      "48000/48000 [==============================] - 2s 46us/step - loss: 0.0253 - categorical_accuracy: 0.8992 - val_loss: 0.0272 - val_categorical_accuracy: 0.8834\n",
      "Epoch 597/1000\n",
      "48000/48000 [==============================] - 2s 48us/step - loss: 0.0252 - categorical_accuracy: 0.8991 - val_loss: 0.0271 - val_categorical_accuracy: 0.8841\n",
      "Epoch 598/1000\n",
      "48000/48000 [==============================] - 2s 48us/step - loss: 0.0251 - categorical_accuracy: 0.8996 - val_loss: 0.0270 - val_categorical_accuracy: 0.8834\n",
      "Epoch 599/1000\n",
      "48000/48000 [==============================] - 2s 46us/step - loss: 0.0250 - categorical_accuracy: 0.8994 - val_loss: 0.0269 - val_categorical_accuracy: 0.8839\n",
      "Epoch 600/1000\n",
      "48000/48000 [==============================] - 2s 48us/step - loss: 0.0248 - categorical_accuracy: 0.8999 - val_loss: 0.0268 - val_categorical_accuracy: 0.8837\n",
      "Epoch 601/1000\n",
      "48000/48000 [==============================] - 2s 45us/step - loss: 0.0247 - categorical_accuracy: 0.9004 - val_loss: 0.0267 - val_categorical_accuracy: 0.8828\n",
      "Epoch 602/1000\n",
      "48000/48000 [==============================] - 2s 46us/step - loss: 0.0247 - categorical_accuracy: 0.8999 - val_loss: 0.0266 - val_categorical_accuracy: 0.8835\n",
      "Epoch 603/1000\n",
      "48000/48000 [==============================] - 2s 46us/step - loss: 0.0246 - categorical_accuracy: 0.8997 - val_loss: 0.0265 - val_categorical_accuracy: 0.8838\n",
      "Epoch 604/1000\n",
      "48000/48000 [==============================] - 2s 45us/step - loss: 0.0245 - categorical_accuracy: 0.8999 - val_loss: 0.0265 - val_categorical_accuracy: 0.8846\n",
      "Epoch 605/1000\n",
      "48000/48000 [==============================] - 2s 47us/step - loss: 0.0244 - categorical_accuracy: 0.9000 - val_loss: 0.0263 - val_categorical_accuracy: 0.8842\n",
      "Epoch 606/1000\n",
      "48000/48000 [==============================] - 2s 47us/step - loss: 0.0243 - categorical_accuracy: 0.9005 - val_loss: 0.0263 - val_categorical_accuracy: 0.8838\n",
      "Epoch 607/1000\n",
      "48000/48000 [==============================] - 2s 45us/step - loss: 0.0242 - categorical_accuracy: 0.9002 - val_loss: 0.0262 - val_categorical_accuracy: 0.8852\n",
      "Epoch 608/1000\n",
      "48000/48000 [==============================] - 2s 45us/step - loss: 0.0241 - categorical_accuracy: 0.9008 - val_loss: 0.0261 - val_categorical_accuracy: 0.8850\n",
      "Epoch 609/1000\n",
      "48000/48000 [==============================] - 2s 45us/step - loss: 0.0240 - categorical_accuracy: 0.9003 - val_loss: 0.0260 - val_categorical_accuracy: 0.8849\n",
      "Epoch 610/1000\n",
      "48000/48000 [==============================] - 2s 46us/step - loss: 0.0239 - categorical_accuracy: 0.9005 - val_loss: 0.0259 - val_categorical_accuracy: 0.8852\n",
      "Epoch 611/1000\n",
      "48000/48000 [==============================] - 2s 49us/step - loss: 0.0238 - categorical_accuracy: 0.9006 - val_loss: 0.0259 - val_categorical_accuracy: 0.8852\n"
     ]
    },
    {
     "name": "stdout",
     "output_type": "stream",
     "text": [
      "Epoch 612/1000\n",
      "48000/48000 [==============================] - 2s 50us/step - loss: 0.0237 - categorical_accuracy: 0.9010 - val_loss: 0.0258 - val_categorical_accuracy: 0.8857\n",
      "Epoch 613/1000\n",
      "48000/48000 [==============================] - 2s 51us/step - loss: 0.0236 - categorical_accuracy: 0.9011 - val_loss: 0.0256 - val_categorical_accuracy: 0.8862\n",
      "Epoch 614/1000\n",
      "48000/48000 [==============================] - 2s 48us/step - loss: 0.0236 - categorical_accuracy: 0.9010 - val_loss: 0.0256 - val_categorical_accuracy: 0.8855\n",
      "Epoch 615/1000\n",
      "48000/48000 [==============================] - 2s 46us/step - loss: 0.0235 - categorical_accuracy: 0.9010 - val_loss: 0.0255 - val_categorical_accuracy: 0.8861\n",
      "Epoch 616/1000\n",
      "48000/48000 [==============================] - 2s 46us/step - loss: 0.0234 - categorical_accuracy: 0.9009 - val_loss: 0.0254 - val_categorical_accuracy: 0.8853\n",
      "Epoch 617/1000\n",
      "48000/48000 [==============================] - 2s 48us/step - loss: 0.0234 - categorical_accuracy: 0.9012 - val_loss: 0.0255 - val_categorical_accuracy: 0.8855\n",
      "Epoch 618/1000\n",
      "48000/48000 [==============================] - 2s 46us/step - loss: 0.0233 - categorical_accuracy: 0.9010 - val_loss: 0.0252 - val_categorical_accuracy: 0.8857\n",
      "Epoch 619/1000\n",
      "48000/48000 [==============================] - 2s 46us/step - loss: 0.0232 - categorical_accuracy: 0.9014 - val_loss: 0.0252 - val_categorical_accuracy: 0.8861\n",
      "Epoch 620/1000\n",
      "48000/48000 [==============================] - 3s 54us/step - loss: 0.0231 - categorical_accuracy: 0.9021 - val_loss: 0.0251 - val_categorical_accuracy: 0.8859\n",
      "Epoch 621/1000\n",
      "48000/48000 [==============================] - 2s 46us/step - loss: 0.0230 - categorical_accuracy: 0.9021 - val_loss: 0.0251 - val_categorical_accuracy: 0.8855\n",
      "Epoch 622/1000\n",
      "48000/48000 [==============================] - 2s 45us/step - loss: 0.0229 - categorical_accuracy: 0.9022 - val_loss: 0.0250 - val_categorical_accuracy: 0.8867\n",
      "Epoch 623/1000\n",
      "48000/48000 [==============================] - 2s 46us/step - loss: 0.0229 - categorical_accuracy: 0.9023 - val_loss: 0.0250 - val_categorical_accuracy: 0.8857\n",
      "Epoch 624/1000\n",
      "48000/48000 [==============================] - 2s 47us/step - loss: 0.0228 - categorical_accuracy: 0.9019 - val_loss: 0.0249 - val_categorical_accuracy: 0.8850\n",
      "Epoch 625/1000\n",
      "48000/48000 [==============================] - 2s 50us/step - loss: 0.0227 - categorical_accuracy: 0.9028 - val_loss: 0.0248 - val_categorical_accuracy: 0.8842\n",
      "Epoch 626/1000\n",
      "48000/48000 [==============================] - 2s 49us/step - loss: 0.0227 - categorical_accuracy: 0.9028 - val_loss: 0.0248 - val_categorical_accuracy: 0.8854\n",
      "Epoch 627/1000\n",
      "48000/48000 [==============================] - 2s 46us/step - loss: 0.0226 - categorical_accuracy: 0.9030 - val_loss: 0.0247 - val_categorical_accuracy: 0.8863\n",
      "Epoch 628/1000\n",
      "48000/48000 [==============================] - 2s 51us/step - loss: 0.0226 - categorical_accuracy: 0.9029 - val_loss: 0.0247 - val_categorical_accuracy: 0.8864\n",
      "Epoch 629/1000\n",
      "48000/48000 [==============================] - 3s 57us/step - loss: 0.0225 - categorical_accuracy: 0.9031 - val_loss: 0.0247 - val_categorical_accuracy: 0.8847\n",
      "Epoch 630/1000\n",
      "48000/48000 [==============================] - 2s 48us/step - loss: 0.0225 - categorical_accuracy: 0.9028 - val_loss: 0.0246 - val_categorical_accuracy: 0.8856\n",
      "Epoch 631/1000\n",
      "48000/48000 [==============================] - 2s 46us/step - loss: 0.0224 - categorical_accuracy: 0.9036 - val_loss: 0.0246 - val_categorical_accuracy: 0.8861\n",
      "Epoch 632/1000\n",
      "48000/48000 [==============================] - 3s 53us/step - loss: 0.0224 - categorical_accuracy: 0.9034 - val_loss: 0.0244 - val_categorical_accuracy: 0.8863\n",
      "Epoch 633/1000\n",
      "48000/48000 [==============================] - 2s 50us/step - loss: 0.0223 - categorical_accuracy: 0.9038 - val_loss: 0.0244 - val_categorical_accuracy: 0.8867\n",
      "Epoch 634/1000\n",
      "48000/48000 [==============================] - 2s 47us/step - loss: 0.0222 - categorical_accuracy: 0.9040 - val_loss: 0.0243 - val_categorical_accuracy: 0.8872\n",
      "Epoch 635/1000\n",
      "48000/48000 [==============================] - 3s 59us/step - loss: 0.0223 - categorical_accuracy: 0.9032 - val_loss: 0.0244 - val_categorical_accuracy: 0.8882\n",
      "Epoch 636/1000\n",
      "48000/48000 [==============================] - 3s 52us/step - loss: 0.0222 - categorical_accuracy: 0.9042 - val_loss: 0.0243 - val_categorical_accuracy: 0.8874\n",
      "Epoch 637/1000\n",
      "48000/48000 [==============================] - 2s 48us/step - loss: 0.0221 - categorical_accuracy: 0.9038 - val_loss: 0.0242 - val_categorical_accuracy: 0.8870\n",
      "Epoch 638/1000\n",
      "48000/48000 [==============================] - 2s 50us/step - loss: 0.0220 - categorical_accuracy: 0.9045 - val_loss: 0.0242 - val_categorical_accuracy: 0.8864\n",
      "Epoch 639/1000\n",
      "48000/48000 [==============================] - 2s 48us/step - loss: 0.0220 - categorical_accuracy: 0.9047 - val_loss: 0.0241 - val_categorical_accuracy: 0.8873\n",
      "Epoch 640/1000\n",
      "48000/48000 [==============================] - 2s 50us/step - loss: 0.0219 - categorical_accuracy: 0.9056 - val_loss: 0.0241 - val_categorical_accuracy: 0.8876\n",
      "Epoch 641/1000\n",
      "48000/48000 [==============================] - 2s 48us/step - loss: 0.0219 - categorical_accuracy: 0.9051 - val_loss: 0.0240 - val_categorical_accuracy: 0.8877\n",
      "Epoch 642/1000\n",
      "48000/48000 [==============================] - 2s 50us/step - loss: 0.0218 - categorical_accuracy: 0.9054 - val_loss: 0.0240 - val_categorical_accuracy: 0.8876\n",
      "Epoch 643/1000\n",
      "48000/48000 [==============================] - 2s 46us/step - loss: 0.0218 - categorical_accuracy: 0.9060 - val_loss: 0.0240 - val_categorical_accuracy: 0.8872\n",
      "Epoch 644/1000\n",
      "48000/48000 [==============================] - 2s 48us/step - loss: 0.0218 - categorical_accuracy: 0.9056 - val_loss: 0.0239 - val_categorical_accuracy: 0.8872\n",
      "Epoch 645/1000\n",
      "48000/48000 [==============================] - 2s 50us/step - loss: 0.0217 - categorical_accuracy: 0.9063 - val_loss: 0.0239 - val_categorical_accuracy: 0.8877\n",
      "Epoch 646/1000\n",
      "48000/48000 [==============================] - 2s 46us/step - loss: 0.0217 - categorical_accuracy: 0.9064 - val_loss: 0.0238 - val_categorical_accuracy: 0.8877\n",
      "Epoch 647/1000\n",
      "48000/48000 [==============================] - 2s 46us/step - loss: 0.0216 - categorical_accuracy: 0.9063 - val_loss: 0.0238 - val_categorical_accuracy: 0.8867\n",
      "Epoch 648/1000\n",
      "48000/48000 [==============================] - 2s 48us/step - loss: 0.0216 - categorical_accuracy: 0.9066 - val_loss: 0.0238 - val_categorical_accuracy: 0.8867\n",
      "Epoch 649/1000\n",
      "48000/48000 [==============================] - 3s 55us/step - loss: 0.0215 - categorical_accuracy: 0.9066 - val_loss: 0.0237 - val_categorical_accuracy: 0.8881\n",
      "Epoch 650/1000\n",
      "48000/48000 [==============================] - 2s 47us/step - loss: 0.0215 - categorical_accuracy: 0.9064 - val_loss: 0.0237 - val_categorical_accuracy: 0.8881\n",
      "Epoch 651/1000\n",
      "48000/48000 [==============================] - 2s 49us/step - loss: 0.0214 - categorical_accuracy: 0.9066 - val_loss: 0.0237 - val_categorical_accuracy: 0.8877\n",
      "Epoch 652/1000\n",
      "48000/48000 [==============================] - 2s 50us/step - loss: 0.0215 - categorical_accuracy: 0.9071 - val_loss: 0.0236 - val_categorical_accuracy: 0.8884\n",
      "Epoch 653/1000\n",
      "48000/48000 [==============================] - 2s 47us/step - loss: 0.0214 - categorical_accuracy: 0.9075 - val_loss: 0.0236 - val_categorical_accuracy: 0.8873\n",
      "Epoch 654/1000\n",
      "48000/48000 [==============================] - 3s 52us/step - loss: 0.0213 - categorical_accuracy: 0.9076 - val_loss: 0.0236 - val_categorical_accuracy: 0.8879\n",
      "Epoch 655/1000\n",
      "48000/48000 [==============================] - 2s 51us/step - loss: 0.0213 - categorical_accuracy: 0.9078 - val_loss: 0.0235 - val_categorical_accuracy: 0.8881\n",
      "Epoch 656/1000\n",
      "48000/48000 [==============================] - 2s 51us/step - loss: 0.0212 - categorical_accuracy: 0.9080 - val_loss: 0.0235 - val_categorical_accuracy: 0.8880\n",
      "Epoch 657/1000\n",
      "48000/48000 [==============================] - 2s 51us/step - loss: 0.0212 - categorical_accuracy: 0.9081 - val_loss: 0.0234 - val_categorical_accuracy: 0.8886\n",
      "Epoch 658/1000\n",
      "48000/48000 [==============================] - 3s 56us/step - loss: 0.0211 - categorical_accuracy: 0.9080 - val_loss: 0.0234 - val_categorical_accuracy: 0.8887\n"
     ]
    },
    {
     "name": "stdout",
     "output_type": "stream",
     "text": [
      "Epoch 659/1000\n",
      "48000/48000 [==============================] - 2s 52us/step - loss: 0.0211 - categorical_accuracy: 0.9080 - val_loss: 0.0234 - val_categorical_accuracy: 0.8886\n",
      "Epoch 660/1000\n",
      "48000/48000 [==============================] - 2s 47us/step - loss: 0.0211 - categorical_accuracy: 0.9082 - val_loss: 0.0233 - val_categorical_accuracy: 0.8892\n",
      "Epoch 661/1000\n",
      "48000/48000 [==============================] - 2s 49us/step - loss: 0.0210 - categorical_accuracy: 0.9086 - val_loss: 0.0233 - val_categorical_accuracy: 0.8891\n",
      "Epoch 662/1000\n",
      "48000/48000 [==============================] - 2s 47us/step - loss: 0.0210 - categorical_accuracy: 0.9083 - val_loss: 0.0233 - val_categorical_accuracy: 0.8887\n",
      "Epoch 663/1000\n",
      "48000/48000 [==============================] - ETA: 0s - loss: 0.0209 - categorical_accuracy: 0.90 - 2s 47us/step - loss: 0.0210 - categorical_accuracy: 0.9087 - val_loss: 0.0233 - val_categorical_accuracy: 0.8878\n",
      "Epoch 664/1000\n",
      "48000/48000 [==============================] - 2s 47us/step - loss: 0.0209 - categorical_accuracy: 0.9090 - val_loss: 0.0231 - val_categorical_accuracy: 0.8893\n",
      "Epoch 665/1000\n",
      "48000/48000 [==============================] - 2s 47us/step - loss: 0.0209 - categorical_accuracy: 0.9088 - val_loss: 0.0231 - val_categorical_accuracy: 0.8890\n",
      "Epoch 666/1000\n",
      "48000/48000 [==============================] - 2s 46us/step - loss: 0.0208 - categorical_accuracy: 0.9088 - val_loss: 0.0231 - val_categorical_accuracy: 0.8896\n",
      "Epoch 667/1000\n",
      "48000/48000 [==============================] - 2s 48us/step - loss: 0.0208 - categorical_accuracy: 0.9092 - val_loss: 0.0230 - val_categorical_accuracy: 0.8892\n",
      "Epoch 668/1000\n",
      "48000/48000 [==============================] - 2s 46us/step - loss: 0.0208 - categorical_accuracy: 0.9083 - val_loss: 0.0230 - val_categorical_accuracy: 0.8894\n",
      "Epoch 669/1000\n",
      "48000/48000 [==============================] - 2s 46us/step - loss: 0.0207 - categorical_accuracy: 0.9090 - val_loss: 0.0230 - val_categorical_accuracy: 0.8896\n",
      "Epoch 670/1000\n",
      "48000/48000 [==============================] - 2s 46us/step - loss: 0.0207 - categorical_accuracy: 0.9094 - val_loss: 0.0230 - val_categorical_accuracy: 0.8899\n",
      "Epoch 671/1000\n",
      "48000/48000 [==============================] - 2s 50us/step - loss: 0.0207 - categorical_accuracy: 0.9094 - val_loss: 0.0229 - val_categorical_accuracy: 0.8902\n",
      "Epoch 672/1000\n",
      "48000/48000 [==============================] - 2s 51us/step - loss: 0.0206 - categorical_accuracy: 0.9093 - val_loss: 0.0229 - val_categorical_accuracy: 0.8897\n",
      "Epoch 673/1000\n",
      "48000/48000 [==============================] - 2s 50us/step - loss: 0.0205 - categorical_accuracy: 0.9099 - val_loss: 0.0229 - val_categorical_accuracy: 0.8898\n",
      "Epoch 674/1000\n",
      "48000/48000 [==============================] - 2s 48us/step - loss: 0.0205 - categorical_accuracy: 0.9101 - val_loss: 0.0228 - val_categorical_accuracy: 0.8905\n",
      "Epoch 675/1000\n",
      "48000/48000 [==============================] - 2s 47us/step - loss: 0.0204 - categorical_accuracy: 0.9101 - val_loss: 0.0228 - val_categorical_accuracy: 0.8902\n",
      "Epoch 676/1000\n",
      "48000/48000 [==============================] - 2s 47us/step - loss: 0.0204 - categorical_accuracy: 0.9110 - val_loss: 0.0227 - val_categorical_accuracy: 0.8902\n",
      "Epoch 677/1000\n",
      "48000/48000 [==============================] - 2s 48us/step - loss: 0.0203 - categorical_accuracy: 0.9103 - val_loss: 0.0227 - val_categorical_accuracy: 0.8907\n",
      "Epoch 678/1000\n",
      "48000/48000 [==============================] - 2s 47us/step - loss: 0.0203 - categorical_accuracy: 0.9106 - val_loss: 0.0227 - val_categorical_accuracy: 0.8908\n",
      "Epoch 679/1000\n",
      "48000/48000 [==============================] - 3s 53us/step - loss: 0.0203 - categorical_accuracy: 0.9100 - val_loss: 0.0226 - val_categorical_accuracy: 0.8913\n",
      "Epoch 680/1000\n",
      "48000/48000 [==============================] - 2s 49us/step - loss: 0.0202 - categorical_accuracy: 0.9106 - val_loss: 0.0226 - val_categorical_accuracy: 0.8914\n",
      "Epoch 681/1000\n",
      "48000/48000 [==============================] - 2s 50us/step - loss: 0.0202 - categorical_accuracy: 0.9111 - val_loss: 0.0225 - val_categorical_accuracy: 0.8912\n",
      "Epoch 682/1000\n",
      "48000/48000 [==============================] - 2s 47us/step - loss: 0.0202 - categorical_accuracy: 0.9106 - val_loss: 0.0225 - val_categorical_accuracy: 0.8917\n",
      "Epoch 683/1000\n",
      "48000/48000 [==============================] - 2s 51us/step - loss: 0.0201 - categorical_accuracy: 0.9109 - val_loss: 0.0225 - val_categorical_accuracy: 0.8917\n",
      "Epoch 684/1000\n",
      "48000/48000 [==============================] - 2s 47us/step - loss: 0.0201 - categorical_accuracy: 0.9115 - val_loss: 0.0224 - val_categorical_accuracy: 0.8912\n",
      "Epoch 685/1000\n",
      "48000/48000 [==============================] - 2s 47us/step - loss: 0.0200 - categorical_accuracy: 0.9116 - val_loss: 0.0224 - val_categorical_accuracy: 0.8913\n",
      "Epoch 686/1000\n",
      "48000/48000 [==============================] - 2s 49us/step - loss: 0.0199 - categorical_accuracy: 0.9115 - val_loss: 0.0223 - val_categorical_accuracy: 0.8919\n",
      "Epoch 687/1000\n",
      "48000/48000 [==============================] - 2s 46us/step - loss: 0.0199 - categorical_accuracy: 0.9115 - val_loss: 0.0223 - val_categorical_accuracy: 0.8927\n",
      "Epoch 688/1000\n",
      "48000/48000 [==============================] - 2s 48us/step - loss: 0.0198 - categorical_accuracy: 0.9116 - val_loss: 0.0223 - val_categorical_accuracy: 0.8917\n",
      "Epoch 689/1000\n",
      "48000/48000 [==============================] - 2s 50us/step - loss: 0.0198 - categorical_accuracy: 0.9116 - val_loss: 0.0222 - val_categorical_accuracy: 0.8931\n",
      "Epoch 690/1000\n",
      "48000/48000 [==============================] - 2s 47us/step - loss: 0.0198 - categorical_accuracy: 0.9122 - val_loss: 0.0222 - val_categorical_accuracy: 0.8922\n",
      "Epoch 691/1000\n",
      "48000/48000 [==============================] - 2s 46us/step - loss: 0.0197 - categorical_accuracy: 0.9125 - val_loss: 0.0221 - val_categorical_accuracy: 0.8918\n",
      "Epoch 692/1000\n",
      "48000/48000 [==============================] - 2s 47us/step - loss: 0.0197 - categorical_accuracy: 0.9133 - val_loss: 0.0221 - val_categorical_accuracy: 0.8924\n",
      "Epoch 693/1000\n",
      "48000/48000 [==============================] - 2s 47us/step - loss: 0.0196 - categorical_accuracy: 0.9127 - val_loss: 0.0221 - val_categorical_accuracy: 0.8927\n",
      "Epoch 694/1000\n",
      "48000/48000 [==============================] - 2s 45us/step - loss: 0.0196 - categorical_accuracy: 0.9127 - val_loss: 0.0221 - val_categorical_accuracy: 0.8919\n",
      "Epoch 695/1000\n",
      "48000/48000 [==============================] - 2s 48us/step - loss: 0.0196 - categorical_accuracy: 0.9129 - val_loss: 0.0220 - val_categorical_accuracy: 0.8927\n",
      "Epoch 696/1000\n",
      "48000/48000 [==============================] - 2s 47us/step - loss: 0.0195 - categorical_accuracy: 0.9136 - val_loss: 0.0219 - val_categorical_accuracy: 0.8937\n",
      "Epoch 697/1000\n",
      "48000/48000 [==============================] - 2s 47us/step - loss: 0.0194 - categorical_accuracy: 0.9139 - val_loss: 0.0219 - val_categorical_accuracy: 0.8938\n",
      "Epoch 698/1000\n",
      "48000/48000 [==============================] - 2s 47us/step - loss: 0.0194 - categorical_accuracy: 0.9137 - val_loss: 0.0219 - val_categorical_accuracy: 0.8922\n",
      "Epoch 699/1000\n",
      "48000/48000 [==============================] - 2s 46us/step - loss: 0.0193 - categorical_accuracy: 0.9136 - val_loss: 0.0218 - val_categorical_accuracy: 0.8923\n",
      "Epoch 700/1000\n",
      "48000/48000 [==============================] - 2s 50us/step - loss: 0.0193 - categorical_accuracy: 0.9139 - val_loss: 0.0218 - val_categorical_accuracy: 0.8933\n",
      "Epoch 701/1000\n",
      "48000/48000 [==============================] - 2s 46us/step - loss: 0.0192 - categorical_accuracy: 0.9138 - val_loss: 0.0217 - val_categorical_accuracy: 0.8934\n",
      "Epoch 702/1000\n",
      "48000/48000 [==============================] - 2s 51us/step - loss: 0.0192 - categorical_accuracy: 0.9136 - val_loss: 0.0217 - val_categorical_accuracy: 0.8944\n",
      "Epoch 703/1000\n",
      "48000/48000 [==============================] - 2s 51us/step - loss: 0.0191 - categorical_accuracy: 0.9138 - val_loss: 0.0217 - val_categorical_accuracy: 0.8931\n",
      "Epoch 704/1000\n",
      "48000/48000 [==============================] - 2s 47us/step - loss: 0.0191 - categorical_accuracy: 0.9138 - val_loss: 0.0216 - val_categorical_accuracy: 0.8927\n",
      "Epoch 705/1000\n",
      "48000/48000 [==============================] - 2s 46us/step - loss: 0.0190 - categorical_accuracy: 0.9140 - val_loss: 0.0216 - val_categorical_accuracy: 0.8912\n",
      "Epoch 706/1000\n",
      "48000/48000 [==============================] - 2s 47us/step - loss: 0.0190 - categorical_accuracy: 0.9140 - val_loss: 0.0215 - val_categorical_accuracy: 0.8932\n",
      "Epoch 707/1000\n",
      "48000/48000 [==============================] - 2s 47us/step - loss: 0.0190 - categorical_accuracy: 0.9136 - val_loss: 0.0215 - val_categorical_accuracy: 0.8937\n",
      "Epoch 708/1000\n",
      "48000/48000 [==============================] - 2s 51us/step - loss: 0.0189 - categorical_accuracy: 0.9141 - val_loss: 0.0214 - val_categorical_accuracy: 0.8939\n",
      "Epoch 709/1000\n",
      "48000/48000 [==============================] - 2s 49us/step - loss: 0.0189 - categorical_accuracy: 0.9139 - val_loss: 0.0214 - val_categorical_accuracy: 0.8933\n",
      "Epoch 710/1000\n",
      "48000/48000 [==============================] - 2s 47us/step - loss: 0.0188 - categorical_accuracy: 0.9138 - val_loss: 0.0213 - val_categorical_accuracy: 0.8933\n",
      "Epoch 711/1000\n",
      "48000/48000 [==============================] - 2s 48us/step - loss: 0.0188 - categorical_accuracy: 0.9139 - val_loss: 0.0212 - val_categorical_accuracy: 0.8946\n",
      "Epoch 712/1000\n",
      "48000/48000 [==============================] - 2s 48us/step - loss: 0.0187 - categorical_accuracy: 0.9140 - val_loss: 0.0212 - val_categorical_accuracy: 0.8927\n",
      "Epoch 713/1000\n",
      "48000/48000 [==============================] - 2s 46us/step - loss: 0.0187 - categorical_accuracy: 0.9146 - val_loss: 0.0212 - val_categorical_accuracy: 0.8938\n",
      "Epoch 714/1000\n",
      "48000/48000 [==============================] - 2s 46us/step - loss: 0.0186 - categorical_accuracy: 0.9142 - val_loss: 0.0212 - val_categorical_accuracy: 0.8940\n",
      "Epoch 715/1000\n",
      "48000/48000 [==============================] - 2s 46us/step - loss: 0.0186 - categorical_accuracy: 0.9143 - val_loss: 0.0211 - val_categorical_accuracy: 0.8931\n",
      "Epoch 716/1000\n",
      "48000/48000 [==============================] - 2s 46us/step - loss: 0.0185 - categorical_accuracy: 0.9146 - val_loss: 0.0211 - val_categorical_accuracy: 0.8931\n",
      "Epoch 717/1000\n",
      "48000/48000 [==============================] - 2s 46us/step - loss: 0.0185 - categorical_accuracy: 0.9143 - val_loss: 0.0210 - val_categorical_accuracy: 0.8954\n",
      "Epoch 718/1000\n",
      "48000/48000 [==============================] - 2s 46us/step - loss: 0.0184 - categorical_accuracy: 0.9146 - val_loss: 0.0210 - val_categorical_accuracy: 0.8932\n",
      "Epoch 719/1000\n",
      "48000/48000 [==============================] - 2s 46us/step - loss: 0.0184 - categorical_accuracy: 0.9144 - val_loss: 0.0209 - val_categorical_accuracy: 0.8941\n",
      "Epoch 720/1000\n",
      "48000/48000 [==============================] - 2s 47us/step - loss: 0.0183 - categorical_accuracy: 0.9147 - val_loss: 0.0209 - val_categorical_accuracy: 0.8932\n",
      "Epoch 721/1000\n",
      "48000/48000 [==============================] - 3s 54us/step - loss: 0.0183 - categorical_accuracy: 0.9151 - val_loss: 0.0209 - val_categorical_accuracy: 0.8952\n",
      "Epoch 722/1000\n",
      "48000/48000 [==============================] - 2s 48us/step - loss: 0.0182 - categorical_accuracy: 0.9152 - val_loss: 0.0208 - val_categorical_accuracy: 0.8945\n",
      "Epoch 723/1000\n",
      "48000/48000 [==============================] - 2s 46us/step - loss: 0.0182 - categorical_accuracy: 0.9151 - val_loss: 0.0208 - val_categorical_accuracy: 0.8941\n",
      "Epoch 724/1000\n",
      "48000/48000 [==============================] - 2s 46us/step - loss: 0.0181 - categorical_accuracy: 0.9153 - val_loss: 0.0207 - val_categorical_accuracy: 0.8972\n",
      "Epoch 725/1000\n",
      "48000/48000 [==============================] - 2s 46us/step - loss: 0.0181 - categorical_accuracy: 0.9154 - val_loss: 0.0207 - val_categorical_accuracy: 0.8946\n",
      "Epoch 726/1000\n",
      "48000/48000 [==============================] - 2s 46us/step - loss: 0.0180 - categorical_accuracy: 0.9147 - val_loss: 0.0206 - val_categorical_accuracy: 0.8952\n",
      "Epoch 727/1000\n",
      "48000/48000 [==============================] - 2s 45us/step - loss: 0.0180 - categorical_accuracy: 0.9156 - val_loss: 0.0205 - val_categorical_accuracy: 0.8951\n",
      "Epoch 728/1000\n",
      "48000/48000 [==============================] - 2s 46us/step - loss: 0.0179 - categorical_accuracy: 0.9155 - val_loss: 0.0205 - val_categorical_accuracy: 0.8949\n",
      "Epoch 729/1000\n",
      "48000/48000 [==============================] - 2s 45us/step - loss: 0.0179 - categorical_accuracy: 0.9152 - val_loss: 0.0205 - val_categorical_accuracy: 0.8943\n",
      "Epoch 730/1000\n",
      "48000/48000 [==============================] - 2s 47us/step - loss: 0.0178 - categorical_accuracy: 0.9157 - val_loss: 0.0204 - val_categorical_accuracy: 0.8954\n",
      "Epoch 731/1000\n",
      "48000/48000 [==============================] - 2s 47us/step - loss: 0.0178 - categorical_accuracy: 0.9159 - val_loss: 0.0204 - val_categorical_accuracy: 0.8952\n",
      "Epoch 732/1000\n",
      "48000/48000 [==============================] - 2s 47us/step - loss: 0.0177 - categorical_accuracy: 0.9153 - val_loss: 0.0204 - val_categorical_accuracy: 0.8949\n",
      "Epoch 733/1000\n",
      "48000/48000 [==============================] - 2s 50us/step - loss: 0.0177 - categorical_accuracy: 0.9160 - val_loss: 0.0203 - val_categorical_accuracy: 0.8960\n",
      "Epoch 734/1000\n",
      "48000/48000 [==============================] - 3s 53us/step - loss: 0.0176 - categorical_accuracy: 0.9159 - val_loss: 0.0203 - val_categorical_accuracy: 0.8947\n",
      "Epoch 735/1000\n",
      "48000/48000 [==============================] - 3s 60us/step - loss: 0.0176 - categorical_accuracy: 0.9151 - val_loss: 0.0202 - val_categorical_accuracy: 0.8951\n",
      "Epoch 736/1000\n",
      "48000/48000 [==============================] - 3s 57us/step - loss: 0.0175 - categorical_accuracy: 0.9165 - val_loss: 0.0202 - val_categorical_accuracy: 0.8961\n",
      "Epoch 737/1000\n",
      "48000/48000 [==============================] - 2s 45us/step - loss: 0.0175 - categorical_accuracy: 0.9165 - val_loss: 0.0201 - val_categorical_accuracy: 0.8957\n",
      "Epoch 738/1000\n",
      "48000/48000 [==============================] - 2s 47us/step - loss: 0.0175 - categorical_accuracy: 0.9163 - val_loss: 0.0202 - val_categorical_accuracy: 0.8969\n",
      "Epoch 739/1000\n",
      "48000/48000 [==============================] - 2s 51us/step - loss: 0.0174 - categorical_accuracy: 0.9162 - val_loss: 0.0200 - val_categorical_accuracy: 0.8962\n",
      "Epoch 740/1000\n",
      "48000/48000 [==============================] - 2s 46us/step - loss: 0.0174 - categorical_accuracy: 0.9167 - val_loss: 0.0200 - val_categorical_accuracy: 0.8967\n",
      "Epoch 741/1000\n",
      "48000/48000 [==============================] - 2s 50us/step - loss: 0.0173 - categorical_accuracy: 0.9167 - val_loss: 0.0200 - val_categorical_accuracy: 0.8971\n",
      "Epoch 742/1000\n",
      "48000/48000 [==============================] - 2s 47us/step - loss: 0.0173 - categorical_accuracy: 0.9165 - val_loss: 0.0199 - val_categorical_accuracy: 0.8962\n",
      "Epoch 743/1000\n",
      "48000/48000 [==============================] - 2s 50us/step - loss: 0.0172 - categorical_accuracy: 0.9171 - val_loss: 0.0199 - val_categorical_accuracy: 0.8956\n",
      "Epoch 744/1000\n",
      "48000/48000 [==============================] - 2s 46us/step - loss: 0.0172 - categorical_accuracy: 0.9176 - val_loss: 0.0199 - val_categorical_accuracy: 0.8956\n",
      "Epoch 745/1000\n",
      "48000/48000 [==============================] - 2s 47us/step - loss: 0.0171 - categorical_accuracy: 0.9180 - val_loss: 0.0198 - val_categorical_accuracy: 0.8964\n",
      "Epoch 746/1000\n",
      "48000/48000 [==============================] - 2s 50us/step - loss: 0.0172 - categorical_accuracy: 0.9159 - val_loss: 0.0198 - val_categorical_accuracy: 0.8961\n",
      "Epoch 747/1000\n",
      "48000/48000 [==============================] - 2s 48us/step - loss: 0.0171 - categorical_accuracy: 0.9174 - val_loss: 0.0197 - val_categorical_accuracy: 0.8972\n",
      "Epoch 748/1000\n",
      "48000/48000 [==============================] - 2s 50us/step - loss: 0.0170 - categorical_accuracy: 0.9175 - val_loss: 0.0197 - val_categorical_accuracy: 0.8969\n",
      "Epoch 749/1000\n",
      "48000/48000 [==============================] - 2s 51us/step - loss: 0.0170 - categorical_accuracy: 0.9178 - val_loss: 0.0196 - val_categorical_accuracy: 0.8967\n",
      "Epoch 750/1000\n",
      "48000/48000 [==============================] - 3s 54us/step - loss: 0.0169 - categorical_accuracy: 0.9181 - val_loss: 0.0196 - val_categorical_accuracy: 0.8966\n",
      "Epoch 751/1000\n",
      "48000/48000 [==============================] - 2s 47us/step - loss: 0.0169 - categorical_accuracy: 0.9180 - val_loss: 0.0196 - val_categorical_accuracy: 0.8959\n"
     ]
    },
    {
     "name": "stdout",
     "output_type": "stream",
     "text": [
      "Epoch 752/1000\n",
      "48000/48000 [==============================] - 3s 56us/step - loss: 0.0168 - categorical_accuracy: 0.9182 - val_loss: 0.0196 - val_categorical_accuracy: 0.8969\n",
      "Epoch 753/1000\n",
      "48000/48000 [==============================] - 2s 46us/step - loss: 0.0168 - categorical_accuracy: 0.9181 - val_loss: 0.0196 - val_categorical_accuracy: 0.8972\n",
      "Epoch 754/1000\n",
      "48000/48000 [==============================] - 2s 46us/step - loss: 0.0168 - categorical_accuracy: 0.9182 - val_loss: 0.0195 - val_categorical_accuracy: 0.8982\n",
      "Epoch 755/1000\n",
      "48000/48000 [==============================] - 2s 49us/step - loss: 0.0167 - categorical_accuracy: 0.9180 - val_loss: 0.0194 - val_categorical_accuracy: 0.8974\n",
      "Epoch 756/1000\n",
      "48000/48000 [==============================] - 3s 65us/step - loss: 0.0167 - categorical_accuracy: 0.9184 - val_loss: 0.0194 - val_categorical_accuracy: 0.8977\n",
      "Epoch 757/1000\n",
      "48000/48000 [==============================] - 2s 45us/step - loss: 0.0167 - categorical_accuracy: 0.9181 - val_loss: 0.0194 - val_categorical_accuracy: 0.8982\n",
      "Epoch 758/1000\n",
      "48000/48000 [==============================] - 2s 45us/step - loss: 0.0166 - categorical_accuracy: 0.9184 - val_loss: 0.0194 - val_categorical_accuracy: 0.8977\n",
      "Epoch 759/1000\n",
      "48000/48000 [==============================] - 2s 46us/step - loss: 0.0166 - categorical_accuracy: 0.9182 - val_loss: 0.0193 - val_categorical_accuracy: 0.8982\n",
      "Epoch 760/1000\n",
      "48000/48000 [==============================] - 2s 45us/step - loss: 0.0166 - categorical_accuracy: 0.9183 - val_loss: 0.0192 - val_categorical_accuracy: 0.8979\n",
      "Epoch 761/1000\n",
      "48000/48000 [==============================] - 2s 47us/step - loss: 0.0165 - categorical_accuracy: 0.9190 - val_loss: 0.0192 - val_categorical_accuracy: 0.8977\n",
      "Epoch 762/1000\n",
      "48000/48000 [==============================] - 2s 51us/step - loss: 0.0165 - categorical_accuracy: 0.9180 - val_loss: 0.0193 - val_categorical_accuracy: 0.8970\n",
      "Epoch 763/1000\n",
      "48000/48000 [==============================] - 2s 50us/step - loss: 0.0165 - categorical_accuracy: 0.9184 - val_loss: 0.0192 - val_categorical_accuracy: 0.8976\n",
      "Epoch 764/1000\n",
      "48000/48000 [==============================] - 2s 50us/step - loss: 0.0164 - categorical_accuracy: 0.9183 - val_loss: 0.0192 - val_categorical_accuracy: 0.8982\n",
      "Epoch 765/1000\n",
      "48000/48000 [==============================] - 2s 46us/step - loss: 0.0164 - categorical_accuracy: 0.9189 - val_loss: 0.0192 - val_categorical_accuracy: 0.8975\n",
      "Epoch 766/1000\n",
      "48000/48000 [==============================] - 2s 47us/step - loss: 0.0164 - categorical_accuracy: 0.9187 - val_loss: 0.0190 - val_categorical_accuracy: 0.8982\n",
      "Epoch 767/1000\n",
      "48000/48000 [==============================] - 2s 48us/step - loss: 0.0164 - categorical_accuracy: 0.9185 - val_loss: 0.0191 - val_categorical_accuracy: 0.8978\n",
      "Epoch 768/1000\n",
      "48000/48000 [==============================] - 2s 47us/step - loss: 0.0163 - categorical_accuracy: 0.9183 - val_loss: 0.0191 - val_categorical_accuracy: 0.8980\n",
      "Epoch 769/1000\n",
      "48000/48000 [==============================] - 3s 54us/step - loss: 0.0162 - categorical_accuracy: 0.9192 - val_loss: 0.0191 - val_categorical_accuracy: 0.8978\n",
      "Epoch 770/1000\n",
      "48000/48000 [==============================] - 3s 55us/step - loss: 0.0162 - categorical_accuracy: 0.9187 - val_loss: 0.0190 - val_categorical_accuracy: 0.8984\n",
      "Epoch 771/1000\n",
      "48000/48000 [==============================] - 2s 51us/step - loss: 0.0162 - categorical_accuracy: 0.9191 - val_loss: 0.0190 - val_categorical_accuracy: 0.8985\n",
      "Epoch 772/1000\n",
      "48000/48000 [==============================] - 2s 50us/step - loss: 0.0162 - categorical_accuracy: 0.9189 - val_loss: 0.0189 - val_categorical_accuracy: 0.8988\n",
      "Epoch 773/1000\n",
      "48000/48000 [==============================] - 3s 53us/step - loss: 0.0162 - categorical_accuracy: 0.9190 - val_loss: 0.0190 - val_categorical_accuracy: 0.8982\n",
      "Epoch 774/1000\n",
      "48000/48000 [==============================] - 2s 50us/step - loss: 0.0161 - categorical_accuracy: 0.9192 - val_loss: 0.0189 - val_categorical_accuracy: 0.8971\n",
      "Epoch 775/1000\n",
      "48000/48000 [==============================] - 2s 45us/step - loss: 0.0161 - categorical_accuracy: 0.9195 - val_loss: 0.0188 - val_categorical_accuracy: 0.8997\n",
      "Epoch 776/1000\n",
      "48000/48000 [==============================] - 2s 49us/step - loss: 0.0161 - categorical_accuracy: 0.9191 - val_loss: 0.0189 - val_categorical_accuracy: 0.8982\n",
      "Epoch 777/1000\n",
      "48000/48000 [==============================] - 2s 47us/step - loss: 0.0160 - categorical_accuracy: 0.9188 - val_loss: 0.0188 - val_categorical_accuracy: 0.8991\n",
      "Epoch 778/1000\n",
      "48000/48000 [==============================] - 2s 52us/step - loss: 0.0160 - categorical_accuracy: 0.9197 - val_loss: 0.0188 - val_categorical_accuracy: 0.8992\n",
      "Epoch 779/1000\n",
      "48000/48000 [==============================] - 3s 55us/step - loss: 0.0160 - categorical_accuracy: 0.9191 - val_loss: 0.0188 - val_categorical_accuracy: 0.8982\n",
      "Epoch 780/1000\n",
      "48000/48000 [==============================] - 3s 56us/step - loss: 0.0160 - categorical_accuracy: 0.9191 - val_loss: 0.0188 - val_categorical_accuracy: 0.8986\n",
      "Epoch 781/1000\n",
      "48000/48000 [==============================] - 2s 48us/step - loss: 0.0160 - categorical_accuracy: 0.9194 - val_loss: 0.0188 - val_categorical_accuracy: 0.8982\n",
      "Epoch 782/1000\n",
      "48000/48000 [==============================] - 2s 50us/step - loss: 0.0159 - categorical_accuracy: 0.9194 - val_loss: 0.0188 - val_categorical_accuracy: 0.8971\n",
      "Epoch 783/1000\n",
      "48000/48000 [==============================] - 2s 51us/step - loss: 0.0159 - categorical_accuracy: 0.9197 - val_loss: 0.0188 - val_categorical_accuracy: 0.8982\n",
      "Epoch 784/1000\n",
      "48000/48000 [==============================] - 2s 47us/step - loss: 0.0158 - categorical_accuracy: 0.9195 - val_loss: 0.0188 - val_categorical_accuracy: 0.8978\n",
      "Epoch 785/1000\n",
      "48000/48000 [==============================] - 3s 54us/step - loss: 0.0158 - categorical_accuracy: 0.9195 - val_loss: 0.0188 - val_categorical_accuracy: 0.8978\n",
      "Epoch 786/1000\n",
      "48000/48000 [==============================] - 2s 48us/step - loss: 0.0158 - categorical_accuracy: 0.9197 - val_loss: 0.0187 - val_categorical_accuracy: 0.8977\n",
      "Epoch 787/1000\n",
      "48000/48000 [==============================] - 2s 46us/step - loss: 0.0158 - categorical_accuracy: 0.9195 - val_loss: 0.0186 - val_categorical_accuracy: 0.8983\n",
      "Epoch 788/1000\n",
      "48000/48000 [==============================] - 2s 46us/step - loss: 0.0158 - categorical_accuracy: 0.9197 - val_loss: 0.0187 - val_categorical_accuracy: 0.8981\n",
      "Epoch 789/1000\n",
      "48000/48000 [==============================] - 2s 48us/step - loss: 0.0158 - categorical_accuracy: 0.9197 - val_loss: 0.0186 - val_categorical_accuracy: 0.8982\n",
      "Epoch 790/1000\n",
      "48000/48000 [==============================] - 2s 46us/step - loss: 0.0158 - categorical_accuracy: 0.9194 - val_loss: 0.0186 - val_categorical_accuracy: 0.8981\n",
      "Epoch 791/1000\n",
      "48000/48000 [==============================] - 2s 51us/step - loss: 0.0157 - categorical_accuracy: 0.9196 - val_loss: 0.0186 - val_categorical_accuracy: 0.8987\n",
      "Epoch 792/1000\n",
      "48000/48000 [==============================] - 3s 60us/step - loss: 0.0157 - categorical_accuracy: 0.9195 - val_loss: 0.0186 - val_categorical_accuracy: 0.8984\n",
      "Epoch 793/1000\n",
      "48000/48000 [==============================] - 2s 49us/step - loss: 0.0157 - categorical_accuracy: 0.9197 - val_loss: 0.0186 - val_categorical_accuracy: 0.8991\n",
      "Epoch 794/1000\n",
      "48000/48000 [==============================] - 2s 49us/step - loss: 0.0156 - categorical_accuracy: 0.9202 - val_loss: 0.0186 - val_categorical_accuracy: 0.8984\n",
      "Epoch 795/1000\n",
      "48000/48000 [==============================] - 2s 45us/step - loss: 0.0156 - categorical_accuracy: 0.9200 - val_loss: 0.0185 - val_categorical_accuracy: 0.8980\n",
      "Epoch 796/1000\n",
      "48000/48000 [==============================] - 2s 47us/step - loss: 0.0156 - categorical_accuracy: 0.9196 - val_loss: 0.0185 - val_categorical_accuracy: 0.8992\n",
      "Epoch 797/1000\n",
      "48000/48000 [==============================] - 3s 52us/step - loss: 0.0156 - categorical_accuracy: 0.9201 - val_loss: 0.0185 - val_categorical_accuracy: 0.8987\n",
      "Epoch 798/1000\n",
      "48000/48000 [==============================] - 2s 47us/step - loss: 0.0156 - categorical_accuracy: 0.9203 - val_loss: 0.0185 - val_categorical_accuracy: 0.8998\n"
     ]
    },
    {
     "name": "stdout",
     "output_type": "stream",
     "text": [
      "Epoch 799/1000\n",
      "48000/48000 [==============================] - 2s 50us/step - loss: 0.0156 - categorical_accuracy: 0.9202 - val_loss: 0.0185 - val_categorical_accuracy: 0.8988\n",
      "Epoch 800/1000\n",
      "48000/48000 [==============================] - 2s 51us/step - loss: 0.0156 - categorical_accuracy: 0.9201 - val_loss: 0.0184 - val_categorical_accuracy: 0.8997\n",
      "Epoch 801/1000\n",
      "48000/48000 [==============================] - 2s 49us/step - loss: 0.0155 - categorical_accuracy: 0.9201 - val_loss: 0.0184 - val_categorical_accuracy: 0.8990\n",
      "Epoch 802/1000\n",
      "48000/48000 [==============================] - 3s 52us/step - loss: 0.0155 - categorical_accuracy: 0.9199 - val_loss: 0.0185 - val_categorical_accuracy: 0.8990\n",
      "Epoch 803/1000\n",
      "48000/48000 [==============================] - 2s 48us/step - loss: 0.0155 - categorical_accuracy: 0.9203 - val_loss: 0.0185 - val_categorical_accuracy: 0.8977\n",
      "Epoch 804/1000\n",
      "48000/48000 [==============================] - 2s 46us/step - loss: 0.0155 - categorical_accuracy: 0.9202 - val_loss: 0.0184 - val_categorical_accuracy: 0.8987\n",
      "Epoch 805/1000\n",
      "48000/48000 [==============================] - 2s 51us/step - loss: 0.0154 - categorical_accuracy: 0.9202 - val_loss: 0.0184 - val_categorical_accuracy: 0.8987\n",
      "Epoch 806/1000\n",
      "48000/48000 [==============================] - 2s 51us/step - loss: 0.0155 - categorical_accuracy: 0.9200 - val_loss: 0.0184 - val_categorical_accuracy: 0.8983\n",
      "Epoch 807/1000\n",
      "48000/48000 [==============================] - 2s 47us/step - loss: 0.0154 - categorical_accuracy: 0.9206 - val_loss: 0.0183 - val_categorical_accuracy: 0.8985\n",
      "Epoch 808/1000\n",
      "48000/48000 [==============================] - 2s 52us/step - loss: 0.0154 - categorical_accuracy: 0.9207 - val_loss: 0.0184 - val_categorical_accuracy: 0.8981\n",
      "Epoch 809/1000\n",
      "48000/48000 [==============================] - 3s 56us/step - loss: 0.0154 - categorical_accuracy: 0.9200 - val_loss: 0.0184 - val_categorical_accuracy: 0.8982\n",
      "Epoch 810/1000\n",
      "48000/48000 [==============================] - 2s 46us/step - loss: 0.0154 - categorical_accuracy: 0.9208 - val_loss: 0.0183 - val_categorical_accuracy: 0.8987\n",
      "Epoch 811/1000\n",
      "48000/48000 [==============================] - 2s 45us/step - loss: 0.0154 - categorical_accuracy: 0.9208 - val_loss: 0.0183 - val_categorical_accuracy: 0.8980\n",
      "Epoch 812/1000\n",
      "48000/48000 [==============================] - 2s 46us/step - loss: 0.0154 - categorical_accuracy: 0.9205 - val_loss: 0.0183 - val_categorical_accuracy: 0.8992\n",
      "Epoch 813/1000\n",
      "48000/48000 [==============================] - 2s 46us/step - loss: 0.0153 - categorical_accuracy: 0.9211 - val_loss: 0.0183 - val_categorical_accuracy: 0.8991\n",
      "Epoch 814/1000\n",
      "48000/48000 [==============================] - 2s 46us/step - loss: 0.0153 - categorical_accuracy: 0.9204 - val_loss: 0.0183 - val_categorical_accuracy: 0.8986\n",
      "Epoch 815/1000\n",
      "48000/48000 [==============================] - 3s 66us/step - loss: 0.0153 - categorical_accuracy: 0.9205 - val_loss: 0.0183 - val_categorical_accuracy: 0.8985\n",
      "Epoch 816/1000\n",
      "48000/48000 [==============================] - 3s 53us/step - loss: 0.0153 - categorical_accuracy: 0.9208 - val_loss: 0.0182 - val_categorical_accuracy: 0.8990\n",
      "Epoch 817/1000\n",
      "48000/48000 [==============================] - 2s 52us/step - loss: 0.0153 - categorical_accuracy: 0.9209 - val_loss: 0.0183 - val_categorical_accuracy: 0.8987\n",
      "Epoch 818/1000\n",
      "48000/48000 [==============================] - 2s 50us/step - loss: 0.0153 - categorical_accuracy: 0.9209 - val_loss: 0.0182 - val_categorical_accuracy: 0.8999\n",
      "Epoch 819/1000\n",
      "48000/48000 [==============================] - 3s 52us/step - loss: 0.0153 - categorical_accuracy: 0.9202 - val_loss: 0.0182 - val_categorical_accuracy: 0.8990\n",
      "Epoch 820/1000\n",
      "48000/48000 [==============================] - 3s 60us/step - loss: 0.0152 - categorical_accuracy: 0.9206 - val_loss: 0.0182 - val_categorical_accuracy: 0.8991\n",
      "Epoch 821/1000\n",
      "48000/48000 [==============================] - 2s 48us/step - loss: 0.0153 - categorical_accuracy: 0.9205 - val_loss: 0.0182 - val_categorical_accuracy: 0.8986\n",
      "Epoch 822/1000\n",
      "48000/48000 [==============================] - 2s 48us/step - loss: 0.0152 - categorical_accuracy: 0.9205 - val_loss: 0.0182 - val_categorical_accuracy: 0.8989\n",
      "Epoch 823/1000\n",
      "48000/48000 [==============================] - 2s 49us/step - loss: 0.0152 - categorical_accuracy: 0.9204 - val_loss: 0.0181 - val_categorical_accuracy: 0.8996\n",
      "Epoch 824/1000\n",
      "48000/48000 [==============================] - 2s 46us/step - loss: 0.0152 - categorical_accuracy: 0.9211 - val_loss: 0.0182 - val_categorical_accuracy: 0.8990\n",
      "Epoch 825/1000\n",
      "48000/48000 [==============================] - 2s 49us/step - loss: 0.0152 - categorical_accuracy: 0.9202 - val_loss: 0.0181 - val_categorical_accuracy: 0.9001\n",
      "Epoch 826/1000\n",
      "48000/48000 [==============================] - 2s 48us/step - loss: 0.0152 - categorical_accuracy: 0.9207 - val_loss: 0.0182 - val_categorical_accuracy: 0.8984\n",
      "Epoch 827/1000\n",
      "48000/48000 [==============================] - 2s 46us/step - loss: 0.0152 - categorical_accuracy: 0.9207 - val_loss: 0.0181 - val_categorical_accuracy: 0.8992\n",
      "Epoch 828/1000\n",
      "48000/48000 [==============================] - 2s 48us/step - loss: 0.0151 - categorical_accuracy: 0.9211 - val_loss: 0.0181 - val_categorical_accuracy: 0.8988\n",
      "Epoch 829/1000\n",
      "48000/48000 [==============================] - 2s 50us/step - loss: 0.0151 - categorical_accuracy: 0.9210 - val_loss: 0.0182 - val_categorical_accuracy: 0.8989\n",
      "Epoch 830/1000\n",
      "48000/48000 [==============================] - 3s 54us/step - loss: 0.0151 - categorical_accuracy: 0.9207 - val_loss: 0.0181 - val_categorical_accuracy: 0.8994\n",
      "Epoch 831/1000\n",
      "48000/48000 [==============================] - 2s 46us/step - loss: 0.0150 - categorical_accuracy: 0.9212 - val_loss: 0.0181 - val_categorical_accuracy: 0.8987\n",
      "Epoch 832/1000\n",
      "48000/48000 [==============================] - 2s 48us/step - loss: 0.0150 - categorical_accuracy: 0.9217 - val_loss: 0.0181 - val_categorical_accuracy: 0.8992\n",
      "Epoch 833/1000\n",
      "48000/48000 [==============================] - 2s 50us/step - loss: 0.0151 - categorical_accuracy: 0.9209 - val_loss: 0.0181 - val_categorical_accuracy: 0.8992\n",
      "Epoch 834/1000\n",
      "48000/48000 [==============================] - 2s 47us/step - loss: 0.0150 - categorical_accuracy: 0.9215 - val_loss: 0.0181 - val_categorical_accuracy: 0.8991\n",
      "Epoch 835/1000\n",
      "48000/48000 [==============================] - 3s 53us/step - loss: 0.0150 - categorical_accuracy: 0.9209 - val_loss: 0.0180 - val_categorical_accuracy: 0.8995\n",
      "Epoch 836/1000\n",
      "48000/48000 [==============================] - 3s 52us/step - loss: 0.0150 - categorical_accuracy: 0.9214 - val_loss: 0.0180 - val_categorical_accuracy: 0.8999\n",
      "Epoch 837/1000\n",
      "48000/48000 [==============================] - 2s 47us/step - loss: 0.0150 - categorical_accuracy: 0.9217 - val_loss: 0.0180 - val_categorical_accuracy: 0.8998\n",
      "Epoch 838/1000\n",
      "48000/48000 [==============================] - 2s 49us/step - loss: 0.0150 - categorical_accuracy: 0.9212 - val_loss: 0.0180 - val_categorical_accuracy: 0.8992\n",
      "Epoch 839/1000\n",
      "48000/48000 [==============================] - 2s 47us/step - loss: 0.0149 - categorical_accuracy: 0.9219 - val_loss: 0.0180 - val_categorical_accuracy: 0.8997\n",
      "Epoch 840/1000\n",
      "48000/48000 [==============================] - 2s 47us/step - loss: 0.0149 - categorical_accuracy: 0.9218 - val_loss: 0.0180 - val_categorical_accuracy: 0.8997\n",
      "Epoch 841/1000\n",
      "48000/48000 [==============================] - 3s 59us/step - loss: 0.0149 - categorical_accuracy: 0.9214 - val_loss: 0.0180 - val_categorical_accuracy: 0.8993\n",
      "Epoch 842/1000\n",
      "48000/48000 [==============================] - 2s 49us/step - loss: 0.0149 - categorical_accuracy: 0.9217 - val_loss: 0.0180 - val_categorical_accuracy: 0.8992\n",
      "Epoch 843/1000\n",
      "48000/48000 [==============================] - 2s 47us/step - loss: 0.0149 - categorical_accuracy: 0.9218 - val_loss: 0.0180 - val_categorical_accuracy: 0.9000\n",
      "Epoch 844/1000\n",
      "48000/48000 [==============================] - 2s 49us/step - loss: 0.0149 - categorical_accuracy: 0.9218 - val_loss: 0.0179 - val_categorical_accuracy: 0.9002\n",
      "Epoch 845/1000\n",
      "48000/48000 [==============================] - 2s 47us/step - loss: 0.0149 - categorical_accuracy: 0.9213 - val_loss: 0.0179 - val_categorical_accuracy: 0.8999\n"
     ]
    },
    {
     "name": "stdout",
     "output_type": "stream",
     "text": [
      "Epoch 846/1000\n",
      "48000/48000 [==============================] - 2s 50us/step - loss: 0.0149 - categorical_accuracy: 0.9220 - val_loss: 0.0179 - val_categorical_accuracy: 0.8993\n",
      "Epoch 847/1000\n",
      "48000/48000 [==============================] - 2s 46us/step - loss: 0.0149 - categorical_accuracy: 0.9216 - val_loss: 0.0179 - val_categorical_accuracy: 0.9008\n",
      "Epoch 848/1000\n",
      "48000/48000 [==============================] - 3s 67us/step - loss: 0.0149 - categorical_accuracy: 0.9221 - val_loss: 0.0179 - val_categorical_accuracy: 0.8997\n",
      "Epoch 849/1000\n",
      "48000/48000 [==============================] - 3s 57us/step - loss: 0.0148 - categorical_accuracy: 0.9220 - val_loss: 0.0179 - val_categorical_accuracy: 0.8996\n",
      "Epoch 850/1000\n",
      "48000/48000 [==============================] - 2s 48us/step - loss: 0.0148 - categorical_accuracy: 0.9223 - val_loss: 0.0179 - val_categorical_accuracy: 0.8999\n",
      "Epoch 851/1000\n",
      "48000/48000 [==============================] - 3s 52us/step - loss: 0.0148 - categorical_accuracy: 0.9225 - val_loss: 0.0179 - val_categorical_accuracy: 0.9001\n",
      "Epoch 852/1000\n",
      "48000/48000 [==============================] - 2s 46us/step - loss: 0.0148 - categorical_accuracy: 0.9221 - val_loss: 0.0179 - val_categorical_accuracy: 0.8997\n",
      "Epoch 853/1000\n",
      "48000/48000 [==============================] - 3s 54us/step - loss: 0.0148 - categorical_accuracy: 0.9221 - val_loss: 0.0179 - val_categorical_accuracy: 0.8995\n",
      "Epoch 854/1000\n",
      "48000/48000 [==============================] - 2s 50us/step - loss: 0.0147 - categorical_accuracy: 0.9224 - val_loss: 0.0178 - val_categorical_accuracy: 0.9007\n",
      "Epoch 855/1000\n",
      "48000/48000 [==============================] - 2s 51us/step - loss: 0.0148 - categorical_accuracy: 0.9224 - val_loss: 0.0178 - val_categorical_accuracy: 0.9012\n",
      "Epoch 856/1000\n",
      "48000/48000 [==============================] - 2s 51us/step - loss: 0.0147 - categorical_accuracy: 0.9222 - val_loss: 0.0178 - val_categorical_accuracy: 0.9005\n",
      "Epoch 857/1000\n",
      "48000/48000 [==============================] - 2s 49us/step - loss: 0.0147 - categorical_accuracy: 0.9225 - val_loss: 0.0178 - val_categorical_accuracy: 0.9004\n",
      "Epoch 858/1000\n",
      "48000/48000 [==============================] - 2s 51us/step - loss: 0.0147 - categorical_accuracy: 0.9228 - val_loss: 0.0178 - val_categorical_accuracy: 0.9006\n",
      "Epoch 859/1000\n",
      "48000/48000 [==============================] - 3s 56us/step - loss: 0.0147 - categorical_accuracy: 0.9227 - val_loss: 0.0178 - val_categorical_accuracy: 0.9002\n",
      "Epoch 860/1000\n",
      "48000/48000 [==============================] - 2s 49us/step - loss: 0.0147 - categorical_accuracy: 0.9226 - val_loss: 0.0178 - val_categorical_accuracy: 0.9008\n",
      "Epoch 861/1000\n",
      "48000/48000 [==============================] - 2s 45us/step - loss: 0.0146 - categorical_accuracy: 0.9230 - val_loss: 0.0177 - val_categorical_accuracy: 0.9008\n",
      "Epoch 862/1000\n",
      "48000/48000 [==============================] - 2s 46us/step - loss: 0.0146 - categorical_accuracy: 0.9230 - val_loss: 0.0178 - val_categorical_accuracy: 0.9000\n",
      "Epoch 863/1000\n",
      "48000/48000 [==============================] - 2s 46us/step - loss: 0.0146 - categorical_accuracy: 0.9231 - val_loss: 0.0178 - val_categorical_accuracy: 0.9007\n",
      "Epoch 864/1000\n",
      "48000/48000 [==============================] - 2s 47us/step - loss: 0.0146 - categorical_accuracy: 0.9231 - val_loss: 0.0177 - val_categorical_accuracy: 0.9006\n",
      "Epoch 865/1000\n",
      "48000/48000 [==============================] - 2s 50us/step - loss: 0.0146 - categorical_accuracy: 0.9231 - val_loss: 0.0178 - val_categorical_accuracy: 0.9015\n",
      "Epoch 866/1000\n",
      "48000/48000 [==============================] - 3s 62us/step - loss: 0.0146 - categorical_accuracy: 0.9230 - val_loss: 0.0177 - val_categorical_accuracy: 0.9010\n",
      "Epoch 867/1000\n",
      "48000/48000 [==============================] - 2s 48us/step - loss: 0.0146 - categorical_accuracy: 0.9230 - val_loss: 0.0177 - val_categorical_accuracy: 0.9007\n",
      "Epoch 868/1000\n",
      "48000/48000 [==============================] - 2s 50us/step - loss: 0.0146 - categorical_accuracy: 0.9234 - val_loss: 0.0177 - val_categorical_accuracy: 0.9007\n",
      "Epoch 869/1000\n",
      "48000/48000 [==============================] - 2s 50us/step - loss: 0.0146 - categorical_accuracy: 0.9232 - val_loss: 0.0177 - val_categorical_accuracy: 0.8999\n",
      "Epoch 870/1000\n",
      "48000/48000 [==============================] - 3s 57us/step - loss: 0.0146 - categorical_accuracy: 0.9232 - val_loss: 0.0177 - val_categorical_accuracy: 0.9002\n",
      "Epoch 871/1000\n",
      "48000/48000 [==============================] - 3s 54us/step - loss: 0.0146 - categorical_accuracy: 0.9230 - val_loss: 0.0177 - val_categorical_accuracy: 0.9010\n",
      "Epoch 872/1000\n",
      "48000/48000 [==============================] - 3s 54us/step - loss: 0.0145 - categorical_accuracy: 0.9231 - val_loss: 0.0178 - val_categorical_accuracy: 0.8999\n",
      "Epoch 873/1000\n",
      "48000/48000 [==============================] - 2s 50us/step - loss: 0.0145 - categorical_accuracy: 0.9235 - val_loss: 0.0177 - val_categorical_accuracy: 0.8999\n",
      "Epoch 874/1000\n",
      "48000/48000 [==============================] - 3s 68us/step - loss: 0.0145 - categorical_accuracy: 0.9236 - val_loss: 0.0177 - val_categorical_accuracy: 0.9013\n",
      "Epoch 875/1000\n",
      "48000/48000 [==============================] - 2s 47us/step - loss: 0.0145 - categorical_accuracy: 0.9235 - val_loss: 0.0177 - val_categorical_accuracy: 0.8999\n",
      "Epoch 876/1000\n",
      "48000/48000 [==============================] - 2s 48us/step - loss: 0.0145 - categorical_accuracy: 0.9232 - val_loss: 0.0177 - val_categorical_accuracy: 0.9007\n",
      "Epoch 877/1000\n",
      "48000/48000 [==============================] - 3s 55us/step - loss: 0.0145 - categorical_accuracy: 0.9234 - val_loss: 0.0177 - val_categorical_accuracy: 0.9007\n",
      "Epoch 878/1000\n",
      "48000/48000 [==============================] - 2s 48us/step - loss: 0.0145 - categorical_accuracy: 0.9236 - val_loss: 0.0177 - val_categorical_accuracy: 0.8996\n",
      "Epoch 879/1000\n",
      "48000/48000 [==============================] - 2s 46us/step - loss: 0.0145 - categorical_accuracy: 0.9235 - val_loss: 0.0177 - val_categorical_accuracy: 0.9003\n",
      "Epoch 880/1000\n",
      "48000/48000 [==============================] - 2s 49us/step - loss: 0.0145 - categorical_accuracy: 0.9236 - val_loss: 0.0177 - val_categorical_accuracy: 0.9002\n",
      "Epoch 881/1000\n",
      "48000/48000 [==============================] - 2s 52us/step - loss: 0.0145 - categorical_accuracy: 0.9234 - val_loss: 0.0177 - val_categorical_accuracy: 0.9000\n",
      "Epoch 882/1000\n",
      "48000/48000 [==============================] - 3s 52us/step - loss: 0.0145 - categorical_accuracy: 0.9235 - val_loss: 0.0177 - val_categorical_accuracy: 0.9005\n",
      "Epoch 883/1000\n",
      "48000/48000 [==============================] - 3s 53us/step - loss: 0.0144 - categorical_accuracy: 0.9232 - val_loss: 0.0176 - val_categorical_accuracy: 0.9007\n",
      "Epoch 884/1000\n",
      "48000/48000 [==============================] - 2s 51us/step - loss: 0.0144 - categorical_accuracy: 0.9237 - val_loss: 0.0177 - val_categorical_accuracy: 0.9001\n",
      "Epoch 885/1000\n",
      "48000/48000 [==============================] - 2s 49us/step - loss: 0.0144 - categorical_accuracy: 0.9237 - val_loss: 0.0176 - val_categorical_accuracy: 0.9003\n",
      "Epoch 886/1000\n",
      "48000/48000 [==============================] - 2s 50us/step - loss: 0.0144 - categorical_accuracy: 0.9233 - val_loss: 0.0176 - val_categorical_accuracy: 0.9006\n",
      "Epoch 887/1000\n",
      "48000/48000 [==============================] - 3s 54us/step - loss: 0.0144 - categorical_accuracy: 0.9236 - val_loss: 0.0176 - val_categorical_accuracy: 0.9003\n",
      "Epoch 888/1000\n",
      "48000/48000 [==============================] - 2s 46us/step - loss: 0.0144 - categorical_accuracy: 0.9240 - val_loss: 0.0176 - val_categorical_accuracy: 0.9007\n",
      "Epoch 889/1000\n",
      "48000/48000 [==============================] - 3s 54us/step - loss: 0.0144 - categorical_accuracy: 0.9239 - val_loss: 0.0176 - val_categorical_accuracy: 0.9006\n",
      "Epoch 890/1000\n",
      "48000/48000 [==============================] - 2s 49us/step - loss: 0.0143 - categorical_accuracy: 0.9241 - val_loss: 0.0176 - val_categorical_accuracy: 0.9008\n",
      "Epoch 891/1000\n",
      "48000/48000 [==============================] - 3s 56us/step - loss: 0.0143 - categorical_accuracy: 0.9241 - val_loss: 0.0176 - val_categorical_accuracy: 0.9009\n",
      "Epoch 892/1000\n",
      "48000/48000 [==============================] - 2s 50us/step - loss: 0.0143 - categorical_accuracy: 0.9241 - val_loss: 0.0176 - val_categorical_accuracy: 0.9010\n"
     ]
    },
    {
     "name": "stdout",
     "output_type": "stream",
     "text": [
      "Epoch 893/1000\n",
      "48000/48000 [==============================] - 2s 50us/step - loss: 0.0143 - categorical_accuracy: 0.9238 - val_loss: 0.0176 - val_categorical_accuracy: 0.8999\n",
      "Epoch 894/1000\n",
      "48000/48000 [==============================] - 2s 52us/step - loss: 0.0143 - categorical_accuracy: 0.9237 - val_loss: 0.0176 - val_categorical_accuracy: 0.9002\n",
      "Epoch 895/1000\n",
      "48000/48000 [==============================] - 2s 52us/step - loss: 0.0143 - categorical_accuracy: 0.9238 - val_loss: 0.0176 - val_categorical_accuracy: 0.9005\n",
      "Epoch 896/1000\n",
      "48000/48000 [==============================] - 2s 51us/step - loss: 0.0143 - categorical_accuracy: 0.9240 - val_loss: 0.0175 - val_categorical_accuracy: 0.9004\n",
      "Epoch 897/1000\n",
      "48000/48000 [==============================] - 2s 51us/step - loss: 0.0143 - categorical_accuracy: 0.9243 - val_loss: 0.0175 - val_categorical_accuracy: 0.9005\n",
      "Epoch 898/1000\n",
      "48000/48000 [==============================] - 2s 47us/step - loss: 0.0143 - categorical_accuracy: 0.9244 - val_loss: 0.0176 - val_categorical_accuracy: 0.9002\n",
      "Epoch 899/1000\n",
      "48000/48000 [==============================] - 2s 46us/step - loss: 0.0142 - categorical_accuracy: 0.9244 - val_loss: 0.0176 - val_categorical_accuracy: 0.9007\n",
      "Epoch 900/1000\n",
      "48000/48000 [==============================] - 2s 50us/step - loss: 0.0143 - categorical_accuracy: 0.9243 - val_loss: 0.0175 - val_categorical_accuracy: 0.9007\n",
      "Epoch 901/1000\n",
      "48000/48000 [==============================] - 2s 52us/step - loss: 0.0142 - categorical_accuracy: 0.9244 - val_loss: 0.0176 - val_categorical_accuracy: 0.9009\n",
      "Epoch 902/1000\n",
      "48000/48000 [==============================] - 2s 52us/step - loss: 0.0142 - categorical_accuracy: 0.9243 - val_loss: 0.0175 - val_categorical_accuracy: 0.9004\n",
      "Epoch 903/1000\n",
      "48000/48000 [==============================] - 2s 47us/step - loss: 0.0142 - categorical_accuracy: 0.9240 - val_loss: 0.0176 - val_categorical_accuracy: 0.9007\n",
      "Epoch 904/1000\n",
      "48000/48000 [==============================] - 3s 54us/step - loss: 0.0142 - categorical_accuracy: 0.9245 - val_loss: 0.0175 - val_categorical_accuracy: 0.9008\n",
      "Epoch 905/1000\n",
      "48000/48000 [==============================] - 2s 47us/step - loss: 0.0142 - categorical_accuracy: 0.9242 - val_loss: 0.0175 - val_categorical_accuracy: 0.9011\n",
      "Epoch 906/1000\n",
      "48000/48000 [==============================] - 2s 46us/step - loss: 0.0142 - categorical_accuracy: 0.9244 - val_loss: 0.0175 - val_categorical_accuracy: 0.9017\n",
      "Epoch 907/1000\n",
      "48000/48000 [==============================] - 2s 47us/step - loss: 0.0142 - categorical_accuracy: 0.9239 - val_loss: 0.0175 - val_categorical_accuracy: 0.9005\n",
      "Epoch 908/1000\n",
      "48000/48000 [==============================] - 2s 52us/step - loss: 0.0142 - categorical_accuracy: 0.9244 - val_loss: 0.0175 - val_categorical_accuracy: 0.8992\n",
      "Epoch 909/1000\n",
      "48000/48000 [==============================] - 2s 46us/step - loss: 0.0142 - categorical_accuracy: 0.9244 - val_loss: 0.0175 - val_categorical_accuracy: 0.9013\n",
      "Epoch 910/1000\n",
      "48000/48000 [==============================] - 2s 46us/step - loss: 0.0142 - categorical_accuracy: 0.9244 - val_loss: 0.0174 - val_categorical_accuracy: 0.9018\n",
      "Epoch 911/1000\n",
      "48000/48000 [==============================] - 2s 47us/step - loss: 0.0142 - categorical_accuracy: 0.9245 - val_loss: 0.0174 - val_categorical_accuracy: 0.9010\n",
      "Epoch 912/1000\n",
      "48000/48000 [==============================] - 2s 46us/step - loss: 0.0142 - categorical_accuracy: 0.9246 - val_loss: 0.0174 - val_categorical_accuracy: 0.9012\n",
      "Epoch 913/1000\n",
      "48000/48000 [==============================] - 2s 47us/step - loss: 0.0142 - categorical_accuracy: 0.9244 - val_loss: 0.0175 - val_categorical_accuracy: 0.9008\n",
      "Epoch 914/1000\n",
      "48000/48000 [==============================] - 2s 47us/step - loss: 0.0141 - categorical_accuracy: 0.9247 - val_loss: 0.0175 - val_categorical_accuracy: 0.9005\n",
      "Epoch 915/1000\n",
      "48000/48000 [==============================] - 2s 46us/step - loss: 0.0141 - categorical_accuracy: 0.9249 - val_loss: 0.0175 - val_categorical_accuracy: 0.9007\n",
      "Epoch 916/1000\n",
      "48000/48000 [==============================] - 3s 59us/step - loss: 0.0141 - categorical_accuracy: 0.9246 - val_loss: 0.0175 - val_categorical_accuracy: 0.9007\n",
      "Epoch 917/1000\n",
      "48000/48000 [==============================] - 2s 50us/step - loss: 0.0141 - categorical_accuracy: 0.9246 - val_loss: 0.0174 - val_categorical_accuracy: 0.9014\n",
      "Epoch 918/1000\n",
      "48000/48000 [==============================] - 2s 47us/step - loss: 0.0141 - categorical_accuracy: 0.9246 - val_loss: 0.0174 - val_categorical_accuracy: 0.9014\n",
      "Epoch 919/1000\n",
      "48000/48000 [==============================] - 3s 54us/step - loss: 0.0142 - categorical_accuracy: 0.9240 - val_loss: 0.0174 - val_categorical_accuracy: 0.9024\n",
      "Epoch 920/1000\n",
      "48000/48000 [==============================] - 3s 57us/step - loss: 0.0141 - categorical_accuracy: 0.9246 - val_loss: 0.0174 - val_categorical_accuracy: 0.9012\n",
      "Epoch 921/1000\n",
      "48000/48000 [==============================] - 3s 60us/step - loss: 0.0141 - categorical_accuracy: 0.9246 - val_loss: 0.0174 - val_categorical_accuracy: 0.9016\n",
      "Epoch 922/1000\n",
      "48000/48000 [==============================] - 2s 50us/step - loss: 0.0141 - categorical_accuracy: 0.9245 - val_loss: 0.0174 - val_categorical_accuracy: 0.9013\n",
      "Epoch 923/1000\n",
      "48000/48000 [==============================] - 2s 47us/step - loss: 0.0141 - categorical_accuracy: 0.9248 - val_loss: 0.0174 - val_categorical_accuracy: 0.9017\n",
      "Epoch 924/1000\n",
      "48000/48000 [==============================] - 2s 50us/step - loss: 0.0141 - categorical_accuracy: 0.9250 - val_loss: 0.0174 - val_categorical_accuracy: 0.9012\n",
      "Epoch 925/1000\n",
      "48000/48000 [==============================] - 2s 50us/step - loss: 0.0141 - categorical_accuracy: 0.9251 - val_loss: 0.0174 - val_categorical_accuracy: 0.9008\n",
      "Epoch 926/1000\n",
      "48000/48000 [==============================] - 2s 48us/step - loss: 0.0141 - categorical_accuracy: 0.9246 - val_loss: 0.0173 - val_categorical_accuracy: 0.9021\n",
      "Epoch 927/1000\n",
      "48000/48000 [==============================] - 2s 49us/step - loss: 0.0140 - categorical_accuracy: 0.9247 - val_loss: 0.0173 - val_categorical_accuracy: 0.9010\n",
      "Epoch 928/1000\n",
      "48000/48000 [==============================] - 2s 49us/step - loss: 0.0140 - categorical_accuracy: 0.9249 - val_loss: 0.0173 - val_categorical_accuracy: 0.9012\n",
      "Epoch 929/1000\n",
      "48000/48000 [==============================] - 2s 48us/step - loss: 0.0141 - categorical_accuracy: 0.9248 - val_loss: 0.0174 - val_categorical_accuracy: 0.9017\n",
      "Epoch 930/1000\n",
      "48000/48000 [==============================] - 3s 54us/step - loss: 0.0140 - categorical_accuracy: 0.9249 - val_loss: 0.0173 - val_categorical_accuracy: 0.9021\n",
      "Epoch 931/1000\n",
      "48000/48000 [==============================] - 2s 48us/step - loss: 0.0140 - categorical_accuracy: 0.9250 - val_loss: 0.0174 - val_categorical_accuracy: 0.9010\n",
      "Epoch 932/1000\n",
      "48000/48000 [==============================] - 2s 52us/step - loss: 0.0140 - categorical_accuracy: 0.9248 - val_loss: 0.0174 - val_categorical_accuracy: 0.9009\n",
      "Epoch 933/1000\n",
      "48000/48000 [==============================] - 2s 50us/step - loss: 0.0140 - categorical_accuracy: 0.9250 - val_loss: 0.0174 - val_categorical_accuracy: 0.9009\n",
      "Epoch 934/1000\n",
      "48000/48000 [==============================] - 3s 53us/step - loss: 0.0140 - categorical_accuracy: 0.9250 - val_loss: 0.0173 - val_categorical_accuracy: 0.9022\n",
      "Epoch 935/1000\n",
      "48000/48000 [==============================] - 3s 54us/step - loss: 0.0140 - categorical_accuracy: 0.9253 - val_loss: 0.0173 - val_categorical_accuracy: 0.9017\n",
      "Epoch 936/1000\n",
      "48000/48000 [==============================] - 2s 47us/step - loss: 0.0140 - categorical_accuracy: 0.9250 - val_loss: 0.0173 - val_categorical_accuracy: 0.9008\n",
      "Epoch 937/1000\n",
      "48000/48000 [==============================] - 2s 51us/step - loss: 0.0140 - categorical_accuracy: 0.9252 - val_loss: 0.0174 - val_categorical_accuracy: 0.9003\n",
      "Epoch 938/1000\n",
      "48000/48000 [==============================] - 3s 53us/step - loss: 0.0140 - categorical_accuracy: 0.9251 - val_loss: 0.0173 - val_categorical_accuracy: 0.9015\n",
      "Epoch 939/1000\n",
      "48000/48000 [==============================] - 3s 54us/step - loss: 0.0140 - categorical_accuracy: 0.9251 - val_loss: 0.0173 - val_categorical_accuracy: 0.9014\n"
     ]
    },
    {
     "name": "stdout",
     "output_type": "stream",
     "text": [
      "Epoch 940/1000\n",
      "48000/48000 [==============================] - 2s 50us/step - loss: 0.0140 - categorical_accuracy: 0.9249 - val_loss: 0.0173 - val_categorical_accuracy: 0.9014\n",
      "Epoch 941/1000\n",
      "48000/48000 [==============================] - 3s 56us/step - loss: 0.0140 - categorical_accuracy: 0.9254 - val_loss: 0.0173 - val_categorical_accuracy: 0.9012\n",
      "Epoch 942/1000\n",
      "48000/48000 [==============================] - 3s 52us/step - loss: 0.0139 - categorical_accuracy: 0.9252 - val_loss: 0.0173 - val_categorical_accuracy: 0.9016\n",
      "Epoch 943/1000\n",
      "48000/48000 [==============================] - 2s 47us/step - loss: 0.0139 - categorical_accuracy: 0.9252 - val_loss: 0.0173 - val_categorical_accuracy: 0.9012\n",
      "Epoch 944/1000\n",
      "48000/48000 [==============================] - 3s 55us/step - loss: 0.0139 - categorical_accuracy: 0.9254 - val_loss: 0.0173 - val_categorical_accuracy: 0.9012\n",
      "Epoch 945/1000\n",
      "48000/48000 [==============================] - 2s 49us/step - loss: 0.0139 - categorical_accuracy: 0.9251 - val_loss: 0.0173 - val_categorical_accuracy: 0.9017\n",
      "Epoch 946/1000\n",
      "48000/48000 [==============================] - 3s 58us/step - loss: 0.0139 - categorical_accuracy: 0.9253 - val_loss: 0.0173 - val_categorical_accuracy: 0.9007\n",
      "Epoch 947/1000\n",
      "48000/48000 [==============================] - 3s 53us/step - loss: 0.0139 - categorical_accuracy: 0.9254 - val_loss: 0.0173 - val_categorical_accuracy: 0.9018\n",
      "Epoch 948/1000\n",
      "48000/48000 [==============================] - 3s 52us/step - loss: 0.0139 - categorical_accuracy: 0.9251 - val_loss: 0.0173 - val_categorical_accuracy: 0.9013\n",
      "Epoch 949/1000\n",
      "48000/48000 [==============================] - 2s 51us/step - loss: 0.0139 - categorical_accuracy: 0.9256 - val_loss: 0.0173 - val_categorical_accuracy: 0.9009\n",
      "Epoch 950/1000\n",
      "48000/48000 [==============================] - 3s 54us/step - loss: 0.0139 - categorical_accuracy: 0.9255 - val_loss: 0.0173 - val_categorical_accuracy: 0.9012\n",
      "Epoch 951/1000\n",
      "48000/48000 [==============================] - 3s 53us/step - loss: 0.0139 - categorical_accuracy: 0.9254 - val_loss: 0.0172 - val_categorical_accuracy: 0.9007\n",
      "Epoch 952/1000\n",
      "48000/48000 [==============================] - 2s 52us/step - loss: 0.0139 - categorical_accuracy: 0.9253 - val_loss: 0.0172 - val_categorical_accuracy: 0.9011\n",
      "Epoch 953/1000\n",
      "48000/48000 [==============================] - 3s 71us/step - loss: 0.0139 - categorical_accuracy: 0.9255 - val_loss: 0.0173 - val_categorical_accuracy: 0.9007\n",
      "Epoch 954/1000\n",
      "48000/48000 [==============================] - 3s 65us/step - loss: 0.0139 - categorical_accuracy: 0.9251 - val_loss: 0.0173 - val_categorical_accuracy: 0.9008\n",
      "Epoch 955/1000\n",
      "48000/48000 [==============================] - 3s 54us/step - loss: 0.0139 - categorical_accuracy: 0.9252 - val_loss: 0.0173 - val_categorical_accuracy: 0.9012\n",
      "Epoch 956/1000\n",
      "48000/48000 [==============================] - 3s 55us/step - loss: 0.0139 - categorical_accuracy: 0.9253 - val_loss: 0.0172 - val_categorical_accuracy: 0.9015\n",
      "Epoch 957/1000\n",
      "48000/48000 [==============================] - 2s 51us/step - loss: 0.0139 - categorical_accuracy: 0.9251 - val_loss: 0.0173 - val_categorical_accuracy: 0.9009\n",
      "Epoch 958/1000\n",
      "48000/48000 [==============================] - 3s 53us/step - loss: 0.0138 - categorical_accuracy: 0.9256 - val_loss: 0.0172 - val_categorical_accuracy: 0.9007\n",
      "Epoch 959/1000\n",
      "48000/48000 [==============================] - 2s 49us/step - loss: 0.0138 - categorical_accuracy: 0.9257 - val_loss: 0.0172 - val_categorical_accuracy: 0.9015\n",
      "Epoch 960/1000\n",
      "48000/48000 [==============================] - 3s 53us/step - loss: 0.0138 - categorical_accuracy: 0.9257 - val_loss: 0.0172 - val_categorical_accuracy: 0.9008\n",
      "Epoch 961/1000\n",
      "48000/48000 [==============================] - 3s 55us/step - loss: 0.0138 - categorical_accuracy: 0.9253 - val_loss: 0.0172 - val_categorical_accuracy: 0.9018\n",
      "Epoch 962/1000\n",
      "48000/48000 [==============================] - 3s 54us/step - loss: 0.0138 - categorical_accuracy: 0.9255 - val_loss: 0.0172 - val_categorical_accuracy: 0.9012\n",
      "Epoch 963/1000\n",
      "48000/48000 [==============================] - 2s 51us/step - loss: 0.0138 - categorical_accuracy: 0.9256 - val_loss: 0.0172 - val_categorical_accuracy: 0.9013\n",
      "Epoch 964/1000\n",
      "48000/48000 [==============================] - 3s 52us/step - loss: 0.0138 - categorical_accuracy: 0.9257 - val_loss: 0.0172 - val_categorical_accuracy: 0.9021\n",
      "Epoch 965/1000\n",
      "48000/48000 [==============================] - 3s 54us/step - loss: 0.0138 - categorical_accuracy: 0.9255 - val_loss: 0.0173 - val_categorical_accuracy: 0.9002\n",
      "Epoch 966/1000\n",
      "48000/48000 [==============================] - 2s 51us/step - loss: 0.0138 - categorical_accuracy: 0.9256 - val_loss: 0.0172 - val_categorical_accuracy: 0.9017\n",
      "Epoch 967/1000\n",
      "48000/48000 [==============================] - 3s 55us/step - loss: 0.0138 - categorical_accuracy: 0.9254 - val_loss: 0.0172 - val_categorical_accuracy: 0.9008\n",
      "Epoch 968/1000\n",
      "48000/48000 [==============================] - 2s 45us/step - loss: 0.0138 - categorical_accuracy: 0.9256 - val_loss: 0.0172 - val_categorical_accuracy: 0.9007\n",
      "Epoch 969/1000\n",
      "48000/48000 [==============================] - 2s 45us/step - loss: 0.0138 - categorical_accuracy: 0.9254 - val_loss: 0.0172 - val_categorical_accuracy: 0.9016\n",
      "Epoch 970/1000\n",
      "48000/48000 [==============================] - 3s 56us/step - loss: 0.0138 - categorical_accuracy: 0.9258 - val_loss: 0.0172 - val_categorical_accuracy: 0.9012\n",
      "Epoch 971/1000\n",
      "48000/48000 [==============================] - 2s 51us/step - loss: 0.0138 - categorical_accuracy: 0.9256 - val_loss: 0.0171 - val_categorical_accuracy: 0.9017\n",
      "Epoch 972/1000\n",
      "48000/48000 [==============================] - 3s 56us/step - loss: 0.0137 - categorical_accuracy: 0.9259 - val_loss: 0.0172 - val_categorical_accuracy: 0.9014\n",
      "Epoch 973/1000\n",
      "48000/48000 [==============================] - 3s 54us/step - loss: 0.0138 - categorical_accuracy: 0.9254 - val_loss: 0.0172 - val_categorical_accuracy: 0.9015\n",
      "Epoch 974/1000\n",
      "48000/48000 [==============================] - 2s 48us/step - loss: 0.0138 - categorical_accuracy: 0.9258 - val_loss: 0.0172 - val_categorical_accuracy: 0.9016\n",
      "Epoch 975/1000\n",
      "48000/48000 [==============================] - 3s 59us/step - loss: 0.0137 - categorical_accuracy: 0.9257 - val_loss: 0.0171 - val_categorical_accuracy: 0.9017\n",
      "Epoch 976/1000\n",
      "48000/48000 [==============================] - 3s 56us/step - loss: 0.0137 - categorical_accuracy: 0.9260 - val_loss: 0.0171 - val_categorical_accuracy: 0.9016\n",
      "Epoch 977/1000\n",
      "48000/48000 [==============================] - 3s 52us/step - loss: 0.0137 - categorical_accuracy: 0.9257 - val_loss: 0.0171 - val_categorical_accuracy: 0.9019\n",
      "Epoch 978/1000\n",
      "48000/48000 [==============================] - 3s 55us/step - loss: 0.0138 - categorical_accuracy: 0.9255 - val_loss: 0.0171 - val_categorical_accuracy: 0.9017\n",
      "Epoch 979/1000\n",
      "48000/48000 [==============================] - 2s 48us/step - loss: 0.0137 - categorical_accuracy: 0.9260 - val_loss: 0.0171 - val_categorical_accuracy: 0.9020\n",
      "Epoch 980/1000\n",
      "48000/48000 [==============================] - 2s 47us/step - loss: 0.0137 - categorical_accuracy: 0.9258 - val_loss: 0.0171 - val_categorical_accuracy: 0.9011\n",
      "Epoch 981/1000\n",
      "48000/48000 [==============================] - 2s 47us/step - loss: 0.0137 - categorical_accuracy: 0.9256 - val_loss: 0.0171 - val_categorical_accuracy: 0.9010\n",
      "Epoch 982/1000\n",
      "48000/48000 [==============================] - 2s 47us/step - loss: 0.0137 - categorical_accuracy: 0.9258 - val_loss: 0.0171 - val_categorical_accuracy: 0.9017\n",
      "Epoch 983/1000\n",
      "48000/48000 [==============================] - 2s 47us/step - loss: 0.0137 - categorical_accuracy: 0.9261 - val_loss: 0.0171 - val_categorical_accuracy: 0.9015\n",
      "Epoch 984/1000\n",
      "48000/48000 [==============================] - 2s 47us/step - loss: 0.0137 - categorical_accuracy: 0.9256 - val_loss: 0.0172 - val_categorical_accuracy: 0.9016\n",
      "Epoch 985/1000\n",
      "48000/48000 [==============================] - 2s 50us/step - loss: 0.0137 - categorical_accuracy: 0.9263 - val_loss: 0.0171 - val_categorical_accuracy: 0.9015\n",
      "Epoch 986/1000\n",
      "48000/48000 [==============================] - 3s 53us/step - loss: 0.0137 - categorical_accuracy: 0.9256 - val_loss: 0.0171 - val_categorical_accuracy: 0.9017\n"
     ]
    },
    {
     "name": "stdout",
     "output_type": "stream",
     "text": [
      "Epoch 987/1000\n",
      "48000/48000 [==============================] - 3s 54us/step - loss: 0.0137 - categorical_accuracy: 0.9261 - val_loss: 0.0171 - val_categorical_accuracy: 0.9018\n",
      "Epoch 988/1000\n",
      "48000/48000 [==============================] - 2s 47us/step - loss: 0.0137 - categorical_accuracy: 0.9261 - val_loss: 0.0171 - val_categorical_accuracy: 0.9027\n",
      "Epoch 989/1000\n",
      "48000/48000 [==============================] - 2s 46us/step - loss: 0.0137 - categorical_accuracy: 0.9258 - val_loss: 0.0171 - val_categorical_accuracy: 0.9009\n",
      "Epoch 990/1000\n",
      "48000/48000 [==============================] - 2s 46us/step - loss: 0.0137 - categorical_accuracy: 0.9256 - val_loss: 0.0171 - val_categorical_accuracy: 0.9016\n",
      "Epoch 991/1000\n",
      "48000/48000 [==============================] - 2s 49us/step - loss: 0.0136 - categorical_accuracy: 0.9262 - val_loss: 0.0171 - val_categorical_accuracy: 0.9017\n",
      "Epoch 992/1000\n",
      "48000/48000 [==============================] - 3s 55us/step - loss: 0.0137 - categorical_accuracy: 0.9257 - val_loss: 0.0171 - val_categorical_accuracy: 0.9014\n",
      "Epoch 993/1000\n",
      "48000/48000 [==============================] - 3s 55us/step - loss: 0.0137 - categorical_accuracy: 0.9261 - val_loss: 0.0171 - val_categorical_accuracy: 0.9017\n",
      "Epoch 994/1000\n",
      "48000/48000 [==============================] - 2s 51us/step - loss: 0.0137 - categorical_accuracy: 0.9262 - val_loss: 0.0171 - val_categorical_accuracy: 0.9020\n",
      "Epoch 995/1000\n",
      "48000/48000 [==============================] - 2s 49us/step - loss: 0.0136 - categorical_accuracy: 0.9266 - val_loss: 0.0171 - val_categorical_accuracy: 0.9014\n",
      "Epoch 996/1000\n",
      "48000/48000 [==============================] - 2s 48us/step - loss: 0.0136 - categorical_accuracy: 0.9260 - val_loss: 0.0171 - val_categorical_accuracy: 0.9009\n",
      "Epoch 997/1000\n",
      "48000/48000 [==============================] - 2s 50us/step - loss: 0.0136 - categorical_accuracy: 0.9265 - val_loss: 0.0170 - val_categorical_accuracy: 0.9017\n",
      "Epoch 998/1000\n",
      "48000/48000 [==============================] - 2s 45us/step - loss: 0.0136 - categorical_accuracy: 0.9262 - val_loss: 0.0170 - val_categorical_accuracy: 0.9023\n",
      "Epoch 999/1000\n",
      "48000/48000 [==============================] - 3s 58us/step - loss: 0.0136 - categorical_accuracy: 0.9265 - val_loss: 0.0170 - val_categorical_accuracy: 0.9017\n",
      "Epoch 1000/1000\n",
      "48000/48000 [==============================] - 2s 49us/step - loss: 0.0136 - categorical_accuracy: 0.9264 - val_loss: 0.0170 - val_categorical_accuracy: 0.9015\n"
     ]
    },
    {
     "data": {
      "text/plain": [
       "<keras.callbacks.History at 0x7f67bd045e10>"
      ]
     },
     "execution_count": 20,
     "metadata": {},
     "output_type": "execute_result"
    }
   ],
   "source": [
    "model.fit(data['x_train'], data['y_train_gt'],\n",
    "          batch_size=hyperparameters['batch_size'],\n",
    "          epochs=hyperparameters['nb_epochs'],\n",
    "          verbose=1,\n",
    "          callbacks=callbacks,\n",
    "          validation_data=(data['x_validation'], data['y_validation_gt']))"
   ]
  },
  {
   "cell_type": "markdown",
   "metadata": {},
   "source": [
    "Plotting model"
   ]
  },
  {
   "cell_type": "code",
   "execution_count": 11,
   "metadata": {},
   "outputs": [
    {
     "data": {
      "image/png": "[encoded data removed]",
      "text/plain": [
       "<IPython.core.display.Image object>"
      ]
     },
     "metadata": {},
     "output_type": "display_data"
    }
   ],
   "source": [
    "plot_model(model, os.path.join(paths['model'], 'model.png'),\n",
    "          show_shapes=True)\n",
    "display(Image(filename=os.path.join(paths['model'], 'model.png')))"
   ]
  },
  {
   "cell_type": "markdown",
   "metadata": {},
   "source": [
    "## Model evaluation"
   ]
  },
  {
   "cell_type": "markdown",
   "metadata": {},
   "source": [
    "Loading model"
   ]
  },
  {
   "cell_type": "code",
   "execution_count": 9,
   "metadata": {
    "scrolled": true
   },
   "outputs": [],
   "source": [
    "json_file = open(os.path.join(paths['model'],'model.json'), 'r')\n",
    "loaded_model_json = json_file.read()\n",
    "model = model_from_json(loaded_model_json)\n",
    "json_file.close()\n",
    "model.load_weights(os.path.join(paths['model'], 'weights.hdf5'))"
   ]
  },
  {
   "cell_type": "markdown",
   "metadata": {},
   "source": [
    "Evaluating model on test set"
   ]
  },
  {
   "cell_type": "code",
   "execution_count": 10,
   "metadata": {},
   "outputs": [],
   "source": [
    "prediction = np.argmax(model.predict(data['x_test'], batch_size=hyperparameters['batch_size']), axis=-1)"
   ]
  },
  {
   "cell_type": "markdown",
   "metadata": {},
   "source": [
    "Computing and displaying confusion matrix"
   ]
  },
  {
   "cell_type": "code",
   "execution_count": 11,
   "metadata": {},
   "outputs": [
    {
     "name": "stdout",
     "output_type": "stream",
     "text": [
      "0.9019158721418403\n"
     ]
    },
    {
     "data": {
      "application/vnd.plotly.v1+json": {
       "config": {
        "linkText": "Export to plot.ly",
        "plotlyServerURL": "https://plot.ly",
        "showLink": false
       },
       "data": [
        {
         "type": "heatmap",
         "uid": "1fa1dff4-6786-46ff-bcd1-e75dfa060bb6",
         "z": [
          [
           924,
           0,
           2,
           5,
           1,
           21,
           17,
           1,
           7,
           2
          ],
          [
           0,
           1101,
           4,
           4,
           1,
           1,
           5,
           1,
           18,
           0
          ],
          [
           9,
           1,
           937,
           18,
           10,
           5,
           14,
           6,
           27,
           5
          ],
          [
           2,
           0,
           19,
           900,
           1,
           40,
           3,
           10,
           25,
           10
          ],
          [
           1,
           0,
           4,
           1,
           897,
           0,
           18,
           3,
           7,
           51
          ],
          [
           13,
           1,
           1,
           60,
           9,
           724,
           17,
           6,
           53,
           8
          ],
          [
           15,
           3,
           6,
           3,
           9,
           17,
           891,
           1,
           12,
           1
          ],
          [
           3,
           7,
           24,
           17,
           9,
           0,
           1,
           923,
           5,
           39
          ],
          [
           0,
           6,
           4,
           31,
           9,
           46,
           10,
           4,
           851,
           13
          ],
          [
           2,
           7,
           0,
           8,
           69,
           18,
           3,
           14,
           19,
           869
          ]
         ]
        }
       ],
       "layout": {
        "title": {
         "text": "Confusion matrix"
        },
        "xaxis": {
         "nticks": 10,
         "ticks": ""
        },
        "yaxis": {
         "nticks": 10,
         "ticks": ""
        }
       }
      },
      "text/html": [
       "<div id=\"6347f121-a640-4c21-aede-b249ad99ffe0\" style=\"height: 525px; width: 100%;\" class=\"plotly-graph-div\"></div><script type=\"text/javascript\">require([\"plotly\"], function(Plotly) { window.PLOTLYENV=window.PLOTLYENV || {};window.PLOTLYENV.BASE_URL=\"https://plot.ly\";Plotly.newPlot(\"6347f121-a640-4c21-aede-b249ad99ffe0\", [{\"z\": [[924, 0, 2, 5, 1, 21, 17, 1, 7, 2], [0, 1101, 4, 4, 1, 1, 5, 1, 18, 0], [9, 1, 937, 18, 10, 5, 14, 6, 27, 5], [2, 0, 19, 900, 1, 40, 3, 10, 25, 10], [1, 0, 4, 1, 897, 0, 18, 3, 7, 51], [13, 1, 1, 60, 9, 724, 17, 6, 53, 8], [15, 3, 6, 3, 9, 17, 891, 1, 12, 1], [3, 7, 24, 17, 9, 0, 1, 923, 5, 39], [0, 6, 4, 31, 9, 46, 10, 4, 851, 13], [2, 7, 0, 8, 69, 18, 3, 14, 19, 869]], \"type\": \"heatmap\", \"uid\": \"1fa1dff4-6786-46ff-bcd1-e75dfa060bb6\"}], {\"title\": {\"text\": \"Confusion matrix\"}, \"xaxis\": {\"nticks\": 10, \"ticks\": \"\"}, \"yaxis\": {\"nticks\": 10, \"ticks\": \"\"}}, {\"plotlyServerURL\": \"https://plot.ly\", \"linkText\": \"Export to plot.ly\", \"showLink\": false})});</script><script type=\"text/javascript\">window.addEventListener(\"resize\", function(){window._Plotly.Plots.resize(document.getElementById(\"6347f121-a640-4c21-aede-b249ad99ffe0\"));});</script>"
      ],
      "text/vnd.plotly.v1+html": [
       "<div id=\"6347f121-a640-4c21-aede-b249ad99ffe0\" style=\"height: 525px; width: 100%;\" class=\"plotly-graph-div\"></div><script type=\"text/javascript\">require([\"plotly\"], function(Plotly) { window.PLOTLYENV=window.PLOTLYENV || {};window.PLOTLYENV.BASE_URL=\"https://plot.ly\";Plotly.newPlot(\"6347f121-a640-4c21-aede-b249ad99ffe0\", [{\"z\": [[924, 0, 2, 5, 1, 21, 17, 1, 7, 2], [0, 1101, 4, 4, 1, 1, 5, 1, 18, 0], [9, 1, 937, 18, 10, 5, 14, 6, 27, 5], [2, 0, 19, 900, 1, 40, 3, 10, 25, 10], [1, 0, 4, 1, 897, 0, 18, 3, 7, 51], [13, 1, 1, 60, 9, 724, 17, 6, 53, 8], [15, 3, 6, 3, 9, 17, 891, 1, 12, 1], [3, 7, 24, 17, 9, 0, 1, 923, 5, 39], [0, 6, 4, 31, 9, 46, 10, 4, 851, 13], [2, 7, 0, 8, 69, 18, 3, 14, 19, 869]], \"type\": \"heatmap\", \"uid\": \"1fa1dff4-6786-46ff-bcd1-e75dfa060bb6\"}], {\"title\": {\"text\": \"Confusion matrix\"}, \"xaxis\": {\"nticks\": 10, \"ticks\": \"\"}, \"yaxis\": {\"nticks\": 10, \"ticks\": \"\"}}, {\"plotlyServerURL\": \"https://plot.ly\", \"linkText\": \"Export to plot.ly\", \"showLink\": false})});</script><script type=\"text/javascript\">window.addEventListener(\"resize\", function(){window._Plotly.Plots.resize(document.getElementById(\"6347f121-a640-4c21-aede-b249ad99ffe0\"));});</script>"
      ]
     },
     "metadata": {},
     "output_type": "display_data"
    }
   ],
   "source": [
    "confusion = confusion_matrix(data['y_test'].tolist(), prediction.tolist())\n",
    "print(f1_score(data['y_test'].tolist(), prediction.tolist(), average='weighted'))\n",
    "trace = go.Heatmap(z=confusion)\n",
    "data=[trace]\n",
    "layout = go.Layout(\n",
    "    title='Confusion matrix',\n",
    "    xaxis = dict(ticks='', nticks=10),\n",
    "    yaxis = dict(ticks='', nticks=10)\n",
    ")\n",
    "fig = go.Figure(data=data, layout=layout)\n",
    "py.iplot(fig, filename='Confusion')\n",
    "pio.write_image(fig, os.path.join(paths['model/stats'], 'confusion_matrix.png'))"
   ]
  },
  {
   "cell_type": "code",
   "execution_count": null,
   "metadata": {},
   "outputs": [],
   "source": []
  }
 ],
 "metadata": {
  "kernelspec": {
   "display_name": "Python 2",
   "language": "python",
   "name": "python2"
  },
  "language_info": {
   "codemirror_mode": {
    "name": "ipython",
    "version": 2
   },
   "file_extension": ".py",
   "mimetype": "text/x-python",
   "name": "python",
   "nbconvert_exporter": "python",
   "pygments_lexer": "ipython2",
   "version": "2.7.15rc1"
  }
 },
 "nbformat": 4,
 "nbformat_minor": 2
}
